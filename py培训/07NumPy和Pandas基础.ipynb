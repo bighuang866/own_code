{
 "cells": [
  {
   "cell_type": "markdown",
   "metadata": {},
   "source": [
    "接下来我们将介绍数据分析中最常用的两个模块，NumPy和Pandas"
   ]
  },
  {
   "cell_type": "markdown",
   "metadata": {},
   "source": [
    "# NumPy基础"
   ]
  },
  {
   "cell_type": "markdown",
   "metadata": {},
   "source": [
    "NumPy（Numerical Python）是高性能科学计算和数据分析的基础包。"
   ]
  },
  {
   "cell_type": "markdown",
   "metadata": {},
   "source": [
    "核心是ndarray，一个具有矢量算术运算和复杂广播能力的快速且节省空间的多维数组\n"
   ]
  },
  {
   "cell_type": "markdown",
   "metadata": {},
   "source": [
    "NumPy本身并没有提供多么高级的数据分析功能，我们一般也不用NumPy作为工具分析金融时间序列。  \n",
    "但是pandas中的数据结构Series，DataFrame均是在numpy的ndarray的基础上构建的  \n",
    "理解NumPy数组以及面向数组的计算将有助于使用pandas之类的工具。"
   ]
  },
  {
   "cell_type": "markdown",
   "metadata": {},
   "source": [
    "我们在导入numpy模块时，一般遵循下面的命名规范"
   ]
  },
  {
   "cell_type": "code",
   "execution_count": 3,
   "metadata": {},
   "outputs": [],
   "source": [
    "import numpy as np"
   ]
  },
  {
   "cell_type": "markdown",
   "metadata": {},
   "source": [
    "## 创建ndarray"
   ]
  },
  {
   "cell_type": "markdown",
   "metadata": {},
   "source": [
    "创建ndarray最简单的方法就是使用array函数,接受一个序列型的对象（list，tuple，set，或者其他ndarray），然后产生一个新的含有传入数据的ndarray"
   ]
  },
  {
   "cell_type": "code",
   "execution_count": 4,
   "metadata": {},
   "outputs": [
    {
     "data": {
      "text/plain": [
       "array([6. , 7.5, 8. , 0. , 1. ])"
      ]
     },
     "execution_count": 4,
     "metadata": {},
     "output_type": "execute_result"
    }
   ],
   "source": [
    "data1 = [6, 7.5, 8, 0, 1]\n",
    "arr1 = np.array(data1)\n",
    "arr1"
   ]
  },
  {
   "cell_type": "markdown",
   "metadata": {},
   "source": [
    "如果接受的序列对象是一个嵌套序列，那么将会生成一个多维数组"
   ]
  },
  {
   "cell_type": "code",
   "execution_count": 5,
   "metadata": {},
   "outputs": [
    {
     "data": {
      "text/plain": [
       "array([[1, 2, 3, 4],\n",
       "       [5, 6, 7, 8]])"
      ]
     },
     "execution_count": 5,
     "metadata": {},
     "output_type": "execute_result"
    }
   ],
   "source": [
    "data2 = [[1, 2, 3, 4], [5, 6, 7, 8]]\n",
    "arr2 = np.array(data2)\n",
    "arr2"
   ]
  },
  {
   "cell_type": "markdown",
   "metadata": {},
   "source": [
    "如果再嵌套的话，还可以生成三维，四维数组"
   ]
  },
  {
   "cell_type": "markdown",
   "metadata": {},
   "source": [
    "这样的二维的数组在实际中最为常用。高于三维的数组使用较少"
   ]
  },
  {
   "cell_type": "markdown",
   "metadata": {},
   "source": [
    "np.array会尝试为新建的这个数组推断出一个合适的类型，例如arr1中存在小数，类型被推断为float，arr2全为整数，存储为int\n"
   ]
  },
  {
   "cell_type": "code",
   "execution_count": 6,
   "metadata": {},
   "outputs": [
    {
     "data": {
      "text/plain": [
       "dtype('float64')"
      ]
     },
     "execution_count": 6,
     "metadata": {},
     "output_type": "execute_result"
    }
   ],
   "source": [
    "arr1.dtype"
   ]
  },
  {
   "cell_type": "code",
   "execution_count": 7,
   "metadata": {},
   "outputs": [
    {
     "data": {
      "text/plain": [
       "dtype('int32')"
      ]
     },
     "execution_count": 7,
     "metadata": {},
     "output_type": "execute_result"
    }
   ],
   "source": [
    "arr2.dtype"
   ]
  },
  {
   "cell_type": "markdown",
   "metadata": {},
   "source": [
    "创建全0，全1数组可以使用np.zeros和np.ones函数，传入一个表示形状的元组即可"
   ]
  },
  {
   "cell_type": "markdown",
   "metadata": {},
   "source": [
    "生成一维数组，可以不传入元组，直接传入一个数字，下面两种情形等价"
   ]
  },
  {
   "cell_type": "code",
   "execution_count": 8,
   "metadata": {},
   "outputs": [
    {
     "data": {
      "text/plain": [
       "array([0., 0., 0., 0., 0., 0., 0., 0., 0., 0.])"
      ]
     },
     "execution_count": 8,
     "metadata": {},
     "output_type": "execute_result"
    }
   ],
   "source": [
    "np.zeros((10,))"
   ]
  },
  {
   "cell_type": "code",
   "execution_count": 9,
   "metadata": {},
   "outputs": [
    {
     "data": {
      "text/plain": [
       "array([0., 0., 0., 0., 0., 0., 0., 0., 0., 0.])"
      ]
     },
     "execution_count": 9,
     "metadata": {},
     "output_type": "execute_result"
    }
   ],
   "source": [
    "np.zeros(10)"
   ]
  },
  {
   "cell_type": "code",
   "execution_count": 10,
   "metadata": {},
   "outputs": [
    {
     "data": {
      "text/plain": [
       "array([[1., 1., 1.],\n",
       "       [1., 1., 1.],\n",
       "       [1., 1., 1.],\n",
       "       [1., 1., 1.],\n",
       "       [1., 1., 1.],\n",
       "       [1., 1., 1.],\n",
       "       [1., 1., 1.],\n",
       "       [1., 1., 1.],\n",
       "       [1., 1., 1.],\n",
       "       [1., 1., 1.]])"
      ]
     },
     "execution_count": 10,
     "metadata": {},
     "output_type": "execute_result"
    }
   ],
   "source": [
    "np.ones((10, 3))"
   ]
  },
  {
   "cell_type": "markdown",
   "metadata": {},
   "source": [
    "## ndarray运算"
   ]
  },
  {
   "cell_type": "code",
   "execution_count": 11,
   "metadata": {},
   "outputs": [],
   "source": [
    "arr1 = np.array([[1, 2, 3, 4], [5, 6, 7, 8]])\n",
    "arr2 = np.array([[1, 3, 2, 4], [5, 7, 7, 9]])"
   ]
  },
  {
   "cell_type": "markdown",
   "metadata": {},
   "source": [
    "ndarray支持矩阵级运算"
   ]
  },
  {
   "cell_type": "code",
   "execution_count": 12,
   "metadata": {},
   "outputs": [
    {
     "data": {
      "text/plain": [
       "array([[ 2,  5,  5,  8],\n",
       "       [10, 13, 14, 17]])"
      ]
     },
     "execution_count": 12,
     "metadata": {},
     "output_type": "execute_result"
    }
   ],
   "source": [
    "arr1 + arr2"
   ]
  },
  {
   "cell_type": "code",
   "execution_count": 13,
   "metadata": {},
   "outputs": [
    {
     "data": {
      "text/plain": [
       "array([[ 0, -1,  1,  0],\n",
       "       [ 0, -1,  0, -1]])"
      ]
     },
     "execution_count": 13,
     "metadata": {},
     "output_type": "execute_result"
    }
   ],
   "source": [
    "arr1 - arr2"
   ]
  },
  {
   "cell_type": "code",
   "execution_count": 14,
   "metadata": {},
   "outputs": [
    {
     "data": {
      "text/plain": [
       "array([[ 1,  6,  6, 16],\n",
       "       [25, 42, 49, 72]])"
      ]
     },
     "execution_count": 14,
     "metadata": {},
     "output_type": "execute_result"
    }
   ],
   "source": [
    "arr1 * arr2"
   ]
  },
  {
   "cell_type": "code",
   "execution_count": 15,
   "metadata": {},
   "outputs": [
    {
     "data": {
      "text/plain": [
       "array([[1., 1., 1., 1.],\n",
       "       [1., 1., 1., 1.]])"
      ]
     },
     "execution_count": 15,
     "metadata": {},
     "output_type": "execute_result"
    }
   ],
   "source": [
    "arr2 / arr2"
   ]
  },
  {
   "cell_type": "markdown",
   "metadata": {},
   "source": [
    "ndarray同样支持数乘运算"
   ]
  },
  {
   "cell_type": "code",
   "execution_count": 16,
   "metadata": {},
   "outputs": [
    {
     "data": {
      "text/plain": [
       "array([[11, 12, 13, 14],\n",
       "       [15, 16, 17, 18]])"
      ]
     },
     "execution_count": 16,
     "metadata": {},
     "output_type": "execute_result"
    }
   ],
   "source": [
    "arr1 + 10"
   ]
  },
  {
   "cell_type": "code",
   "execution_count": 17,
   "metadata": {},
   "outputs": [
    {
     "data": {
      "text/plain": [
       "array([[1.        , 0.5       , 0.33333333, 0.25      ],\n",
       "       [0.2       , 0.16666667, 0.14285714, 0.125     ]])"
      ]
     },
     "execution_count": 17,
     "metadata": {},
     "output_type": "execute_result"
    }
   ],
   "source": [
    "1 / arr1 "
   ]
  },
  {
   "cell_type": "markdown",
   "metadata": {},
   "source": [
    "不同维度的ndarray，也可以进行运算，这涉及到广播（broadcasting）"
   ]
  },
  {
   "cell_type": "code",
   "execution_count": 18,
   "metadata": {},
   "outputs": [],
   "source": [
    "arr1 = np.array([[1, 2, 3, 4], [5, 6, 7, 8]])\n",
    "arr2 = np.array([1, 2, 5, 6])"
   ]
  },
  {
   "cell_type": "code",
   "execution_count": 19,
   "metadata": {},
   "outputs": [
    {
     "data": {
      "text/plain": [
       "array([[1, 2, 3, 4],\n",
       "       [5, 6, 7, 8]])"
      ]
     },
     "execution_count": 19,
     "metadata": {},
     "output_type": "execute_result"
    }
   ],
   "source": [
    "arr1"
   ]
  },
  {
   "cell_type": "code",
   "execution_count": 20,
   "metadata": {},
   "outputs": [
    {
     "data": {
      "text/plain": [
       "array([1, 2, 5, 6])"
      ]
     },
     "execution_count": 20,
     "metadata": {},
     "output_type": "execute_result"
    }
   ],
   "source": [
    "arr2"
   ]
  },
  {
   "cell_type": "code",
   "execution_count": 21,
   "metadata": {},
   "outputs": [
    {
     "data": {
      "text/plain": [
       "(2, 4)"
      ]
     },
     "execution_count": 21,
     "metadata": {},
     "output_type": "execute_result"
    }
   ],
   "source": [
    "arr1.shape"
   ]
  },
  {
   "cell_type": "code",
   "execution_count": 22,
   "metadata": {},
   "outputs": [
    {
     "data": {
      "text/plain": [
       "(4,)"
      ]
     },
     "execution_count": 22,
     "metadata": {},
     "output_type": "execute_result"
    }
   ],
   "source": [
    "arr2.shape"
   ]
  },
  {
   "cell_type": "code",
   "execution_count": 23,
   "metadata": {},
   "outputs": [
    {
     "data": {
      "text/plain": [
       "array([[ 2,  4,  8, 10],\n",
       "       [ 6,  8, 12, 14]])"
      ]
     },
     "execution_count": 23,
     "metadata": {},
     "output_type": "execute_result"
    }
   ],
   "source": [
    "arr1 + arr2"
   ]
  },
  {
   "cell_type": "markdown",
   "metadata": {},
   "source": [
    "广播机制比较复杂，不加以赘述"
   ]
  },
  {
   "cell_type": "markdown",
   "metadata": {},
   "source": [
    "## 索引和切片"
   ]
  },
  {
   "cell_type": "code",
   "execution_count": 24,
   "metadata": {},
   "outputs": [],
   "source": [
    "arr1 =  np.array([1, 2, 5, 6])"
   ]
  },
  {
   "cell_type": "code",
   "execution_count": 25,
   "metadata": {},
   "outputs": [
    {
     "data": {
      "text/plain": [
       "1"
      ]
     },
     "execution_count": 25,
     "metadata": {},
     "output_type": "execute_result"
    }
   ],
   "source": [
    "arr1[0]"
   ]
  },
  {
   "cell_type": "code",
   "execution_count": 26,
   "metadata": {},
   "outputs": [
    {
     "data": {
      "text/plain": [
       "array([1, 2])"
      ]
     },
     "execution_count": 26,
     "metadata": {},
     "output_type": "execute_result"
    }
   ],
   "source": [
    "arr1[:2]"
   ]
  },
  {
   "cell_type": "code",
   "execution_count": 27,
   "metadata": {},
   "outputs": [
    {
     "data": {
      "text/plain": [
       "array([1])"
      ]
     },
     "execution_count": 27,
     "metadata": {},
     "output_type": "execute_result"
    }
   ],
   "source": [
    "arr1[:1]"
   ]
  },
  {
   "cell_type": "code",
   "execution_count": 28,
   "metadata": {},
   "outputs": [],
   "source": [
    "arr2 = np.array([[1, 2, 3, 4], [5, 6, 7, 8], [9, 10, 11, 12], [13, 14, 15, 16]])"
   ]
  },
  {
   "cell_type": "code",
   "execution_count": 29,
   "metadata": {},
   "outputs": [
    {
     "data": {
      "text/plain": [
       "array([[ 1,  2,  3,  4],\n",
       "       [ 5,  6,  7,  8],\n",
       "       [ 9, 10, 11, 12],\n",
       "       [13, 14, 15, 16]])"
      ]
     },
     "execution_count": 29,
     "metadata": {},
     "output_type": "execute_result"
    }
   ],
   "source": [
    "arr2"
   ]
  },
  {
   "cell_type": "code",
   "execution_count": 30,
   "metadata": {},
   "outputs": [
    {
     "data": {
      "text/plain": [
       "1"
      ]
     },
     "execution_count": 30,
     "metadata": {},
     "output_type": "execute_result"
    }
   ],
   "source": [
    "arr2[0, 0]"
   ]
  },
  {
   "cell_type": "code",
   "execution_count": 31,
   "metadata": {},
   "outputs": [
    {
     "data": {
      "text/plain": [
       "array([[1, 2],\n",
       "       [5, 6]])"
      ]
     },
     "execution_count": 31,
     "metadata": {},
     "output_type": "execute_result"
    }
   ],
   "source": [
    "arr2[:2, :2]"
   ]
  },
  {
   "cell_type": "code",
   "execution_count": 32,
   "metadata": {},
   "outputs": [
    {
     "data": {
      "text/plain": [
       "array([1, 2])"
      ]
     },
     "execution_count": 32,
     "metadata": {},
     "output_type": "execute_result"
    }
   ],
   "source": [
    "arr2[0, :2]"
   ]
  },
  {
   "cell_type": "code",
   "execution_count": 33,
   "metadata": {},
   "outputs": [
    {
     "data": {
      "text/plain": [
       "array([1, 5])"
      ]
     },
     "execution_count": 33,
     "metadata": {},
     "output_type": "execute_result"
    }
   ],
   "source": [
    "arr2[:2, 0]"
   ]
  },
  {
   "cell_type": "code",
   "execution_count": 34,
   "metadata": {},
   "outputs": [
    {
     "data": {
      "text/plain": [
       "array([1])"
      ]
     },
     "execution_count": 34,
     "metadata": {},
     "output_type": "execute_result"
    }
   ],
   "source": [
    "arr2[:1, 0]"
   ]
  },
  {
   "cell_type": "markdown",
   "metadata": {},
   "source": [
    "总结一下，python没有像matlab和R那样内置的矩阵类型，但是第三方库numpy提供的ndarray能够完成类似的操作。"
   ]
  },
  {
   "cell_type": "markdown",
   "metadata": {},
   "source": [
    "# Pandas基础"
   ]
  },
  {
   "cell_type": "markdown",
   "metadata": {},
   "source": [
    "pandas最开始的作者是Wes Mckinney，pandas是其在AQR Capital Management任职时着手构建的。  \n",
    "不过现在pandas已经由一个社区来进行维护，并不断发布新的版本，修复bug，增加新特性"
   ]
  },
  {
   "cell_type": "markdown",
   "metadata": {},
   "source": [
    "Pandas是基于NumPy构建的，但是在Numpy的ndarray基础上，设计了新的数据结构（Series， DataFrame）用来更好的分析金融时间序列数据\n"
   ]
  },
  {
   "cell_type": "markdown",
   "metadata": {},
   "source": [
    "Pandas的官方文档是最好的学习手册：http://pandas.pydata.org/pandas-docs/stable/"
   ]
  },
  {
   "cell_type": "markdown",
   "metadata": {},
   "source": [
    "我们在导入pandas模块时，一般遵循下面的命名规范"
   ]
  },
  {
   "cell_type": "code",
   "execution_count": 35,
   "metadata": {},
   "outputs": [],
   "source": [
    "import pandas as pd"
   ]
  },
  {
   "cell_type": "markdown",
   "metadata": {},
   "source": [
    "## Series"
   ]
  },
  {
   "cell_type": "code",
   "execution_count": 36,
   "metadata": {},
   "outputs": [],
   "source": [
    "ser = pd.Series([0.01, -0.01, 0.02, -0.03])"
   ]
  },
  {
   "cell_type": "code",
   "execution_count": 37,
   "metadata": {},
   "outputs": [
    {
     "data": {
      "text/plain": [
       "0    0.01\n",
       "1   -0.01\n",
       "2    0.02\n",
       "3   -0.03\n",
       "dtype: float64"
      ]
     },
     "execution_count": 37,
     "metadata": {},
     "output_type": "execute_result"
    }
   ],
   "source": [
    "ser"
   ]
  },
  {
   "cell_type": "markdown",
   "metadata": {},
   "source": [
    "Series类似一维数组，不同的是除了数据以外，Series还包含一个标签（index），就是左边的 0 1 2 3"
   ]
  },
  {
   "cell_type": "code",
   "execution_count": 38,
   "metadata": {},
   "outputs": [
    {
     "data": {
      "text/plain": [
       "RangeIndex(start=0, stop=4, step=1)"
      ]
     },
     "execution_count": 38,
     "metadata": {},
     "output_type": "execute_result"
    }
   ],
   "source": [
    "ser.index"
   ]
  },
  {
   "cell_type": "code",
   "execution_count": 39,
   "metadata": {},
   "outputs": [
    {
     "data": {
      "text/plain": [
       "array([ 0.01, -0.01,  0.02, -0.03])"
      ]
     },
     "execution_count": 39,
     "metadata": {},
     "output_type": "execute_result"
    }
   ],
   "source": [
    "ser.values"
   ]
  },
  {
   "cell_type": "markdown",
   "metadata": {},
   "source": [
    "当然常见的时间序列是不会以0，1，2，3这样的数字做标签的"
   ]
  },
  {
   "cell_type": "markdown",
   "metadata": {},
   "source": [
    "我们可以在构建Series的时候传入index"
   ]
  },
  {
   "cell_type": "code",
   "execution_count": 40,
   "metadata": {},
   "outputs": [],
   "source": [
    "ser = pd.Series([0.01, -0.01, 0.02, -0.03], index=[\"000001.SZ\", \"000002.SZ\", \"000003.SZ\", \"000004.SZ\"])"
   ]
  },
  {
   "cell_type": "code",
   "execution_count": 41,
   "metadata": {},
   "outputs": [
    {
     "data": {
      "text/plain": [
       "000001.SZ    0.01\n",
       "000002.SZ   -0.01\n",
       "000003.SZ    0.02\n",
       "000004.SZ   -0.03\n",
       "dtype: float64"
      ]
     },
     "execution_count": 41,
     "metadata": {},
     "output_type": "execute_result"
    }
   ],
   "source": [
    "ser"
   ]
  },
  {
   "cell_type": "markdown",
   "metadata": {},
   "source": [
    "Series最大的好处就是除了可以使用序号选取数据，还可以使用标签选取"
   ]
  },
  {
   "cell_type": "code",
   "execution_count": 42,
   "metadata": {},
   "outputs": [
    {
     "data": {
      "text/plain": [
       "000001.SZ    0.01\n",
       "000002.SZ   -0.01\n",
       "dtype: float64"
      ]
     },
     "execution_count": 42,
     "metadata": {},
     "output_type": "execute_result"
    }
   ],
   "source": [
    "ser.iloc[:2]"
   ]
  },
  {
   "cell_type": "code",
   "execution_count": 43,
   "metadata": {},
   "outputs": [
    {
     "data": {
      "text/plain": [
       "0.01"
      ]
     },
     "execution_count": 43,
     "metadata": {},
     "output_type": "execute_result"
    }
   ],
   "source": [
    "ser[\"000001.SZ\"]"
   ]
  },
  {
   "cell_type": "code",
   "execution_count": 44,
   "metadata": {},
   "outputs": [
    {
     "data": {
      "text/plain": [
       "0.01"
      ]
     },
     "execution_count": 44,
     "metadata": {},
     "output_type": "execute_result"
    }
   ],
   "source": [
    "ser.loc[\"000001.SZ\"]"
   ]
  },
  {
   "cell_type": "markdown",
   "metadata": {},
   "source": [
    "也可以通过字典构造Series"
   ]
  },
  {
   "cell_type": "code",
   "execution_count": 45,
   "metadata": {},
   "outputs": [
    {
     "data": {
      "text/plain": [
       "000001.SZ    0.03\n",
       "000003.SZ   -0.01\n",
       "000005.SZ    0.02\n",
       "000004.SZ   -0.03\n",
       "dtype: float64"
      ]
     },
     "execution_count": 45,
     "metadata": {},
     "output_type": "execute_result"
    }
   ],
   "source": [
    "ser2 = pd.Series({'000001.SZ': 0.03, '000003.SZ': -0.01, '000005.SZ': 0.02, '000004.SZ': -0.03})\n",
    "ser2"
   ]
  },
  {
   "cell_type": "markdown",
   "metadata": {},
   "source": [
    "Series也可以进行数学运算，但是他最强大的一点就是，会\n",
    "### 自动对齐相同标签的数据"
   ]
  },
  {
   "cell_type": "code",
   "execution_count": 46,
   "metadata": {},
   "outputs": [
    {
     "data": {
      "text/plain": [
       "000001.SZ    0.04\n",
       "000002.SZ     NaN\n",
       "000003.SZ    0.01\n",
       "000004.SZ   -0.06\n",
       "000005.SZ     NaN\n",
       "dtype: float64"
      ]
     },
     "execution_count": 46,
     "metadata": {},
     "output_type": "execute_result"
    }
   ],
   "source": [
    "ser + ser2"
   ]
  },
  {
   "cell_type": "markdown",
   "metadata": {},
   "source": [
    "这一点是numpy.ndarray, matlab中的矩阵所无法比拟的"
   ]
  },
  {
   "cell_type": "markdown",
   "metadata": {},
   "source": [
    "## DataFrame"
   ]
  },
  {
   "cell_type": "markdown",
   "metadata": {},
   "source": [
    "实践中二维数据会更加常见，在pandas中，二维数据使用DataFrame进行储存"
   ]
  },
  {
   "cell_type": "markdown",
   "metadata": {},
   "source": [
    "三维及更高维度的数据遇见的不多，在编制多因子指数时可能会遇见，这时我们也可以使用多重索引，用二维的DataFrame表示三维的数据"
   ]
  },
  {
   "cell_type": "markdown",
   "metadata": {},
   "source": [
    "构建一个DataFrame的方式很多，传入一个二维数据给DataFrame的构造函数即可"
   ]
  },
  {
   "cell_type": "markdown",
   "metadata": {},
   "source": [
    "可以传递各种各样的二维格式数据给DataFrame的构造函数，总结为一点，就是二维数据格式中若带有标签的信息，就会反映在DataFrame的标签中  \n",
    "如果没有的话，DataFrame会生成0， 1索引"
   ]
  },
  {
   "cell_type": "code",
   "execution_count": 47,
   "metadata": {},
   "outputs": [
    {
     "data": {
      "text/html": [
       "<div>\n",
       "<style scoped>\n",
       "    .dataframe tbody tr th:only-of-type {\n",
       "        vertical-align: middle;\n",
       "    }\n",
       "\n",
       "    .dataframe tbody tr th {\n",
       "        vertical-align: top;\n",
       "    }\n",
       "\n",
       "    .dataframe thead th {\n",
       "        text-align: right;\n",
       "    }\n",
       "</style>\n",
       "<table border=\"1\" class=\"dataframe\">\n",
       "  <thead>\n",
       "    <tr style=\"text-align: right;\">\n",
       "      <th></th>\n",
       "      <th>return</th>\n",
       "      <th>volatility</th>\n",
       "      <th>close</th>\n",
       "    </tr>\n",
       "  </thead>\n",
       "  <tbody>\n",
       "    <tr>\n",
       "      <th>000001.SZ</th>\n",
       "      <td>0.03</td>\n",
       "      <td>0.01</td>\n",
       "      <td>244</td>\n",
       "    </tr>\n",
       "    <tr>\n",
       "      <th>000003.SZ</th>\n",
       "      <td>-0.01</td>\n",
       "      <td>-0.03</td>\n",
       "      <td>23</td>\n",
       "    </tr>\n",
       "    <tr>\n",
       "      <th>000004.SZ</th>\n",
       "      <td>-0.03</td>\n",
       "      <td>-0.02</td>\n",
       "      <td>100</td>\n",
       "    </tr>\n",
       "    <tr>\n",
       "      <th>000005.SZ</th>\n",
       "      <td>0.02</td>\n",
       "      <td>0.02</td>\n",
       "      <td>25</td>\n",
       "    </tr>\n",
       "  </tbody>\n",
       "</table>\n",
       "</div>"
      ],
      "text/plain": [
       "           return  volatility  close\n",
       "000001.SZ    0.03        0.01    244\n",
       "000003.SZ   -0.01       -0.03     23\n",
       "000004.SZ   -0.03       -0.02    100\n",
       "000005.SZ    0.02        0.02     25"
      ]
     },
     "execution_count": 47,
     "metadata": {},
     "output_type": "execute_result"
    }
   ],
   "source": [
    "pd.DataFrame({\"return\": {'000001.SZ': 0.03, '000003.SZ': -0.01, '000005.SZ': 0.02, '000004.SZ': -0.03}, \n",
    "              \"volatility\": {'000001.SZ': 0.01, '000003.SZ': -0.03, '000005.SZ': 0.02, '000004.SZ': -0.02},\n",
    "              \"close\": {'000001.SZ': 244, '000003.SZ': 23, '000005.SZ': 25, '000004.SZ': 100}})"
   ]
  },
  {
   "cell_type": "code",
   "execution_count": 48,
   "metadata": {},
   "outputs": [
    {
     "data": {
      "text/html": [
       "<div>\n",
       "<style scoped>\n",
       "    .dataframe tbody tr th:only-of-type {\n",
       "        vertical-align: middle;\n",
       "    }\n",
       "\n",
       "    .dataframe tbody tr th {\n",
       "        vertical-align: top;\n",
       "    }\n",
       "\n",
       "    .dataframe thead th {\n",
       "        text-align: right;\n",
       "    }\n",
       "</style>\n",
       "<table border=\"1\" class=\"dataframe\">\n",
       "  <thead>\n",
       "    <tr style=\"text-align: right;\">\n",
       "      <th></th>\n",
       "      <th>return</th>\n",
       "      <th>volatility</th>\n",
       "      <th>close</th>\n",
       "    </tr>\n",
       "  </thead>\n",
       "  <tbody>\n",
       "    <tr>\n",
       "      <th>0</th>\n",
       "      <td>0.03</td>\n",
       "      <td>0.01</td>\n",
       "      <td>244</td>\n",
       "    </tr>\n",
       "    <tr>\n",
       "      <th>1</th>\n",
       "      <td>-0.01</td>\n",
       "      <td>-0.03</td>\n",
       "      <td>23</td>\n",
       "    </tr>\n",
       "    <tr>\n",
       "      <th>2</th>\n",
       "      <td>0.02</td>\n",
       "      <td>0.02</td>\n",
       "      <td>25</td>\n",
       "    </tr>\n",
       "    <tr>\n",
       "      <th>3</th>\n",
       "      <td>-0.03</td>\n",
       "      <td>-0.02</td>\n",
       "      <td>100</td>\n",
       "    </tr>\n",
       "  </tbody>\n",
       "</table>\n",
       "</div>"
      ],
      "text/plain": [
       "   return  volatility  close\n",
       "0    0.03        0.01    244\n",
       "1   -0.01       -0.03     23\n",
       "2    0.02        0.02     25\n",
       "3   -0.03       -0.02    100"
      ]
     },
     "execution_count": 48,
     "metadata": {},
     "output_type": "execute_result"
    }
   ],
   "source": [
    "pd.DataFrame({\"return\": [0.03,  -0.01,  0.02,  -0.03], \n",
    "              \"volatility\": [0.01, -0.03, 0.02, -0.02],\n",
    "              \"close\": [244, 23,  25,  100]})"
   ]
  },
  {
   "cell_type": "code",
   "execution_count": 49,
   "metadata": {},
   "outputs": [
    {
     "data": {
      "text/html": [
       "<div>\n",
       "<style scoped>\n",
       "    .dataframe tbody tr th:only-of-type {\n",
       "        vertical-align: middle;\n",
       "    }\n",
       "\n",
       "    .dataframe tbody tr th {\n",
       "        vertical-align: top;\n",
       "    }\n",
       "\n",
       "    .dataframe thead th {\n",
       "        text-align: right;\n",
       "    }\n",
       "</style>\n",
       "<table border=\"1\" class=\"dataframe\">\n",
       "  <thead>\n",
       "    <tr style=\"text-align: right;\">\n",
       "      <th></th>\n",
       "      <th>0</th>\n",
       "      <th>1</th>\n",
       "      <th>2</th>\n",
       "    </tr>\n",
       "  </thead>\n",
       "  <tbody>\n",
       "    <tr>\n",
       "      <th>0</th>\n",
       "      <td>0.03</td>\n",
       "      <td>0.01</td>\n",
       "      <td>244</td>\n",
       "    </tr>\n",
       "    <tr>\n",
       "      <th>1</th>\n",
       "      <td>-0.01</td>\n",
       "      <td>-0.03</td>\n",
       "      <td>23</td>\n",
       "    </tr>\n",
       "    <tr>\n",
       "      <th>2</th>\n",
       "      <td>0.02</td>\n",
       "      <td>0.02</td>\n",
       "      <td>25</td>\n",
       "    </tr>\n",
       "    <tr>\n",
       "      <th>3</th>\n",
       "      <td>-0.03</td>\n",
       "      <td>-0.02</td>\n",
       "      <td>100</td>\n",
       "    </tr>\n",
       "  </tbody>\n",
       "</table>\n",
       "</div>"
      ],
      "text/plain": [
       "      0     1    2\n",
       "0  0.03  0.01  244\n",
       "1 -0.01 -0.03   23\n",
       "2  0.02  0.02   25\n",
       "3 -0.03 -0.02  100"
      ]
     },
     "execution_count": 49,
     "metadata": {},
     "output_type": "execute_result"
    }
   ],
   "source": [
    "pd.DataFrame([[ 0.03,  0.01,  244],\n",
    "               [-0.01, -0.03,  23],\n",
    "               [0.02,  0.02,  25],\n",
    "               [-0.03, -0.02, 100]])"
   ]
  },
  {
   "cell_type": "markdown",
   "metadata": {},
   "source": [
    "但在实际的使用中，我们并不经常自己构建DataFrame，而是从Excel,csv或者数据库中读取数据"
   ]
  },
  {
   "cell_type": "markdown",
   "metadata": {},
   "source": [
    "pandas拥有一大批方便的读取和写入的函数，基本上涵盖了我们能见到的所有存储类型，   \n",
    "除了从Excel,csv或者数据库中进行读写，还支持读取sas，stata等其他软件的数据，  \n",
    "使用read_excel, read_csv, read_sql可以读取Excel,csv和数据库  \n",
    "使用to_excel, to_csv, to_sql可以写入Excel,csv和数据库\n",
    "  \n",
    "\n",
    "详细的pandas IO操作见下面链接：http://pandas.pydata.org/pandas-docs/stable/io.html"
   ]
  },
  {
   "cell_type": "markdown",
   "metadata": {},
   "source": [
    "从指定的Excel文件中读取数据很方便，使用read_excel函数即可"
   ]
  },
  {
   "cell_type": "code",
   "execution_count": 50,
   "metadata": {
    "scrolled": false
   },
   "outputs": [
    {
     "data": {
      "text/html": [
       "<div>\n",
       "<style scoped>\n",
       "    .dataframe tbody tr th:only-of-type {\n",
       "        vertical-align: middle;\n",
       "    }\n",
       "\n",
       "    .dataframe tbody tr th {\n",
       "        vertical-align: top;\n",
       "    }\n",
       "\n",
       "    .dataframe thead th {\n",
       "        text-align: right;\n",
       "    }\n",
       "</style>\n",
       "<table border=\"1\" class=\"dataframe\">\n",
       "  <thead>\n",
       "    <tr style=\"text-align: right;\">\n",
       "      <th></th>\n",
       "      <th>000005.SZ</th>\n",
       "      <th>000009.SZ</th>\n",
       "      <th>000014.SZ</th>\n",
       "      <th>000017.SZ</th>\n",
       "      <th>000020.SZ</th>\n",
       "      <th>000023.SZ</th>\n",
       "      <th>000019.SZ</th>\n",
       "      <th>000022.SZ</th>\n",
       "    </tr>\n",
       "  </thead>\n",
       "  <tbody>\n",
       "    <tr>\n",
       "      <th>2018-09-08</th>\n",
       "      <td>30.02</td>\n",
       "      <td>37.44</td>\n",
       "      <td>91.76</td>\n",
       "      <td>15.23</td>\n",
       "      <td>26.86</td>\n",
       "      <td>31.10</td>\n",
       "      <td>46.28</td>\n",
       "      <td>81.52</td>\n",
       "    </tr>\n",
       "    <tr>\n",
       "      <th>2018-09-09</th>\n",
       "      <td>30.97</td>\n",
       "      <td>38.61</td>\n",
       "      <td>96.11</td>\n",
       "      <td>15.16</td>\n",
       "      <td>28.42</td>\n",
       "      <td>32.14</td>\n",
       "      <td>48.15</td>\n",
       "      <td>81.52</td>\n",
       "    </tr>\n",
       "    <tr>\n",
       "      <th>2018-09-10</th>\n",
       "      <td>31.08</td>\n",
       "      <td>38.19</td>\n",
       "      <td>92.94</td>\n",
       "      <td>13.80</td>\n",
       "      <td>28.21</td>\n",
       "      <td>31.37</td>\n",
       "      <td>47.56</td>\n",
       "      <td>81.52</td>\n",
       "    </tr>\n",
       "    <tr>\n",
       "      <th>2018-09-11</th>\n",
       "      <td>31.71</td>\n",
       "      <td>39.02</td>\n",
       "      <td>95.84</td>\n",
       "      <td>13.70</td>\n",
       "      <td>28.76</td>\n",
       "      <td>32.38</td>\n",
       "      <td>49.12</td>\n",
       "      <td>83.13</td>\n",
       "    </tr>\n",
       "    <tr>\n",
       "      <th>2018-09-12</th>\n",
       "      <td>31.60</td>\n",
       "      <td>39.69</td>\n",
       "      <td>96.75</td>\n",
       "      <td>13.83</td>\n",
       "      <td>28.73</td>\n",
       "      <td>32.46</td>\n",
       "      <td>49.12</td>\n",
       "      <td>81.73</td>\n",
       "    </tr>\n",
       "    <tr>\n",
       "      <th>2018-09-13</th>\n",
       "      <td>32.34</td>\n",
       "      <td>39.19</td>\n",
       "      <td>100.56</td>\n",
       "      <td>14.51</td>\n",
       "      <td>29.55</td>\n",
       "      <td>33.66</td>\n",
       "      <td>48.21</td>\n",
       "      <td>81.61</td>\n",
       "    </tr>\n",
       "    <tr>\n",
       "      <th>2018-09-14</th>\n",
       "      <td>32.03</td>\n",
       "      <td>38.94</td>\n",
       "      <td>100.83</td>\n",
       "      <td>14.19</td>\n",
       "      <td>29.77</td>\n",
       "      <td>33.68</td>\n",
       "      <td>48.21</td>\n",
       "      <td>82.75</td>\n",
       "    </tr>\n",
       "    <tr>\n",
       "      <th>2018-09-15</th>\n",
       "      <td>31.92</td>\n",
       "      <td>38.44</td>\n",
       "      <td>102.92</td>\n",
       "      <td>12.89</td>\n",
       "      <td>29.60</td>\n",
       "      <td>33.23</td>\n",
       "      <td>48.21</td>\n",
       "      <td>85.53</td>\n",
       "    </tr>\n",
       "    <tr>\n",
       "      <th>2018-09-16</th>\n",
       "      <td>31.39</td>\n",
       "      <td>37.94</td>\n",
       "      <td>98.38</td>\n",
       "      <td>12.63</td>\n",
       "      <td>28.64</td>\n",
       "      <td>32.25</td>\n",
       "      <td>48.21</td>\n",
       "      <td>80.81</td>\n",
       "    </tr>\n",
       "    <tr>\n",
       "      <th>2018-09-17</th>\n",
       "      <td>30.97</td>\n",
       "      <td>37.61</td>\n",
       "      <td>96.11</td>\n",
       "      <td>12.37</td>\n",
       "      <td>28.33</td>\n",
       "      <td>32.22</td>\n",
       "      <td>48.21</td>\n",
       "      <td>81.36</td>\n",
       "    </tr>\n",
       "    <tr>\n",
       "      <th>2018-09-18</th>\n",
       "      <td>31.18</td>\n",
       "      <td>38.27</td>\n",
       "      <td>93.67</td>\n",
       "      <td>12.72</td>\n",
       "      <td>28.59</td>\n",
       "      <td>32.09</td>\n",
       "      <td>48.21</td>\n",
       "      <td>79.92</td>\n",
       "    </tr>\n",
       "    <tr>\n",
       "      <th>2018-09-19</th>\n",
       "      <td>31.60</td>\n",
       "      <td>38.02</td>\n",
       "      <td>91.31</td>\n",
       "      <td>12.63</td>\n",
       "      <td>28.40</td>\n",
       "      <td>31.58</td>\n",
       "      <td>48.21</td>\n",
       "      <td>76.84</td>\n",
       "    </tr>\n",
       "    <tr>\n",
       "      <th>2018-09-20</th>\n",
       "      <td>31.18</td>\n",
       "      <td>37.61</td>\n",
       "      <td>90.13</td>\n",
       "      <td>12.46</td>\n",
       "      <td>28.33</td>\n",
       "      <td>31.34</td>\n",
       "      <td>48.21</td>\n",
       "      <td>74.78</td>\n",
       "    </tr>\n",
       "    <tr>\n",
       "      <th>2018-09-21</th>\n",
       "      <td>31.08</td>\n",
       "      <td>37.61</td>\n",
       "      <td>90.31</td>\n",
       "      <td>12.46</td>\n",
       "      <td>28.23</td>\n",
       "      <td>31.29</td>\n",
       "      <td>48.05</td>\n",
       "      <td>74.65</td>\n",
       "    </tr>\n",
       "    <tr>\n",
       "      <th>2018-09-22</th>\n",
       "      <td>31.39</td>\n",
       "      <td>37.36</td>\n",
       "      <td>89.77</td>\n",
       "      <td>12.43</td>\n",
       "      <td>27.99</td>\n",
       "      <td>31.21</td>\n",
       "      <td>47.83</td>\n",
       "      <td>72.67</td>\n",
       "    </tr>\n",
       "    <tr>\n",
       "      <th>2018-09-23</th>\n",
       "      <td>31.29</td>\n",
       "      <td>38.11</td>\n",
       "      <td>92.13</td>\n",
       "      <td>12.53</td>\n",
       "      <td>28.61</td>\n",
       "      <td>31.47</td>\n",
       "      <td>48.10</td>\n",
       "      <td>72.75</td>\n",
       "    </tr>\n",
       "    <tr>\n",
       "      <th>2018-09-24</th>\n",
       "      <td>31.18</td>\n",
       "      <td>37.86</td>\n",
       "      <td>91.49</td>\n",
       "      <td>12.30</td>\n",
       "      <td>28.40</td>\n",
       "      <td>31.37</td>\n",
       "      <td>46.65</td>\n",
       "      <td>72.84</td>\n",
       "    </tr>\n",
       "    <tr>\n",
       "      <th>2018-09-25</th>\n",
       "      <td>31.18</td>\n",
       "      <td>38.11</td>\n",
       "      <td>92.94</td>\n",
       "      <td>12.63</td>\n",
       "      <td>28.37</td>\n",
       "      <td>31.58</td>\n",
       "      <td>46.81</td>\n",
       "      <td>74.90</td>\n",
       "    </tr>\n",
       "    <tr>\n",
       "      <th>2018-09-26</th>\n",
       "      <td>31.81</td>\n",
       "      <td>38.61</td>\n",
       "      <td>95.30</td>\n",
       "      <td>12.89</td>\n",
       "      <td>29.17</td>\n",
       "      <td>32.38</td>\n",
       "      <td>48.10</td>\n",
       "      <td>78.28</td>\n",
       "    </tr>\n",
       "    <tr>\n",
       "      <th>2018-09-27</th>\n",
       "      <td>31.50</td>\n",
       "      <td>38.19</td>\n",
       "      <td>94.12</td>\n",
       "      <td>12.69</td>\n",
       "      <td>28.30</td>\n",
       "      <td>32.09</td>\n",
       "      <td>47.67</td>\n",
       "      <td>78.66</td>\n",
       "    </tr>\n",
       "    <tr>\n",
       "      <th>2018-09-28</th>\n",
       "      <td>31.18</td>\n",
       "      <td>38.44</td>\n",
       "      <td>94.21</td>\n",
       "      <td>12.53</td>\n",
       "      <td>28.54</td>\n",
       "      <td>31.47</td>\n",
       "      <td>47.51</td>\n",
       "      <td>79.12</td>\n",
       "    </tr>\n",
       "    <tr>\n",
       "      <th>2018-09-29</th>\n",
       "      <td>31.50</td>\n",
       "      <td>38.44</td>\n",
       "      <td>95.84</td>\n",
       "      <td>12.72</td>\n",
       "      <td>28.61</td>\n",
       "      <td>31.42</td>\n",
       "      <td>48.47</td>\n",
       "      <td>80.01</td>\n",
       "    </tr>\n",
       "    <tr>\n",
       "      <th>2018-09-30</th>\n",
       "      <td>32.45</td>\n",
       "      <td>38.94</td>\n",
       "      <td>95.66</td>\n",
       "      <td>12.63</td>\n",
       "      <td>29.02</td>\n",
       "      <td>32.09</td>\n",
       "      <td>48.53</td>\n",
       "      <td>80.09</td>\n",
       "    </tr>\n",
       "    <tr>\n",
       "      <th>2018-10-01</th>\n",
       "      <td>32.66</td>\n",
       "      <td>39.11</td>\n",
       "      <td>99.38</td>\n",
       "      <td>12.95</td>\n",
       "      <td>29.34</td>\n",
       "      <td>33.82</td>\n",
       "      <td>49.92</td>\n",
       "      <td>81.73</td>\n",
       "    </tr>\n",
       "    <tr>\n",
       "      <th>2018-10-02</th>\n",
       "      <td>31.92</td>\n",
       "      <td>39.11</td>\n",
       "      <td>100.65</td>\n",
       "      <td>12.89</td>\n",
       "      <td>29.07</td>\n",
       "      <td>31.71</td>\n",
       "      <td>49.81</td>\n",
       "      <td>81.10</td>\n",
       "    </tr>\n",
       "    <tr>\n",
       "      <th>2018-10-03</th>\n",
       "      <td>31.29</td>\n",
       "      <td>38.44</td>\n",
       "      <td>98.47</td>\n",
       "      <td>12.72</td>\n",
       "      <td>28.61</td>\n",
       "      <td>31.47</td>\n",
       "      <td>48.37</td>\n",
       "      <td>79.29</td>\n",
       "    </tr>\n",
       "    <tr>\n",
       "      <th>2018-10-04</th>\n",
       "      <td>31.18</td>\n",
       "      <td>38.77</td>\n",
       "      <td>98.38</td>\n",
       "      <td>12.66</td>\n",
       "      <td>28.28</td>\n",
       "      <td>31.23</td>\n",
       "      <td>47.35</td>\n",
       "      <td>78.99</td>\n",
       "    </tr>\n",
       "    <tr>\n",
       "      <th>2018-10-05</th>\n",
       "      <td>31.08</td>\n",
       "      <td>38.61</td>\n",
       "      <td>97.93</td>\n",
       "      <td>12.56</td>\n",
       "      <td>28.09</td>\n",
       "      <td>30.97</td>\n",
       "      <td>47.14</td>\n",
       "      <td>78.78</td>\n",
       "    </tr>\n",
       "    <tr>\n",
       "      <th>2018-10-06</th>\n",
       "      <td>31.39</td>\n",
       "      <td>38.86</td>\n",
       "      <td>99.56</td>\n",
       "      <td>12.59</td>\n",
       "      <td>28.83</td>\n",
       "      <td>31.66</td>\n",
       "      <td>47.83</td>\n",
       "      <td>79.92</td>\n",
       "    </tr>\n",
       "    <tr>\n",
       "      <th>2018-10-07</th>\n",
       "      <td>31.18</td>\n",
       "      <td>38.61</td>\n",
       "      <td>97.75</td>\n",
       "      <td>12.37</td>\n",
       "      <td>28.83</td>\n",
       "      <td>31.29</td>\n",
       "      <td>47.35</td>\n",
       "      <td>78.95</td>\n",
       "    </tr>\n",
       "    <tr>\n",
       "      <th>...</th>\n",
       "      <td>...</td>\n",
       "      <td>...</td>\n",
       "      <td>...</td>\n",
       "      <td>...</td>\n",
       "      <td>...</td>\n",
       "      <td>...</td>\n",
       "      <td>...</td>\n",
       "      <td>...</td>\n",
       "    </tr>\n",
       "    <tr>\n",
       "      <th>2019-04-26</th>\n",
       "      <td>51.73</td>\n",
       "      <td>71.27</td>\n",
       "      <td>148.15</td>\n",
       "      <td>24.76</td>\n",
       "      <td>50.48</td>\n",
       "      <td>65.45</td>\n",
       "      <td>65.08</td>\n",
       "      <td>103.75</td>\n",
       "    </tr>\n",
       "    <tr>\n",
       "      <th>2019-04-27</th>\n",
       "      <td>51.62</td>\n",
       "      <td>70.61</td>\n",
       "      <td>149.33</td>\n",
       "      <td>24.76</td>\n",
       "      <td>48.72</td>\n",
       "      <td>65.11</td>\n",
       "      <td>65.08</td>\n",
       "      <td>103.75</td>\n",
       "    </tr>\n",
       "    <tr>\n",
       "      <th>2019-04-28</th>\n",
       "      <td>51.41</td>\n",
       "      <td>70.20</td>\n",
       "      <td>148.88</td>\n",
       "      <td>24.67</td>\n",
       "      <td>49.01</td>\n",
       "      <td>65.27</td>\n",
       "      <td>65.08</td>\n",
       "      <td>105.25</td>\n",
       "    </tr>\n",
       "    <tr>\n",
       "      <th>2019-04-29</th>\n",
       "      <td>52.04</td>\n",
       "      <td>70.53</td>\n",
       "      <td>148.79</td>\n",
       "      <td>24.86</td>\n",
       "      <td>47.43</td>\n",
       "      <td>65.32</td>\n",
       "      <td>65.08</td>\n",
       "      <td>104.22</td>\n",
       "    </tr>\n",
       "    <tr>\n",
       "      <th>2019-04-30</th>\n",
       "      <td>51.62</td>\n",
       "      <td>69.86</td>\n",
       "      <td>147.88</td>\n",
       "      <td>25.19</td>\n",
       "      <td>47.35</td>\n",
       "      <td>62.64</td>\n",
       "      <td>65.08</td>\n",
       "      <td>103.79</td>\n",
       "    </tr>\n",
       "    <tr>\n",
       "      <th>2019-05-01</th>\n",
       "      <td>50.99</td>\n",
       "      <td>68.87</td>\n",
       "      <td>146.16</td>\n",
       "      <td>24.50</td>\n",
       "      <td>45.67</td>\n",
       "      <td>61.95</td>\n",
       "      <td>65.08</td>\n",
       "      <td>98.34</td>\n",
       "    </tr>\n",
       "    <tr>\n",
       "      <th>2019-05-02</th>\n",
       "      <td>51.73</td>\n",
       "      <td>70.53</td>\n",
       "      <td>149.51</td>\n",
       "      <td>24.99</td>\n",
       "      <td>45.65</td>\n",
       "      <td>63.52</td>\n",
       "      <td>65.08</td>\n",
       "      <td>101.84</td>\n",
       "    </tr>\n",
       "    <tr>\n",
       "      <th>2019-05-03</th>\n",
       "      <td>52.99</td>\n",
       "      <td>71.36</td>\n",
       "      <td>151.24</td>\n",
       "      <td>25.51</td>\n",
       "      <td>45.22</td>\n",
       "      <td>64.26</td>\n",
       "      <td>65.08</td>\n",
       "      <td>104.86</td>\n",
       "    </tr>\n",
       "    <tr>\n",
       "      <th>2019-05-04</th>\n",
       "      <td>53.10</td>\n",
       "      <td>72.43</td>\n",
       "      <td>150.42</td>\n",
       "      <td>26.78</td>\n",
       "      <td>45.24</td>\n",
       "      <td>64.23</td>\n",
       "      <td>65.08</td>\n",
       "      <td>105.22</td>\n",
       "    </tr>\n",
       "    <tr>\n",
       "      <th>2019-05-05</th>\n",
       "      <td>54.78</td>\n",
       "      <td>73.84</td>\n",
       "      <td>152.60</td>\n",
       "      <td>25.97</td>\n",
       "      <td>45.79</td>\n",
       "      <td>65.14</td>\n",
       "      <td>65.08</td>\n",
       "      <td>106.09</td>\n",
       "    </tr>\n",
       "    <tr>\n",
       "      <th>2019-05-06</th>\n",
       "      <td>53.52</td>\n",
       "      <td>73.18</td>\n",
       "      <td>152.78</td>\n",
       "      <td>26.00</td>\n",
       "      <td>45.98</td>\n",
       "      <td>65.03</td>\n",
       "      <td>65.08</td>\n",
       "      <td>105.89</td>\n",
       "    </tr>\n",
       "    <tr>\n",
       "      <th>2019-05-07</th>\n",
       "      <td>54.36</td>\n",
       "      <td>74.42</td>\n",
       "      <td>153.41</td>\n",
       "      <td>25.97</td>\n",
       "      <td>46.30</td>\n",
       "      <td>65.51</td>\n",
       "      <td>65.08</td>\n",
       "      <td>106.17</td>\n",
       "    </tr>\n",
       "    <tr>\n",
       "      <th>2019-05-08</th>\n",
       "      <td>53.73</td>\n",
       "      <td>76.41</td>\n",
       "      <td>153.14</td>\n",
       "      <td>26.03</td>\n",
       "      <td>46.10</td>\n",
       "      <td>65.22</td>\n",
       "      <td>65.08</td>\n",
       "      <td>102.95</td>\n",
       "    </tr>\n",
       "    <tr>\n",
       "      <th>2019-05-09</th>\n",
       "      <td>53.52</td>\n",
       "      <td>76.08</td>\n",
       "      <td>152.60</td>\n",
       "      <td>25.51</td>\n",
       "      <td>45.91</td>\n",
       "      <td>64.90</td>\n",
       "      <td>65.08</td>\n",
       "      <td>102.87</td>\n",
       "    </tr>\n",
       "    <tr>\n",
       "      <th>2019-05-10</th>\n",
       "      <td>53.20</td>\n",
       "      <td>74.51</td>\n",
       "      <td>151.78</td>\n",
       "      <td>25.42</td>\n",
       "      <td>45.07</td>\n",
       "      <td>64.18</td>\n",
       "      <td>65.08</td>\n",
       "      <td>100.93</td>\n",
       "    </tr>\n",
       "    <tr>\n",
       "      <th>2019-05-11</th>\n",
       "      <td>52.78</td>\n",
       "      <td>74.51</td>\n",
       "      <td>151.33</td>\n",
       "      <td>25.09</td>\n",
       "      <td>44.47</td>\n",
       "      <td>63.70</td>\n",
       "      <td>65.08</td>\n",
       "      <td>99.14</td>\n",
       "    </tr>\n",
       "    <tr>\n",
       "      <th>2019-05-12</th>\n",
       "      <td>53.62</td>\n",
       "      <td>74.84</td>\n",
       "      <td>151.51</td>\n",
       "      <td>25.38</td>\n",
       "      <td>45.29</td>\n",
       "      <td>63.81</td>\n",
       "      <td>65.08</td>\n",
       "      <td>101.08</td>\n",
       "    </tr>\n",
       "    <tr>\n",
       "      <th>2019-05-13</th>\n",
       "      <td>53.10</td>\n",
       "      <td>74.17</td>\n",
       "      <td>150.96</td>\n",
       "      <td>25.35</td>\n",
       "      <td>45.31</td>\n",
       "      <td>63.65</td>\n",
       "      <td>65.08</td>\n",
       "      <td>101.20</td>\n",
       "    </tr>\n",
       "    <tr>\n",
       "      <th>2019-05-14</th>\n",
       "      <td>53.20</td>\n",
       "      <td>73.35</td>\n",
       "      <td>150.69</td>\n",
       "      <td>25.55</td>\n",
       "      <td>45.94</td>\n",
       "      <td>63.39</td>\n",
       "      <td>65.08</td>\n",
       "      <td>100.49</td>\n",
       "    </tr>\n",
       "    <tr>\n",
       "      <th>2019-05-15</th>\n",
       "      <td>53.94</td>\n",
       "      <td>75.58</td>\n",
       "      <td>153.59</td>\n",
       "      <td>25.64</td>\n",
       "      <td>46.20</td>\n",
       "      <td>64.71</td>\n",
       "      <td>65.08</td>\n",
       "      <td>103.51</td>\n",
       "    </tr>\n",
       "    <tr>\n",
       "      <th>2019-05-16</th>\n",
       "      <td>54.36</td>\n",
       "      <td>77.07</td>\n",
       "      <td>154.68</td>\n",
       "      <td>25.87</td>\n",
       "      <td>46.83</td>\n",
       "      <td>65.03</td>\n",
       "      <td>65.08</td>\n",
       "      <td>103.90</td>\n",
       "    </tr>\n",
       "    <tr>\n",
       "      <th>2019-05-17</th>\n",
       "      <td>55.73</td>\n",
       "      <td>78.73</td>\n",
       "      <td>157.31</td>\n",
       "      <td>26.00</td>\n",
       "      <td>47.28</td>\n",
       "      <td>64.79</td>\n",
       "      <td>65.08</td>\n",
       "      <td>105.14</td>\n",
       "    </tr>\n",
       "    <tr>\n",
       "      <th>2019-05-18</th>\n",
       "      <td>56.26</td>\n",
       "      <td>77.90</td>\n",
       "      <td>157.94</td>\n",
       "      <td>26.16</td>\n",
       "      <td>46.78</td>\n",
       "      <td>64.84</td>\n",
       "      <td>65.08</td>\n",
       "      <td>104.98</td>\n",
       "    </tr>\n",
       "    <tr>\n",
       "      <th>2019-05-19</th>\n",
       "      <td>55.31</td>\n",
       "      <td>79.89</td>\n",
       "      <td>156.49</td>\n",
       "      <td>26.23</td>\n",
       "      <td>46.13</td>\n",
       "      <td>65.98</td>\n",
       "      <td>65.08</td>\n",
       "      <td>106.37</td>\n",
       "    </tr>\n",
       "    <tr>\n",
       "      <th>2019-05-20</th>\n",
       "      <td>55.10</td>\n",
       "      <td>78.40</td>\n",
       "      <td>156.76</td>\n",
       "      <td>26.26</td>\n",
       "      <td>46.10</td>\n",
       "      <td>65.35</td>\n",
       "      <td>65.08</td>\n",
       "      <td>106.33</td>\n",
       "    </tr>\n",
       "    <tr>\n",
       "      <th>2019-05-21</th>\n",
       "      <td>54.78</td>\n",
       "      <td>77.99</td>\n",
       "      <td>157.04</td>\n",
       "      <td>26.26</td>\n",
       "      <td>46.37</td>\n",
       "      <td>65.75</td>\n",
       "      <td>65.08</td>\n",
       "      <td>107.56</td>\n",
       "    </tr>\n",
       "    <tr>\n",
       "      <th>2019-05-22</th>\n",
       "      <td>55.31</td>\n",
       "      <td>79.98</td>\n",
       "      <td>156.40</td>\n",
       "      <td>26.46</td>\n",
       "      <td>47.02</td>\n",
       "      <td>65.77</td>\n",
       "      <td>65.08</td>\n",
       "      <td>106.88</td>\n",
       "    </tr>\n",
       "    <tr>\n",
       "      <th>2019-05-23</th>\n",
       "      <td>56.15</td>\n",
       "      <td>77.90</td>\n",
       "      <td>156.58</td>\n",
       "      <td>26.68</td>\n",
       "      <td>46.97</td>\n",
       "      <td>65.64</td>\n",
       "      <td>65.08</td>\n",
       "      <td>108.11</td>\n",
       "    </tr>\n",
       "    <tr>\n",
       "      <th>2019-05-24</th>\n",
       "      <td>58.26</td>\n",
       "      <td>78.65</td>\n",
       "      <td>159.93</td>\n",
       "      <td>26.46</td>\n",
       "      <td>47.91</td>\n",
       "      <td>67.76</td>\n",
       "      <td>65.08</td>\n",
       "      <td>108.00</td>\n",
       "    </tr>\n",
       "    <tr>\n",
       "      <th>2019-05-25</th>\n",
       "      <td>56.78</td>\n",
       "      <td>76.33</td>\n",
       "      <td>164.56</td>\n",
       "      <td>26.55</td>\n",
       "      <td>47.91</td>\n",
       "      <td>69.51</td>\n",
       "      <td>65.08</td>\n",
       "      <td>108.00</td>\n",
       "    </tr>\n",
       "  </tbody>\n",
       "</table>\n",
       "<p>260 rows × 8 columns</p>\n",
       "</div>"
      ],
      "text/plain": [
       "            000005.SZ  000009.SZ  000014.SZ  000017.SZ  000020.SZ  000023.SZ  \\\n",
       "2018-09-08      30.02      37.44      91.76      15.23      26.86      31.10   \n",
       "2018-09-09      30.97      38.61      96.11      15.16      28.42      32.14   \n",
       "2018-09-10      31.08      38.19      92.94      13.80      28.21      31.37   \n",
       "2018-09-11      31.71      39.02      95.84      13.70      28.76      32.38   \n",
       "2018-09-12      31.60      39.69      96.75      13.83      28.73      32.46   \n",
       "2018-09-13      32.34      39.19     100.56      14.51      29.55      33.66   \n",
       "2018-09-14      32.03      38.94     100.83      14.19      29.77      33.68   \n",
       "2018-09-15      31.92      38.44     102.92      12.89      29.60      33.23   \n",
       "2018-09-16      31.39      37.94      98.38      12.63      28.64      32.25   \n",
       "2018-09-17      30.97      37.61      96.11      12.37      28.33      32.22   \n",
       "2018-09-18      31.18      38.27      93.67      12.72      28.59      32.09   \n",
       "2018-09-19      31.60      38.02      91.31      12.63      28.40      31.58   \n",
       "2018-09-20      31.18      37.61      90.13      12.46      28.33      31.34   \n",
       "2018-09-21      31.08      37.61      90.31      12.46      28.23      31.29   \n",
       "2018-09-22      31.39      37.36      89.77      12.43      27.99      31.21   \n",
       "2018-09-23      31.29      38.11      92.13      12.53      28.61      31.47   \n",
       "2018-09-24      31.18      37.86      91.49      12.30      28.40      31.37   \n",
       "2018-09-25      31.18      38.11      92.94      12.63      28.37      31.58   \n",
       "2018-09-26      31.81      38.61      95.30      12.89      29.17      32.38   \n",
       "2018-09-27      31.50      38.19      94.12      12.69      28.30      32.09   \n",
       "2018-09-28      31.18      38.44      94.21      12.53      28.54      31.47   \n",
       "2018-09-29      31.50      38.44      95.84      12.72      28.61      31.42   \n",
       "2018-09-30      32.45      38.94      95.66      12.63      29.02      32.09   \n",
       "2018-10-01      32.66      39.11      99.38      12.95      29.34      33.82   \n",
       "2018-10-02      31.92      39.11     100.65      12.89      29.07      31.71   \n",
       "2018-10-03      31.29      38.44      98.47      12.72      28.61      31.47   \n",
       "2018-10-04      31.18      38.77      98.38      12.66      28.28      31.23   \n",
       "2018-10-05      31.08      38.61      97.93      12.56      28.09      30.97   \n",
       "2018-10-06      31.39      38.86      99.56      12.59      28.83      31.66   \n",
       "2018-10-07      31.18      38.61      97.75      12.37      28.83      31.29   \n",
       "...               ...        ...        ...        ...        ...        ...   \n",
       "2019-04-26      51.73      71.27     148.15      24.76      50.48      65.45   \n",
       "2019-04-27      51.62      70.61     149.33      24.76      48.72      65.11   \n",
       "2019-04-28      51.41      70.20     148.88      24.67      49.01      65.27   \n",
       "2019-04-29      52.04      70.53     148.79      24.86      47.43      65.32   \n",
       "2019-04-30      51.62      69.86     147.88      25.19      47.35      62.64   \n",
       "2019-05-01      50.99      68.87     146.16      24.50      45.67      61.95   \n",
       "2019-05-02      51.73      70.53     149.51      24.99      45.65      63.52   \n",
       "2019-05-03      52.99      71.36     151.24      25.51      45.22      64.26   \n",
       "2019-05-04      53.10      72.43     150.42      26.78      45.24      64.23   \n",
       "2019-05-05      54.78      73.84     152.60      25.97      45.79      65.14   \n",
       "2019-05-06      53.52      73.18     152.78      26.00      45.98      65.03   \n",
       "2019-05-07      54.36      74.42     153.41      25.97      46.30      65.51   \n",
       "2019-05-08      53.73      76.41     153.14      26.03      46.10      65.22   \n",
       "2019-05-09      53.52      76.08     152.60      25.51      45.91      64.90   \n",
       "2019-05-10      53.20      74.51     151.78      25.42      45.07      64.18   \n",
       "2019-05-11      52.78      74.51     151.33      25.09      44.47      63.70   \n",
       "2019-05-12      53.62      74.84     151.51      25.38      45.29      63.81   \n",
       "2019-05-13      53.10      74.17     150.96      25.35      45.31      63.65   \n",
       "2019-05-14      53.20      73.35     150.69      25.55      45.94      63.39   \n",
       "2019-05-15      53.94      75.58     153.59      25.64      46.20      64.71   \n",
       "2019-05-16      54.36      77.07     154.68      25.87      46.83      65.03   \n",
       "2019-05-17      55.73      78.73     157.31      26.00      47.28      64.79   \n",
       "2019-05-18      56.26      77.90     157.94      26.16      46.78      64.84   \n",
       "2019-05-19      55.31      79.89     156.49      26.23      46.13      65.98   \n",
       "2019-05-20      55.10      78.40     156.76      26.26      46.10      65.35   \n",
       "2019-05-21      54.78      77.99     157.04      26.26      46.37      65.75   \n",
       "2019-05-22      55.31      79.98     156.40      26.46      47.02      65.77   \n",
       "2019-05-23      56.15      77.90     156.58      26.68      46.97      65.64   \n",
       "2019-05-24      58.26      78.65     159.93      26.46      47.91      67.76   \n",
       "2019-05-25      56.78      76.33     164.56      26.55      47.91      69.51   \n",
       "\n",
       "            000019.SZ  000022.SZ  \n",
       "2018-09-08      46.28      81.52  \n",
       "2018-09-09      48.15      81.52  \n",
       "2018-09-10      47.56      81.52  \n",
       "2018-09-11      49.12      83.13  \n",
       "2018-09-12      49.12      81.73  \n",
       "2018-09-13      48.21      81.61  \n",
       "2018-09-14      48.21      82.75  \n",
       "2018-09-15      48.21      85.53  \n",
       "2018-09-16      48.21      80.81  \n",
       "2018-09-17      48.21      81.36  \n",
       "2018-09-18      48.21      79.92  \n",
       "2018-09-19      48.21      76.84  \n",
       "2018-09-20      48.21      74.78  \n",
       "2018-09-21      48.05      74.65  \n",
       "2018-09-22      47.83      72.67  \n",
       "2018-09-23      48.10      72.75  \n",
       "2018-09-24      46.65      72.84  \n",
       "2018-09-25      46.81      74.90  \n",
       "2018-09-26      48.10      78.28  \n",
       "2018-09-27      47.67      78.66  \n",
       "2018-09-28      47.51      79.12  \n",
       "2018-09-29      48.47      80.01  \n",
       "2018-09-30      48.53      80.09  \n",
       "2018-10-01      49.92      81.73  \n",
       "2018-10-02      49.81      81.10  \n",
       "2018-10-03      48.37      79.29  \n",
       "2018-10-04      47.35      78.99  \n",
       "2018-10-05      47.14      78.78  \n",
       "2018-10-06      47.83      79.92  \n",
       "2018-10-07      47.35      78.95  \n",
       "...               ...        ...  \n",
       "2019-04-26      65.08     103.75  \n",
       "2019-04-27      65.08     103.75  \n",
       "2019-04-28      65.08     105.25  \n",
       "2019-04-29      65.08     104.22  \n",
       "2019-04-30      65.08     103.79  \n",
       "2019-05-01      65.08      98.34  \n",
       "2019-05-02      65.08     101.84  \n",
       "2019-05-03      65.08     104.86  \n",
       "2019-05-04      65.08     105.22  \n",
       "2019-05-05      65.08     106.09  \n",
       "2019-05-06      65.08     105.89  \n",
       "2019-05-07      65.08     106.17  \n",
       "2019-05-08      65.08     102.95  \n",
       "2019-05-09      65.08     102.87  \n",
       "2019-05-10      65.08     100.93  \n",
       "2019-05-11      65.08      99.14  \n",
       "2019-05-12      65.08     101.08  \n",
       "2019-05-13      65.08     101.20  \n",
       "2019-05-14      65.08     100.49  \n",
       "2019-05-15      65.08     103.51  \n",
       "2019-05-16      65.08     103.90  \n",
       "2019-05-17      65.08     105.14  \n",
       "2019-05-18      65.08     104.98  \n",
       "2019-05-19      65.08     106.37  \n",
       "2019-05-20      65.08     106.33  \n",
       "2019-05-21      65.08     107.56  \n",
       "2019-05-22      65.08     106.88  \n",
       "2019-05-23      65.08     108.11  \n",
       "2019-05-24      65.08     108.00  \n",
       "2019-05-25      65.08     108.00  \n",
       "\n",
       "[260 rows x 8 columns]"
      ]
     },
     "execution_count": 50,
     "metadata": {},
     "output_type": "execute_result"
    }
   ],
   "source": [
    "# 后面的函数参数很多都是默认参数，实际使用的时候不需要每次都给出\n",
    "df = pd.read_excel(r\"C:\\Users\\lenovo\\Desktop\\py培训\\data.xlsx\", sheet_name=\"close\", indexcol=0, header=0)\n",
    "df"
   ]
  },
  {
   "cell_type": "markdown",
   "metadata": {},
   "source": [
    "DataFrame主要由三个部分构成"
   ]
  },
  {
   "cell_type": "markdown",
   "metadata": {},
   "source": [
    "数据部分，本质上是一个二维ndarray"
   ]
  },
  {
   "cell_type": "code",
   "execution_count": 51,
   "metadata": {},
   "outputs": [
    {
     "data": {
      "text/plain": [
       "array([[ 30.02,  37.44,  91.76, ...,  31.1 ,  46.28,  81.52],\n",
       "       [ 30.97,  38.61,  96.11, ...,  32.14,  48.15,  81.52],\n",
       "       [ 31.08,  38.19,  92.94, ...,  31.37,  47.56,  81.52],\n",
       "       ...,\n",
       "       [ 56.15,  77.9 , 156.58, ...,  65.64,  65.08, 108.11],\n",
       "       [ 58.26,  78.65, 159.93, ...,  67.76,  65.08, 108.  ],\n",
       "       [ 56.78,  76.33, 164.56, ...,  69.51,  65.08, 108.  ]])"
      ]
     },
     "execution_count": 51,
     "metadata": {},
     "output_type": "execute_result"
    }
   ],
   "source": [
    "df.values"
   ]
  },
  {
   "cell_type": "markdown",
   "metadata": {},
   "source": [
    "行的标签，被称为DataFrame的index"
   ]
  },
  {
   "cell_type": "code",
   "execution_count": 52,
   "metadata": {},
   "outputs": [
    {
     "data": {
      "text/plain": [
       "DatetimeIndex(['2018-09-08', '2018-09-09', '2018-09-10', '2018-09-11',\n",
       "               '2018-09-12', '2018-09-13', '2018-09-14', '2018-09-15',\n",
       "               '2018-09-16', '2018-09-17',\n",
       "               ...\n",
       "               '2019-05-16', '2019-05-17', '2019-05-18', '2019-05-19',\n",
       "               '2019-05-20', '2019-05-21', '2019-05-22', '2019-05-23',\n",
       "               '2019-05-24', '2019-05-25'],\n",
       "              dtype='datetime64[ns]', length=260, freq=None)"
      ]
     },
     "execution_count": 52,
     "metadata": {},
     "output_type": "execute_result"
    }
   ],
   "source": [
    "df.index"
   ]
  },
  {
   "cell_type": "markdown",
   "metadata": {},
   "source": [
    "列的标签，被称为DataFrame的columns"
   ]
  },
  {
   "cell_type": "code",
   "execution_count": 53,
   "metadata": {},
   "outputs": [
    {
     "data": {
      "text/plain": [
       "Index(['000005.SZ', '000009.SZ', '000014.SZ', '000017.SZ', '000020.SZ',\n",
       "       '000023.SZ', '000019.SZ', '000022.SZ'],\n",
       "      dtype='object')"
      ]
     },
     "execution_count": 53,
     "metadata": {},
     "output_type": "execute_result"
    }
   ],
   "source": [
    "df.columns"
   ]
  },
  {
   "cell_type": "markdown",
   "metadata": {},
   "source": [
    "本质上DataFrame就是一个同时带有行标签和列标签的数组"
   ]
  },
  {
   "cell_type": "markdown",
   "metadata": {},
   "source": [
    "# Index"
   ]
  },
  {
   "cell_type": "markdown",
   "metadata": {},
   "source": [
    "index是Series和DataFrame的重要组成部分， Series的index，DataFrame的index和columns都是index对象"
   ]
  },
  {
   "cell_type": "code",
   "execution_count": 56,
   "metadata": {},
   "outputs": [],
   "source": [
    "ser = pd.Series([1, 2, 3], index=[\"a\", \"b\", \"c\"])"
   ]
  },
  {
   "cell_type": "code",
   "execution_count": 57,
   "metadata": {
    "scrolled": true
   },
   "outputs": [
    {
     "data": {
      "text/plain": [
       "a    1\n",
       "b    2\n",
       "c    3\n",
       "dtype: int64"
      ]
     },
     "execution_count": 57,
     "metadata": {},
     "output_type": "execute_result"
    }
   ],
   "source": [
    "ser"
   ]
  },
  {
   "cell_type": "code",
   "execution_count": 59,
   "metadata": {},
   "outputs": [
    {
     "data": {
      "text/plain": [
       "Index(['a', 'b', 'c'], dtype='object')"
      ]
     },
     "execution_count": 59,
     "metadata": {},
     "output_type": "execute_result"
    }
   ],
   "source": [
    "ser.index"
   ]
  },
  {
   "cell_type": "code",
   "execution_count": null,
   "metadata": {},
   "outputs": [],
   "source": [
    "index也是个类似列表的数据结构，可以切片索引"
   ]
  },
  {
   "cell_type": "code",
   "execution_count": 62,
   "metadata": {},
   "outputs": [
    {
     "data": {
      "text/plain": [
       "Index(['a', 'b'], dtype='object')"
      ]
     },
     "execution_count": 62,
     "metadata": {},
     "output_type": "execute_result"
    }
   ],
   "source": [
    "ser.index[:2]"
   ]
  },
  {
   "cell_type": "code",
   "execution_count": 71,
   "metadata": {},
   "outputs": [
    {
     "data": {
      "text/plain": [
       "'c'"
      ]
     },
     "execution_count": 71,
     "metadata": {},
     "output_type": "execute_result"
    }
   ],
   "source": [
    "ser.index[2]"
   ]
  }
 ],
 "metadata": {
  "kernelspec": {
   "display_name": "Python 3",
   "language": "python",
   "name": "python3"
  },
  "language_info": {
   "codemirror_mode": {
    "name": "ipython",
    "version": 3
   },
   "file_extension": ".py",
   "mimetype": "text/x-python",
   "name": "python",
   "nbconvert_exporter": "python",
   "pygments_lexer": "ipython3",
   "version": "3.6.4"
  }
 },
 "nbformat": 4,
 "nbformat_minor": 2
}
