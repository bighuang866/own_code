{
 "cells": [
  {
   "cell_type": "markdown",
   "metadata": {},
   "source": [
    "# Python的运算符与表达式"
   ]
  },
  {
   "cell_type": "markdown",
   "metadata": {},
   "source": [
    "## [一、认识Python运算符](#1)\n",
    "## [二、认识Python优先级](#2)\n",
    "## [三、认识Python表达式](#3)"
   ]
  },
  {
   "cell_type": "markdown",
   "metadata": {},
   "source": [
    "# <a id=\"1\">一、认识Python运算符</a>"
   ]
  },
  {
   "cell_type": "markdown",
   "metadata": {},
   "source": [
    "### 什么是运算符"
   ]
  },
  {
   "cell_type": "markdown",
   "metadata": {},
   "source": [
    "在Python中，有的时候我们需要对一个或多个数字或者一个或多个字符串进行运算操作，比如我们上门课学习的让字符串重复的*也是一种运算符，再比如2+3中的“+”也是一种运算符。\n"
   ]
  },
  {
   "cell_type": "markdown",
   "metadata": {},
   "source": [
    "### 运算符有哪些"
   ]
  },
  {
   "cell_type": "markdown",
   "metadata": {},
   "source": [
    "在Python中我们常见的运算符有：+、-、*、/、**、<、>、!=、//、%、&、|、^、~、>>、<<、<=、>=、==、not、and、or。\n"
   ]
  },
  {
   "cell_type": "markdown",
   "metadata": {},
   "source": [
    "### 运算符的使用方法"
   ]
  },
  {
   "cell_type": "markdown",
   "metadata": {},
   "source": [
    "上面我们讲解了Python的运算符有哪些，下面我们通过实例来逐个了解我们的运算符。\n"
   ]
  },
  {
   "cell_type": "markdown",
   "metadata": {},
   "source": [
    "#### 算数运算符"
   ]
  },
  {
   "cell_type": "code",
   "execution_count": 29,
   "metadata": {},
   "outputs": [
    {
     "name": "stdout",
     "output_type": "stream",
     "text": [
      "15\n"
     ]
    }
   ],
   "source": [
    "#\"+\":两个对象相加\n",
    "#两个数字相加\n",
    "a = 7 + 8\n",
    "print (a)"
   ]
  },
  {
   "cell_type": "code",
   "execution_count": 30,
   "metadata": {},
   "outputs": [
    {
     "name": "stdout",
     "output_type": "stream",
     "text": [
      "GOOD JOB!\n"
     ]
    }
   ],
   "source": [
    "# 字符串也支持+运算符\n",
    "# 两个字符串相加\n",
    "b = \"GOOD\"+\" JOB!\"\n",
    "print (b)"
   ]
  },
  {
   "cell_type": "code",
   "execution_count": 31,
   "metadata": {},
   "outputs": [
    {
     "name": "stdout",
     "output_type": "stream",
     "text": [
      "-7\n",
      "8\n",
      "18\n"
     ]
    }
   ],
   "source": [
    "#\"-\":取一个数字的相反数或者实现两个数字相减\n",
    "a = -7\n",
    "print(a)\n",
    "b = -(-8)\n",
    "print(b)\n",
    "\n",
    "c = 19 - 1\n",
    "print(c)"
   ]
  },
  {
   "cell_type": "code",
   "execution_count": 32,
   "metadata": {},
   "outputs": [
    {
     "name": "stdout",
     "output_type": "stream",
     "text": [
      "28\n",
      "hellohellohellohellohellohellohello\n",
      "hello\n",
      "hello\n",
      "hello\n",
      "hello\n",
      "hello\n",
      "hello\n",
      "hello\n",
      "\n"
     ]
    }
   ],
   "source": [
    "#\"*\":两个数相乘或者字符串重复\n",
    "a = 4 * 7\n",
    "print(a)\n",
    "\n",
    "b = \"hello\"*7\n",
    "print(b)\n",
    "c = \"hello\\n\"*7\n",
    "print(c)"
   ]
  },
  {
   "cell_type": "code",
   "execution_count": 33,
   "metadata": {},
   "outputs": [
    {
     "name": "stdout",
     "output_type": "stream",
     "text": [
      "3.5\n"
     ]
    }
   ],
   "source": [
    "#\"/\":两个数字相除\n",
    "a = 7/2\n",
    "print(a)"
   ]
  },
  {
   "cell_type": "code",
   "execution_count": 34,
   "metadata": {},
   "outputs": [
    {
     "name": "stdout",
     "output_type": "stream",
     "text": [
      "8\n"
     ]
    }
   ],
   "source": [
    "#\"**\":求幂运算\n",
    "a = 2**3   #相当于2的3次幂，就是2*2*2   2^3\n",
    "print(a)"
   ]
  },
  {
   "cell_type": "code",
   "execution_count": 35,
   "metadata": {},
   "outputs": [
    {
     "name": "stdout",
     "output_type": "stream",
     "text": [
      "3\n"
     ]
    }
   ],
   "source": [
    "#\"//\":除法运算，然后返回其商的整数部分，舍掉余数\n",
    "a = 10//3\n",
    "print(a)"
   ]
  },
  {
   "cell_type": "code",
   "execution_count": 36,
   "metadata": {},
   "outputs": [
    {
     "name": "stdout",
     "output_type": "stream",
     "text": [
      "1\n",
      "0\n"
     ]
    }
   ],
   "source": [
    "#\"%\":除法运算，然后返回其商的余数部分，舍掉商\n",
    "a = 10%3\n",
    "print(a)\n",
    "\n",
    "b = 10%1  #没有余数的时候返回什么？\n",
    "print(b)"
   ]
  },
  {
   "cell_type": "code",
   "execution_count": 37,
   "metadata": {},
   "outputs": [
    {
     "name": "stdout",
     "output_type": "stream",
     "text": [
      "3 1 10\n"
     ]
    }
   ],
   "source": [
    "a = 10//3  #a为商的整数部分\n",
    "b = 10%3   #b为\n",
    "c = 3*a + b  #c为除数乘以商的整数部分加上余数，应该c的值就是被除数\n",
    "print(a, b, c)"
   ]
  },
  {
   "cell_type": "markdown",
   "metadata": {},
   "source": [
    "#### 比较运算符"
   ]
  },
  {
   "cell_type": "code",
   "execution_count": 38,
   "metadata": {},
   "outputs": [
    {
     "name": "stdout",
     "output_type": "stream",
     "text": [
      "True\n",
      "False\n"
     ]
    }
   ],
   "source": [
    "#\"<\"：小于符号，返回一个bool值\n",
    "a = 3 < 7\n",
    "print(a)\n",
    "\n",
    "b = 3 < 3\n",
    "print(b)"
   ]
  },
  {
   "cell_type": "code",
   "execution_count": 39,
   "metadata": {},
   "outputs": [
    {
     "name": "stdout",
     "output_type": "stream",
     "text": [
      "False\n",
      "True\n"
     ]
    }
   ],
   "source": [
    "#\">\":大于符号，返回一个bool值\n",
    "a = 3>7\n",
    "print(a)\n",
    "\n",
    "b = 3>1\n",
    "print (b)"
   ]
  },
  {
   "cell_type": "code",
   "execution_count": 40,
   "metadata": {},
   "outputs": [
    {
     "name": "stdout",
     "output_type": "stream",
     "text": [
      "True\n",
      "False\n"
     ]
    }
   ],
   "source": [
    "#\"!=\":不等于符号，同样返回一个bool值\n",
    "a = 2!=3\n",
    "print (a)\n",
    "\n",
    "b = 2!=2\n",
    "print (b)"
   ]
  },
  {
   "cell_type": "code",
   "execution_count": 41,
   "metadata": {},
   "outputs": [
    {
     "name": "stdout",
     "output_type": "stream",
     "text": [
      "True\n",
      "False\n",
      "False\n",
      "True\n"
     ]
    }
   ],
   "source": [
    "#\"<=\":小于等于符号，比较运算，小于或等于，返回一个bool值\n",
    "a = 3<=3\n",
    "print(a)\n",
    "\n",
    "b = 4<=3\n",
    "print(b)\n",
    "\n",
    "#\">=\"\n",
    "a = 1>=3\n",
    "print(a)\n",
    "\n",
    "b = 4>=3\n",
    "print(b)"
   ]
  },
  {
   "cell_type": "code",
   "execution_count": 42,
   "metadata": {},
   "outputs": [
    {
     "name": "stdout",
     "output_type": "stream",
     "text": [
      "False\n",
      "True\n"
     ]
    }
   ],
   "source": [
    "#\"==\":比较两个对象是否相等\n",
    "a = 12==13\n",
    "print (a)\n",
    "b = \"hello\"==\"hello\"\n",
    "print (b)"
   ]
  },
  {
   "cell_type": "markdown",
   "metadata": {},
   "source": [
    "#### 逻辑运算符"
   ]
  },
  {
   "cell_type": "code",
   "execution_count": 43,
   "metadata": {},
   "outputs": [
    {
     "name": "stdout",
     "output_type": "stream",
     "text": [
      "False\n",
      "True\n"
     ]
    }
   ],
   "source": [
    "#not:逻辑非\n",
    "a = True\n",
    "b = not a\n",
    "print(b)\n",
    "\n",
    "c = False\n",
    "print(not c)\n"
   ]
  },
  {
   "cell_type": "code",
   "execution_count": 44,
   "metadata": {},
   "outputs": [
    {
     "name": "stdout",
     "output_type": "stream",
     "text": [
      "True\n"
     ]
    }
   ],
   "source": [
    "#and:逻辑与\n",
    "'''\n",
    "True and True等于True\n",
    "True and False等于False\n",
    "False and True等于False\n",
    "'''\n",
    "print(True and True)"
   ]
  },
  {
   "cell_type": "code",
   "execution_count": 45,
   "metadata": {},
   "outputs": [
    {
     "name": "stdout",
     "output_type": "stream",
     "text": [
      "True\n"
     ]
    }
   ],
   "source": [
    "#or:逻辑或\n",
    "'''\n",
    "True and True等于True\n",
    "True and False等于True\n",
    "False and False等于False\n",
    "'''\n",
    "print(True or False)"
   ]
  },
  {
   "cell_type": "markdown",
   "metadata": {},
   "source": [
    "#### 位运算符(不是特别重要)"
   ]
  },
  {
   "cell_type": "code",
   "execution_count": 46,
   "metadata": {},
   "outputs": [
    {
     "name": "stdout",
     "output_type": "stream",
     "text": [
      "2\n"
     ]
    }
   ],
   "source": [
    "#\"&\":按位与运算，所谓的按位与是指一个数字转化为二进制，然后这些二进制的数按位来进行与运算\n",
    "a = 7&18  #执行一下，为什么7跟18与会得到2呢？？\n",
    "print (a)\n",
    "# '''首先我们打开计算器，然后我们将7转化为二进制，得到7的二进制值是：111，自动补全为8位，即00000111\n",
    "#    然后我们将18转化为二进制，得到18二进制的值是10010，同样补全为8位，即00010010\n",
    "#    再然后，我们将00000111\n",
    "#    ，跟          00010010按位进行与运算，\n",
    "#    得到的结果是：00000010，然后，我们将00000010转化为十进制\n",
    "#    得到数字二，所以7跟18按位与的结果是二进制的10，即为十进制的2\n",
    "\n",
    "# '''"
   ]
  },
  {
   "cell_type": "code",
   "execution_count": 53,
   "metadata": {},
   "outputs": [
    {
     "name": "stdout",
     "output_type": "stream",
     "text": [
      "23\n"
     ]
    }
   ],
   "source": [
    "#\"|\":按位或运算，同样我们要将数字转化为二进制之后按位进行或运算\n",
    "'''\n",
    "我们来分析一下，同样我们的7的二进制形式是00000111，18的二进制形式是00010010\n",
    "我们将      00000111\n",
    "跟          00010010按位进行或运算，\n",
    "得到的结果是 00010111，然后，我们将00010111转化为十进制\n",
    "得到数字23，所以7跟18按位或的结果是二进制的10111，即为十进制的23\n",
    "'''\n",
    "a = 7|18\n",
    "print(a)\n"
   ]
  },
  {
   "cell_type": "code",
   "execution_count": 54,
   "metadata": {},
   "outputs": [
    {
     "name": "stdout",
     "output_type": "stream",
     "text": [
      "21\n"
     ]
    }
   ],
   "source": [
    "#\"^\"按位异或\n",
    "'''\n",
    "首先，异或指的是，不同则为1，相同则为0.\n",
    "我们来分析一下，同样我们的7的二进制形式是00000111，18的二进制形式是00010010\n",
    "我们将      00000111\n",
    "跟          00010010按位进行异或运算，\n",
    "得到的结果是 00010101，然后，我们将00010101转化为十进制\n",
    "得到数字21，所以7跟18按位异或的结果是二进制的10101，即为十进制的21\n",
    "'''\n",
    "a = 7^18\n",
    "print(a)\n"
   ]
  },
  {
   "cell_type": "code",
   "execution_count": 58,
   "metadata": {},
   "outputs": [
    {
     "name": "stdout",
     "output_type": "stream",
     "text": [
      "-19\n"
     ]
    }
   ],
   "source": [
    "#\"~\":按位翻转~x=-（x+1）\n",
    "a = ~18  #~18=-（18+1）=-19\n",
    "print(a)"
   ]
  },
  {
   "cell_type": "code",
   "execution_count": 59,
   "metadata": {},
   "outputs": [
    {
     "name": "stdout",
     "output_type": "stream",
     "text": [
      "36\n",
      "24\n"
     ]
    }
   ],
   "source": [
    "#\"<<\":左移\n",
    "'''\n",
    "比如18左移就是将他的二进制形式00100100左移，即移后成为00100100，即成为36，左移一个单位相当于乘2,左移动两个单位\n",
    "相当于乘4，左移3个单位相当于乘8，左移n个单位相当于乘2的n次幂。\n",
    "'''\n",
    "a = 18<<1\n",
    "print (a)\n",
    "\n",
    "b = 3<<3\n",
    "print (b)"
   ]
  },
  {
   "cell_type": "code",
   "execution_count": 60,
   "metadata": {},
   "outputs": [
    {
     "name": "stdout",
     "output_type": "stream",
     "text": [
      "9\n",
      "4\n"
     ]
    }
   ],
   "source": [
    "#\"<<\"：右移\n",
    "'''\n",
    "右移是左移的逆运算，即将对应的二进制数向右移动，右移一个单位相当于除以2,右移动两个单位相当于除以4，右移3个单位相当于\n",
    "除以8，右移n个单位相当于除以2的n次幂。\n",
    "'''\n",
    "a = 18>>1\n",
    "print(a)\n",
    "\n",
    "b = 18>>2\n",
    "print (b)"
   ]
  },
  {
   "cell_type": "markdown",
   "metadata": {},
   "source": [
    "# <a id=\"2\">二、认识Python优先级</a>"
   ]
  },
  {
   "cell_type": "markdown",
   "metadata": {},
   "source": [
    "### 什么是Python的优先级"
   ]
  },
  {
   "cell_type": "markdown",
   "metadata": {},
   "source": [
    "Python中的程序或运算符的执行是有先后顺序的，比如A跟B同时出现，如果A可以优先于B执行，那么就说明A的优先级比B的优先级高，B的优先级比A的优先级低。其中，A跟B可以是运算符，也可以是程序。就是说，Python中的优先级分为两种，一种是程序之间的优先级，还有一种是运算符之间的优先级。我们这里主要讨论Python运算符之间的优先级。下面我们通过实例来看一下Python优先级的作用。\n"
   ]
  },
  {
   "cell_type": "code",
   "execution_count": 61,
   "metadata": {},
   "outputs": [
    {
     "name": "stdout",
     "output_type": "stream",
     "text": [
      "58\n",
      "True\n"
     ]
    }
   ],
   "source": [
    "#优先级的作用\n",
    "a = 2 + 7*8\n",
    "print (a)\n",
    "\n",
    "b = 9>7\n",
    "print (b)"
   ]
  },
  {
   "cell_type": "markdown",
   "metadata": {},
   "source": [
    "### Python优先级使用"
   ]
  },
  {
   "cell_type": "markdown",
   "metadata": {},
   "source": [
    "在Python里面，不同的运算符有不同的优先级，那么到底哪些运算符的优先级高，哪些运算符的优先级低呢？我们下面通过实例讲解。\n"
   ]
  },
  {
   "cell_type": "code",
   "execution_count": 62,
   "metadata": {},
   "outputs": [
    {
     "name": "stdout",
     "output_type": "stream",
     "text": [
      "6\n"
     ]
    }
   ],
   "source": [
    "#优先级使用实战\n",
    "\n",
    "#优先级排行榜第1名——函数调用、寻址、下标\n",
    "a = [1,2,3]\n",
    "print (a[1]*3)"
   ]
  },
  {
   "cell_type": "code",
   "execution_count": 63,
   "metadata": {},
   "outputs": [
    {
     "name": "stdout",
     "output_type": "stream",
     "text": [
      "32\n"
     ]
    }
   ],
   "source": [
    "#优先级排行榜第2名——幂运算**\n",
    "a = 4*2**3\n",
    "print (a)"
   ]
  },
  {
   "cell_type": "code",
   "execution_count": 64,
   "metadata": {},
   "outputs": [
    {
     "name": "stdout",
     "output_type": "stream",
     "text": [
      "-40\n"
     ]
    }
   ],
   "source": [
    "#优先级排行榜第3名——翻转运算~\n",
    "a = ~4*2**3\n",
    "print (a)"
   ]
  },
  {
   "cell_type": "code",
   "execution_count": 65,
   "metadata": {},
   "outputs": [
    {
     "name": "stdout",
     "output_type": "stream",
     "text": [
      "-6\n"
     ]
    }
   ],
   "source": [
    "#优先级排行榜第4名——正负号\n",
    "print (2+4*-2)   #我们可以看，正负号的使用方法是紧挨着操作数的，否则会出错，这就说明正负号优先于加减乘除运算"
   ]
  },
  {
   "cell_type": "code",
   "execution_count": 66,
   "metadata": {},
   "outputs": [
    {
     "name": "stdout",
     "output_type": "stream",
     "text": [
      "4.0\n"
     ]
    }
   ],
   "source": [
    "#优先级排行榜第5名——*、/、%\n",
    "print (2+4*2/4)"
   ]
  },
  {
   "cell_type": "code",
   "execution_count": 67,
   "metadata": {},
   "outputs": [
    {
     "name": "stdout",
     "output_type": "stream",
     "text": [
      "24\n"
     ]
    }
   ],
   "source": [
    "#优先级排行榜第6名——+、-\n",
    "print (3<<2+1)"
   ]
  },
  {
   "cell_type": "code",
   "execution_count": 68,
   "metadata": {},
   "outputs": [],
   "source": [
    "#优先级排行榜第7名——<<、>>"
   ]
  },
  {
   "cell_type": "code",
   "execution_count": 69,
   "metadata": {},
   "outputs": [],
   "source": [
    "#优先级排行榜第8名——按位&、^、|，其实这三个中也是有优先级顺序的，但是他们处于同一级别，故而不细分"
   ]
  },
  {
   "cell_type": "code",
   "execution_count": 70,
   "metadata": {},
   "outputs": [
    {
     "name": "stdout",
     "output_type": "stream",
     "text": [
      "False\n"
     ]
    }
   ],
   "source": [
    "#优先级排行榜第9名——比较运算符\n",
    "a=2*3+5<=5+1*2\n",
    "print (a)"
   ]
  },
  {
   "cell_type": "code",
   "execution_count": 71,
   "metadata": {},
   "outputs": [
    {
     "name": "stdout",
     "output_type": "stream",
     "text": [
      "False\n"
     ]
    }
   ],
   "source": [
    "#优先级排行榜第10名——逻辑的not、and、or\n",
    "a=2*3+5<=5+1*2 or False\n",
    "print (a)"
   ]
  },
  {
   "cell_type": "code",
   "execution_count": 72,
   "metadata": {},
   "outputs": [
    {
     "data": {
      "text/plain": [
       "1"
      ]
     },
     "execution_count": 72,
     "metadata": {},
     "output_type": "execute_result"
    }
   ],
   "source": [
    "False or 1 "
   ]
  },
  {
   "cell_type": "code",
   "execution_count": 73,
   "metadata": {},
   "outputs": [
    {
     "data": {
      "text/plain": [
       "1"
      ]
     },
     "execution_count": 73,
     "metadata": {},
     "output_type": "execute_result"
    }
   ],
   "source": [
    "(1 < 2)*1"
   ]
  },
  {
   "cell_type": "code",
   "execution_count": 74,
   "metadata": {},
   "outputs": [
    {
     "data": {
      "text/plain": [
       "6"
      ]
     },
     "execution_count": 74,
     "metadata": {},
     "output_type": "execute_result"
    }
   ],
   "source": [
    "#优先级排行榜第11名——lambda表达式\n",
    "f = lambda x,y,z: x+y+z\n",
    "f(1,2,3)\n",
    "\n",
    "#lambda只是一个表达式，函数体比def简单很多。\n",
    "#lambda的主体是一个表达式，而不是一个代码块。仅仅能在lambda表达式中封装有限的逻辑进去。\n",
    "#lambda表达式是起到一个函数速写的作用。允许在代码内嵌入一个函数的定义。\n"
   ]
  },
  {
   "cell_type": "markdown",
   "metadata": {},
   "source": [
    "一般只要记住，求幂高于乘除，乘除高于加减，加减高于> <  > < 高于 and or    赋值 = 是最low的  就可以了\n",
    "\n",
    "如果有时候实在想不起来Python的优先级，就加括号吧！！！\n"
   ]
  },
  {
   "cell_type": "code",
   "execution_count": 75,
   "metadata": {},
   "outputs": [
    {
     "name": "stdout",
     "output_type": "stream",
     "text": [
      "42\n",
      "72\n"
     ]
    }
   ],
   "source": [
    "#如果实在分不清哪个优先级高哪个优先级低也没关系，只要用（）改变优先级即可\n",
    "a = (2 + 5)*6\n",
    "print(a)\n",
    "\n",
    "b=((2 + 5) + 5)*6\n",
    "print(b)"
   ]
  },
  {
   "cell_type": "markdown",
   "metadata": {},
   "source": [
    "# <a id=\"3\">三、认识Python表达式</a>"
   ]
  },
  {
   "cell_type": "markdown",
   "metadata": {},
   "source": [
    "### 什么是Python的表达式"
   ]
  },
  {
   "cell_type": "markdown",
   "metadata": {},
   "source": [
    "Python中我们在编程的时候，值、变量和运算符共同组成的整体我们将其称为表达式。比如\"ok\"、a=5、a=\"hello my girl\"这些等等都是表达式。我们下面通过实例进行讲解。\n"
   ]
  },
  {
   "cell_type": "code",
   "execution_count": 76,
   "metadata": {},
   "outputs": [
    {
     "name": "stdout",
     "output_type": "stream",
     "text": [
      "67\n",
      "hello\n"
     ]
    }
   ],
   "source": [
    "#什么是表达式\n",
    "#1\n",
    "\"hello\"\n",
    "\n",
    "#2\n",
    "25 + 7\n",
    "\n",
    "\n",
    "#3\n",
    "a = 67\n",
    "print(a)\n",
    "\n",
    "\n",
    "#4\n",
    "a=\"hello\"\n",
    "print (a)"
   ]
  },
  {
   "cell_type": "markdown",
   "metadata": {},
   "source": [
    "### 表达式的使用"
   ]
  },
  {
   "cell_type": "markdown",
   "metadata": {},
   "source": [
    "在Python中表达式的使用有一些特点，下面分别通过表达式在单行命令行中的使用与表达式在源程序中的使用两个方面进行实例讲解。其中表达式在单行命令行中的使用我们分别通过值表达式、变量表达式、计算表达式、字符串表达式等几种类型的表达式来讲解。\n"
   ]
  },
  {
   "cell_type": "code",
   "execution_count": 77,
   "metadata": {},
   "outputs": [
    {
     "data": {
      "text/plain": [
       "8"
      ]
     },
     "execution_count": 77,
     "metadata": {},
     "output_type": "execute_result"
    }
   ],
   "source": [
    "#值表达式\n",
    "8"
   ]
  },
  {
   "cell_type": "code",
   "execution_count": 78,
   "metadata": {},
   "outputs": [
    {
     "data": {
      "text/plain": [
       "15"
      ]
     },
     "execution_count": 78,
     "metadata": {},
     "output_type": "execute_result"
    }
   ],
   "source": [
    "#计算表达式\n",
    "7 + 8"
   ]
  },
  {
   "cell_type": "code",
   "execution_count": 79,
   "metadata": {},
   "outputs": [
    {
     "data": {
      "text/plain": [
       "'su'"
      ]
     },
     "execution_count": 79,
     "metadata": {},
     "output_type": "execute_result"
    }
   ],
   "source": [
    "#字符串表达式\n",
    "'su'"
   ]
  },
  {
   "cell_type": "code",
   "execution_count": 80,
   "metadata": {},
   "outputs": [
    {
     "name": "stdout",
     "output_type": "stream",
     "text": [
      "ok\n"
     ]
    }
   ],
   "source": [
    "#变量表达式\n",
    "a='ok'\n",
    "print (a)"
   ]
  },
  {
   "cell_type": "markdown",
   "metadata": {},
   "source": [
    "### 表达式执行与print执行结果的区别"
   ]
  },
  {
   "cell_type": "markdown",
   "metadata": {},
   "source": [
    "Python中的表达式执行的结果跟打印(print)的结果有时候是有区别的。\n",
    "    现在只需要注意即可，原因我们后面会在讲面向对象编程的时候提到（感兴趣可以自行百度 \\__str\\__ 与 \\__repr\\__）\n"
   ]
  },
  {
   "cell_type": "code",
   "execution_count": 81,
   "metadata": {},
   "outputs": [
    {
     "data": {
      "text/plain": [
       "'苏\\n华\\n清'"
      ]
     },
     "execution_count": 81,
     "metadata": {},
     "output_type": "execute_result"
    }
   ],
   "source": [
    "'苏\\n华\\n清'"
   ]
  },
  {
   "cell_type": "code",
   "execution_count": 82,
   "metadata": {},
   "outputs": [
    {
     "name": "stdout",
     "output_type": "stream",
     "text": [
      "苏\n",
      "华\n",
      "清\n"
     ]
    }
   ],
   "source": [
    "print ('苏\\n华\\n清')"
   ]
  },
  {
   "cell_type": "code",
   "execution_count": 83,
   "metadata": {},
   "outputs": [
    {
     "data": {
      "text/plain": [
       "7"
      ]
     },
     "execution_count": 83,
     "metadata": {},
     "output_type": "execute_result"
    }
   ],
   "source": [
    "a=7\n",
    "a"
   ]
  },
  {
   "cell_type": "code",
   "execution_count": 84,
   "metadata": {},
   "outputs": [
    {
     "name": "stdout",
     "output_type": "stream",
     "text": [
      "7\n"
     ]
    }
   ],
   "source": [
    "a=7\n",
    "print (a)"
   ]
  }
 ],
 "metadata": {
  "kernelspec": {
   "display_name": "Python 3",
   "language": "python",
   "name": "python3"
  },
  "language_info": {
   "codemirror_mode": {
    "name": "ipython",
    "version": 3
   },
   "file_extension": ".py",
   "mimetype": "text/x-python",
   "name": "python",
   "nbconvert_exporter": "python",
   "pygments_lexer": "ipython3",
   "version": "3.6.4"
  }
 },
 "nbformat": 4,
 "nbformat_minor": 1
}
