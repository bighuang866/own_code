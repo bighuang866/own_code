{
 "cells": [
  {
   "cell_type": "code",
   "execution_count": 2,
   "metadata": {},
   "outputs": [],
   "source": [
    "import numpy as np\n",
    "import pandas as pd"
   ]
  },
  {
   "cell_type": "markdown",
   "metadata": {},
   "source": [
    "## 基本功能"
   ]
  },
  {
   "cell_type": "markdown",
   "metadata": {},
   "source": [
    "### 查询基本信息"
   ]
  },
  {
   "cell_type": "code",
   "execution_count": 5,
   "metadata": {},
   "outputs": [
    {
     "data": {
      "text/html": [
       "<div>\n",
       "<style scoped>\n",
       "    .dataframe tbody tr th:only-of-type {\n",
       "        vertical-align: middle;\n",
       "    }\n",
       "\n",
       "    .dataframe tbody tr th {\n",
       "        vertical-align: top;\n",
       "    }\n",
       "\n",
       "    .dataframe thead th {\n",
       "        text-align: right;\n",
       "    }\n",
       "</style>\n",
       "<table border=\"1\" class=\"dataframe\">\n",
       "  <thead>\n",
       "    <tr style=\"text-align: right;\">\n",
       "      <th></th>\n",
       "      <th>A</th>\n",
       "      <th>B</th>\n",
       "      <th>C</th>\n",
       "    </tr>\n",
       "  </thead>\n",
       "  <tbody>\n",
       "    <tr>\n",
       "      <th>2000-01-01</th>\n",
       "      <td>-0.877025</td>\n",
       "      <td>0.578100</td>\n",
       "      <td>-0.495682</td>\n",
       "    </tr>\n",
       "    <tr>\n",
       "      <th>2000-01-02</th>\n",
       "      <td>1.204134</td>\n",
       "      <td>0.429446</td>\n",
       "      <td>1.580609</td>\n",
       "    </tr>\n",
       "    <tr>\n",
       "      <th>2000-01-03</th>\n",
       "      <td>-1.523974</td>\n",
       "      <td>-1.163261</td>\n",
       "      <td>0.748757</td>\n",
       "    </tr>\n",
       "    <tr>\n",
       "      <th>2000-01-04</th>\n",
       "      <td>1.657345</td>\n",
       "      <td>0.531942</td>\n",
       "      <td>2.156428</td>\n",
       "    </tr>\n",
       "    <tr>\n",
       "      <th>2000-01-05</th>\n",
       "      <td>-0.752988</td>\n",
       "      <td>0.010039</td>\n",
       "      <td>2.844673</td>\n",
       "    </tr>\n",
       "    <tr>\n",
       "      <th>2000-01-06</th>\n",
       "      <td>0.751757</td>\n",
       "      <td>0.520563</td>\n",
       "      <td>-0.704476</td>\n",
       "    </tr>\n",
       "    <tr>\n",
       "      <th>2000-01-07</th>\n",
       "      <td>0.058400</td>\n",
       "      <td>-0.423074</td>\n",
       "      <td>0.202966</td>\n",
       "    </tr>\n",
       "    <tr>\n",
       "      <th>2000-01-08</th>\n",
       "      <td>-0.463587</td>\n",
       "      <td>-0.195046</td>\n",
       "      <td>0.413324</td>\n",
       "    </tr>\n",
       "  </tbody>\n",
       "</table>\n",
       "</div>"
      ],
      "text/plain": [
       "                   A         B         C\n",
       "2000-01-01 -0.877025  0.578100 -0.495682\n",
       "2000-01-02  1.204134  0.429446  1.580609\n",
       "2000-01-03 -1.523974 -1.163261  0.748757\n",
       "2000-01-04  1.657345  0.531942  2.156428\n",
       "2000-01-05 -0.752988  0.010039  2.844673\n",
       "2000-01-06  0.751757  0.520563 -0.704476\n",
       "2000-01-07  0.058400 -0.423074  0.202966\n",
       "2000-01-08 -0.463587 -0.195046  0.413324"
      ]
     },
     "execution_count": 5,
     "metadata": {},
     "output_type": "execute_result"
    }
   ],
   "source": [
    "index = pd.date_range('1/1/2000', periods=8)\n",
    "df = pd.DataFrame(np.random.randn(8, 3), index=index, columns=['A', 'B', 'C'])\n",
    "df"
   ]
  },
  {
   "cell_type": "code",
   "execution_count": 6,
   "metadata": {},
   "outputs": [
    {
     "name": "stdout",
     "output_type": "stream",
     "text": [
      "<class 'pandas.core.frame.DataFrame'>\n",
      "DatetimeIndex: 8 entries, 2000-01-01 to 2000-01-08\n",
      "Freq: D\n",
      "Data columns (total 3 columns):\n",
      "A    8 non-null float64\n",
      "B    8 non-null float64\n",
      "C    8 non-null float64\n",
      "dtypes: float64(3)\n",
      "memory usage: 256.0 bytes\n"
     ]
    }
   ],
   "source": [
    "df.info()"
   ]
  },
  {
   "cell_type": "markdown",
   "metadata": {},
   "source": [
    "### 快速查看头和尾"
   ]
  },
  {
   "cell_type": "code",
   "execution_count": 7,
   "metadata": {},
   "outputs": [],
   "source": [
    "long_series = pd.Series(np.random.randn(1000))"
   ]
  },
  {
   "cell_type": "code",
   "execution_count": 8,
   "metadata": {},
   "outputs": [
    {
     "data": {
      "text/plain": [
       "0    2.052048\n",
       "1    0.315303\n",
       "2    0.215232\n",
       "3    0.219239\n",
       "4   -0.784686\n",
       "dtype: float64"
      ]
     },
     "execution_count": 8,
     "metadata": {},
     "output_type": "execute_result"
    }
   ],
   "source": [
    "long_series.head()"
   ]
  },
  {
   "cell_type": "code",
   "execution_count": 9,
   "metadata": {},
   "outputs": [
    {
     "data": {
      "text/plain": [
       "997    0.198896\n",
       "998   -1.199332\n",
       "999   -0.150073\n",
       "dtype: float64"
      ]
     },
     "execution_count": 9,
     "metadata": {},
     "output_type": "execute_result"
    }
   ],
   "source": [
    "long_series.tail(3)"
   ]
  },
  {
   "cell_type": "markdown",
   "metadata": {},
   "source": [
    "### 属性和原始数组"
   ]
  },
  {
   "cell_type": "code",
   "execution_count": 19,
   "metadata": {},
   "outputs": [],
   "source": [
    "s = pd.Series(np.random.randn(5), index=['a', 'b', 'c', 'd', 'e'])"
   ]
  },
  {
   "cell_type": "code",
   "execution_count": 20,
   "metadata": {},
   "outputs": [
    {
     "data": {
      "text/plain": [
       "(5,)"
      ]
     },
     "execution_count": 20,
     "metadata": {},
     "output_type": "execute_result"
    }
   ],
   "source": [
    "s.shape"
   ]
  },
  {
   "cell_type": "code",
   "execution_count": 21,
   "metadata": {},
   "outputs": [
    {
     "data": {
      "text/plain": [
       "Index(['a', 'b', 'c', 'd', 'e'], dtype='object')"
      ]
     },
     "execution_count": 21,
     "metadata": {},
     "output_type": "execute_result"
    }
   ],
   "source": [
    "s.index"
   ]
  },
  {
   "cell_type": "code",
   "execution_count": 22,
   "metadata": {},
   "outputs": [
    {
     "data": {
      "text/plain": [
       "(8, 3)"
      ]
     },
     "execution_count": 22,
     "metadata": {},
     "output_type": "execute_result"
    }
   ],
   "source": [
    "df.shape"
   ]
  },
  {
   "cell_type": "code",
   "execution_count": 23,
   "metadata": {},
   "outputs": [
    {
     "data": {
      "text/plain": [
       "DatetimeIndex(['2000-01-01', '2000-01-02', '2000-01-03', '2000-01-04',\n",
       "               '2000-01-05', '2000-01-06', '2000-01-07', '2000-01-08'],\n",
       "              dtype='datetime64[ns]', freq='D')"
      ]
     },
     "execution_count": 23,
     "metadata": {},
     "output_type": "execute_result"
    }
   ],
   "source": [
    "df.index"
   ]
  },
  {
   "cell_type": "code",
   "execution_count": 24,
   "metadata": {},
   "outputs": [
    {
     "data": {
      "text/plain": [
       "Index(['a', 'b', 'c'], dtype='object')"
      ]
     },
     "execution_count": 24,
     "metadata": {},
     "output_type": "execute_result"
    }
   ],
   "source": [
    "df.columns"
   ]
  },
  {
   "cell_type": "markdown",
   "metadata": {},
   "source": [
    "index和columns是可以安全地修改的"
   ]
  },
  {
   "cell_type": "code",
   "execution_count": 25,
   "metadata": {},
   "outputs": [],
   "source": [
    "df.columns = [\"a\", \"b\", \"c\"]"
   ]
  },
  {
   "cell_type": "code",
   "execution_count": 26,
   "metadata": {},
   "outputs": [
    {
     "data": {
      "text/html": [
       "<div>\n",
       "<style scoped>\n",
       "    .dataframe tbody tr th:only-of-type {\n",
       "        vertical-align: middle;\n",
       "    }\n",
       "\n",
       "    .dataframe tbody tr th {\n",
       "        vertical-align: top;\n",
       "    }\n",
       "\n",
       "    .dataframe thead th {\n",
       "        text-align: right;\n",
       "    }\n",
       "</style>\n",
       "<table border=\"1\" class=\"dataframe\">\n",
       "  <thead>\n",
       "    <tr style=\"text-align: right;\">\n",
       "      <th></th>\n",
       "      <th>a</th>\n",
       "      <th>b</th>\n",
       "      <th>c</th>\n",
       "    </tr>\n",
       "  </thead>\n",
       "  <tbody>\n",
       "    <tr>\n",
       "      <th>2000-01-01</th>\n",
       "      <td>-0.877025</td>\n",
       "      <td>0.578100</td>\n",
       "      <td>-0.495682</td>\n",
       "    </tr>\n",
       "    <tr>\n",
       "      <th>2000-01-02</th>\n",
       "      <td>1.204134</td>\n",
       "      <td>0.429446</td>\n",
       "      <td>1.580609</td>\n",
       "    </tr>\n",
       "    <tr>\n",
       "      <th>2000-01-03</th>\n",
       "      <td>-1.523974</td>\n",
       "      <td>-1.163261</td>\n",
       "      <td>0.748757</td>\n",
       "    </tr>\n",
       "    <tr>\n",
       "      <th>2000-01-04</th>\n",
       "      <td>1.657345</td>\n",
       "      <td>0.531942</td>\n",
       "      <td>2.156428</td>\n",
       "    </tr>\n",
       "    <tr>\n",
       "      <th>2000-01-05</th>\n",
       "      <td>-0.752988</td>\n",
       "      <td>0.010039</td>\n",
       "      <td>2.844673</td>\n",
       "    </tr>\n",
       "    <tr>\n",
       "      <th>2000-01-06</th>\n",
       "      <td>0.751757</td>\n",
       "      <td>0.520563</td>\n",
       "      <td>-0.704476</td>\n",
       "    </tr>\n",
       "    <tr>\n",
       "      <th>2000-01-07</th>\n",
       "      <td>0.058400</td>\n",
       "      <td>-0.423074</td>\n",
       "      <td>0.202966</td>\n",
       "    </tr>\n",
       "    <tr>\n",
       "      <th>2000-01-08</th>\n",
       "      <td>-0.463587</td>\n",
       "      <td>-0.195046</td>\n",
       "      <td>0.413324</td>\n",
       "    </tr>\n",
       "  </tbody>\n",
       "</table>\n",
       "</div>"
      ],
      "text/plain": [
       "                   a         b         c\n",
       "2000-01-01 -0.877025  0.578100 -0.495682\n",
       "2000-01-02  1.204134  0.429446  1.580609\n",
       "2000-01-03 -1.523974 -1.163261  0.748757\n",
       "2000-01-04  1.657345  0.531942  2.156428\n",
       "2000-01-05 -0.752988  0.010039  2.844673\n",
       "2000-01-06  0.751757  0.520563 -0.704476\n",
       "2000-01-07  0.058400 -0.423074  0.202966\n",
       "2000-01-08 -0.463587 -0.195046  0.413324"
      ]
     },
     "execution_count": 26,
     "metadata": {},
     "output_type": "execute_result"
    }
   ],
   "source": [
    "df"
   ]
  },
  {
   "cell_type": "markdown",
   "metadata": {},
   "source": [
    "如果想得到原始数据，可以使用.values属性，series将返回一维数组，DataFrame将返回二维数组"
   ]
  },
  {
   "cell_type": "code",
   "execution_count": 28,
   "metadata": {},
   "outputs": [
    {
     "data": {
      "text/plain": [
       "array([ 2.33010968,  1.90139661,  1.47269255,  0.94138611, -1.61930089])"
      ]
     },
     "execution_count": 28,
     "metadata": {},
     "output_type": "execute_result"
    }
   ],
   "source": [
    "s.values"
   ]
  },
  {
   "cell_type": "code",
   "execution_count": 29,
   "metadata": {},
   "outputs": [
    {
     "data": {
      "text/plain": [
       "array([[-0.87702538,  0.57810001, -0.4956819 ],\n",
       "       [ 1.20413361,  0.42944628,  1.58060931],\n",
       "       [-1.52397427, -1.16326057,  0.74875732],\n",
       "       [ 1.65734524,  0.53194187,  2.15642801],\n",
       "       [-0.75298771,  0.01003886,  2.84467262],\n",
       "       [ 0.75175663,  0.52056256, -0.70447635],\n",
       "       [ 0.05840006, -0.42307393,  0.20296612],\n",
       "       [-0.46358734, -0.19504564,  0.41332373]])"
      ]
     },
     "execution_count": 29,
     "metadata": {},
     "output_type": "execute_result"
    }
   ],
   "source": [
    "df.values"
   ]
  },
  {
   "cell_type": "markdown",
   "metadata": {},
   "source": [
    " ### 算术运算中的广播"
   ]
  },
  {
   "cell_type": "code",
   "execution_count": 30,
   "metadata": {},
   "outputs": [],
   "source": [
    "df = pd.DataFrame({'one' : pd.Series(np.random.randn(3), index=['a', 'b', 'c']),\n",
    "                   'two' : pd.Series(np.random.randn(4), index=['a', 'b', 'c', 'd']),\n",
    "                   'three' : pd.Series(np.random.randn(3), index=['b', 'c', 'd'])})\n",
    "  "
   ]
  },
  {
   "cell_type": "code",
   "execution_count": 34,
   "metadata": {},
   "outputs": [
    {
     "data": {
      "text/html": [
       "<div>\n",
       "<style scoped>\n",
       "    .dataframe tbody tr th:only-of-type {\n",
       "        vertical-align: middle;\n",
       "    }\n",
       "\n",
       "    .dataframe tbody tr th {\n",
       "        vertical-align: top;\n",
       "    }\n",
       "\n",
       "    .dataframe thead th {\n",
       "        text-align: right;\n",
       "    }\n",
       "</style>\n",
       "<table border=\"1\" class=\"dataframe\">\n",
       "  <thead>\n",
       "    <tr style=\"text-align: right;\">\n",
       "      <th></th>\n",
       "      <th>one</th>\n",
       "      <th>two</th>\n",
       "      <th>three</th>\n",
       "    </tr>\n",
       "  </thead>\n",
       "  <tbody>\n",
       "    <tr>\n",
       "      <th>a</th>\n",
       "      <td>-2.058637</td>\n",
       "      <td>-1.356699</td>\n",
       "      <td>NaN</td>\n",
       "    </tr>\n",
       "    <tr>\n",
       "      <th>b</th>\n",
       "      <td>0.204574</td>\n",
       "      <td>-1.938237</td>\n",
       "      <td>-0.115592</td>\n",
       "    </tr>\n",
       "    <tr>\n",
       "      <th>c</th>\n",
       "      <td>0.463307</td>\n",
       "      <td>-0.099773</td>\n",
       "      <td>1.338462</td>\n",
       "    </tr>\n",
       "    <tr>\n",
       "      <th>d</th>\n",
       "      <td>NaN</td>\n",
       "      <td>1.380254</td>\n",
       "      <td>-0.068492</td>\n",
       "    </tr>\n",
       "  </tbody>\n",
       "</table>\n",
       "</div>"
      ],
      "text/plain": [
       "        one       two     three\n",
       "a -2.058637 -1.356699       NaN\n",
       "b  0.204574 -1.938237 -0.115592\n",
       "c  0.463307 -0.099773  1.338462\n",
       "d       NaN  1.380254 -0.068492"
      ]
     },
     "execution_count": 34,
     "metadata": {},
     "output_type": "execute_result"
    }
   ],
   "source": [
    "df"
   ]
  },
  {
   "cell_type": "code",
   "execution_count": 35,
   "metadata": {},
   "outputs": [],
   "source": [
    "row = df.iloc[1]"
   ]
  },
  {
   "cell_type": "code",
   "execution_count": 36,
   "metadata": {},
   "outputs": [
    {
     "data": {
      "text/plain": [
       "one      0.204574\n",
       "two     -1.938237\n",
       "three   -0.115592\n",
       "Name: b, dtype: float64"
      ]
     },
     "execution_count": 36,
     "metadata": {},
     "output_type": "execute_result"
    }
   ],
   "source": [
    "row"
   ]
  },
  {
   "cell_type": "code",
   "execution_count": 37,
   "metadata": {},
   "outputs": [],
   "source": [
    "column = df['two']"
   ]
  },
  {
   "cell_type": "code",
   "execution_count": 38,
   "metadata": {},
   "outputs": [
    {
     "data": {
      "text/plain": [
       "a   -1.356699\n",
       "b   -1.938237\n",
       "c   -0.099773\n",
       "d    1.380254\n",
       "Name: two, dtype: float64"
      ]
     },
     "execution_count": 38,
     "metadata": {},
     "output_type": "execute_result"
    }
   ],
   "source": [
    "column"
   ]
  },
  {
   "cell_type": "code",
   "execution_count": 39,
   "metadata": {},
   "outputs": [
    {
     "data": {
      "text/html": [
       "<div>\n",
       "<style scoped>\n",
       "    .dataframe tbody tr th:only-of-type {\n",
       "        vertical-align: middle;\n",
       "    }\n",
       "\n",
       "    .dataframe tbody tr th {\n",
       "        vertical-align: top;\n",
       "    }\n",
       "\n",
       "    .dataframe thead th {\n",
       "        text-align: right;\n",
       "    }\n",
       "</style>\n",
       "<table border=\"1\" class=\"dataframe\">\n",
       "  <thead>\n",
       "    <tr style=\"text-align: right;\">\n",
       "      <th></th>\n",
       "      <th>one</th>\n",
       "      <th>two</th>\n",
       "      <th>three</th>\n",
       "    </tr>\n",
       "  </thead>\n",
       "  <tbody>\n",
       "    <tr>\n",
       "      <th>a</th>\n",
       "      <td>-2.263211</td>\n",
       "      <td>0.581538</td>\n",
       "      <td>NaN</td>\n",
       "    </tr>\n",
       "    <tr>\n",
       "      <th>b</th>\n",
       "      <td>0.000000</td>\n",
       "      <td>0.000000</td>\n",
       "      <td>0.000000</td>\n",
       "    </tr>\n",
       "    <tr>\n",
       "      <th>c</th>\n",
       "      <td>0.258733</td>\n",
       "      <td>1.838464</td>\n",
       "      <td>1.454053</td>\n",
       "    </tr>\n",
       "    <tr>\n",
       "      <th>d</th>\n",
       "      <td>NaN</td>\n",
       "      <td>3.318491</td>\n",
       "      <td>0.047100</td>\n",
       "    </tr>\n",
       "  </tbody>\n",
       "</table>\n",
       "</div>"
      ],
      "text/plain": [
       "        one       two     three\n",
       "a -2.263211  0.581538       NaN\n",
       "b  0.000000  0.000000  0.000000\n",
       "c  0.258733  1.838464  1.454053\n",
       "d       NaN  3.318491  0.047100"
      ]
     },
     "execution_count": 39,
     "metadata": {},
     "output_type": "execute_result"
    }
   ],
   "source": [
    "df.sub(row, axis='columns')"
   ]
  },
  {
   "cell_type": "code",
   "execution_count": 40,
   "metadata": {},
   "outputs": [
    {
     "data": {
      "text/html": [
       "<div>\n",
       "<style scoped>\n",
       "    .dataframe tbody tr th:only-of-type {\n",
       "        vertical-align: middle;\n",
       "    }\n",
       "\n",
       "    .dataframe tbody tr th {\n",
       "        vertical-align: top;\n",
       "    }\n",
       "\n",
       "    .dataframe thead th {\n",
       "        text-align: right;\n",
       "    }\n",
       "</style>\n",
       "<table border=\"1\" class=\"dataframe\">\n",
       "  <thead>\n",
       "    <tr style=\"text-align: right;\">\n",
       "      <th></th>\n",
       "      <th>one</th>\n",
       "      <th>two</th>\n",
       "      <th>three</th>\n",
       "    </tr>\n",
       "  </thead>\n",
       "  <tbody>\n",
       "    <tr>\n",
       "      <th>a</th>\n",
       "      <td>-2.263211</td>\n",
       "      <td>0.581538</td>\n",
       "      <td>NaN</td>\n",
       "    </tr>\n",
       "    <tr>\n",
       "      <th>b</th>\n",
       "      <td>0.000000</td>\n",
       "      <td>0.000000</td>\n",
       "      <td>0.000000</td>\n",
       "    </tr>\n",
       "    <tr>\n",
       "      <th>c</th>\n",
       "      <td>0.258733</td>\n",
       "      <td>1.838464</td>\n",
       "      <td>1.454053</td>\n",
       "    </tr>\n",
       "    <tr>\n",
       "      <th>d</th>\n",
       "      <td>NaN</td>\n",
       "      <td>3.318491</td>\n",
       "      <td>0.047100</td>\n",
       "    </tr>\n",
       "  </tbody>\n",
       "</table>\n",
       "</div>"
      ],
      "text/plain": [
       "        one       two     three\n",
       "a -2.263211  0.581538       NaN\n",
       "b  0.000000  0.000000  0.000000\n",
       "c  0.258733  1.838464  1.454053\n",
       "d       NaN  3.318491  0.047100"
      ]
     },
     "execution_count": 40,
     "metadata": {},
     "output_type": "execute_result"
    }
   ],
   "source": [
    "df.sub(row, axis=1)"
   ]
  },
  {
   "cell_type": "code",
   "execution_count": 41,
   "metadata": {},
   "outputs": [
    {
     "data": {
      "text/html": [
       "<div>\n",
       "<style scoped>\n",
       "    .dataframe tbody tr th:only-of-type {\n",
       "        vertical-align: middle;\n",
       "    }\n",
       "\n",
       "    .dataframe tbody tr th {\n",
       "        vertical-align: top;\n",
       "    }\n",
       "\n",
       "    .dataframe thead th {\n",
       "        text-align: right;\n",
       "    }\n",
       "</style>\n",
       "<table border=\"1\" class=\"dataframe\">\n",
       "  <thead>\n",
       "    <tr style=\"text-align: right;\">\n",
       "      <th></th>\n",
       "      <th>one</th>\n",
       "      <th>two</th>\n",
       "      <th>three</th>\n",
       "    </tr>\n",
       "  </thead>\n",
       "  <tbody>\n",
       "    <tr>\n",
       "      <th>a</th>\n",
       "      <td>-0.701938</td>\n",
       "      <td>0.0</td>\n",
       "      <td>NaN</td>\n",
       "    </tr>\n",
       "    <tr>\n",
       "      <th>b</th>\n",
       "      <td>2.142811</td>\n",
       "      <td>0.0</td>\n",
       "      <td>1.822646</td>\n",
       "    </tr>\n",
       "    <tr>\n",
       "      <th>c</th>\n",
       "      <td>0.563080</td>\n",
       "      <td>0.0</td>\n",
       "      <td>1.438235</td>\n",
       "    </tr>\n",
       "    <tr>\n",
       "      <th>d</th>\n",
       "      <td>NaN</td>\n",
       "      <td>0.0</td>\n",
       "      <td>-1.448746</td>\n",
       "    </tr>\n",
       "  </tbody>\n",
       "</table>\n",
       "</div>"
      ],
      "text/plain": [
       "        one  two     three\n",
       "a -0.701938  0.0       NaN\n",
       "b  2.142811  0.0  1.822646\n",
       "c  0.563080  0.0  1.438235\n",
       "d       NaN  0.0 -1.448746"
      ]
     },
     "execution_count": 41,
     "metadata": {},
     "output_type": "execute_result"
    }
   ],
   "source": [
    "df.sub(column, axis='index')"
   ]
  },
  {
   "cell_type": "code",
   "execution_count": 42,
   "metadata": {},
   "outputs": [
    {
     "data": {
      "text/html": [
       "<div>\n",
       "<style scoped>\n",
       "    .dataframe tbody tr th:only-of-type {\n",
       "        vertical-align: middle;\n",
       "    }\n",
       "\n",
       "    .dataframe tbody tr th {\n",
       "        vertical-align: top;\n",
       "    }\n",
       "\n",
       "    .dataframe thead th {\n",
       "        text-align: right;\n",
       "    }\n",
       "</style>\n",
       "<table border=\"1\" class=\"dataframe\">\n",
       "  <thead>\n",
       "    <tr style=\"text-align: right;\">\n",
       "      <th></th>\n",
       "      <th>one</th>\n",
       "      <th>two</th>\n",
       "      <th>three</th>\n",
       "    </tr>\n",
       "  </thead>\n",
       "  <tbody>\n",
       "    <tr>\n",
       "      <th>a</th>\n",
       "      <td>-0.701938</td>\n",
       "      <td>0.0</td>\n",
       "      <td>NaN</td>\n",
       "    </tr>\n",
       "    <tr>\n",
       "      <th>b</th>\n",
       "      <td>2.142811</td>\n",
       "      <td>0.0</td>\n",
       "      <td>1.822646</td>\n",
       "    </tr>\n",
       "    <tr>\n",
       "      <th>c</th>\n",
       "      <td>0.563080</td>\n",
       "      <td>0.0</td>\n",
       "      <td>1.438235</td>\n",
       "    </tr>\n",
       "    <tr>\n",
       "      <th>d</th>\n",
       "      <td>NaN</td>\n",
       "      <td>0.0</td>\n",
       "      <td>-1.448746</td>\n",
       "    </tr>\n",
       "  </tbody>\n",
       "</table>\n",
       "</div>"
      ],
      "text/plain": [
       "        one  two     three\n",
       "a -0.701938  0.0       NaN\n",
       "b  2.142811  0.0  1.822646\n",
       "c  0.563080  0.0  1.438235\n",
       "d       NaN  0.0 -1.448746"
      ]
     },
     "execution_count": 42,
     "metadata": {},
     "output_type": "execute_result"
    }
   ],
   "source": [
    "df.sub(column, axis=0)"
   ]
  },
  {
   "cell_type": "markdown",
   "metadata": {},
   "source": [
    "在Series和DataFrame的算术函数可以选择输入fill_value，即当缺少某个位置的一个值时要替换的值。例如，在添加两个DataFrame对象时，可能希望将NaN视为0，除非两个DataFrame都缺少该值，在这种情况下，结果将是NaN（fillna如果您愿意，您可以稍后使用其他值替换NaN ）。"
   ]
  },
  {
   "cell_type": "code",
   "execution_count": 43,
   "metadata": {},
   "outputs": [
    {
     "data": {
      "text/html": [
       "<div>\n",
       "<style scoped>\n",
       "    .dataframe tbody tr th:only-of-type {\n",
       "        vertical-align: middle;\n",
       "    }\n",
       "\n",
       "    .dataframe tbody tr th {\n",
       "        vertical-align: top;\n",
       "    }\n",
       "\n",
       "    .dataframe thead th {\n",
       "        text-align: right;\n",
       "    }\n",
       "</style>\n",
       "<table border=\"1\" class=\"dataframe\">\n",
       "  <thead>\n",
       "    <tr style=\"text-align: right;\">\n",
       "      <th></th>\n",
       "      <th>one</th>\n",
       "      <th>two</th>\n",
       "      <th>three</th>\n",
       "    </tr>\n",
       "  </thead>\n",
       "  <tbody>\n",
       "    <tr>\n",
       "      <th>a</th>\n",
       "      <td>-2.058637</td>\n",
       "      <td>-1.356699</td>\n",
       "      <td>NaN</td>\n",
       "    </tr>\n",
       "    <tr>\n",
       "      <th>b</th>\n",
       "      <td>0.204574</td>\n",
       "      <td>-1.938237</td>\n",
       "      <td>-0.115592</td>\n",
       "    </tr>\n",
       "    <tr>\n",
       "      <th>c</th>\n",
       "      <td>0.463307</td>\n",
       "      <td>-0.099773</td>\n",
       "      <td>1.338462</td>\n",
       "    </tr>\n",
       "    <tr>\n",
       "      <th>d</th>\n",
       "      <td>NaN</td>\n",
       "      <td>1.380254</td>\n",
       "      <td>-0.068492</td>\n",
       "    </tr>\n",
       "  </tbody>\n",
       "</table>\n",
       "</div>"
      ],
      "text/plain": [
       "        one       two     three\n",
       "a -2.058637 -1.356699       NaN\n",
       "b  0.204574 -1.938237 -0.115592\n",
       "c  0.463307 -0.099773  1.338462\n",
       "d       NaN  1.380254 -0.068492"
      ]
     },
     "execution_count": 43,
     "metadata": {},
     "output_type": "execute_result"
    }
   ],
   "source": [
    "df"
   ]
  },
  {
   "cell_type": "code",
   "execution_count": 48,
   "metadata": {},
   "outputs": [
    {
     "data": {
      "text/html": [
       "<div>\n",
       "<style scoped>\n",
       "    .dataframe tbody tr th:only-of-type {\n",
       "        vertical-align: middle;\n",
       "    }\n",
       "\n",
       "    .dataframe tbody tr th {\n",
       "        vertical-align: top;\n",
       "    }\n",
       "\n",
       "    .dataframe thead th {\n",
       "        text-align: right;\n",
       "    }\n",
       "</style>\n",
       "<table border=\"1\" class=\"dataframe\">\n",
       "  <thead>\n",
       "    <tr style=\"text-align: right;\">\n",
       "      <th></th>\n",
       "      <th>one</th>\n",
       "      <th>two</th>\n",
       "      <th>three</th>\n",
       "    </tr>\n",
       "  </thead>\n",
       "  <tbody>\n",
       "    <tr>\n",
       "      <th>a</th>\n",
       "      <td>-2.058637</td>\n",
       "      <td>-1.356699</td>\n",
       "      <td>1.000000</td>\n",
       "    </tr>\n",
       "    <tr>\n",
       "      <th>b</th>\n",
       "      <td>0.204574</td>\n",
       "      <td>-1.938237</td>\n",
       "      <td>-0.115592</td>\n",
       "    </tr>\n",
       "    <tr>\n",
       "      <th>c</th>\n",
       "      <td>0.463307</td>\n",
       "      <td>-0.099773</td>\n",
       "      <td>1.338462</td>\n",
       "    </tr>\n",
       "    <tr>\n",
       "      <th>d</th>\n",
       "      <td>NaN</td>\n",
       "      <td>1.380254</td>\n",
       "      <td>-0.068492</td>\n",
       "    </tr>\n",
       "  </tbody>\n",
       "</table>\n",
       "</div>"
      ],
      "text/plain": [
       "        one       two     three\n",
       "a -2.058637 -1.356699  1.000000\n",
       "b  0.204574 -1.938237 -0.115592\n",
       "c  0.463307 -0.099773  1.338462\n",
       "d       NaN  1.380254 -0.068492"
      ]
     },
     "execution_count": 48,
     "metadata": {},
     "output_type": "execute_result"
    }
   ],
   "source": [
    "df2 = df.copy() # 注意一定要copy！！！\n",
    "df2.loc[\"a\", \"three\"] = 1\n",
    "df2"
   ]
  },
  {
   "cell_type": "code",
   "execution_count": 49,
   "metadata": {},
   "outputs": [
    {
     "data": {
      "text/html": [
       "<div>\n",
       "<style scoped>\n",
       "    .dataframe tbody tr th:only-of-type {\n",
       "        vertical-align: middle;\n",
       "    }\n",
       "\n",
       "    .dataframe tbody tr th {\n",
       "        vertical-align: top;\n",
       "    }\n",
       "\n",
       "    .dataframe thead th {\n",
       "        text-align: right;\n",
       "    }\n",
       "</style>\n",
       "<table border=\"1\" class=\"dataframe\">\n",
       "  <thead>\n",
       "    <tr style=\"text-align: right;\">\n",
       "      <th></th>\n",
       "      <th>one</th>\n",
       "      <th>two</th>\n",
       "      <th>three</th>\n",
       "    </tr>\n",
       "  </thead>\n",
       "  <tbody>\n",
       "    <tr>\n",
       "      <th>a</th>\n",
       "      <td>-4.117274</td>\n",
       "      <td>-2.713398</td>\n",
       "      <td>NaN</td>\n",
       "    </tr>\n",
       "    <tr>\n",
       "      <th>b</th>\n",
       "      <td>0.409147</td>\n",
       "      <td>-3.876475</td>\n",
       "      <td>-0.231184</td>\n",
       "    </tr>\n",
       "    <tr>\n",
       "      <th>c</th>\n",
       "      <td>0.926613</td>\n",
       "      <td>-0.199546</td>\n",
       "      <td>2.676923</td>\n",
       "    </tr>\n",
       "    <tr>\n",
       "      <th>d</th>\n",
       "      <td>NaN</td>\n",
       "      <td>2.760507</td>\n",
       "      <td>-0.136984</td>\n",
       "    </tr>\n",
       "  </tbody>\n",
       "</table>\n",
       "</div>"
      ],
      "text/plain": [
       "        one       two     three\n",
       "a -4.117274 -2.713398       NaN\n",
       "b  0.409147 -3.876475 -0.231184\n",
       "c  0.926613 -0.199546  2.676923\n",
       "d       NaN  2.760507 -0.136984"
      ]
     },
     "execution_count": 49,
     "metadata": {},
     "output_type": "execute_result"
    }
   ],
   "source": [
    "df + df2"
   ]
  },
  {
   "cell_type": "code",
   "execution_count": 50,
   "metadata": {},
   "outputs": [
    {
     "data": {
      "text/html": [
       "<div>\n",
       "<style scoped>\n",
       "    .dataframe tbody tr th:only-of-type {\n",
       "        vertical-align: middle;\n",
       "    }\n",
       "\n",
       "    .dataframe tbody tr th {\n",
       "        vertical-align: top;\n",
       "    }\n",
       "\n",
       "    .dataframe thead th {\n",
       "        text-align: right;\n",
       "    }\n",
       "</style>\n",
       "<table border=\"1\" class=\"dataframe\">\n",
       "  <thead>\n",
       "    <tr style=\"text-align: right;\">\n",
       "      <th></th>\n",
       "      <th>one</th>\n",
       "      <th>two</th>\n",
       "      <th>three</th>\n",
       "    </tr>\n",
       "  </thead>\n",
       "  <tbody>\n",
       "    <tr>\n",
       "      <th>a</th>\n",
       "      <td>-4.117274</td>\n",
       "      <td>-2.713398</td>\n",
       "      <td>1.000000</td>\n",
       "    </tr>\n",
       "    <tr>\n",
       "      <th>b</th>\n",
       "      <td>0.409147</td>\n",
       "      <td>-3.876475</td>\n",
       "      <td>-0.231184</td>\n",
       "    </tr>\n",
       "    <tr>\n",
       "      <th>c</th>\n",
       "      <td>0.926613</td>\n",
       "      <td>-0.199546</td>\n",
       "      <td>2.676923</td>\n",
       "    </tr>\n",
       "    <tr>\n",
       "      <th>d</th>\n",
       "      <td>NaN</td>\n",
       "      <td>2.760507</td>\n",
       "      <td>-0.136984</td>\n",
       "    </tr>\n",
       "  </tbody>\n",
       "</table>\n",
       "</div>"
      ],
      "text/plain": [
       "        one       two     three\n",
       "a -4.117274 -2.713398  1.000000\n",
       "b  0.409147 -3.876475 -0.231184\n",
       "c  0.926613 -0.199546  2.676923\n",
       "d       NaN  2.760507 -0.136984"
      ]
     },
     "execution_count": 50,
     "metadata": {},
     "output_type": "execute_result"
    }
   ],
   "source": [
    "df.add(df2, fill_value=0)"
   ]
  },
  {
   "cell_type": "markdown",
   "metadata": {},
   "source": [
    "\\> < >= <= == != 对应的函数分别是 gt lt ge le eq ne不加赘述"
   ]
  },
  {
   "cell_type": "markdown",
   "metadata": {},
   "source": [
    "### 布尔缩减"
   ]
  },
  {
   "cell_type": "code",
   "execution_count": 52,
   "metadata": {},
   "outputs": [],
   "source": [
    "tmp_bool = df > 0"
   ]
  },
  {
   "cell_type": "code",
   "execution_count": 53,
   "metadata": {},
   "outputs": [
    {
     "data": {
      "text/html": [
       "<div>\n",
       "<style scoped>\n",
       "    .dataframe tbody tr th:only-of-type {\n",
       "        vertical-align: middle;\n",
       "    }\n",
       "\n",
       "    .dataframe tbody tr th {\n",
       "        vertical-align: top;\n",
       "    }\n",
       "\n",
       "    .dataframe thead th {\n",
       "        text-align: right;\n",
       "    }\n",
       "</style>\n",
       "<table border=\"1\" class=\"dataframe\">\n",
       "  <thead>\n",
       "    <tr style=\"text-align: right;\">\n",
       "      <th></th>\n",
       "      <th>one</th>\n",
       "      <th>two</th>\n",
       "      <th>three</th>\n",
       "    </tr>\n",
       "  </thead>\n",
       "  <tbody>\n",
       "    <tr>\n",
       "      <th>a</th>\n",
       "      <td>False</td>\n",
       "      <td>False</td>\n",
       "      <td>False</td>\n",
       "    </tr>\n",
       "    <tr>\n",
       "      <th>b</th>\n",
       "      <td>True</td>\n",
       "      <td>False</td>\n",
       "      <td>False</td>\n",
       "    </tr>\n",
       "    <tr>\n",
       "      <th>c</th>\n",
       "      <td>True</td>\n",
       "      <td>False</td>\n",
       "      <td>True</td>\n",
       "    </tr>\n",
       "    <tr>\n",
       "      <th>d</th>\n",
       "      <td>False</td>\n",
       "      <td>True</td>\n",
       "      <td>False</td>\n",
       "    </tr>\n",
       "  </tbody>\n",
       "</table>\n",
       "</div>"
      ],
      "text/plain": [
       "     one    two  three\n",
       "a  False  False  False\n",
       "b   True  False  False\n",
       "c   True  False   True\n",
       "d  False   True  False"
      ]
     },
     "execution_count": 53,
     "metadata": {},
     "output_type": "execute_result"
    }
   ],
   "source": [
    "tmp_bool"
   ]
  },
  {
   "cell_type": "code",
   "execution_count": 54,
   "metadata": {},
   "outputs": [
    {
     "data": {
      "text/plain": [
       "one      False\n",
       "two      False\n",
       "three    False\n",
       "dtype: bool"
      ]
     },
     "execution_count": 54,
     "metadata": {},
     "output_type": "execute_result"
    }
   ],
   "source": [
    "tmp_bool.all(axis=0)"
   ]
  },
  {
   "cell_type": "code",
   "execution_count": 55,
   "metadata": {},
   "outputs": [
    {
     "data": {
      "text/plain": [
       "a    False\n",
       "b    False\n",
       "c    False\n",
       "d    False\n",
       "dtype: bool"
      ]
     },
     "execution_count": 55,
     "metadata": {},
     "output_type": "execute_result"
    }
   ],
   "source": [
    "tmp_bool.all(axis=1)"
   ]
  },
  {
   "cell_type": "code",
   "execution_count": 56,
   "metadata": {},
   "outputs": [
    {
     "data": {
      "text/plain": [
       "False"
      ]
     },
     "execution_count": 56,
     "metadata": {},
     "output_type": "execute_result"
    }
   ],
   "source": [
    "tmp_bool.all(axis=None)"
   ]
  },
  {
   "cell_type": "code",
   "execution_count": 57,
   "metadata": {},
   "outputs": [
    {
     "data": {
      "text/plain": [
       "one      True\n",
       "two      True\n",
       "three    True\n",
       "dtype: bool"
      ]
     },
     "execution_count": 57,
     "metadata": {},
     "output_type": "execute_result"
    }
   ],
   "source": [
    "tmp_bool.any(axis=0)"
   ]
  },
  {
   "cell_type": "code",
   "execution_count": 58,
   "metadata": {},
   "outputs": [
    {
     "data": {
      "text/plain": [
       "a    False\n",
       "b     True\n",
       "c     True\n",
       "d     True\n",
       "dtype: bool"
      ]
     },
     "execution_count": 58,
     "metadata": {},
     "output_type": "execute_result"
    }
   ],
   "source": [
    "tmp_bool.any(axis=1)"
   ]
  },
  {
   "cell_type": "code",
   "execution_count": 59,
   "metadata": {},
   "outputs": [
    {
     "data": {
      "text/plain": [
       "True"
      ]
     },
     "execution_count": 59,
     "metadata": {},
     "output_type": "execute_result"
    }
   ],
   "source": [
    "tmp_bool.any(axis=None)"
   ]
  },
  {
   "cell_type": "markdown",
   "metadata": {},
   "source": [
    "可以通过empty属性测试pandas对象是否为空。"
   ]
  },
  {
   "cell_type": "code",
   "execution_count": 60,
   "metadata": {},
   "outputs": [
    {
     "data": {
      "text/html": [
       "<div>\n",
       "<style scoped>\n",
       "    .dataframe tbody tr th:only-of-type {\n",
       "        vertical-align: middle;\n",
       "    }\n",
       "\n",
       "    .dataframe tbody tr th {\n",
       "        vertical-align: top;\n",
       "    }\n",
       "\n",
       "    .dataframe thead th {\n",
       "        text-align: right;\n",
       "    }\n",
       "</style>\n",
       "<table border=\"1\" class=\"dataframe\">\n",
       "  <thead>\n",
       "    <tr style=\"text-align: right;\">\n",
       "      <th></th>\n",
       "      <th>one</th>\n",
       "      <th>two</th>\n",
       "      <th>three</th>\n",
       "    </tr>\n",
       "  </thead>\n",
       "  <tbody>\n",
       "    <tr>\n",
       "      <th>a</th>\n",
       "      <td>-2.058637</td>\n",
       "      <td>-1.356699</td>\n",
       "      <td>NaN</td>\n",
       "    </tr>\n",
       "    <tr>\n",
       "      <th>b</th>\n",
       "      <td>0.204574</td>\n",
       "      <td>-1.938237</td>\n",
       "      <td>-0.115592</td>\n",
       "    </tr>\n",
       "    <tr>\n",
       "      <th>c</th>\n",
       "      <td>0.463307</td>\n",
       "      <td>-0.099773</td>\n",
       "      <td>1.338462</td>\n",
       "    </tr>\n",
       "    <tr>\n",
       "      <th>d</th>\n",
       "      <td>NaN</td>\n",
       "      <td>1.380254</td>\n",
       "      <td>-0.068492</td>\n",
       "    </tr>\n",
       "  </tbody>\n",
       "</table>\n",
       "</div>"
      ],
      "text/plain": [
       "        one       two     three\n",
       "a -2.058637 -1.356699       NaN\n",
       "b  0.204574 -1.938237 -0.115592\n",
       "c  0.463307 -0.099773  1.338462\n",
       "d       NaN  1.380254 -0.068492"
      ]
     },
     "execution_count": 60,
     "metadata": {},
     "output_type": "execute_result"
    }
   ],
   "source": [
    "df"
   ]
  },
  {
   "cell_type": "code",
   "execution_count": 61,
   "metadata": {},
   "outputs": [
    {
     "data": {
      "text/plain": [
       "False"
      ]
     },
     "execution_count": 61,
     "metadata": {},
     "output_type": "execute_result"
    }
   ],
   "source": [
    "df.empty"
   ]
  },
  {
   "cell_type": "code",
   "execution_count": 62,
   "metadata": {},
   "outputs": [],
   "source": [
    "df2 = pd.DataFrame(columns=list('ABC'))"
   ]
  },
  {
   "cell_type": "code",
   "execution_count": 63,
   "metadata": {},
   "outputs": [
    {
     "data": {
      "text/html": [
       "<div>\n",
       "<style scoped>\n",
       "    .dataframe tbody tr th:only-of-type {\n",
       "        vertical-align: middle;\n",
       "    }\n",
       "\n",
       "    .dataframe tbody tr th {\n",
       "        vertical-align: top;\n",
       "    }\n",
       "\n",
       "    .dataframe thead th {\n",
       "        text-align: right;\n",
       "    }\n",
       "</style>\n",
       "<table border=\"1\" class=\"dataframe\">\n",
       "  <thead>\n",
       "    <tr style=\"text-align: right;\">\n",
       "      <th></th>\n",
       "      <th>A</th>\n",
       "      <th>B</th>\n",
       "      <th>C</th>\n",
       "    </tr>\n",
       "  </thead>\n",
       "  <tbody>\n",
       "  </tbody>\n",
       "</table>\n",
       "</div>"
      ],
      "text/plain": [
       "Empty DataFrame\n",
       "Columns: [A, B, C]\n",
       "Index: []"
      ]
     },
     "execution_count": 63,
     "metadata": {},
     "output_type": "execute_result"
    }
   ],
   "source": [
    "df2"
   ]
  },
  {
   "cell_type": "code",
   "execution_count": 64,
   "metadata": {},
   "outputs": [
    {
     "data": {
      "text/plain": [
       "True"
      ]
     },
     "execution_count": 64,
     "metadata": {},
     "output_type": "execute_result"
    }
   ],
   "source": [
    "df2.empty"
   ]
  },
  {
   "cell_type": "markdown",
   "metadata": {},
   "source": [
    "### 比较对象是否相等"
   ]
  },
  {
   "cell_type": "code",
   "execution_count": 65,
   "metadata": {},
   "outputs": [
    {
     "data": {
      "text/html": [
       "<div>\n",
       "<style scoped>\n",
       "    .dataframe tbody tr th:only-of-type {\n",
       "        vertical-align: middle;\n",
       "    }\n",
       "\n",
       "    .dataframe tbody tr th {\n",
       "        vertical-align: top;\n",
       "    }\n",
       "\n",
       "    .dataframe thead th {\n",
       "        text-align: right;\n",
       "    }\n",
       "</style>\n",
       "<table border=\"1\" class=\"dataframe\">\n",
       "  <thead>\n",
       "    <tr style=\"text-align: right;\">\n",
       "      <th></th>\n",
       "      <th>one</th>\n",
       "      <th>two</th>\n",
       "      <th>three</th>\n",
       "    </tr>\n",
       "  </thead>\n",
       "  <tbody>\n",
       "    <tr>\n",
       "      <th>a</th>\n",
       "      <td>-2.058637</td>\n",
       "      <td>-1.356699</td>\n",
       "      <td>NaN</td>\n",
       "    </tr>\n",
       "    <tr>\n",
       "      <th>b</th>\n",
       "      <td>0.204574</td>\n",
       "      <td>-1.938237</td>\n",
       "      <td>-0.115592</td>\n",
       "    </tr>\n",
       "    <tr>\n",
       "      <th>c</th>\n",
       "      <td>0.463307</td>\n",
       "      <td>-0.099773</td>\n",
       "      <td>1.338462</td>\n",
       "    </tr>\n",
       "    <tr>\n",
       "      <th>d</th>\n",
       "      <td>NaN</td>\n",
       "      <td>1.380254</td>\n",
       "      <td>-0.068492</td>\n",
       "    </tr>\n",
       "  </tbody>\n",
       "</table>\n",
       "</div>"
      ],
      "text/plain": [
       "        one       two     three\n",
       "a -2.058637 -1.356699       NaN\n",
       "b  0.204574 -1.938237 -0.115592\n",
       "c  0.463307 -0.099773  1.338462\n",
       "d       NaN  1.380254 -0.068492"
      ]
     },
     "execution_count": 65,
     "metadata": {},
     "output_type": "execute_result"
    }
   ],
   "source": [
    "df"
   ]
  },
  {
   "cell_type": "code",
   "execution_count": 66,
   "metadata": {},
   "outputs": [
    {
     "data": {
      "text/html": [
       "<div>\n",
       "<style scoped>\n",
       "    .dataframe tbody tr th:only-of-type {\n",
       "        vertical-align: middle;\n",
       "    }\n",
       "\n",
       "    .dataframe tbody tr th {\n",
       "        vertical-align: top;\n",
       "    }\n",
       "\n",
       "    .dataframe thead th {\n",
       "        text-align: right;\n",
       "    }\n",
       "</style>\n",
       "<table border=\"1\" class=\"dataframe\">\n",
       "  <thead>\n",
       "    <tr style=\"text-align: right;\">\n",
       "      <th></th>\n",
       "      <th>one</th>\n",
       "      <th>two</th>\n",
       "      <th>three</th>\n",
       "    </tr>\n",
       "  </thead>\n",
       "  <tbody>\n",
       "    <tr>\n",
       "      <th>a</th>\n",
       "      <td>-4.117274</td>\n",
       "      <td>-2.713398</td>\n",
       "      <td>NaN</td>\n",
       "    </tr>\n",
       "    <tr>\n",
       "      <th>b</th>\n",
       "      <td>0.409147</td>\n",
       "      <td>-3.876475</td>\n",
       "      <td>-0.231184</td>\n",
       "    </tr>\n",
       "    <tr>\n",
       "      <th>c</th>\n",
       "      <td>0.926613</td>\n",
       "      <td>-0.199546</td>\n",
       "      <td>2.676923</td>\n",
       "    </tr>\n",
       "    <tr>\n",
       "      <th>d</th>\n",
       "      <td>NaN</td>\n",
       "      <td>2.760507</td>\n",
       "      <td>-0.136984</td>\n",
       "    </tr>\n",
       "  </tbody>\n",
       "</table>\n",
       "</div>"
      ],
      "text/plain": [
       "        one       two     three\n",
       "a -4.117274 -2.713398       NaN\n",
       "b  0.409147 -3.876475 -0.231184\n",
       "c  0.926613 -0.199546  2.676923\n",
       "d       NaN  2.760507 -0.136984"
      ]
     },
     "execution_count": 66,
     "metadata": {},
     "output_type": "execute_result"
    }
   ],
   "source": [
    "df + df"
   ]
  },
  {
   "cell_type": "code",
   "execution_count": 67,
   "metadata": {},
   "outputs": [
    {
     "data": {
      "text/html": [
       "<div>\n",
       "<style scoped>\n",
       "    .dataframe tbody tr th:only-of-type {\n",
       "        vertical-align: middle;\n",
       "    }\n",
       "\n",
       "    .dataframe tbody tr th {\n",
       "        vertical-align: top;\n",
       "    }\n",
       "\n",
       "    .dataframe thead th {\n",
       "        text-align: right;\n",
       "    }\n",
       "</style>\n",
       "<table border=\"1\" class=\"dataframe\">\n",
       "  <thead>\n",
       "    <tr style=\"text-align: right;\">\n",
       "      <th></th>\n",
       "      <th>one</th>\n",
       "      <th>two</th>\n",
       "      <th>three</th>\n",
       "    </tr>\n",
       "  </thead>\n",
       "  <tbody>\n",
       "    <tr>\n",
       "      <th>a</th>\n",
       "      <td>-4.117274</td>\n",
       "      <td>-2.713398</td>\n",
       "      <td>NaN</td>\n",
       "    </tr>\n",
       "    <tr>\n",
       "      <th>b</th>\n",
       "      <td>0.409147</td>\n",
       "      <td>-3.876475</td>\n",
       "      <td>-0.231184</td>\n",
       "    </tr>\n",
       "    <tr>\n",
       "      <th>c</th>\n",
       "      <td>0.926613</td>\n",
       "      <td>-0.199546</td>\n",
       "      <td>2.676923</td>\n",
       "    </tr>\n",
       "    <tr>\n",
       "      <th>d</th>\n",
       "      <td>NaN</td>\n",
       "      <td>2.760507</td>\n",
       "      <td>-0.136984</td>\n",
       "    </tr>\n",
       "  </tbody>\n",
       "</table>\n",
       "</div>"
      ],
      "text/plain": [
       "        one       two     three\n",
       "a -4.117274 -2.713398       NaN\n",
       "b  0.409147 -3.876475 -0.231184\n",
       "c  0.926613 -0.199546  2.676923\n",
       "d       NaN  2.760507 -0.136984"
      ]
     },
     "execution_count": 67,
     "metadata": {},
     "output_type": "execute_result"
    }
   ],
   "source": [
    "df*2"
   ]
  },
  {
   "cell_type": "code",
   "execution_count": 74,
   "metadata": {},
   "outputs": [
    {
     "data": {
      "text/html": [
       "<div>\n",
       "<style scoped>\n",
       "    .dataframe tbody tr th:only-of-type {\n",
       "        vertical-align: middle;\n",
       "    }\n",
       "\n",
       "    .dataframe tbody tr th {\n",
       "        vertical-align: top;\n",
       "    }\n",
       "\n",
       "    .dataframe thead th {\n",
       "        text-align: right;\n",
       "    }\n",
       "</style>\n",
       "<table border=\"1\" class=\"dataframe\">\n",
       "  <thead>\n",
       "    <tr style=\"text-align: right;\">\n",
       "      <th></th>\n",
       "      <th>one</th>\n",
       "      <th>two</th>\n",
       "      <th>three</th>\n",
       "    </tr>\n",
       "  </thead>\n",
       "  <tbody>\n",
       "    <tr>\n",
       "      <th>a</th>\n",
       "      <td>True</td>\n",
       "      <td>True</td>\n",
       "      <td>False</td>\n",
       "    </tr>\n",
       "    <tr>\n",
       "      <th>b</th>\n",
       "      <td>True</td>\n",
       "      <td>True</td>\n",
       "      <td>True</td>\n",
       "    </tr>\n",
       "    <tr>\n",
       "      <th>c</th>\n",
       "      <td>True</td>\n",
       "      <td>True</td>\n",
       "      <td>True</td>\n",
       "    </tr>\n",
       "    <tr>\n",
       "      <th>d</th>\n",
       "      <td>False</td>\n",
       "      <td>True</td>\n",
       "      <td>True</td>\n",
       "    </tr>\n",
       "  </tbody>\n",
       "</table>\n",
       "</div>"
      ],
      "text/plain": [
       "     one   two  three\n",
       "a   True  True  False\n",
       "b   True  True   True\n",
       "c   True  True   True\n",
       "d  False  True   True"
      ]
     },
     "execution_count": 74,
     "metadata": {},
     "output_type": "execute_result"
    }
   ],
   "source": [
    "df + df == df*2"
   ]
  },
  {
   "cell_type": "code",
   "execution_count": 75,
   "metadata": {},
   "outputs": [
    {
     "data": {
      "text/plain": [
       "False"
      ]
     },
     "execution_count": 75,
     "metadata": {},
     "output_type": "execute_result"
    }
   ],
   "source": [
    "(df + df == df*2).all(axis=None)"
   ]
  },
  {
   "cell_type": "markdown",
   "metadata": {},
   "source": [
    "为什么会出现False呢？因为nan不等于nan"
   ]
  },
  {
   "cell_type": "code",
   "execution_count": 71,
   "metadata": {},
   "outputs": [
    {
     "data": {
      "text/plain": [
       "False"
      ]
     },
     "execution_count": 71,
     "metadata": {},
     "output_type": "execute_result"
    }
   ],
   "source": [
    "np.nan == np.nan"
   ]
  },
  {
   "cell_type": "markdown",
   "metadata": {},
   "source": [
    "pandas提供了.equals方法，该方法比较的时候将nan视为相等"
   ]
  },
  {
   "cell_type": "code",
   "execution_count": 73,
   "metadata": {},
   "outputs": [
    {
     "data": {
      "text/plain": [
       "True"
      ]
     },
     "execution_count": 73,
     "metadata": {},
     "output_type": "execute_result"
    }
   ],
   "source": [
    "(df+df).equals(df*2)"
   ]
  },
  {
   "cell_type": "markdown",
   "metadata": {},
   "source": [
    "请注意，Series或DataFrame索引的顺序必须相同才能为True："
   ]
  },
  {
   "cell_type": "code",
   "execution_count": 76,
   "metadata": {},
   "outputs": [],
   "source": [
    "df1 = pd.DataFrame({'col':['foo', 0, np.nan]})"
   ]
  },
  {
   "cell_type": "code",
   "execution_count": 77,
   "metadata": {},
   "outputs": [
    {
     "data": {
      "text/html": [
       "<div>\n",
       "<style scoped>\n",
       "    .dataframe tbody tr th:only-of-type {\n",
       "        vertical-align: middle;\n",
       "    }\n",
       "\n",
       "    .dataframe tbody tr th {\n",
       "        vertical-align: top;\n",
       "    }\n",
       "\n",
       "    .dataframe thead th {\n",
       "        text-align: right;\n",
       "    }\n",
       "</style>\n",
       "<table border=\"1\" class=\"dataframe\">\n",
       "  <thead>\n",
       "    <tr style=\"text-align: right;\">\n",
       "      <th></th>\n",
       "      <th>col</th>\n",
       "    </tr>\n",
       "  </thead>\n",
       "  <tbody>\n",
       "    <tr>\n",
       "      <th>0</th>\n",
       "      <td>foo</td>\n",
       "    </tr>\n",
       "    <tr>\n",
       "      <th>1</th>\n",
       "      <td>0</td>\n",
       "    </tr>\n",
       "    <tr>\n",
       "      <th>2</th>\n",
       "      <td>NaN</td>\n",
       "    </tr>\n",
       "  </tbody>\n",
       "</table>\n",
       "</div>"
      ],
      "text/plain": [
       "   col\n",
       "0  foo\n",
       "1    0\n",
       "2  NaN"
      ]
     },
     "execution_count": 77,
     "metadata": {},
     "output_type": "execute_result"
    }
   ],
   "source": [
    "df1"
   ]
  },
  {
   "cell_type": "code",
   "execution_count": 78,
   "metadata": {},
   "outputs": [],
   "source": [
    "df2 = pd.DataFrame({'col':[np.nan, 0, 'foo']}, index=[2,1,0])"
   ]
  },
  {
   "cell_type": "code",
   "execution_count": 79,
   "metadata": {},
   "outputs": [
    {
     "data": {
      "text/html": [
       "<div>\n",
       "<style scoped>\n",
       "    .dataframe tbody tr th:only-of-type {\n",
       "        vertical-align: middle;\n",
       "    }\n",
       "\n",
       "    .dataframe tbody tr th {\n",
       "        vertical-align: top;\n",
       "    }\n",
       "\n",
       "    .dataframe thead th {\n",
       "        text-align: right;\n",
       "    }\n",
       "</style>\n",
       "<table border=\"1\" class=\"dataframe\">\n",
       "  <thead>\n",
       "    <tr style=\"text-align: right;\">\n",
       "      <th></th>\n",
       "      <th>col</th>\n",
       "    </tr>\n",
       "  </thead>\n",
       "  <tbody>\n",
       "    <tr>\n",
       "      <th>2</th>\n",
       "      <td>NaN</td>\n",
       "    </tr>\n",
       "    <tr>\n",
       "      <th>1</th>\n",
       "      <td>0</td>\n",
       "    </tr>\n",
       "    <tr>\n",
       "      <th>0</th>\n",
       "      <td>foo</td>\n",
       "    </tr>\n",
       "  </tbody>\n",
       "</table>\n",
       "</div>"
      ],
      "text/plain": [
       "   col\n",
       "2  NaN\n",
       "1    0\n",
       "0  foo"
      ]
     },
     "execution_count": 79,
     "metadata": {},
     "output_type": "execute_result"
    }
   ],
   "source": [
    "df2"
   ]
  },
  {
   "cell_type": "code",
   "execution_count": 80,
   "metadata": {},
   "outputs": [
    {
     "data": {
      "text/plain": [
       "False"
      ]
     },
     "execution_count": 80,
     "metadata": {},
     "output_type": "execute_result"
    }
   ],
   "source": [
    "df1.equals(df2)"
   ]
  },
  {
   "cell_type": "code",
   "execution_count": 81,
   "metadata": {},
   "outputs": [
    {
     "data": {
      "text/plain": [
       "True"
      ]
     },
     "execution_count": 81,
     "metadata": {},
     "output_type": "execute_result"
    }
   ],
   "source": [
    "df1.equals(df2.sort_index())"
   ]
  },
  {
   "cell_type": "markdown",
   "metadata": {},
   "source": [
    "### 与array_like对象的比较"
   ]
  },
  {
   "cell_type": "markdown",
   "metadata": {},
   "source": [
    "与数值的比较是非常简单的"
   ]
  },
  {
   "cell_type": "code",
   "execution_count": 83,
   "metadata": {},
   "outputs": [
    {
     "data": {
      "text/plain": [
       "0     True\n",
       "1    False\n",
       "2    False\n",
       "dtype: bool"
      ]
     },
     "execution_count": 83,
     "metadata": {},
     "output_type": "execute_result"
    }
   ],
   "source": [
    "pd.Series(['foo', 'bar', 'baz']) == 'foo'"
   ]
  },
  {
   "cell_type": "code",
   "execution_count": 87,
   "metadata": {},
   "outputs": [
    {
     "data": {
      "text/plain": [
       "array([ True, False, False])"
      ]
     },
     "execution_count": 87,
     "metadata": {},
     "output_type": "execute_result"
    }
   ],
   "source": [
    "pd.Index(['foo', 'bar', 'baz']) == 'foo'"
   ]
  },
  {
   "cell_type": "markdown",
   "metadata": {},
   "source": [
    "相同长度，不同类型的数据比较也是可以的"
   ]
  },
  {
   "cell_type": "code",
   "execution_count": 85,
   "metadata": {},
   "outputs": [
    {
     "data": {
      "text/plain": [
       "0     True\n",
       "1     True\n",
       "2    False\n",
       "dtype: bool"
      ]
     },
     "execution_count": 85,
     "metadata": {},
     "output_type": "execute_result"
    }
   ],
   "source": [
    " pd.Series(['foo', 'bar', 'baz']) == pd.Index(['foo', 'bar', 'qux'])"
   ]
  },
  {
   "cell_type": "code",
   "execution_count": 86,
   "metadata": {},
   "outputs": [
    {
     "data": {
      "text/plain": [
       "0     True\n",
       "1     True\n",
       "2    False\n",
       "dtype: bool"
      ]
     },
     "execution_count": 86,
     "metadata": {},
     "output_type": "execute_result"
    }
   ],
   "source": [
    "pd.Series(['foo', 'bar', 'baz']) == np.array(['foo', 'bar', 'qux'])"
   ]
  },
  {
   "cell_type": "code",
   "execution_count": null,
   "metadata": {},
   "outputs": [],
   "source": [
    "尝试比较不同长度的Index或Series对象将引发ValueError："
   ]
  },
  {
   "cell_type": "code",
   "execution_count": 90,
   "metadata": {},
   "outputs": [
    {
     "ename": "ValueError",
     "evalue": "Can only compare identically-labeled Series objects",
     "output_type": "error",
     "traceback": [
      "\u001b[1;31m---------------------------------------------------------------------------\u001b[0m",
      "\u001b[1;31mValueError\u001b[0m                                Traceback (most recent call last)",
      "\u001b[1;32m<ipython-input-90-93a189c0880c>\u001b[0m in \u001b[0;36m<module>\u001b[1;34m()\u001b[0m\n\u001b[1;32m----> 1\u001b[1;33m \u001b[0mpd\u001b[0m\u001b[1;33m.\u001b[0m\u001b[0mSeries\u001b[0m\u001b[1;33m(\u001b[0m\u001b[1;33m[\u001b[0m\u001b[1;34m'foo'\u001b[0m\u001b[1;33m,\u001b[0m \u001b[1;34m'bar'\u001b[0m\u001b[1;33m,\u001b[0m \u001b[1;34m'baz'\u001b[0m\u001b[1;33m]\u001b[0m\u001b[1;33m)\u001b[0m \u001b[1;33m==\u001b[0m \u001b[0mpd\u001b[0m\u001b[1;33m.\u001b[0m\u001b[0mSeries\u001b[0m\u001b[1;33m(\u001b[0m\u001b[1;33m[\u001b[0m\u001b[1;34m'foo'\u001b[0m\u001b[1;33m,\u001b[0m \u001b[1;34m'bar'\u001b[0m\u001b[1;33m]\u001b[0m\u001b[1;33m)\u001b[0m\u001b[1;33m\u001b[0m\u001b[0m\n\u001b[0m",
      "\u001b[1;32mD:\\IDE\\anaconda\\lib\\site-packages\\pandas\\core\\ops.py\u001b[0m in \u001b[0;36mwrapper\u001b[1;34m(self, other, axis)\u001b[0m\n\u001b[0;32m   1188\u001b[0m \u001b[1;33m\u001b[0m\u001b[0m\n\u001b[0;32m   1189\u001b[0m         \u001b[1;32melif\u001b[0m \u001b[0misinstance\u001b[0m\u001b[1;33m(\u001b[0m\u001b[0mother\u001b[0m\u001b[1;33m,\u001b[0m \u001b[0mABCSeries\u001b[0m\u001b[1;33m)\u001b[0m \u001b[1;32mand\u001b[0m \u001b[1;32mnot\u001b[0m \u001b[0mself\u001b[0m\u001b[1;33m.\u001b[0m\u001b[0m_indexed_same\u001b[0m\u001b[1;33m(\u001b[0m\u001b[0mother\u001b[0m\u001b[1;33m)\u001b[0m\u001b[1;33m:\u001b[0m\u001b[1;33m\u001b[0m\u001b[0m\n\u001b[1;32m-> 1190\u001b[1;33m             raise ValueError(\"Can only compare identically-labeled \"\n\u001b[0m\u001b[0;32m   1191\u001b[0m                              \"Series objects\")\n\u001b[0;32m   1192\u001b[0m \u001b[1;33m\u001b[0m\u001b[0m\n",
      "\u001b[1;31mValueError\u001b[0m: Can only compare identically-labeled Series objects"
     ]
    }
   ],
   "source": [
    " pd.Series(['foo', 'bar', 'baz']) == pd.Series(['foo', 'bar'])"
   ]
  },
  {
   "cell_type": "code",
   "execution_count": 91,
   "metadata": {},
   "outputs": [
    {
     "ename": "ValueError",
     "evalue": "Can only compare identically-labeled Series objects",
     "output_type": "error",
     "traceback": [
      "\u001b[1;31m---------------------------------------------------------------------------\u001b[0m",
      "\u001b[1;31mValueError\u001b[0m                                Traceback (most recent call last)",
      "\u001b[1;32m<ipython-input-91-f11276f7b336>\u001b[0m in \u001b[0;36m<module>\u001b[1;34m()\u001b[0m\n\u001b[1;32m----> 1\u001b[1;33m \u001b[0mpd\u001b[0m\u001b[1;33m.\u001b[0m\u001b[0mSeries\u001b[0m\u001b[1;33m(\u001b[0m\u001b[1;33m[\u001b[0m\u001b[1;34m'foo'\u001b[0m\u001b[1;33m,\u001b[0m \u001b[1;34m'bar'\u001b[0m\u001b[1;33m,\u001b[0m \u001b[1;34m'baz'\u001b[0m\u001b[1;33m]\u001b[0m\u001b[1;33m)\u001b[0m \u001b[1;33m==\u001b[0m \u001b[0mpd\u001b[0m\u001b[1;33m.\u001b[0m\u001b[0mSeries\u001b[0m\u001b[1;33m(\u001b[0m\u001b[1;33m[\u001b[0m\u001b[1;34m'foo'\u001b[0m\u001b[1;33m]\u001b[0m\u001b[1;33m)\u001b[0m\u001b[1;33m\u001b[0m\u001b[0m\n\u001b[0m",
      "\u001b[1;32mD:\\IDE\\anaconda\\lib\\site-packages\\pandas\\core\\ops.py\u001b[0m in \u001b[0;36mwrapper\u001b[1;34m(self, other, axis)\u001b[0m\n\u001b[0;32m   1188\u001b[0m \u001b[1;33m\u001b[0m\u001b[0m\n\u001b[0;32m   1189\u001b[0m         \u001b[1;32melif\u001b[0m \u001b[0misinstance\u001b[0m\u001b[1;33m(\u001b[0m\u001b[0mother\u001b[0m\u001b[1;33m,\u001b[0m \u001b[0mABCSeries\u001b[0m\u001b[1;33m)\u001b[0m \u001b[1;32mand\u001b[0m \u001b[1;32mnot\u001b[0m \u001b[0mself\u001b[0m\u001b[1;33m.\u001b[0m\u001b[0m_indexed_same\u001b[0m\u001b[1;33m(\u001b[0m\u001b[0mother\u001b[0m\u001b[1;33m)\u001b[0m\u001b[1;33m:\u001b[0m\u001b[1;33m\u001b[0m\u001b[0m\n\u001b[1;32m-> 1190\u001b[1;33m             raise ValueError(\"Can only compare identically-labeled \"\n\u001b[0m\u001b[0;32m   1191\u001b[0m                              \"Series objects\")\n\u001b[0;32m   1192\u001b[0m \u001b[1;33m\u001b[0m\u001b[0m\n",
      "\u001b[1;31mValueError\u001b[0m: Can only compare identically-labeled Series objects"
     ]
    }
   ],
   "source": [
    "pd.Series(['foo', 'bar', 'baz']) == pd.Series(['foo'])"
   ]
  },
  {
   "cell_type": "markdown",
   "metadata": {},
   "source": [
    "### 合并有重叠数据的数据集"
   ]
  },
  {
   "cell_type": "markdown",
   "metadata": {},
   "source": [
    "有时候需要合并两个相似数据集的，其中一个中的值优先于另一个。一个例子是代表特定经济指标的两个数据，其中一个被认为具有“更高质量”（统计口径更好，更准确）。但是，较低质量的数据完整度更高，因此，我们希望组合两个DataFrame对象，能用高质量的数据就用高质量的数据，高质量数据缺失时才用低质量数据填充，实现此操作的函数是combine_first()"
   ]
  },
  {
   "cell_type": "code",
   "execution_count": 92,
   "metadata": {},
   "outputs": [],
   "source": [
    "df1 = pd.DataFrame({'A' : [1., np.nan, 3., 5., np.nan],\n",
    "                    'B' : [np.nan, 2., 3., np.nan, 6.]})"
   ]
  },
  {
   "cell_type": "code",
   "execution_count": 93,
   "metadata": {},
   "outputs": [],
   "source": [
    "df2 = pd.DataFrame({'A' : [5., 2., 4., np.nan, 3., 7.],\n",
    "                    'B' : [np.nan, np.nan, 3., 4., 6., 8.]})"
   ]
  },
  {
   "cell_type": "code",
   "execution_count": 94,
   "metadata": {},
   "outputs": [
    {
     "data": {
      "text/html": [
       "<div>\n",
       "<style scoped>\n",
       "    .dataframe tbody tr th:only-of-type {\n",
       "        vertical-align: middle;\n",
       "    }\n",
       "\n",
       "    .dataframe tbody tr th {\n",
       "        vertical-align: top;\n",
       "    }\n",
       "\n",
       "    .dataframe thead th {\n",
       "        text-align: right;\n",
       "    }\n",
       "</style>\n",
       "<table border=\"1\" class=\"dataframe\">\n",
       "  <thead>\n",
       "    <tr style=\"text-align: right;\">\n",
       "      <th></th>\n",
       "      <th>A</th>\n",
       "      <th>B</th>\n",
       "    </tr>\n",
       "  </thead>\n",
       "  <tbody>\n",
       "    <tr>\n",
       "      <th>0</th>\n",
       "      <td>1.0</td>\n",
       "      <td>NaN</td>\n",
       "    </tr>\n",
       "    <tr>\n",
       "      <th>1</th>\n",
       "      <td>NaN</td>\n",
       "      <td>2.0</td>\n",
       "    </tr>\n",
       "    <tr>\n",
       "      <th>2</th>\n",
       "      <td>3.0</td>\n",
       "      <td>3.0</td>\n",
       "    </tr>\n",
       "    <tr>\n",
       "      <th>3</th>\n",
       "      <td>5.0</td>\n",
       "      <td>NaN</td>\n",
       "    </tr>\n",
       "    <tr>\n",
       "      <th>4</th>\n",
       "      <td>NaN</td>\n",
       "      <td>6.0</td>\n",
       "    </tr>\n",
       "  </tbody>\n",
       "</table>\n",
       "</div>"
      ],
      "text/plain": [
       "     A    B\n",
       "0  1.0  NaN\n",
       "1  NaN  2.0\n",
       "2  3.0  3.0\n",
       "3  5.0  NaN\n",
       "4  NaN  6.0"
      ]
     },
     "execution_count": 94,
     "metadata": {},
     "output_type": "execute_result"
    }
   ],
   "source": [
    "df1"
   ]
  },
  {
   "cell_type": "code",
   "execution_count": 95,
   "metadata": {},
   "outputs": [
    {
     "data": {
      "text/html": [
       "<div>\n",
       "<style scoped>\n",
       "    .dataframe tbody tr th:only-of-type {\n",
       "        vertical-align: middle;\n",
       "    }\n",
       "\n",
       "    .dataframe tbody tr th {\n",
       "        vertical-align: top;\n",
       "    }\n",
       "\n",
       "    .dataframe thead th {\n",
       "        text-align: right;\n",
       "    }\n",
       "</style>\n",
       "<table border=\"1\" class=\"dataframe\">\n",
       "  <thead>\n",
       "    <tr style=\"text-align: right;\">\n",
       "      <th></th>\n",
       "      <th>A</th>\n",
       "      <th>B</th>\n",
       "    </tr>\n",
       "  </thead>\n",
       "  <tbody>\n",
       "    <tr>\n",
       "      <th>0</th>\n",
       "      <td>5.0</td>\n",
       "      <td>NaN</td>\n",
       "    </tr>\n",
       "    <tr>\n",
       "      <th>1</th>\n",
       "      <td>2.0</td>\n",
       "      <td>NaN</td>\n",
       "    </tr>\n",
       "    <tr>\n",
       "      <th>2</th>\n",
       "      <td>4.0</td>\n",
       "      <td>3.0</td>\n",
       "    </tr>\n",
       "    <tr>\n",
       "      <th>3</th>\n",
       "      <td>NaN</td>\n",
       "      <td>4.0</td>\n",
       "    </tr>\n",
       "    <tr>\n",
       "      <th>4</th>\n",
       "      <td>3.0</td>\n",
       "      <td>6.0</td>\n",
       "    </tr>\n",
       "    <tr>\n",
       "      <th>5</th>\n",
       "      <td>7.0</td>\n",
       "      <td>8.0</td>\n",
       "    </tr>\n",
       "  </tbody>\n",
       "</table>\n",
       "</div>"
      ],
      "text/plain": [
       "     A    B\n",
       "0  5.0  NaN\n",
       "1  2.0  NaN\n",
       "2  4.0  3.0\n",
       "3  NaN  4.0\n",
       "4  3.0  6.0\n",
       "5  7.0  8.0"
      ]
     },
     "execution_count": 95,
     "metadata": {},
     "output_type": "execute_result"
    }
   ],
   "source": [
    "df2"
   ]
  },
  {
   "cell_type": "code",
   "execution_count": 96,
   "metadata": {},
   "outputs": [
    {
     "data": {
      "text/html": [
       "<div>\n",
       "<style scoped>\n",
       "    .dataframe tbody tr th:only-of-type {\n",
       "        vertical-align: middle;\n",
       "    }\n",
       "\n",
       "    .dataframe tbody tr th {\n",
       "        vertical-align: top;\n",
       "    }\n",
       "\n",
       "    .dataframe thead th {\n",
       "        text-align: right;\n",
       "    }\n",
       "</style>\n",
       "<table border=\"1\" class=\"dataframe\">\n",
       "  <thead>\n",
       "    <tr style=\"text-align: right;\">\n",
       "      <th></th>\n",
       "      <th>A</th>\n",
       "      <th>B</th>\n",
       "    </tr>\n",
       "  </thead>\n",
       "  <tbody>\n",
       "    <tr>\n",
       "      <th>0</th>\n",
       "      <td>1.0</td>\n",
       "      <td>NaN</td>\n",
       "    </tr>\n",
       "    <tr>\n",
       "      <th>1</th>\n",
       "      <td>2.0</td>\n",
       "      <td>2.0</td>\n",
       "    </tr>\n",
       "    <tr>\n",
       "      <th>2</th>\n",
       "      <td>3.0</td>\n",
       "      <td>3.0</td>\n",
       "    </tr>\n",
       "    <tr>\n",
       "      <th>3</th>\n",
       "      <td>5.0</td>\n",
       "      <td>4.0</td>\n",
       "    </tr>\n",
       "    <tr>\n",
       "      <th>4</th>\n",
       "      <td>3.0</td>\n",
       "      <td>6.0</td>\n",
       "    </tr>\n",
       "    <tr>\n",
       "      <th>5</th>\n",
       "      <td>7.0</td>\n",
       "      <td>8.0</td>\n",
       "    </tr>\n",
       "  </tbody>\n",
       "</table>\n",
       "</div>"
      ],
      "text/plain": [
       "     A    B\n",
       "0  1.0  NaN\n",
       "1  2.0  2.0\n",
       "2  3.0  3.0\n",
       "3  5.0  4.0\n",
       "4  3.0  6.0\n",
       "5  7.0  8.0"
      ]
     },
     "execution_count": 96,
     "metadata": {},
     "output_type": "execute_result"
    }
   ],
   "source": [
    "df1.combine_first(df2)"
   ]
  },
  {
   "cell_type": "markdown",
   "metadata": {},
   "source": [
    "如果想自定义两个DataFrame合并的逻辑，调用DataFrame.combine()，文档链接http://pandas.pydata.org/pandas-docs/stable/generated/pandas.DataFrame.combine.html#pandas.DataFrame.combine, 在此不再赘述"
   ]
  },
  {
   "cell_type": "markdown",
   "metadata": {},
   "source": [
    "### 描述性统计"
   ]
  },
  {
   "cell_type": "markdown",
   "metadata": {},
   "source": [
    "pandas支持几乎所有的描述性统计方法,下面我们主要以DataFrame为例讲解，Series的诸多方法基本与DataFrame逻辑一样"
   ]
  },
  {
   "cell_type": "code",
   "execution_count": 104,
   "metadata": {},
   "outputs": [
    {
     "data": {
      "text/html": [
       "<div>\n",
       "<style scoped>\n",
       "    .dataframe tbody tr th:only-of-type {\n",
       "        vertical-align: middle;\n",
       "    }\n",
       "\n",
       "    .dataframe tbody tr th {\n",
       "        vertical-align: top;\n",
       "    }\n",
       "\n",
       "    .dataframe thead th {\n",
       "        text-align: right;\n",
       "    }\n",
       "</style>\n",
       "<table border=\"1\" class=\"dataframe\">\n",
       "  <thead>\n",
       "    <tr style=\"text-align: right;\">\n",
       "      <th></th>\n",
       "      <th>one</th>\n",
       "      <th>two</th>\n",
       "      <th>three</th>\n",
       "    </tr>\n",
       "  </thead>\n",
       "  <tbody>\n",
       "    <tr>\n",
       "      <th>a</th>\n",
       "      <td>-2.058637</td>\n",
       "      <td>-1.356699</td>\n",
       "      <td>NaN</td>\n",
       "    </tr>\n",
       "    <tr>\n",
       "      <th>b</th>\n",
       "      <td>0.204574</td>\n",
       "      <td>-1.938237</td>\n",
       "      <td>-0.115592</td>\n",
       "    </tr>\n",
       "    <tr>\n",
       "      <th>c</th>\n",
       "      <td>0.463307</td>\n",
       "      <td>-0.099773</td>\n",
       "      <td>1.338462</td>\n",
       "    </tr>\n",
       "    <tr>\n",
       "      <th>d</th>\n",
       "      <td>NaN</td>\n",
       "      <td>1.380254</td>\n",
       "      <td>-0.068492</td>\n",
       "    </tr>\n",
       "  </tbody>\n",
       "</table>\n",
       "</div>"
      ],
      "text/plain": [
       "        one       two     three\n",
       "a -2.058637 -1.356699       NaN\n",
       "b  0.204574 -1.938237 -0.115592\n",
       "c  0.463307 -0.099773  1.338462\n",
       "d       NaN  1.380254 -0.068492"
      ]
     },
     "execution_count": 104,
     "metadata": {},
     "output_type": "execute_result"
    }
   ],
   "source": [
    "df"
   ]
  },
  {
   "cell_type": "markdown",
   "metadata": {},
   "source": [
    "所有的方法都支持axis参数，可以自由的按列统计和按行统计(默认是axis=0)"
   ]
  },
  {
   "cell_type": "code",
   "execution_count": 107,
   "metadata": {},
   "outputs": [
    {
     "data": {
      "text/plain": [
       "one     -1.390757\n",
       "two     -2.014456\n",
       "three    1.154378\n",
       "dtype: float64"
      ]
     },
     "execution_count": 107,
     "metadata": {},
     "output_type": "execute_result"
    }
   ],
   "source": [
    "df.sum()"
   ]
  },
  {
   "cell_type": "code",
   "execution_count": 102,
   "metadata": {},
   "outputs": [
    {
     "data": {
      "text/plain": [
       "a   -3.415336\n",
       "b   -1.849256\n",
       "c    1.701995\n",
       "d    1.311762\n",
       "dtype: float64"
      ]
     },
     "execution_count": 102,
     "metadata": {},
     "output_type": "execute_result"
    }
   ],
   "source": [
    "df.sum(axis=1)"
   ]
  },
  {
   "cell_type": "code",
   "execution_count": 100,
   "metadata": {},
   "outputs": [
    {
     "data": {
      "text/plain": [
       "one     -0.463586\n",
       "two     -0.503614\n",
       "three    0.384793\n",
       "dtype: float64"
      ]
     },
     "execution_count": 100,
     "metadata": {},
     "output_type": "execute_result"
    }
   ],
   "source": [
    "df.mean(axis=0)"
   ]
  },
  {
   "cell_type": "code",
   "execution_count": 101,
   "metadata": {},
   "outputs": [
    {
     "data": {
      "text/plain": [
       "a   -1.707668\n",
       "b   -0.616419\n",
       "c    0.567332\n",
       "d    0.655881\n",
       "dtype: float64"
      ]
     },
     "execution_count": 101,
     "metadata": {},
     "output_type": "execute_result"
    }
   ],
   "source": [
    "df.mean(axis=1)"
   ]
  },
  {
   "cell_type": "markdown",
   "metadata": {},
   "source": [
    "所有这些方法都有一个skipna选项，用于表名是否排除缺失数据（默认为True）"
   ]
  },
  {
   "cell_type": "code",
   "execution_count": 110,
   "metadata": {},
   "outputs": [
    {
     "data": {
      "text/plain": [
       "one     -0.463586\n",
       "two     -0.503614\n",
       "three    0.384793\n",
       "dtype: float64"
      ]
     },
     "execution_count": 110,
     "metadata": {},
     "output_type": "execute_result"
    }
   ],
   "source": [
    "df.mean()"
   ]
  },
  {
   "cell_type": "code",
   "execution_count": 134,
   "metadata": {},
   "outputs": [
    {
     "data": {
      "text/plain": [
       "one           NaN\n",
       "two     -0.503614\n",
       "three         NaN\n",
       "dtype: float64"
      ]
     },
     "execution_count": 134,
     "metadata": {},
     "output_type": "execute_result"
    }
   ],
   "source": [
    "df.mean(skipna=False)"
   ]
  },
  {
   "cell_type": "markdown",
   "metadata": {},
   "source": [
    "std函数支持自由度选项，默认自由度减去1，也就是除以n-1"
   ]
  },
  {
   "cell_type": "code",
   "execution_count": 137,
   "metadata": {},
   "outputs": [
    {
     "data": {
      "text/plain": [
       "one      1.387400\n",
       "two      1.471727\n",
       "three    0.826237\n",
       "dtype: float64"
      ]
     },
     "execution_count": 137,
     "metadata": {},
     "output_type": "execute_result"
    }
   ],
   "source": [
    "df.std()"
   ]
  },
  {
   "cell_type": "code",
   "execution_count": 138,
   "metadata": {},
   "outputs": [
    {
     "data": {
      "text/plain": [
       "one      1.132807\n",
       "two      1.274553\n",
       "three    0.674620\n",
       "dtype: float64"
      ]
     },
     "execution_count": 138,
     "metadata": {},
     "output_type": "execute_result"
    }
   ],
   "source": [
    "df.std(ddof=0)"
   ]
  },
  {
   "cell_type": "markdown",
   "metadata": {},
   "source": [
    "结合dataframe的算术运算和广播，可以很轻松地描述各种统计过程，如标准化"
   ]
  },
  {
   "cell_type": "code",
   "execution_count": 112,
   "metadata": {},
   "outputs": [
    {
     "data": {
      "text/html": [
       "<div>\n",
       "<style scoped>\n",
       "    .dataframe tbody tr th:only-of-type {\n",
       "        vertical-align: middle;\n",
       "    }\n",
       "\n",
       "    .dataframe tbody tr th {\n",
       "        vertical-align: top;\n",
       "    }\n",
       "\n",
       "    .dataframe thead th {\n",
       "        text-align: right;\n",
       "    }\n",
       "</style>\n",
       "<table border=\"1\" class=\"dataframe\">\n",
       "  <thead>\n",
       "    <tr style=\"text-align: right;\">\n",
       "      <th></th>\n",
       "      <th>one</th>\n",
       "      <th>two</th>\n",
       "      <th>three</th>\n",
       "    </tr>\n",
       "  </thead>\n",
       "  <tbody>\n",
       "    <tr>\n",
       "      <th>a</th>\n",
       "      <td>-2.058637</td>\n",
       "      <td>-1.356699</td>\n",
       "      <td>NaN</td>\n",
       "    </tr>\n",
       "    <tr>\n",
       "      <th>b</th>\n",
       "      <td>0.204574</td>\n",
       "      <td>-1.938237</td>\n",
       "      <td>-0.115592</td>\n",
       "    </tr>\n",
       "    <tr>\n",
       "      <th>c</th>\n",
       "      <td>0.463307</td>\n",
       "      <td>-0.099773</td>\n",
       "      <td>1.338462</td>\n",
       "    </tr>\n",
       "    <tr>\n",
       "      <th>d</th>\n",
       "      <td>NaN</td>\n",
       "      <td>1.380254</td>\n",
       "      <td>-0.068492</td>\n",
       "    </tr>\n",
       "  </tbody>\n",
       "</table>\n",
       "</div>"
      ],
      "text/plain": [
       "        one       two     three\n",
       "a -2.058637 -1.356699       NaN\n",
       "b  0.204574 -1.938237 -0.115592\n",
       "c  0.463307 -0.099773  1.338462\n",
       "d       NaN  1.380254 -0.068492"
      ]
     },
     "execution_count": 112,
     "metadata": {},
     "output_type": "execute_result"
    }
   ],
   "source": [
    "df"
   ]
  },
  {
   "cell_type": "code",
   "execution_count": 113,
   "metadata": {},
   "outputs": [
    {
     "data": {
      "text/plain": [
       "one     -0.463586\n",
       "two     -0.503614\n",
       "three    0.384793\n",
       "dtype: float64"
      ]
     },
     "execution_count": 113,
     "metadata": {},
     "output_type": "execute_result"
    }
   ],
   "source": [
    "df.mean()"
   ]
  },
  {
   "cell_type": "code",
   "execution_count": 114,
   "metadata": {},
   "outputs": [
    {
     "data": {
      "text/plain": [
       "one      1.387400\n",
       "two      1.471727\n",
       "three    0.826237\n",
       "dtype: float64"
      ]
     },
     "execution_count": 114,
     "metadata": {},
     "output_type": "execute_result"
    }
   ],
   "source": [
    "df.std()"
   ]
  },
  {
   "cell_type": "code",
   "execution_count": 123,
   "metadata": {},
   "outputs": [
    {
     "data": {
      "text/html": [
       "<div>\n",
       "<style scoped>\n",
       "    .dataframe tbody tr th:only-of-type {\n",
       "        vertical-align: middle;\n",
       "    }\n",
       "\n",
       "    .dataframe tbody tr th {\n",
       "        vertical-align: top;\n",
       "    }\n",
       "\n",
       "    .dataframe thead th {\n",
       "        text-align: right;\n",
       "    }\n",
       "</style>\n",
       "<table border=\"1\" class=\"dataframe\">\n",
       "  <thead>\n",
       "    <tr style=\"text-align: right;\">\n",
       "      <th></th>\n",
       "      <th>one</th>\n",
       "      <th>two</th>\n",
       "      <th>three</th>\n",
       "    </tr>\n",
       "  </thead>\n",
       "  <tbody>\n",
       "    <tr>\n",
       "      <th>a</th>\n",
       "      <td>-1.595051</td>\n",
       "      <td>-0.853085</td>\n",
       "      <td>NaN</td>\n",
       "    </tr>\n",
       "    <tr>\n",
       "      <th>b</th>\n",
       "      <td>0.668159</td>\n",
       "      <td>-1.434623</td>\n",
       "      <td>-0.500384</td>\n",
       "    </tr>\n",
       "    <tr>\n",
       "      <th>c</th>\n",
       "      <td>0.926892</td>\n",
       "      <td>0.403841</td>\n",
       "      <td>0.953669</td>\n",
       "    </tr>\n",
       "    <tr>\n",
       "      <th>d</th>\n",
       "      <td>NaN</td>\n",
       "      <td>1.883868</td>\n",
       "      <td>-0.453285</td>\n",
       "    </tr>\n",
       "  </tbody>\n",
       "</table>\n",
       "</div>"
      ],
      "text/plain": [
       "        one       two     three\n",
       "a -1.595051 -0.853085       NaN\n",
       "b  0.668159 -1.434623 -0.500384\n",
       "c  0.926892  0.403841  0.953669\n",
       "d       NaN  1.883868 -0.453285"
      ]
     },
     "execution_count": 123,
     "metadata": {},
     "output_type": "execute_result"
    }
   ],
   "source": [
    "df - df.mean()"
   ]
  },
  {
   "cell_type": "code",
   "execution_count": 119,
   "metadata": {},
   "outputs": [
    {
     "data": {
      "text/html": [
       "<div>\n",
       "<style scoped>\n",
       "    .dataframe tbody tr th:only-of-type {\n",
       "        vertical-align: middle;\n",
       "    }\n",
       "\n",
       "    .dataframe tbody tr th {\n",
       "        vertical-align: top;\n",
       "    }\n",
       "\n",
       "    .dataframe thead th {\n",
       "        text-align: right;\n",
       "    }\n",
       "</style>\n",
       "<table border=\"1\" class=\"dataframe\">\n",
       "  <thead>\n",
       "    <tr style=\"text-align: right;\">\n",
       "      <th></th>\n",
       "      <th>one</th>\n",
       "      <th>two</th>\n",
       "      <th>three</th>\n",
       "    </tr>\n",
       "  </thead>\n",
       "  <tbody>\n",
       "    <tr>\n",
       "      <th>a</th>\n",
       "      <td>-1.149670</td>\n",
       "      <td>-0.579649</td>\n",
       "      <td>NaN</td>\n",
       "    </tr>\n",
       "    <tr>\n",
       "      <th>b</th>\n",
       "      <td>0.481591</td>\n",
       "      <td>-0.974789</td>\n",
       "      <td>-0.605618</td>\n",
       "    </tr>\n",
       "    <tr>\n",
       "      <th>c</th>\n",
       "      <td>0.668079</td>\n",
       "      <td>0.274399</td>\n",
       "      <td>1.154231</td>\n",
       "    </tr>\n",
       "    <tr>\n",
       "      <th>d</th>\n",
       "      <td>NaN</td>\n",
       "      <td>1.280039</td>\n",
       "      <td>-0.548613</td>\n",
       "    </tr>\n",
       "  </tbody>\n",
       "</table>\n",
       "</div>"
      ],
      "text/plain": [
       "        one       two     three\n",
       "a -1.149670 -0.579649       NaN\n",
       "b  0.481591 -0.974789 -0.605618\n",
       "c  0.668079  0.274399  1.154231\n",
       "d       NaN  1.280039 -0.548613"
      ]
     },
     "execution_count": 119,
     "metadata": {},
     "output_type": "execute_result"
    }
   ],
   "source": [
    "ts_stand = (df - df.mean()) / df.std()\n",
    "ts_stand"
   ]
  },
  {
   "cell_type": "code",
   "execution_count": 121,
   "metadata": {},
   "outputs": [
    {
     "data": {
      "text/plain": [
       "one      1.0\n",
       "two      1.0\n",
       "three    1.0\n",
       "dtype: float64"
      ]
     },
     "execution_count": 121,
     "metadata": {},
     "output_type": "execute_result"
    }
   ],
   "source": [
    "ts_stand.std()"
   ]
  },
  {
   "cell_type": "markdown",
   "metadata": {},
   "source": [
    "上面是将每列标准化，如果将每行标准化，则需要这样做"
   ]
  },
  {
   "cell_type": "code",
   "execution_count": 127,
   "metadata": {},
   "outputs": [
    {
     "data": {
      "text/plain": [
       "a   -1.707668\n",
       "b   -0.616419\n",
       "c    0.567332\n",
       "d    0.655881\n",
       "dtype: float64"
      ]
     },
     "execution_count": 127,
     "metadata": {},
     "output_type": "execute_result"
    }
   ],
   "source": [
    "df.mean(axis=1)"
   ]
  },
  {
   "cell_type": "code",
   "execution_count": 128,
   "metadata": {},
   "outputs": [
    {
     "data": {
      "text/plain": [
       "a    0.496345\n",
       "b    1.155868\n",
       "c    0.724738\n",
       "d    1.024418\n",
       "dtype: float64"
      ]
     },
     "execution_count": 128,
     "metadata": {},
     "output_type": "execute_result"
    }
   ],
   "source": [
    "df.std(1)"
   ]
  },
  {
   "cell_type": "code",
   "execution_count": 124,
   "metadata": {},
   "outputs": [
    {
     "data": {
      "text/html": [
       "<div>\n",
       "<style scoped>\n",
       "    .dataframe tbody tr th:only-of-type {\n",
       "        vertical-align: middle;\n",
       "    }\n",
       "\n",
       "    .dataframe tbody tr th {\n",
       "        vertical-align: top;\n",
       "    }\n",
       "\n",
       "    .dataframe thead th {\n",
       "        text-align: right;\n",
       "    }\n",
       "</style>\n",
       "<table border=\"1\" class=\"dataframe\">\n",
       "  <thead>\n",
       "    <tr style=\"text-align: right;\">\n",
       "      <th></th>\n",
       "      <th>one</th>\n",
       "      <th>two</th>\n",
       "      <th>three</th>\n",
       "    </tr>\n",
       "  </thead>\n",
       "  <tbody>\n",
       "    <tr>\n",
       "      <th>a</th>\n",
       "      <td>-0.350969</td>\n",
       "      <td>0.350969</td>\n",
       "      <td>NaN</td>\n",
       "    </tr>\n",
       "    <tr>\n",
       "      <th>b</th>\n",
       "      <td>0.820992</td>\n",
       "      <td>-1.321819</td>\n",
       "      <td>0.500827</td>\n",
       "    </tr>\n",
       "    <tr>\n",
       "      <th>c</th>\n",
       "      <td>-0.104025</td>\n",
       "      <td>-0.667105</td>\n",
       "      <td>0.771130</td>\n",
       "    </tr>\n",
       "    <tr>\n",
       "      <th>d</th>\n",
       "      <td>NaN</td>\n",
       "      <td>0.724373</td>\n",
       "      <td>-0.724373</td>\n",
       "    </tr>\n",
       "  </tbody>\n",
       "</table>\n",
       "</div>"
      ],
      "text/plain": [
       "        one       two     three\n",
       "a -0.350969  0.350969       NaN\n",
       "b  0.820992 -1.321819  0.500827\n",
       "c -0.104025 -0.667105  0.771130\n",
       "d       NaN  0.724373 -0.724373"
      ]
     },
     "execution_count": 124,
     "metadata": {},
     "output_type": "execute_result"
    }
   ],
   "source": [
    "df.sub(df.mean(axis=1), axis=0)"
   ]
  },
  {
   "cell_type": "code",
   "execution_count": 131,
   "metadata": {},
   "outputs": [
    {
     "data": {
      "text/html": [
       "<div>\n",
       "<style scoped>\n",
       "    .dataframe tbody tr th:only-of-type {\n",
       "        vertical-align: middle;\n",
       "    }\n",
       "\n",
       "    .dataframe tbody tr th {\n",
       "        vertical-align: top;\n",
       "    }\n",
       "\n",
       "    .dataframe thead th {\n",
       "        text-align: right;\n",
       "    }\n",
       "</style>\n",
       "<table border=\"1\" class=\"dataframe\">\n",
       "  <thead>\n",
       "    <tr style=\"text-align: right;\">\n",
       "      <th></th>\n",
       "      <th>one</th>\n",
       "      <th>two</th>\n",
       "      <th>three</th>\n",
       "    </tr>\n",
       "  </thead>\n",
       "  <tbody>\n",
       "    <tr>\n",
       "      <th>a</th>\n",
       "      <td>-0.707107</td>\n",
       "      <td>0.707107</td>\n",
       "      <td>NaN</td>\n",
       "    </tr>\n",
       "    <tr>\n",
       "      <th>b</th>\n",
       "      <td>0.710282</td>\n",
       "      <td>-1.143573</td>\n",
       "      <td>0.433291</td>\n",
       "    </tr>\n",
       "    <tr>\n",
       "      <th>c</th>\n",
       "      <td>-0.143535</td>\n",
       "      <td>-0.920477</td>\n",
       "      <td>1.064011</td>\n",
       "    </tr>\n",
       "    <tr>\n",
       "      <th>d</th>\n",
       "      <td>NaN</td>\n",
       "      <td>0.707107</td>\n",
       "      <td>-0.707107</td>\n",
       "    </tr>\n",
       "  </tbody>\n",
       "</table>\n",
       "</div>"
      ],
      "text/plain": [
       "        one       two     three\n",
       "a -0.707107  0.707107       NaN\n",
       "b  0.710282 -1.143573  0.433291\n",
       "c -0.143535 -0.920477  1.064011\n",
       "d       NaN  0.707107 -0.707107"
      ]
     },
     "execution_count": 131,
     "metadata": {},
     "output_type": "execute_result"
    }
   ],
   "source": [
    "xs_stand = df.sub(df.mean(1), axis=0).div(df.std(1), axis=0)\n",
    "xs_stand"
   ]
  },
  {
   "cell_type": "code",
   "execution_count": 139,
   "metadata": {},
   "outputs": [
    {
     "data": {
      "text/plain": [
       "a    1.0\n",
       "b    1.0\n",
       "c    1.0\n",
       "d    1.0\n",
       "dtype: float64"
      ]
     },
     "execution_count": 139,
     "metadata": {},
     "output_type": "execute_result"
    }
   ],
   "source": [
    "xs_stand.std(1)"
   ]
  },
  {
   "cell_type": "markdown",
   "metadata": {},
   "source": [
    "cumsum()和cumprod()在根据收益率计算指数点位的时候非常有用"
   ]
  },
  {
   "cell_type": "code",
   "execution_count": 161,
   "metadata": {},
   "outputs": [
    {
     "data": {
      "text/html": [
       "<div>\n",
       "<style scoped>\n",
       "    .dataframe tbody tr th:only-of-type {\n",
       "        vertical-align: middle;\n",
       "    }\n",
       "\n",
       "    .dataframe tbody tr th {\n",
       "        vertical-align: top;\n",
       "    }\n",
       "\n",
       "    .dataframe thead th {\n",
       "        text-align: right;\n",
       "    }\n",
       "</style>\n",
       "<table border=\"1\" class=\"dataframe\">\n",
       "  <thead>\n",
       "    <tr style=\"text-align: right;\">\n",
       "      <th></th>\n",
       "      <th>000001.SZ</th>\n",
       "      <th>000002.SZ</th>\n",
       "      <th>000003.SZ</th>\n",
       "      <th>000004.SZ</th>\n",
       "      <th>000005.SZ</th>\n",
       "      <th>000006.SZ</th>\n",
       "      <th>000007.SZ</th>\n",
       "      <th>000008.SZ</th>\n",
       "      <th>000009.SZ</th>\n",
       "      <th>000010.SZ</th>\n",
       "    </tr>\n",
       "  </thead>\n",
       "  <tbody>\n",
       "    <tr>\n",
       "      <th>2018-10-01</th>\n",
       "      <td>0.005679</td>\n",
       "      <td>-0.004090</td>\n",
       "      <td>0.007055</td>\n",
       "      <td>-0.017585</td>\n",
       "      <td>-0.004799</td>\n",
       "      <td>0.012054</td>\n",
       "      <td>-0.002250</td>\n",
       "      <td>0.005856</td>\n",
       "      <td>-0.001902</td>\n",
       "      <td>0.002823</td>\n",
       "    </tr>\n",
       "    <tr>\n",
       "      <th>2018-10-02</th>\n",
       "      <td>0.013872</td>\n",
       "      <td>-0.004448</td>\n",
       "      <td>0.017916</td>\n",
       "      <td>-0.004242</td>\n",
       "      <td>0.006120</td>\n",
       "      <td>0.007005</td>\n",
       "      <td>0.015573</td>\n",
       "      <td>0.005672</td>\n",
       "      <td>0.006074</td>\n",
       "      <td>-0.005518</td>\n",
       "    </tr>\n",
       "    <tr>\n",
       "      <th>2018-10-03</th>\n",
       "      <td>-0.005454</td>\n",
       "      <td>-0.002074</td>\n",
       "      <td>0.002222</td>\n",
       "      <td>-0.009948</td>\n",
       "      <td>-0.000781</td>\n",
       "      <td>0.019879</td>\n",
       "      <td>-0.001510</td>\n",
       "      <td>-0.012444</td>\n",
       "      <td>-0.001126</td>\n",
       "      <td>-0.007964</td>\n",
       "    </tr>\n",
       "    <tr>\n",
       "      <th>2018-10-04</th>\n",
       "      <td>-0.008246</td>\n",
       "      <td>-0.007559</td>\n",
       "      <td>0.003086</td>\n",
       "      <td>0.008370</td>\n",
       "      <td>-0.007475</td>\n",
       "      <td>-0.002190</td>\n",
       "      <td>-0.013135</td>\n",
       "      <td>0.006522</td>\n",
       "      <td>0.003356</td>\n",
       "      <td>-0.011418</td>\n",
       "    </tr>\n",
       "    <tr>\n",
       "      <th>2018-10-05</th>\n",
       "      <td>0.018312</td>\n",
       "      <td>0.009903</td>\n",
       "      <td>0.003254</td>\n",
       "      <td>-0.010896</td>\n",
       "      <td>-0.004635</td>\n",
       "      <td>0.001458</td>\n",
       "      <td>-0.009837</td>\n",
       "      <td>-0.002144</td>\n",
       "      <td>-0.007351</td>\n",
       "      <td>-0.005000</td>\n",
       "    </tr>\n",
       "    <tr>\n",
       "      <th>2018-10-06</th>\n",
       "      <td>-0.016343</td>\n",
       "      <td>0.000658</td>\n",
       "      <td>0.005048</td>\n",
       "      <td>0.007946</td>\n",
       "      <td>0.008919</td>\n",
       "      <td>0.001533</td>\n",
       "      <td>-0.000599</td>\n",
       "      <td>-0.008445</td>\n",
       "      <td>0.001245</td>\n",
       "      <td>0.014982</td>\n",
       "    </tr>\n",
       "    <tr>\n",
       "      <th>2018-10-07</th>\n",
       "      <td>0.017936</td>\n",
       "      <td>-0.001179</td>\n",
       "      <td>0.000780</td>\n",
       "      <td>-0.003822</td>\n",
       "      <td>0.007867</td>\n",
       "      <td>0.005045</td>\n",
       "      <td>0.006617</td>\n",
       "      <td>-0.004708</td>\n",
       "      <td>0.005941</td>\n",
       "      <td>-0.000840</td>\n",
       "    </tr>\n",
       "    <tr>\n",
       "      <th>2018-10-08</th>\n",
       "      <td>-0.000596</td>\n",
       "      <td>0.003565</td>\n",
       "      <td>0.001636</td>\n",
       "      <td>-0.007108</td>\n",
       "      <td>0.002488</td>\n",
       "      <td>-0.025396</td>\n",
       "      <td>-0.019253</td>\n",
       "      <td>-0.011616</td>\n",
       "      <td>0.000447</td>\n",
       "      <td>0.000986</td>\n",
       "    </tr>\n",
       "    <tr>\n",
       "      <th>2018-10-09</th>\n",
       "      <td>-0.018501</td>\n",
       "      <td>-0.001872</td>\n",
       "      <td>-0.009720</td>\n",
       "      <td>0.015137</td>\n",
       "      <td>-0.011178</td>\n",
       "      <td>0.010475</td>\n",
       "      <td>0.000487</td>\n",
       "      <td>-0.011337</td>\n",
       "      <td>-0.006114</td>\n",
       "      <td>0.004314</td>\n",
       "    </tr>\n",
       "    <tr>\n",
       "      <th>2018-10-10</th>\n",
       "      <td>0.010298</td>\n",
       "      <td>0.017816</td>\n",
       "      <td>0.002511</td>\n",
       "      <td>-0.011229</td>\n",
       "      <td>0.003893</td>\n",
       "      <td>0.008592</td>\n",
       "      <td>0.002775</td>\n",
       "      <td>0.007171</td>\n",
       "      <td>0.000574</td>\n",
       "      <td>-0.007034</td>\n",
       "    </tr>\n",
       "  </tbody>\n",
       "</table>\n",
       "</div>"
      ],
      "text/plain": [
       "            000001.SZ  000002.SZ  000003.SZ  000004.SZ  000005.SZ  000006.SZ  \\\n",
       "2018-10-01   0.005679  -0.004090   0.007055  -0.017585  -0.004799   0.012054   \n",
       "2018-10-02   0.013872  -0.004448   0.017916  -0.004242   0.006120   0.007005   \n",
       "2018-10-03  -0.005454  -0.002074   0.002222  -0.009948  -0.000781   0.019879   \n",
       "2018-10-04  -0.008246  -0.007559   0.003086   0.008370  -0.007475  -0.002190   \n",
       "2018-10-05   0.018312   0.009903   0.003254  -0.010896  -0.004635   0.001458   \n",
       "2018-10-06  -0.016343   0.000658   0.005048   0.007946   0.008919   0.001533   \n",
       "2018-10-07   0.017936  -0.001179   0.000780  -0.003822   0.007867   0.005045   \n",
       "2018-10-08  -0.000596   0.003565   0.001636  -0.007108   0.002488  -0.025396   \n",
       "2018-10-09  -0.018501  -0.001872  -0.009720   0.015137  -0.011178   0.010475   \n",
       "2018-10-10   0.010298   0.017816   0.002511  -0.011229   0.003893   0.008592   \n",
       "\n",
       "            000007.SZ  000008.SZ  000009.SZ  000010.SZ  \n",
       "2018-10-01  -0.002250   0.005856  -0.001902   0.002823  \n",
       "2018-10-02   0.015573   0.005672   0.006074  -0.005518  \n",
       "2018-10-03  -0.001510  -0.012444  -0.001126  -0.007964  \n",
       "2018-10-04  -0.013135   0.006522   0.003356  -0.011418  \n",
       "2018-10-05  -0.009837  -0.002144  -0.007351  -0.005000  \n",
       "2018-10-06  -0.000599  -0.008445   0.001245   0.014982  \n",
       "2018-10-07   0.006617  -0.004708   0.005941  -0.000840  \n",
       "2018-10-08  -0.019253  -0.011616   0.000447   0.000986  \n",
       "2018-10-09   0.000487  -0.011337  -0.006114   0.004314  \n",
       "2018-10-10   0.002775   0.007171   0.000574  -0.007034  "
      ]
     },
     "execution_count": 161,
     "metadata": {},
     "output_type": "execute_result"
    }
   ],
   "source": [
    "sim_ret = pd.DataFrame(np.random.randn(10, 10),\n",
    "                       index=pd.date_range(\"2018-10-01\", periods=10), \n",
    "                       columns=[\"000001.SZ\", \"000002.SZ\", \"000003.SZ\", \"000004.SZ\", \"000005.SZ\", \"000006.SZ\", \"000007.SZ\", \"000008.SZ\", \"000009.SZ\", \"000010.SZ\"])/100\n",
    "sim_ret"
   ]
  },
  {
   "cell_type": "code",
   "execution_count": 169,
   "metadata": {},
   "outputs": [
    {
     "data": {
      "text/html": [
       "<div>\n",
       "<style scoped>\n",
       "    .dataframe tbody tr th:only-of-type {\n",
       "        vertical-align: middle;\n",
       "    }\n",
       "\n",
       "    .dataframe tbody tr th {\n",
       "        vertical-align: top;\n",
       "    }\n",
       "\n",
       "    .dataframe thead th {\n",
       "        text-align: right;\n",
       "    }\n",
       "</style>\n",
       "<table border=\"1\" class=\"dataframe\">\n",
       "  <thead>\n",
       "    <tr style=\"text-align: right;\">\n",
       "      <th></th>\n",
       "      <th>000001.SZ</th>\n",
       "      <th>000002.SZ</th>\n",
       "      <th>000003.SZ</th>\n",
       "      <th>000004.SZ</th>\n",
       "      <th>000005.SZ</th>\n",
       "      <th>000006.SZ</th>\n",
       "      <th>000007.SZ</th>\n",
       "      <th>000008.SZ</th>\n",
       "      <th>000009.SZ</th>\n",
       "      <th>000010.SZ</th>\n",
       "    </tr>\n",
       "  </thead>\n",
       "  <tbody>\n",
       "    <tr>\n",
       "      <th>2018-10-01</th>\n",
       "      <td>1.005679</td>\n",
       "      <td>0.995910</td>\n",
       "      <td>1.007055</td>\n",
       "      <td>0.982415</td>\n",
       "      <td>0.995201</td>\n",
       "      <td>1.012054</td>\n",
       "      <td>0.997750</td>\n",
       "      <td>1.005856</td>\n",
       "      <td>0.998098</td>\n",
       "      <td>1.002823</td>\n",
       "    </tr>\n",
       "    <tr>\n",
       "      <th>2018-10-02</th>\n",
       "      <td>1.019630</td>\n",
       "      <td>0.991480</td>\n",
       "      <td>1.025097</td>\n",
       "      <td>0.978247</td>\n",
       "      <td>1.001292</td>\n",
       "      <td>1.019144</td>\n",
       "      <td>1.013288</td>\n",
       "      <td>1.011561</td>\n",
       "      <td>1.004161</td>\n",
       "      <td>0.997290</td>\n",
       "    </tr>\n",
       "    <tr>\n",
       "      <th>2018-10-03</th>\n",
       "      <td>1.014069</td>\n",
       "      <td>0.989424</td>\n",
       "      <td>1.027375</td>\n",
       "      <td>0.968515</td>\n",
       "      <td>1.000509</td>\n",
       "      <td>1.039403</td>\n",
       "      <td>1.011758</td>\n",
       "      <td>0.998974</td>\n",
       "      <td>1.003030</td>\n",
       "      <td>0.989348</td>\n",
       "    </tr>\n",
       "    <tr>\n",
       "      <th>2018-10-04</th>\n",
       "      <td>1.005707</td>\n",
       "      <td>0.981945</td>\n",
       "      <td>1.030545</td>\n",
       "      <td>0.976621</td>\n",
       "      <td>0.993030</td>\n",
       "      <td>1.037126</td>\n",
       "      <td>0.998469</td>\n",
       "      <td>1.005489</td>\n",
       "      <td>1.006396</td>\n",
       "      <td>0.978051</td>\n",
       "    </tr>\n",
       "    <tr>\n",
       "      <th>2018-10-05</th>\n",
       "      <td>1.024124</td>\n",
       "      <td>0.991670</td>\n",
       "      <td>1.033898</td>\n",
       "      <td>0.965980</td>\n",
       "      <td>0.988428</td>\n",
       "      <td>1.038639</td>\n",
       "      <td>0.988646</td>\n",
       "      <td>1.003333</td>\n",
       "      <td>0.998997</td>\n",
       "      <td>0.973161</td>\n",
       "    </tr>\n",
       "    <tr>\n",
       "      <th>2018-10-06</th>\n",
       "      <td>1.007386</td>\n",
       "      <td>0.992322</td>\n",
       "      <td>1.039117</td>\n",
       "      <td>0.973656</td>\n",
       "      <td>0.997243</td>\n",
       "      <td>1.040231</td>\n",
       "      <td>0.988054</td>\n",
       "      <td>0.994860</td>\n",
       "      <td>1.000241</td>\n",
       "      <td>0.987741</td>\n",
       "    </tr>\n",
       "    <tr>\n",
       "      <th>2018-10-07</th>\n",
       "      <td>1.025454</td>\n",
       "      <td>0.991152</td>\n",
       "      <td>1.039927</td>\n",
       "      <td>0.969935</td>\n",
       "      <td>1.005089</td>\n",
       "      <td>1.045479</td>\n",
       "      <td>0.994592</td>\n",
       "      <td>0.990175</td>\n",
       "      <td>1.006183</td>\n",
       "      <td>0.986911</td>\n",
       "    </tr>\n",
       "    <tr>\n",
       "      <th>2018-10-08</th>\n",
       "      <td>1.024843</td>\n",
       "      <td>0.994686</td>\n",
       "      <td>1.041628</td>\n",
       "      <td>0.963041</td>\n",
       "      <td>1.007589</td>\n",
       "      <td>1.018929</td>\n",
       "      <td>0.975443</td>\n",
       "      <td>0.978674</td>\n",
       "      <td>1.006633</td>\n",
       "      <td>0.987885</td>\n",
       "    </tr>\n",
       "    <tr>\n",
       "      <th>2018-10-09</th>\n",
       "      <td>1.005882</td>\n",
       "      <td>0.992824</td>\n",
       "      <td>1.031504</td>\n",
       "      <td>0.977618</td>\n",
       "      <td>0.996326</td>\n",
       "      <td>1.029602</td>\n",
       "      <td>0.975918</td>\n",
       "      <td>0.967578</td>\n",
       "      <td>1.000479</td>\n",
       "      <td>0.992147</td>\n",
       "    </tr>\n",
       "    <tr>\n",
       "      <th>2018-10-10</th>\n",
       "      <td>1.016241</td>\n",
       "      <td>1.010512</td>\n",
       "      <td>1.034094</td>\n",
       "      <td>0.966641</td>\n",
       "      <td>1.000204</td>\n",
       "      <td>1.038449</td>\n",
       "      <td>0.978626</td>\n",
       "      <td>0.974516</td>\n",
       "      <td>1.001053</td>\n",
       "      <td>0.985168</td>\n",
       "    </tr>\n",
       "  </tbody>\n",
       "</table>\n",
       "</div>"
      ],
      "text/plain": [
       "            000001.SZ  000002.SZ  000003.SZ  000004.SZ  000005.SZ  000006.SZ  \\\n",
       "2018-10-01   1.005679   0.995910   1.007055   0.982415   0.995201   1.012054   \n",
       "2018-10-02   1.019630   0.991480   1.025097   0.978247   1.001292   1.019144   \n",
       "2018-10-03   1.014069   0.989424   1.027375   0.968515   1.000509   1.039403   \n",
       "2018-10-04   1.005707   0.981945   1.030545   0.976621   0.993030   1.037126   \n",
       "2018-10-05   1.024124   0.991670   1.033898   0.965980   0.988428   1.038639   \n",
       "2018-10-06   1.007386   0.992322   1.039117   0.973656   0.997243   1.040231   \n",
       "2018-10-07   1.025454   0.991152   1.039927   0.969935   1.005089   1.045479   \n",
       "2018-10-08   1.024843   0.994686   1.041628   0.963041   1.007589   1.018929   \n",
       "2018-10-09   1.005882   0.992824   1.031504   0.977618   0.996326   1.029602   \n",
       "2018-10-10   1.016241   1.010512   1.034094   0.966641   1.000204   1.038449   \n",
       "\n",
       "            000007.SZ  000008.SZ  000009.SZ  000010.SZ  \n",
       "2018-10-01   0.997750   1.005856   0.998098   1.002823  \n",
       "2018-10-02   1.013288   1.011561   1.004161   0.997290  \n",
       "2018-10-03   1.011758   0.998974   1.003030   0.989348  \n",
       "2018-10-04   0.998469   1.005489   1.006396   0.978051  \n",
       "2018-10-05   0.988646   1.003333   0.998997   0.973161  \n",
       "2018-10-06   0.988054   0.994860   1.000241   0.987741  \n",
       "2018-10-07   0.994592   0.990175   1.006183   0.986911  \n",
       "2018-10-08   0.975443   0.978674   1.006633   0.987885  \n",
       "2018-10-09   0.975918   0.967578   1.000479   0.992147  \n",
       "2018-10-10   0.978626   0.974516   1.001053   0.985168  "
      ]
     },
     "execution_count": 169,
     "metadata": {},
     "output_type": "execute_result"
    }
   ],
   "source": [
    "(1 + sim_ret).cumprod()"
   ]
  },
  {
   "cell_type": "markdown",
   "metadata": {},
   "source": [
    "quantile可以用来计算分位数,在指数编制时经常需要进行诸如“剔除流动性后20%的股票”这样的操作，quantile可以迅速计算分位数"
   ]
  },
  {
   "cell_type": "code",
   "execution_count": 170,
   "metadata": {
    "scrolled": true
   },
   "outputs": [
    {
     "data": {
      "text/plain": [
       "2018-10-01   -0.004232\n",
       "2018-10-02   -0.004283\n",
       "2018-10-03   -0.008361\n",
       "2018-10-04   -0.008880\n",
       "2018-10-05   -0.007849\n",
       "2018-10-06   -0.002168\n",
       "2018-10-07   -0.001708\n",
       "2018-10-08   -0.013143\n",
       "2018-10-09   -0.011210\n",
       "2018-10-10   -0.000947\n",
       "Freq: D, Name: 0.2, dtype: float64"
      ]
     },
     "execution_count": 170,
     "metadata": {},
     "output_type": "execute_result"
    }
   ],
   "source": [
    "sim_ret.quantile(0.2, axis=1)"
   ]
  },
  {
   "cell_type": "code",
   "execution_count": 175,
   "metadata": {
    "scrolled": true
   },
   "outputs": [
    {
     "data": {
      "text/html": [
       "<div>\n",
       "<style scoped>\n",
       "    .dataframe tbody tr th:only-of-type {\n",
       "        vertical-align: middle;\n",
       "    }\n",
       "\n",
       "    .dataframe tbody tr th {\n",
       "        vertical-align: top;\n",
       "    }\n",
       "\n",
       "    .dataframe thead th {\n",
       "        text-align: right;\n",
       "    }\n",
       "</style>\n",
       "<table border=\"1\" class=\"dataframe\">\n",
       "  <thead>\n",
       "    <tr style=\"text-align: right;\">\n",
       "      <th></th>\n",
       "      <th>000001.SZ</th>\n",
       "      <th>000002.SZ</th>\n",
       "      <th>000003.SZ</th>\n",
       "      <th>000004.SZ</th>\n",
       "      <th>000005.SZ</th>\n",
       "      <th>000006.SZ</th>\n",
       "      <th>000007.SZ</th>\n",
       "      <th>000008.SZ</th>\n",
       "      <th>000009.SZ</th>\n",
       "      <th>000010.SZ</th>\n",
       "    </tr>\n",
       "  </thead>\n",
       "  <tbody>\n",
       "    <tr>\n",
       "      <th>2018-10-01</th>\n",
       "      <td>True</td>\n",
       "      <td>True</td>\n",
       "      <td>True</td>\n",
       "      <td>False</td>\n",
       "      <td>False</td>\n",
       "      <td>True</td>\n",
       "      <td>True</td>\n",
       "      <td>True</td>\n",
       "      <td>True</td>\n",
       "      <td>True</td>\n",
       "    </tr>\n",
       "    <tr>\n",
       "      <th>2018-10-02</th>\n",
       "      <td>True</td>\n",
       "      <td>False</td>\n",
       "      <td>True</td>\n",
       "      <td>True</td>\n",
       "      <td>True</td>\n",
       "      <td>True</td>\n",
       "      <td>True</td>\n",
       "      <td>True</td>\n",
       "      <td>True</td>\n",
       "      <td>False</td>\n",
       "    </tr>\n",
       "    <tr>\n",
       "      <th>2018-10-03</th>\n",
       "      <td>True</td>\n",
       "      <td>True</td>\n",
       "      <td>True</td>\n",
       "      <td>False</td>\n",
       "      <td>True</td>\n",
       "      <td>True</td>\n",
       "      <td>True</td>\n",
       "      <td>False</td>\n",
       "      <td>True</td>\n",
       "      <td>True</td>\n",
       "    </tr>\n",
       "    <tr>\n",
       "      <th>2018-10-04</th>\n",
       "      <td>True</td>\n",
       "      <td>True</td>\n",
       "      <td>True</td>\n",
       "      <td>True</td>\n",
       "      <td>True</td>\n",
       "      <td>True</td>\n",
       "      <td>False</td>\n",
       "      <td>True</td>\n",
       "      <td>True</td>\n",
       "      <td>False</td>\n",
       "    </tr>\n",
       "    <tr>\n",
       "      <th>2018-10-05</th>\n",
       "      <td>True</td>\n",
       "      <td>True</td>\n",
       "      <td>True</td>\n",
       "      <td>False</td>\n",
       "      <td>True</td>\n",
       "      <td>True</td>\n",
       "      <td>False</td>\n",
       "      <td>True</td>\n",
       "      <td>True</td>\n",
       "      <td>True</td>\n",
       "    </tr>\n",
       "    <tr>\n",
       "      <th>2018-10-06</th>\n",
       "      <td>False</td>\n",
       "      <td>True</td>\n",
       "      <td>True</td>\n",
       "      <td>True</td>\n",
       "      <td>True</td>\n",
       "      <td>True</td>\n",
       "      <td>True</td>\n",
       "      <td>False</td>\n",
       "      <td>True</td>\n",
       "      <td>True</td>\n",
       "    </tr>\n",
       "    <tr>\n",
       "      <th>2018-10-07</th>\n",
       "      <td>True</td>\n",
       "      <td>True</td>\n",
       "      <td>True</td>\n",
       "      <td>False</td>\n",
       "      <td>True</td>\n",
       "      <td>True</td>\n",
       "      <td>True</td>\n",
       "      <td>False</td>\n",
       "      <td>True</td>\n",
       "      <td>True</td>\n",
       "    </tr>\n",
       "    <tr>\n",
       "      <th>2018-10-08</th>\n",
       "      <td>True</td>\n",
       "      <td>True</td>\n",
       "      <td>True</td>\n",
       "      <td>True</td>\n",
       "      <td>True</td>\n",
       "      <td>False</td>\n",
       "      <td>False</td>\n",
       "      <td>True</td>\n",
       "      <td>True</td>\n",
       "      <td>True</td>\n",
       "    </tr>\n",
       "    <tr>\n",
       "      <th>2018-10-09</th>\n",
       "      <td>False</td>\n",
       "      <td>True</td>\n",
       "      <td>True</td>\n",
       "      <td>True</td>\n",
       "      <td>True</td>\n",
       "      <td>True</td>\n",
       "      <td>True</td>\n",
       "      <td>False</td>\n",
       "      <td>True</td>\n",
       "      <td>True</td>\n",
       "    </tr>\n",
       "    <tr>\n",
       "      <th>2018-10-10</th>\n",
       "      <td>True</td>\n",
       "      <td>True</td>\n",
       "      <td>True</td>\n",
       "      <td>False</td>\n",
       "      <td>True</td>\n",
       "      <td>True</td>\n",
       "      <td>True</td>\n",
       "      <td>True</td>\n",
       "      <td>True</td>\n",
       "      <td>False</td>\n",
       "    </tr>\n",
       "  </tbody>\n",
       "</table>\n",
       "</div>"
      ],
      "text/plain": [
       "            000001.SZ  000002.SZ  000003.SZ  000004.SZ  000005.SZ  000006.SZ  \\\n",
       "2018-10-01       True       True       True      False      False       True   \n",
       "2018-10-02       True      False       True       True       True       True   \n",
       "2018-10-03       True       True       True      False       True       True   \n",
       "2018-10-04       True       True       True       True       True       True   \n",
       "2018-10-05       True       True       True      False       True       True   \n",
       "2018-10-06      False       True       True       True       True       True   \n",
       "2018-10-07       True       True       True      False       True       True   \n",
       "2018-10-08       True       True       True       True       True      False   \n",
       "2018-10-09      False       True       True       True       True       True   \n",
       "2018-10-10       True       True       True      False       True       True   \n",
       "\n",
       "            000007.SZ  000008.SZ  000009.SZ  000010.SZ  \n",
       "2018-10-01       True       True       True       True  \n",
       "2018-10-02       True       True       True      False  \n",
       "2018-10-03       True      False       True       True  \n",
       "2018-10-04      False       True       True      False  \n",
       "2018-10-05      False       True       True       True  \n",
       "2018-10-06       True      False       True       True  \n",
       "2018-10-07       True      False       True       True  \n",
       "2018-10-08      False       True       True       True  \n",
       "2018-10-09       True      False       True       True  \n",
       "2018-10-10       True       True       True      False  "
      ]
     },
     "execution_count": 175,
     "metadata": {},
     "output_type": "execute_result"
    }
   ],
   "source": [
    "sim_ret.ge(sim_ret.quantile(0.2,  axis=1), axis=0)"
   ]
  },
  {
   "cell_type": "code",
   "execution_count": 177,
   "metadata": {
    "scrolled": true
   },
   "outputs": [
    {
     "data": {
      "text/html": [
       "<div>\n",
       "<style scoped>\n",
       "    .dataframe tbody tr th:only-of-type {\n",
       "        vertical-align: middle;\n",
       "    }\n",
       "\n",
       "    .dataframe tbody tr th {\n",
       "        vertical-align: top;\n",
       "    }\n",
       "\n",
       "    .dataframe thead th {\n",
       "        text-align: right;\n",
       "    }\n",
       "</style>\n",
       "<table border=\"1\" class=\"dataframe\">\n",
       "  <thead>\n",
       "    <tr style=\"text-align: right;\">\n",
       "      <th></th>\n",
       "      <th>2018-10-01 00:00:00</th>\n",
       "      <th>2018-10-02 00:00:00</th>\n",
       "      <th>2018-10-03 00:00:00</th>\n",
       "      <th>2018-10-04 00:00:00</th>\n",
       "      <th>2018-10-05 00:00:00</th>\n",
       "      <th>2018-10-06 00:00:00</th>\n",
       "      <th>2018-10-07 00:00:00</th>\n",
       "      <th>2018-10-08 00:00:00</th>\n",
       "      <th>2018-10-09 00:00:00</th>\n",
       "      <th>2018-10-10 00:00:00</th>\n",
       "    </tr>\n",
       "  </thead>\n",
       "  <tbody>\n",
       "    <tr>\n",
       "      <th>0.2</th>\n",
       "      <td>-0.004232</td>\n",
       "      <td>-0.004283</td>\n",
       "      <td>-0.008361</td>\n",
       "      <td>-0.008880</td>\n",
       "      <td>-0.007849</td>\n",
       "      <td>-0.002168</td>\n",
       "      <td>-0.001708</td>\n",
       "      <td>-0.013143</td>\n",
       "      <td>-0.011210</td>\n",
       "      <td>-0.000947</td>\n",
       "    </tr>\n",
       "    <tr>\n",
       "      <th>0.4</th>\n",
       "      <td>-0.002041</td>\n",
       "      <td>0.005913</td>\n",
       "      <td>-0.003426</td>\n",
       "      <td>-0.007509</td>\n",
       "      <td>-0.004781</td>\n",
       "      <td>0.001010</td>\n",
       "      <td>0.000132</td>\n",
       "      <td>-0.003201</td>\n",
       "      <td>-0.007556</td>\n",
       "      <td>0.002670</td>\n",
       "    </tr>\n",
       "  </tbody>\n",
       "</table>\n",
       "</div>"
      ],
      "text/plain": [
       "     2018-10-01  2018-10-02  2018-10-03  2018-10-04  2018-10-05  2018-10-06  \\\n",
       "0.2   -0.004232   -0.004283   -0.008361   -0.008880   -0.007849   -0.002168   \n",
       "0.4   -0.002041    0.005913   -0.003426   -0.007509   -0.004781    0.001010   \n",
       "\n",
       "     2018-10-07  2018-10-08  2018-10-09  2018-10-10  \n",
       "0.2   -0.001708   -0.013143   -0.011210   -0.000947  \n",
       "0.4    0.000132   -0.003201   -0.007556    0.002670  "
      ]
     },
     "execution_count": 177,
     "metadata": {},
     "output_type": "execute_result"
    }
   ],
   "source": [
    "sim_ret.quantile([0.2, 0.4], axis=1)"
   ]
  },
  {
   "cell_type": "markdown",
   "metadata": {},
   "source": [
    "quantile的功能远比我们想想的丰富，还可以选择分位数的产生方式，如11个数的20%分位数落在第二个和第三个数之间，通过更改interpolation参数可以选择线性插值，较大的数，较小的数，最近的数等等选项。"
   ]
  },
  {
   "attachments": {
    "image.png": {
     "image/png": "[encoded data removed]"
    }
   },
   "cell_type": "markdown",
   "metadata": {},
   "source": [
    "![image.png](attachment:image.png)"
   ]
  },
  {
   "cell_type": "markdown",
   "metadata": {},
   "source": [
    "其实大部分的pandas函数都是这样，一般具有非常多的参数以实现不同的选项，但基本每个参数都设置了默认参数，平时调用时使用默认参数就好，需要实现进阶功能的时候就需要阅读相关文档"
   ]
  },
  {
   "cell_type": "markdown",
   "metadata": {},
   "source": [
    "常用的描述性函数如下，在此不一一介绍"
   ]
  },
  {
   "attachments": {
    "image.png": {
     "image/png": "[encoded data removed]"
    }
   },
   "cell_type": "markdown",
   "metadata": {},
   "source": [
    "![image.png](attachment:image.png)"
   ]
  },
  {
   "cell_type": "markdown",
   "metadata": {},
   "source": [
    "这些函数基本上都适用于Series"
   ]
  },
  {
   "cell_type": "markdown",
   "metadata": {},
   "source": [
    "如果想简单的看以下数据的各种汇总统计,DataFrame提供了describe方法"
   ]
  },
  {
   "cell_type": "code",
   "execution_count": 180,
   "metadata": {},
   "outputs": [
    {
     "data": {
      "text/html": [
       "<div>\n",
       "<style scoped>\n",
       "    .dataframe tbody tr th:only-of-type {\n",
       "        vertical-align: middle;\n",
       "    }\n",
       "\n",
       "    .dataframe tbody tr th {\n",
       "        vertical-align: top;\n",
       "    }\n",
       "\n",
       "    .dataframe thead th {\n",
       "        text-align: right;\n",
       "    }\n",
       "</style>\n",
       "<table border=\"1\" class=\"dataframe\">\n",
       "  <thead>\n",
       "    <tr style=\"text-align: right;\">\n",
       "      <th></th>\n",
       "      <th>000001.SZ</th>\n",
       "      <th>000002.SZ</th>\n",
       "      <th>000003.SZ</th>\n",
       "      <th>000004.SZ</th>\n",
       "      <th>000005.SZ</th>\n",
       "      <th>000006.SZ</th>\n",
       "      <th>000007.SZ</th>\n",
       "      <th>000008.SZ</th>\n",
       "      <th>000009.SZ</th>\n",
       "      <th>000010.SZ</th>\n",
       "    </tr>\n",
       "  </thead>\n",
       "  <tbody>\n",
       "    <tr>\n",
       "      <th>2018-10-01</th>\n",
       "      <td>0.005679</td>\n",
       "      <td>-0.004090</td>\n",
       "      <td>0.007055</td>\n",
       "      <td>-0.017585</td>\n",
       "      <td>-0.004799</td>\n",
       "      <td>0.012054</td>\n",
       "      <td>-0.002250</td>\n",
       "      <td>0.005856</td>\n",
       "      <td>-0.001902</td>\n",
       "      <td>0.002823</td>\n",
       "    </tr>\n",
       "    <tr>\n",
       "      <th>2018-10-02</th>\n",
       "      <td>0.013872</td>\n",
       "      <td>-0.004448</td>\n",
       "      <td>0.017916</td>\n",
       "      <td>-0.004242</td>\n",
       "      <td>0.006120</td>\n",
       "      <td>0.007005</td>\n",
       "      <td>0.015573</td>\n",
       "      <td>0.005672</td>\n",
       "      <td>0.006074</td>\n",
       "      <td>-0.005518</td>\n",
       "    </tr>\n",
       "    <tr>\n",
       "      <th>2018-10-03</th>\n",
       "      <td>-0.005454</td>\n",
       "      <td>-0.002074</td>\n",
       "      <td>0.002222</td>\n",
       "      <td>-0.009948</td>\n",
       "      <td>-0.000781</td>\n",
       "      <td>0.019879</td>\n",
       "      <td>-0.001510</td>\n",
       "      <td>-0.012444</td>\n",
       "      <td>-0.001126</td>\n",
       "      <td>-0.007964</td>\n",
       "    </tr>\n",
       "    <tr>\n",
       "      <th>2018-10-04</th>\n",
       "      <td>-0.008246</td>\n",
       "      <td>-0.007559</td>\n",
       "      <td>0.003086</td>\n",
       "      <td>0.008370</td>\n",
       "      <td>-0.007475</td>\n",
       "      <td>-0.002190</td>\n",
       "      <td>-0.013135</td>\n",
       "      <td>0.006522</td>\n",
       "      <td>0.003356</td>\n",
       "      <td>-0.011418</td>\n",
       "    </tr>\n",
       "    <tr>\n",
       "      <th>2018-10-05</th>\n",
       "      <td>0.018312</td>\n",
       "      <td>0.009903</td>\n",
       "      <td>0.003254</td>\n",
       "      <td>-0.010896</td>\n",
       "      <td>-0.004635</td>\n",
       "      <td>0.001458</td>\n",
       "      <td>-0.009837</td>\n",
       "      <td>-0.002144</td>\n",
       "      <td>-0.007351</td>\n",
       "      <td>-0.005000</td>\n",
       "    </tr>\n",
       "    <tr>\n",
       "      <th>2018-10-06</th>\n",
       "      <td>-0.016343</td>\n",
       "      <td>0.000658</td>\n",
       "      <td>0.005048</td>\n",
       "      <td>0.007946</td>\n",
       "      <td>0.008919</td>\n",
       "      <td>0.001533</td>\n",
       "      <td>-0.000599</td>\n",
       "      <td>-0.008445</td>\n",
       "      <td>0.001245</td>\n",
       "      <td>0.014982</td>\n",
       "    </tr>\n",
       "    <tr>\n",
       "      <th>2018-10-07</th>\n",
       "      <td>0.017936</td>\n",
       "      <td>-0.001179</td>\n",
       "      <td>0.000780</td>\n",
       "      <td>-0.003822</td>\n",
       "      <td>0.007867</td>\n",
       "      <td>0.005045</td>\n",
       "      <td>0.006617</td>\n",
       "      <td>-0.004708</td>\n",
       "      <td>0.005941</td>\n",
       "      <td>-0.000840</td>\n",
       "    </tr>\n",
       "    <tr>\n",
       "      <th>2018-10-08</th>\n",
       "      <td>-0.000596</td>\n",
       "      <td>0.003565</td>\n",
       "      <td>0.001636</td>\n",
       "      <td>-0.007108</td>\n",
       "      <td>0.002488</td>\n",
       "      <td>-0.025396</td>\n",
       "      <td>-0.019253</td>\n",
       "      <td>-0.011616</td>\n",
       "      <td>0.000447</td>\n",
       "      <td>0.000986</td>\n",
       "    </tr>\n",
       "    <tr>\n",
       "      <th>2018-10-09</th>\n",
       "      <td>-0.018501</td>\n",
       "      <td>-0.001872</td>\n",
       "      <td>-0.009720</td>\n",
       "      <td>0.015137</td>\n",
       "      <td>-0.011178</td>\n",
       "      <td>0.010475</td>\n",
       "      <td>0.000487</td>\n",
       "      <td>-0.011337</td>\n",
       "      <td>-0.006114</td>\n",
       "      <td>0.004314</td>\n",
       "    </tr>\n",
       "    <tr>\n",
       "      <th>2018-10-10</th>\n",
       "      <td>0.010298</td>\n",
       "      <td>0.017816</td>\n",
       "      <td>0.002511</td>\n",
       "      <td>-0.011229</td>\n",
       "      <td>0.003893</td>\n",
       "      <td>0.008592</td>\n",
       "      <td>0.002775</td>\n",
       "      <td>0.007171</td>\n",
       "      <td>0.000574</td>\n",
       "      <td>-0.007034</td>\n",
       "    </tr>\n",
       "  </tbody>\n",
       "</table>\n",
       "</div>"
      ],
      "text/plain": [
       "            000001.SZ  000002.SZ  000003.SZ  000004.SZ  000005.SZ  000006.SZ  \\\n",
       "2018-10-01   0.005679  -0.004090   0.007055  -0.017585  -0.004799   0.012054   \n",
       "2018-10-02   0.013872  -0.004448   0.017916  -0.004242   0.006120   0.007005   \n",
       "2018-10-03  -0.005454  -0.002074   0.002222  -0.009948  -0.000781   0.019879   \n",
       "2018-10-04  -0.008246  -0.007559   0.003086   0.008370  -0.007475  -0.002190   \n",
       "2018-10-05   0.018312   0.009903   0.003254  -0.010896  -0.004635   0.001458   \n",
       "2018-10-06  -0.016343   0.000658   0.005048   0.007946   0.008919   0.001533   \n",
       "2018-10-07   0.017936  -0.001179   0.000780  -0.003822   0.007867   0.005045   \n",
       "2018-10-08  -0.000596   0.003565   0.001636  -0.007108   0.002488  -0.025396   \n",
       "2018-10-09  -0.018501  -0.001872  -0.009720   0.015137  -0.011178   0.010475   \n",
       "2018-10-10   0.010298   0.017816   0.002511  -0.011229   0.003893   0.008592   \n",
       "\n",
       "            000007.SZ  000008.SZ  000009.SZ  000010.SZ  \n",
       "2018-10-01  -0.002250   0.005856  -0.001902   0.002823  \n",
       "2018-10-02   0.015573   0.005672   0.006074  -0.005518  \n",
       "2018-10-03  -0.001510  -0.012444  -0.001126  -0.007964  \n",
       "2018-10-04  -0.013135   0.006522   0.003356  -0.011418  \n",
       "2018-10-05  -0.009837  -0.002144  -0.007351  -0.005000  \n",
       "2018-10-06  -0.000599  -0.008445   0.001245   0.014982  \n",
       "2018-10-07   0.006617  -0.004708   0.005941  -0.000840  \n",
       "2018-10-08  -0.019253  -0.011616   0.000447   0.000986  \n",
       "2018-10-09   0.000487  -0.011337  -0.006114   0.004314  \n",
       "2018-10-10   0.002775   0.007171   0.000574  -0.007034  "
      ]
     },
     "execution_count": 180,
     "metadata": {},
     "output_type": "execute_result"
    }
   ],
   "source": [
    "sim_ret"
   ]
  },
  {
   "cell_type": "code",
   "execution_count": 181,
   "metadata": {},
   "outputs": [
    {
     "data": {
      "text/html": [
       "<div>\n",
       "<style scoped>\n",
       "    .dataframe tbody tr th:only-of-type {\n",
       "        vertical-align: middle;\n",
       "    }\n",
       "\n",
       "    .dataframe tbody tr th {\n",
       "        vertical-align: top;\n",
       "    }\n",
       "\n",
       "    .dataframe thead th {\n",
       "        text-align: right;\n",
       "    }\n",
       "</style>\n",
       "<table border=\"1\" class=\"dataframe\">\n",
       "  <thead>\n",
       "    <tr style=\"text-align: right;\">\n",
       "      <th></th>\n",
       "      <th>000001.SZ</th>\n",
       "      <th>000002.SZ</th>\n",
       "      <th>000003.SZ</th>\n",
       "      <th>000004.SZ</th>\n",
       "      <th>000005.SZ</th>\n",
       "      <th>000006.SZ</th>\n",
       "      <th>000007.SZ</th>\n",
       "      <th>000008.SZ</th>\n",
       "      <th>000009.SZ</th>\n",
       "      <th>000010.SZ</th>\n",
       "    </tr>\n",
       "  </thead>\n",
       "  <tbody>\n",
       "    <tr>\n",
       "      <th>count</th>\n",
       "      <td>10.000000</td>\n",
       "      <td>10.000000</td>\n",
       "      <td>10.000000</td>\n",
       "      <td>10.000000</td>\n",
       "      <td>10.000000</td>\n",
       "      <td>10.000000</td>\n",
       "      <td>10.000000</td>\n",
       "      <td>10.000000</td>\n",
       "      <td>10.000000</td>\n",
       "      <td>10.000000</td>\n",
       "    </tr>\n",
       "    <tr>\n",
       "      <th>mean</th>\n",
       "      <td>0.001696</td>\n",
       "      <td>0.001072</td>\n",
       "      <td>0.003379</td>\n",
       "      <td>-0.003338</td>\n",
       "      <td>0.000042</td>\n",
       "      <td>0.003846</td>\n",
       "      <td>-0.002113</td>\n",
       "      <td>-0.002547</td>\n",
       "      <td>0.000114</td>\n",
       "      <td>-0.001467</td>\n",
       "    </tr>\n",
       "    <tr>\n",
       "      <th>std</th>\n",
       "      <td>0.013607</td>\n",
       "      <td>0.007601</td>\n",
       "      <td>0.006759</td>\n",
       "      <td>0.010472</td>\n",
       "      <td>0.006881</td>\n",
       "      <td>0.012041</td>\n",
       "      <td>0.009985</td>\n",
       "      <td>0.008246</td>\n",
       "      <td>0.004493</td>\n",
       "      <td>0.007673</td>\n",
       "    </tr>\n",
       "    <tr>\n",
       "      <th>min</th>\n",
       "      <td>-0.018501</td>\n",
       "      <td>-0.007559</td>\n",
       "      <td>-0.009720</td>\n",
       "      <td>-0.017585</td>\n",
       "      <td>-0.011178</td>\n",
       "      <td>-0.025396</td>\n",
       "      <td>-0.019253</td>\n",
       "      <td>-0.012444</td>\n",
       "      <td>-0.007351</td>\n",
       "      <td>-0.011418</td>\n",
       "    </tr>\n",
       "    <tr>\n",
       "      <th>25%</th>\n",
       "      <td>-0.007548</td>\n",
       "      <td>-0.003586</td>\n",
       "      <td>0.001782</td>\n",
       "      <td>-0.010659</td>\n",
       "      <td>-0.004758</td>\n",
       "      <td>0.001477</td>\n",
       "      <td>-0.007941</td>\n",
       "      <td>-0.010614</td>\n",
       "      <td>-0.001708</td>\n",
       "      <td>-0.006655</td>\n",
       "    </tr>\n",
       "    <tr>\n",
       "      <th>50%</th>\n",
       "      <td>0.002541</td>\n",
       "      <td>-0.001525</td>\n",
       "      <td>0.002798</td>\n",
       "      <td>-0.005675</td>\n",
       "      <td>0.000853</td>\n",
       "      <td>0.006025</td>\n",
       "      <td>-0.001055</td>\n",
       "      <td>-0.003426</td>\n",
       "      <td>0.000511</td>\n",
       "      <td>-0.002920</td>\n",
       "    </tr>\n",
       "    <tr>\n",
       "      <th>75%</th>\n",
       "      <td>0.012978</td>\n",
       "      <td>0.002838</td>\n",
       "      <td>0.004599</td>\n",
       "      <td>0.005004</td>\n",
       "      <td>0.005563</td>\n",
       "      <td>0.010005</td>\n",
       "      <td>0.002203</td>\n",
       "      <td>0.005810</td>\n",
       "      <td>0.002828</td>\n",
       "      <td>0.002364</td>\n",
       "    </tr>\n",
       "    <tr>\n",
       "      <th>max</th>\n",
       "      <td>0.018312</td>\n",
       "      <td>0.017816</td>\n",
       "      <td>0.017916</td>\n",
       "      <td>0.015137</td>\n",
       "      <td>0.008919</td>\n",
       "      <td>0.019879</td>\n",
       "      <td>0.015573</td>\n",
       "      <td>0.007171</td>\n",
       "      <td>0.006074</td>\n",
       "      <td>0.014982</td>\n",
       "    </tr>\n",
       "  </tbody>\n",
       "</table>\n",
       "</div>"
      ],
      "text/plain": [
       "       000001.SZ  000002.SZ  000003.SZ  000004.SZ  000005.SZ  000006.SZ  \\\n",
       "count  10.000000  10.000000  10.000000  10.000000  10.000000  10.000000   \n",
       "mean    0.001696   0.001072   0.003379  -0.003338   0.000042   0.003846   \n",
       "std     0.013607   0.007601   0.006759   0.010472   0.006881   0.012041   \n",
       "min    -0.018501  -0.007559  -0.009720  -0.017585  -0.011178  -0.025396   \n",
       "25%    -0.007548  -0.003586   0.001782  -0.010659  -0.004758   0.001477   \n",
       "50%     0.002541  -0.001525   0.002798  -0.005675   0.000853   0.006025   \n",
       "75%     0.012978   0.002838   0.004599   0.005004   0.005563   0.010005   \n",
       "max     0.018312   0.017816   0.017916   0.015137   0.008919   0.019879   \n",
       "\n",
       "       000007.SZ  000008.SZ  000009.SZ  000010.SZ  \n",
       "count  10.000000  10.000000  10.000000  10.000000  \n",
       "mean   -0.002113  -0.002547   0.000114  -0.001467  \n",
       "std     0.009985   0.008246   0.004493   0.007673  \n",
       "min    -0.019253  -0.012444  -0.007351  -0.011418  \n",
       "25%    -0.007941  -0.010614  -0.001708  -0.006655  \n",
       "50%    -0.001055  -0.003426   0.000511  -0.002920  \n",
       "75%     0.002203   0.005810   0.002828   0.002364  \n",
       "max     0.015573   0.007171   0.006074   0.014982  "
      ]
     },
     "execution_count": 181,
     "metadata": {},
     "output_type": "execute_result"
    }
   ],
   "source": [
    "sim_ret.describe()"
   ]
  },
  {
   "cell_type": "markdown",
   "metadata": {},
   "source": [
    "### Avoid For loops"
   ]
  },
  {
   "cell_type": "code",
   "execution_count": 188,
   "metadata": {},
   "outputs": [
    {
     "data": {
      "text/html": [
       "<div>\n",
       "<style scoped>\n",
       "    .dataframe tbody tr th:only-of-type {\n",
       "        vertical-align: middle;\n",
       "    }\n",
       "\n",
       "    .dataframe tbody tr th {\n",
       "        vertical-align: top;\n",
       "    }\n",
       "\n",
       "    .dataframe thead th {\n",
       "        text-align: right;\n",
       "    }\n",
       "</style>\n",
       "<table border=\"1\" class=\"dataframe\">\n",
       "  <thead>\n",
       "    <tr style=\"text-align: right;\">\n",
       "      <th></th>\n",
       "      <th>000001.SZ</th>\n",
       "      <th>000002.SZ</th>\n",
       "      <th>000003.SZ</th>\n",
       "      <th>000004.SZ</th>\n",
       "      <th>000005.SZ</th>\n",
       "      <th>000006.SZ</th>\n",
       "      <th>000007.SZ</th>\n",
       "      <th>000008.SZ</th>\n",
       "      <th>000009.SZ</th>\n",
       "      <th>000010.SZ</th>\n",
       "    </tr>\n",
       "  </thead>\n",
       "  <tbody>\n",
       "    <tr>\n",
       "      <th>2018-10-01</th>\n",
       "      <td>0.005679</td>\n",
       "      <td>-0.004090</td>\n",
       "      <td>0.007055</td>\n",
       "      <td>-0.017585</td>\n",
       "      <td>-0.004799</td>\n",
       "      <td>0.012054</td>\n",
       "      <td>-0.002250</td>\n",
       "      <td>0.005856</td>\n",
       "      <td>-0.001902</td>\n",
       "      <td>0.002823</td>\n",
       "    </tr>\n",
       "    <tr>\n",
       "      <th>2018-10-02</th>\n",
       "      <td>0.013872</td>\n",
       "      <td>-0.004448</td>\n",
       "      <td>0.017916</td>\n",
       "      <td>-0.004242</td>\n",
       "      <td>0.006120</td>\n",
       "      <td>0.007005</td>\n",
       "      <td>0.015573</td>\n",
       "      <td>0.005672</td>\n",
       "      <td>0.006074</td>\n",
       "      <td>-0.005518</td>\n",
       "    </tr>\n",
       "    <tr>\n",
       "      <th>2018-10-03</th>\n",
       "      <td>-0.005454</td>\n",
       "      <td>-0.002074</td>\n",
       "      <td>0.002222</td>\n",
       "      <td>-0.009948</td>\n",
       "      <td>-0.000781</td>\n",
       "      <td>0.019879</td>\n",
       "      <td>-0.001510</td>\n",
       "      <td>-0.012444</td>\n",
       "      <td>-0.001126</td>\n",
       "      <td>-0.007964</td>\n",
       "    </tr>\n",
       "    <tr>\n",
       "      <th>2018-10-04</th>\n",
       "      <td>-0.008246</td>\n",
       "      <td>-0.007559</td>\n",
       "      <td>0.003086</td>\n",
       "      <td>0.008370</td>\n",
       "      <td>-0.007475</td>\n",
       "      <td>-0.002190</td>\n",
       "      <td>-0.013135</td>\n",
       "      <td>0.006522</td>\n",
       "      <td>0.003356</td>\n",
       "      <td>-0.011418</td>\n",
       "    </tr>\n",
       "    <tr>\n",
       "      <th>2018-10-05</th>\n",
       "      <td>0.018312</td>\n",
       "      <td>0.009903</td>\n",
       "      <td>0.003254</td>\n",
       "      <td>-0.010896</td>\n",
       "      <td>-0.004635</td>\n",
       "      <td>0.001458</td>\n",
       "      <td>-0.009837</td>\n",
       "      <td>-0.002144</td>\n",
       "      <td>-0.007351</td>\n",
       "      <td>-0.005000</td>\n",
       "    </tr>\n",
       "    <tr>\n",
       "      <th>2018-10-06</th>\n",
       "      <td>-0.016343</td>\n",
       "      <td>0.000658</td>\n",
       "      <td>0.005048</td>\n",
       "      <td>0.007946</td>\n",
       "      <td>0.008919</td>\n",
       "      <td>0.001533</td>\n",
       "      <td>-0.000599</td>\n",
       "      <td>-0.008445</td>\n",
       "      <td>0.001245</td>\n",
       "      <td>0.014982</td>\n",
       "    </tr>\n",
       "    <tr>\n",
       "      <th>2018-10-07</th>\n",
       "      <td>0.017936</td>\n",
       "      <td>-0.001179</td>\n",
       "      <td>0.000780</td>\n",
       "      <td>-0.003822</td>\n",
       "      <td>0.007867</td>\n",
       "      <td>0.005045</td>\n",
       "      <td>0.006617</td>\n",
       "      <td>-0.004708</td>\n",
       "      <td>0.005941</td>\n",
       "      <td>-0.000840</td>\n",
       "    </tr>\n",
       "    <tr>\n",
       "      <th>2018-10-08</th>\n",
       "      <td>-0.000596</td>\n",
       "      <td>0.003565</td>\n",
       "      <td>0.001636</td>\n",
       "      <td>-0.007108</td>\n",
       "      <td>0.002488</td>\n",
       "      <td>-0.025396</td>\n",
       "      <td>-0.019253</td>\n",
       "      <td>-0.011616</td>\n",
       "      <td>0.000447</td>\n",
       "      <td>0.000986</td>\n",
       "    </tr>\n",
       "    <tr>\n",
       "      <th>2018-10-09</th>\n",
       "      <td>-0.018501</td>\n",
       "      <td>-0.001872</td>\n",
       "      <td>-0.009720</td>\n",
       "      <td>0.015137</td>\n",
       "      <td>-0.011178</td>\n",
       "      <td>0.010475</td>\n",
       "      <td>0.000487</td>\n",
       "      <td>-0.011337</td>\n",
       "      <td>-0.006114</td>\n",
       "      <td>0.004314</td>\n",
       "    </tr>\n",
       "    <tr>\n",
       "      <th>2018-10-10</th>\n",
       "      <td>0.010298</td>\n",
       "      <td>0.017816</td>\n",
       "      <td>0.002511</td>\n",
       "      <td>-0.011229</td>\n",
       "      <td>0.003893</td>\n",
       "      <td>0.008592</td>\n",
       "      <td>0.002775</td>\n",
       "      <td>0.007171</td>\n",
       "      <td>0.000574</td>\n",
       "      <td>-0.007034</td>\n",
       "    </tr>\n",
       "  </tbody>\n",
       "</table>\n",
       "</div>"
      ],
      "text/plain": [
       "            000001.SZ  000002.SZ  000003.SZ  000004.SZ  000005.SZ  000006.SZ  \\\n",
       "2018-10-01   0.005679  -0.004090   0.007055  -0.017585  -0.004799   0.012054   \n",
       "2018-10-02   0.013872  -0.004448   0.017916  -0.004242   0.006120   0.007005   \n",
       "2018-10-03  -0.005454  -0.002074   0.002222  -0.009948  -0.000781   0.019879   \n",
       "2018-10-04  -0.008246  -0.007559   0.003086   0.008370  -0.007475  -0.002190   \n",
       "2018-10-05   0.018312   0.009903   0.003254  -0.010896  -0.004635   0.001458   \n",
       "2018-10-06  -0.016343   0.000658   0.005048   0.007946   0.008919   0.001533   \n",
       "2018-10-07   0.017936  -0.001179   0.000780  -0.003822   0.007867   0.005045   \n",
       "2018-10-08  -0.000596   0.003565   0.001636  -0.007108   0.002488  -0.025396   \n",
       "2018-10-09  -0.018501  -0.001872  -0.009720   0.015137  -0.011178   0.010475   \n",
       "2018-10-10   0.010298   0.017816   0.002511  -0.011229   0.003893   0.008592   \n",
       "\n",
       "            000007.SZ  000008.SZ  000009.SZ  000010.SZ  \n",
       "2018-10-01  -0.002250   0.005856  -0.001902   0.002823  \n",
       "2018-10-02   0.015573   0.005672   0.006074  -0.005518  \n",
       "2018-10-03  -0.001510  -0.012444  -0.001126  -0.007964  \n",
       "2018-10-04  -0.013135   0.006522   0.003356  -0.011418  \n",
       "2018-10-05  -0.009837  -0.002144  -0.007351  -0.005000  \n",
       "2018-10-06  -0.000599  -0.008445   0.001245   0.014982  \n",
       "2018-10-07   0.006617  -0.004708   0.005941  -0.000840  \n",
       "2018-10-08  -0.019253  -0.011616   0.000447   0.000986  \n",
       "2018-10-09   0.000487  -0.011337  -0.006114   0.004314  \n",
       "2018-10-10   0.002775   0.007171   0.000574  -0.007034  "
      ]
     },
     "execution_count": 188,
     "metadata": {},
     "output_type": "execute_result"
    }
   ],
   "source": [
    "sim_ret"
   ]
  },
  {
   "cell_type": "markdown",
   "metadata": {},
   "source": [
    "对每一个元素都进行元素级操作，DataFrame使用applymap函数，Series使用map函数"
   ]
  },
  {
   "cell_type": "code",
   "execution_count": 187,
   "metadata": {
    "scrolled": true
   },
   "outputs": [
    {
     "data": {
      "text/html": [
       "<div>\n",
       "<style scoped>\n",
       "    .dataframe tbody tr th:only-of-type {\n",
       "        vertical-align: middle;\n",
       "    }\n",
       "\n",
       "    .dataframe tbody tr th {\n",
       "        vertical-align: top;\n",
       "    }\n",
       "\n",
       "    .dataframe thead th {\n",
       "        text-align: right;\n",
       "    }\n",
       "</style>\n",
       "<table border=\"1\" class=\"dataframe\">\n",
       "  <thead>\n",
       "    <tr style=\"text-align: right;\">\n",
       "      <th></th>\n",
       "      <th>000001.SZ</th>\n",
       "      <th>000002.SZ</th>\n",
       "      <th>000003.SZ</th>\n",
       "      <th>000004.SZ</th>\n",
       "      <th>000005.SZ</th>\n",
       "      <th>000006.SZ</th>\n",
       "      <th>000007.SZ</th>\n",
       "      <th>000008.SZ</th>\n",
       "      <th>000009.SZ</th>\n",
       "      <th>000010.SZ</th>\n",
       "    </tr>\n",
       "  </thead>\n",
       "  <tbody>\n",
       "    <tr>\n",
       "      <th>2018-10-01</th>\n",
       "      <td>正收益</td>\n",
       "      <td>负收益</td>\n",
       "      <td>正收益</td>\n",
       "      <td>负收益</td>\n",
       "      <td>负收益</td>\n",
       "      <td>正收益</td>\n",
       "      <td>负收益</td>\n",
       "      <td>正收益</td>\n",
       "      <td>负收益</td>\n",
       "      <td>正收益</td>\n",
       "    </tr>\n",
       "    <tr>\n",
       "      <th>2018-10-02</th>\n",
       "      <td>正收益</td>\n",
       "      <td>负收益</td>\n",
       "      <td>正收益</td>\n",
       "      <td>负收益</td>\n",
       "      <td>正收益</td>\n",
       "      <td>正收益</td>\n",
       "      <td>正收益</td>\n",
       "      <td>正收益</td>\n",
       "      <td>正收益</td>\n",
       "      <td>负收益</td>\n",
       "    </tr>\n",
       "    <tr>\n",
       "      <th>2018-10-03</th>\n",
       "      <td>负收益</td>\n",
       "      <td>负收益</td>\n",
       "      <td>正收益</td>\n",
       "      <td>负收益</td>\n",
       "      <td>负收益</td>\n",
       "      <td>正收益</td>\n",
       "      <td>负收益</td>\n",
       "      <td>负收益</td>\n",
       "      <td>负收益</td>\n",
       "      <td>负收益</td>\n",
       "    </tr>\n",
       "    <tr>\n",
       "      <th>2018-10-04</th>\n",
       "      <td>负收益</td>\n",
       "      <td>负收益</td>\n",
       "      <td>正收益</td>\n",
       "      <td>正收益</td>\n",
       "      <td>负收益</td>\n",
       "      <td>负收益</td>\n",
       "      <td>负收益</td>\n",
       "      <td>正收益</td>\n",
       "      <td>正收益</td>\n",
       "      <td>负收益</td>\n",
       "    </tr>\n",
       "    <tr>\n",
       "      <th>2018-10-05</th>\n",
       "      <td>正收益</td>\n",
       "      <td>正收益</td>\n",
       "      <td>正收益</td>\n",
       "      <td>负收益</td>\n",
       "      <td>负收益</td>\n",
       "      <td>正收益</td>\n",
       "      <td>负收益</td>\n",
       "      <td>负收益</td>\n",
       "      <td>负收益</td>\n",
       "      <td>负收益</td>\n",
       "    </tr>\n",
       "    <tr>\n",
       "      <th>2018-10-06</th>\n",
       "      <td>负收益</td>\n",
       "      <td>正收益</td>\n",
       "      <td>正收益</td>\n",
       "      <td>正收益</td>\n",
       "      <td>正收益</td>\n",
       "      <td>正收益</td>\n",
       "      <td>负收益</td>\n",
       "      <td>负收益</td>\n",
       "      <td>正收益</td>\n",
       "      <td>正收益</td>\n",
       "    </tr>\n",
       "    <tr>\n",
       "      <th>2018-10-07</th>\n",
       "      <td>正收益</td>\n",
       "      <td>负收益</td>\n",
       "      <td>正收益</td>\n",
       "      <td>负收益</td>\n",
       "      <td>正收益</td>\n",
       "      <td>正收益</td>\n",
       "      <td>正收益</td>\n",
       "      <td>负收益</td>\n",
       "      <td>正收益</td>\n",
       "      <td>负收益</td>\n",
       "    </tr>\n",
       "    <tr>\n",
       "      <th>2018-10-08</th>\n",
       "      <td>负收益</td>\n",
       "      <td>正收益</td>\n",
       "      <td>正收益</td>\n",
       "      <td>负收益</td>\n",
       "      <td>正收益</td>\n",
       "      <td>负收益</td>\n",
       "      <td>负收益</td>\n",
       "      <td>负收益</td>\n",
       "      <td>正收益</td>\n",
       "      <td>正收益</td>\n",
       "    </tr>\n",
       "    <tr>\n",
       "      <th>2018-10-09</th>\n",
       "      <td>负收益</td>\n",
       "      <td>负收益</td>\n",
       "      <td>负收益</td>\n",
       "      <td>正收益</td>\n",
       "      <td>负收益</td>\n",
       "      <td>正收益</td>\n",
       "      <td>正收益</td>\n",
       "      <td>负收益</td>\n",
       "      <td>负收益</td>\n",
       "      <td>正收益</td>\n",
       "    </tr>\n",
       "    <tr>\n",
       "      <th>2018-10-10</th>\n",
       "      <td>正收益</td>\n",
       "      <td>正收益</td>\n",
       "      <td>正收益</td>\n",
       "      <td>负收益</td>\n",
       "      <td>正收益</td>\n",
       "      <td>正收益</td>\n",
       "      <td>正收益</td>\n",
       "      <td>正收益</td>\n",
       "      <td>正收益</td>\n",
       "      <td>负收益</td>\n",
       "    </tr>\n",
       "  </tbody>\n",
       "</table>\n",
       "</div>"
      ],
      "text/plain": [
       "           000001.SZ 000002.SZ 000003.SZ 000004.SZ 000005.SZ 000006.SZ  \\\n",
       "2018-10-01       正收益       负收益       正收益       负收益       负收益       正收益   \n",
       "2018-10-02       正收益       负收益       正收益       负收益       正收益       正收益   \n",
       "2018-10-03       负收益       负收益       正收益       负收益       负收益       正收益   \n",
       "2018-10-04       负收益       负收益       正收益       正收益       负收益       负收益   \n",
       "2018-10-05       正收益       正收益       正收益       负收益       负收益       正收益   \n",
       "2018-10-06       负收益       正收益       正收益       正收益       正收益       正收益   \n",
       "2018-10-07       正收益       负收益       正收益       负收益       正收益       正收益   \n",
       "2018-10-08       负收益       正收益       正收益       负收益       正收益       负收益   \n",
       "2018-10-09       负收益       负收益       负收益       正收益       负收益       正收益   \n",
       "2018-10-10       正收益       正收益       正收益       负收益       正收益       正收益   \n",
       "\n",
       "           000007.SZ 000008.SZ 000009.SZ 000010.SZ  \n",
       "2018-10-01       负收益       正收益       负收益       正收益  \n",
       "2018-10-02       正收益       正收益       正收益       负收益  \n",
       "2018-10-03       负收益       负收益       负收益       负收益  \n",
       "2018-10-04       负收益       正收益       正收益       负收益  \n",
       "2018-10-05       负收益       负收益       负收益       负收益  \n",
       "2018-10-06       负收益       负收益       正收益       正收益  \n",
       "2018-10-07       正收益       负收益       正收益       负收益  \n",
       "2018-10-08       负收益       负收益       正收益       正收益  \n",
       "2018-10-09       正收益       负收益       负收益       正收益  \n",
       "2018-10-10       正收益       正收益       正收益       负收益  "
      ]
     },
     "execution_count": 187,
     "metadata": {},
     "output_type": "execute_result"
    }
   ],
   "source": [
    "sim_ret.applymap(lambda x: \"正收益\" if x>0 else \"负收益\")"
   ]
  },
  {
   "cell_type": "code",
   "execution_count": 190,
   "metadata": {},
   "outputs": [
    {
     "data": {
      "text/plain": [
       "2018-10-01    0.005679\n",
       "2018-10-02    0.013872\n",
       "2018-10-03   -0.005454\n",
       "2018-10-04   -0.008246\n",
       "2018-10-05    0.018312\n",
       "2018-10-06   -0.016343\n",
       "2018-10-07    0.017936\n",
       "2018-10-08   -0.000596\n",
       "2018-10-09   -0.018501\n",
       "2018-10-10    0.010298\n",
       "Freq: D, Name: 000001.SZ, dtype: float64"
      ]
     },
     "execution_count": 190,
     "metadata": {},
     "output_type": "execute_result"
    }
   ],
   "source": [
    "s = sim_ret.iloc[:, 0]\n",
    "s"
   ]
  },
  {
   "cell_type": "code",
   "execution_count": 191,
   "metadata": {},
   "outputs": [
    {
     "data": {
      "text/plain": [
       "2018-10-01    正收益\n",
       "2018-10-02    正收益\n",
       "2018-10-03    负收益\n",
       "2018-10-04    负收益\n",
       "2018-10-05    正收益\n",
       "2018-10-06    负收益\n",
       "2018-10-07    正收益\n",
       "2018-10-08    负收益\n",
       "2018-10-09    负收益\n",
       "2018-10-10    正收益\n",
       "Freq: D, Name: 000001.SZ, dtype: object"
      ]
     },
     "execution_count": 191,
     "metadata": {},
     "output_type": "execute_result"
    }
   ],
   "source": [
    "s.map(lambda x: \"正收益\" if x>0 else \"负收益\")"
   ]
  },
  {
   "cell_type": "markdown",
   "metadata": {},
   "source": [
    "如果想对某一列或某一行进行apply操作可以使用apply函数|\n",
    "例如我想得到每一天最大收益率和最小收益率的差，可以这样写"
   ]
  },
  {
   "cell_type": "code",
   "execution_count": 192,
   "metadata": {},
   "outputs": [
    {
     "data": {
      "text/html": [
       "<div>\n",
       "<style scoped>\n",
       "    .dataframe tbody tr th:only-of-type {\n",
       "        vertical-align: middle;\n",
       "    }\n",
       "\n",
       "    .dataframe tbody tr th {\n",
       "        vertical-align: top;\n",
       "    }\n",
       "\n",
       "    .dataframe thead th {\n",
       "        text-align: right;\n",
       "    }\n",
       "</style>\n",
       "<table border=\"1\" class=\"dataframe\">\n",
       "  <thead>\n",
       "    <tr style=\"text-align: right;\">\n",
       "      <th></th>\n",
       "      <th>000001.SZ</th>\n",
       "      <th>000002.SZ</th>\n",
       "      <th>000003.SZ</th>\n",
       "      <th>000004.SZ</th>\n",
       "      <th>000005.SZ</th>\n",
       "      <th>000006.SZ</th>\n",
       "      <th>000007.SZ</th>\n",
       "      <th>000008.SZ</th>\n",
       "      <th>000009.SZ</th>\n",
       "      <th>000010.SZ</th>\n",
       "    </tr>\n",
       "  </thead>\n",
       "  <tbody>\n",
       "    <tr>\n",
       "      <th>2018-10-01</th>\n",
       "      <td>0.005679</td>\n",
       "      <td>-0.004090</td>\n",
       "      <td>0.007055</td>\n",
       "      <td>-0.017585</td>\n",
       "      <td>-0.004799</td>\n",
       "      <td>0.012054</td>\n",
       "      <td>-0.002250</td>\n",
       "      <td>0.005856</td>\n",
       "      <td>-0.001902</td>\n",
       "      <td>0.002823</td>\n",
       "    </tr>\n",
       "    <tr>\n",
       "      <th>2018-10-02</th>\n",
       "      <td>0.013872</td>\n",
       "      <td>-0.004448</td>\n",
       "      <td>0.017916</td>\n",
       "      <td>-0.004242</td>\n",
       "      <td>0.006120</td>\n",
       "      <td>0.007005</td>\n",
       "      <td>0.015573</td>\n",
       "      <td>0.005672</td>\n",
       "      <td>0.006074</td>\n",
       "      <td>-0.005518</td>\n",
       "    </tr>\n",
       "    <tr>\n",
       "      <th>2018-10-03</th>\n",
       "      <td>-0.005454</td>\n",
       "      <td>-0.002074</td>\n",
       "      <td>0.002222</td>\n",
       "      <td>-0.009948</td>\n",
       "      <td>-0.000781</td>\n",
       "      <td>0.019879</td>\n",
       "      <td>-0.001510</td>\n",
       "      <td>-0.012444</td>\n",
       "      <td>-0.001126</td>\n",
       "      <td>-0.007964</td>\n",
       "    </tr>\n",
       "    <tr>\n",
       "      <th>2018-10-04</th>\n",
       "      <td>-0.008246</td>\n",
       "      <td>-0.007559</td>\n",
       "      <td>0.003086</td>\n",
       "      <td>0.008370</td>\n",
       "      <td>-0.007475</td>\n",
       "      <td>-0.002190</td>\n",
       "      <td>-0.013135</td>\n",
       "      <td>0.006522</td>\n",
       "      <td>0.003356</td>\n",
       "      <td>-0.011418</td>\n",
       "    </tr>\n",
       "    <tr>\n",
       "      <th>2018-10-05</th>\n",
       "      <td>0.018312</td>\n",
       "      <td>0.009903</td>\n",
       "      <td>0.003254</td>\n",
       "      <td>-0.010896</td>\n",
       "      <td>-0.004635</td>\n",
       "      <td>0.001458</td>\n",
       "      <td>-0.009837</td>\n",
       "      <td>-0.002144</td>\n",
       "      <td>-0.007351</td>\n",
       "      <td>-0.005000</td>\n",
       "    </tr>\n",
       "    <tr>\n",
       "      <th>2018-10-06</th>\n",
       "      <td>-0.016343</td>\n",
       "      <td>0.000658</td>\n",
       "      <td>0.005048</td>\n",
       "      <td>0.007946</td>\n",
       "      <td>0.008919</td>\n",
       "      <td>0.001533</td>\n",
       "      <td>-0.000599</td>\n",
       "      <td>-0.008445</td>\n",
       "      <td>0.001245</td>\n",
       "      <td>0.014982</td>\n",
       "    </tr>\n",
       "    <tr>\n",
       "      <th>2018-10-07</th>\n",
       "      <td>0.017936</td>\n",
       "      <td>-0.001179</td>\n",
       "      <td>0.000780</td>\n",
       "      <td>-0.003822</td>\n",
       "      <td>0.007867</td>\n",
       "      <td>0.005045</td>\n",
       "      <td>0.006617</td>\n",
       "      <td>-0.004708</td>\n",
       "      <td>0.005941</td>\n",
       "      <td>-0.000840</td>\n",
       "    </tr>\n",
       "    <tr>\n",
       "      <th>2018-10-08</th>\n",
       "      <td>-0.000596</td>\n",
       "      <td>0.003565</td>\n",
       "      <td>0.001636</td>\n",
       "      <td>-0.007108</td>\n",
       "      <td>0.002488</td>\n",
       "      <td>-0.025396</td>\n",
       "      <td>-0.019253</td>\n",
       "      <td>-0.011616</td>\n",
       "      <td>0.000447</td>\n",
       "      <td>0.000986</td>\n",
       "    </tr>\n",
       "    <tr>\n",
       "      <th>2018-10-09</th>\n",
       "      <td>-0.018501</td>\n",
       "      <td>-0.001872</td>\n",
       "      <td>-0.009720</td>\n",
       "      <td>0.015137</td>\n",
       "      <td>-0.011178</td>\n",
       "      <td>0.010475</td>\n",
       "      <td>0.000487</td>\n",
       "      <td>-0.011337</td>\n",
       "      <td>-0.006114</td>\n",
       "      <td>0.004314</td>\n",
       "    </tr>\n",
       "    <tr>\n",
       "      <th>2018-10-10</th>\n",
       "      <td>0.010298</td>\n",
       "      <td>0.017816</td>\n",
       "      <td>0.002511</td>\n",
       "      <td>-0.011229</td>\n",
       "      <td>0.003893</td>\n",
       "      <td>0.008592</td>\n",
       "      <td>0.002775</td>\n",
       "      <td>0.007171</td>\n",
       "      <td>0.000574</td>\n",
       "      <td>-0.007034</td>\n",
       "    </tr>\n",
       "  </tbody>\n",
       "</table>\n",
       "</div>"
      ],
      "text/plain": [
       "            000001.SZ  000002.SZ  000003.SZ  000004.SZ  000005.SZ  000006.SZ  \\\n",
       "2018-10-01   0.005679  -0.004090   0.007055  -0.017585  -0.004799   0.012054   \n",
       "2018-10-02   0.013872  -0.004448   0.017916  -0.004242   0.006120   0.007005   \n",
       "2018-10-03  -0.005454  -0.002074   0.002222  -0.009948  -0.000781   0.019879   \n",
       "2018-10-04  -0.008246  -0.007559   0.003086   0.008370  -0.007475  -0.002190   \n",
       "2018-10-05   0.018312   0.009903   0.003254  -0.010896  -0.004635   0.001458   \n",
       "2018-10-06  -0.016343   0.000658   0.005048   0.007946   0.008919   0.001533   \n",
       "2018-10-07   0.017936  -0.001179   0.000780  -0.003822   0.007867   0.005045   \n",
       "2018-10-08  -0.000596   0.003565   0.001636  -0.007108   0.002488  -0.025396   \n",
       "2018-10-09  -0.018501  -0.001872  -0.009720   0.015137  -0.011178   0.010475   \n",
       "2018-10-10   0.010298   0.017816   0.002511  -0.011229   0.003893   0.008592   \n",
       "\n",
       "            000007.SZ  000008.SZ  000009.SZ  000010.SZ  \n",
       "2018-10-01  -0.002250   0.005856  -0.001902   0.002823  \n",
       "2018-10-02   0.015573   0.005672   0.006074  -0.005518  \n",
       "2018-10-03  -0.001510  -0.012444  -0.001126  -0.007964  \n",
       "2018-10-04  -0.013135   0.006522   0.003356  -0.011418  \n",
       "2018-10-05  -0.009837  -0.002144  -0.007351  -0.005000  \n",
       "2018-10-06  -0.000599  -0.008445   0.001245   0.014982  \n",
       "2018-10-07   0.006617  -0.004708   0.005941  -0.000840  \n",
       "2018-10-08  -0.019253  -0.011616   0.000447   0.000986  \n",
       "2018-10-09   0.000487  -0.011337  -0.006114   0.004314  \n",
       "2018-10-10   0.002775   0.007171   0.000574  -0.007034  "
      ]
     },
     "execution_count": 192,
     "metadata": {},
     "output_type": "execute_result"
    }
   ],
   "source": [
    "sim_ret"
   ]
  },
  {
   "cell_type": "code",
   "execution_count": 201,
   "metadata": {},
   "outputs": [
    {
     "data": {
      "text/plain": [
       "2018-10-01    0.029640\n",
       "2018-10-02    0.023433\n",
       "2018-10-03    0.032322\n",
       "2018-10-04    0.021505\n",
       "2018-10-05    0.029208\n",
       "2018-10-06    0.031325\n",
       "2018-10-07    0.022644\n",
       "2018-10-08    0.028961\n",
       "2018-10-09    0.033638\n",
       "2018-10-10    0.029045\n",
       "Freq: D, dtype: float64"
      ]
     },
     "execution_count": 201,
     "metadata": {},
     "output_type": "execute_result"
    }
   ],
   "source": [
    "sim_ret.apply(lambda x: x.max()-x.min(), axis=1)"
   ]
  },
  {
   "cell_type": "markdown",
   "metadata": {},
   "source": [
    "apply函数可以理解为将每一行（或每一列作为一个Series传入给函数），得到的结果如果是数字，就返回一个series，如果是一个series，就返回一个DataFrame,这个相当智能，因为matlab的arrayfun，cellfun相对于这个功能就要差很多"
   ]
  },
  {
   "cell_type": "code",
   "execution_count": 200,
   "metadata": {},
   "outputs": [
    {
     "data": {
      "text/html": [
       "<div>\n",
       "<style scoped>\n",
       "    .dataframe tbody tr th:only-of-type {\n",
       "        vertical-align: middle;\n",
       "    }\n",
       "\n",
       "    .dataframe tbody tr th {\n",
       "        vertical-align: top;\n",
       "    }\n",
       "\n",
       "    .dataframe thead th {\n",
       "        text-align: right;\n",
       "    }\n",
       "</style>\n",
       "<table border=\"1\" class=\"dataframe\">\n",
       "  <thead>\n",
       "    <tr style=\"text-align: right;\">\n",
       "      <th></th>\n",
       "      <th>max</th>\n",
       "      <th>min</th>\n",
       "    </tr>\n",
       "  </thead>\n",
       "  <tbody>\n",
       "    <tr>\n",
       "      <th>2018-10-01</th>\n",
       "      <td>0.012054</td>\n",
       "      <td>-0.017585</td>\n",
       "    </tr>\n",
       "    <tr>\n",
       "      <th>2018-10-02</th>\n",
       "      <td>0.017916</td>\n",
       "      <td>-0.005518</td>\n",
       "    </tr>\n",
       "    <tr>\n",
       "      <th>2018-10-03</th>\n",
       "      <td>0.019879</td>\n",
       "      <td>-0.012444</td>\n",
       "    </tr>\n",
       "    <tr>\n",
       "      <th>2018-10-04</th>\n",
       "      <td>0.008370</td>\n",
       "      <td>-0.013135</td>\n",
       "    </tr>\n",
       "    <tr>\n",
       "      <th>2018-10-05</th>\n",
       "      <td>0.018312</td>\n",
       "      <td>-0.010896</td>\n",
       "    </tr>\n",
       "    <tr>\n",
       "      <th>2018-10-06</th>\n",
       "      <td>0.014982</td>\n",
       "      <td>-0.016343</td>\n",
       "    </tr>\n",
       "    <tr>\n",
       "      <th>2018-10-07</th>\n",
       "      <td>0.017936</td>\n",
       "      <td>-0.004708</td>\n",
       "    </tr>\n",
       "    <tr>\n",
       "      <th>2018-10-08</th>\n",
       "      <td>0.003565</td>\n",
       "      <td>-0.025396</td>\n",
       "    </tr>\n",
       "    <tr>\n",
       "      <th>2018-10-09</th>\n",
       "      <td>0.015137</td>\n",
       "      <td>-0.018501</td>\n",
       "    </tr>\n",
       "    <tr>\n",
       "      <th>2018-10-10</th>\n",
       "      <td>0.017816</td>\n",
       "      <td>-0.011229</td>\n",
       "    </tr>\n",
       "  </tbody>\n",
       "</table>\n",
       "</div>"
      ],
      "text/plain": [
       "                 max       min\n",
       "2018-10-01  0.012054 -0.017585\n",
       "2018-10-02  0.017916 -0.005518\n",
       "2018-10-03  0.019879 -0.012444\n",
       "2018-10-04  0.008370 -0.013135\n",
       "2018-10-05  0.018312 -0.010896\n",
       "2018-10-06  0.014982 -0.016343\n",
       "2018-10-07  0.017936 -0.004708\n",
       "2018-10-08  0.003565 -0.025396\n",
       "2018-10-09  0.015137 -0.018501\n",
       "2018-10-10  0.017816 -0.011229"
      ]
     },
     "execution_count": 200,
     "metadata": {},
     "output_type": "execute_result"
    }
   ],
   "source": [
    "sim_ret.apply(lambda x: pd.Series([x.max(), x.min()], index=[\"max\", \"min\"]), axis=1)"
   ]
  },
  {
   "cell_type": "markdown",
   "metadata": {},
   "source": [
    "我们可以通过一个小技巧加深对于apply的理解,在传入apply的函数里添加打印语句"
   ]
  },
  {
   "cell_type": "code",
   "execution_count": 207,
   "metadata": {},
   "outputs": [],
   "source": [
    "def fun(x):\n",
    "    print(x, \"\\n\\n\")\n",
    "    return pd.Series([x.max(), x.min()], index=[\"max\", \"min\"])"
   ]
  },
  {
   "cell_type": "code",
   "execution_count": 208,
   "metadata": {
    "scrolled": true
   },
   "outputs": [
    {
     "name": "stdout",
     "output_type": "stream",
     "text": [
      "000001.SZ    0.005679\n",
      "000002.SZ   -0.004090\n",
      "000003.SZ    0.007055\n",
      "000004.SZ   -0.017585\n",
      "000005.SZ   -0.004799\n",
      "000006.SZ    0.012054\n",
      "000007.SZ   -0.002250\n",
      "000008.SZ    0.005856\n",
      "000009.SZ   -0.001902\n",
      "000010.SZ    0.002823\n",
      "Name: 2018-10-01T00:00:00.000000000, dtype: float64 \n",
      "\n",
      "\n",
      "000001.SZ    0.005679\n",
      "000002.SZ   -0.004090\n",
      "000003.SZ    0.007055\n",
      "000004.SZ   -0.017585\n",
      "000005.SZ   -0.004799\n",
      "000006.SZ    0.012054\n",
      "000007.SZ   -0.002250\n",
      "000008.SZ    0.005856\n",
      "000009.SZ   -0.001902\n",
      "000010.SZ    0.002823\n",
      "Name: 2018-10-01 00:00:00, dtype: float64 \n",
      "\n",
      "\n",
      "000001.SZ    0.013872\n",
      "000002.SZ   -0.004448\n",
      "000003.SZ    0.017916\n",
      "000004.SZ   -0.004242\n",
      "000005.SZ    0.006120\n",
      "000006.SZ    0.007005\n",
      "000007.SZ    0.015573\n",
      "000008.SZ    0.005672\n",
      "000009.SZ    0.006074\n",
      "000010.SZ   -0.005518\n",
      "Name: 2018-10-02 00:00:00, dtype: float64 \n",
      "\n",
      "\n",
      "000001.SZ   -0.005454\n",
      "000002.SZ   -0.002074\n",
      "000003.SZ    0.002222\n",
      "000004.SZ   -0.009948\n",
      "000005.SZ   -0.000781\n",
      "000006.SZ    0.019879\n",
      "000007.SZ   -0.001510\n",
      "000008.SZ   -0.012444\n",
      "000009.SZ   -0.001126\n",
      "000010.SZ   -0.007964\n",
      "Name: 2018-10-03 00:00:00, dtype: float64 \n",
      "\n",
      "\n",
      "000001.SZ   -0.008246\n",
      "000002.SZ   -0.007559\n",
      "000003.SZ    0.003086\n",
      "000004.SZ    0.008370\n",
      "000005.SZ   -0.007475\n",
      "000006.SZ   -0.002190\n",
      "000007.SZ   -0.013135\n",
      "000008.SZ    0.006522\n",
      "000009.SZ    0.003356\n",
      "000010.SZ   -0.011418\n",
      "Name: 2018-10-04 00:00:00, dtype: float64 \n",
      "\n",
      "\n",
      "000001.SZ    0.018312\n",
      "000002.SZ    0.009903\n",
      "000003.SZ    0.003254\n",
      "000004.SZ   -0.010896\n",
      "000005.SZ   -0.004635\n",
      "000006.SZ    0.001458\n",
      "000007.SZ   -0.009837\n",
      "000008.SZ   -0.002144\n",
      "000009.SZ   -0.007351\n",
      "000010.SZ   -0.005000\n",
      "Name: 2018-10-05 00:00:00, dtype: float64 \n",
      "\n",
      "\n",
      "000001.SZ   -0.016343\n",
      "000002.SZ    0.000658\n",
      "000003.SZ    0.005048\n",
      "000004.SZ    0.007946\n",
      "000005.SZ    0.008919\n",
      "000006.SZ    0.001533\n",
      "000007.SZ   -0.000599\n",
      "000008.SZ   -0.008445\n",
      "000009.SZ    0.001245\n",
      "000010.SZ    0.014982\n",
      "Name: 2018-10-06 00:00:00, dtype: float64 \n",
      "\n",
      "\n",
      "000001.SZ    0.017936\n",
      "000002.SZ   -0.001179\n",
      "000003.SZ    0.000780\n",
      "000004.SZ   -0.003822\n",
      "000005.SZ    0.007867\n",
      "000006.SZ    0.005045\n",
      "000007.SZ    0.006617\n",
      "000008.SZ   -0.004708\n",
      "000009.SZ    0.005941\n",
      "000010.SZ   -0.000840\n",
      "Name: 2018-10-07 00:00:00, dtype: float64 \n",
      "\n",
      "\n",
      "000001.SZ   -0.000596\n",
      "000002.SZ    0.003565\n",
      "000003.SZ    0.001636\n",
      "000004.SZ   -0.007108\n",
      "000005.SZ    0.002488\n",
      "000006.SZ   -0.025396\n",
      "000007.SZ   -0.019253\n",
      "000008.SZ   -0.011616\n",
      "000009.SZ    0.000447\n",
      "000010.SZ    0.000986\n",
      "Name: 2018-10-08 00:00:00, dtype: float64 \n",
      "\n",
      "\n",
      "000001.SZ   -0.018501\n",
      "000002.SZ   -0.001872\n",
      "000003.SZ   -0.009720\n",
      "000004.SZ    0.015137\n",
      "000005.SZ   -0.011178\n",
      "000006.SZ    0.010475\n",
      "000007.SZ    0.000487\n",
      "000008.SZ   -0.011337\n",
      "000009.SZ   -0.006114\n",
      "000010.SZ    0.004314\n",
      "Name: 2018-10-09 00:00:00, dtype: float64 \n",
      "\n",
      "\n",
      "000001.SZ    0.010298\n",
      "000002.SZ    0.017816\n",
      "000003.SZ    0.002511\n",
      "000004.SZ   -0.011229\n",
      "000005.SZ    0.003893\n",
      "000006.SZ    0.008592\n",
      "000007.SZ    0.002775\n",
      "000008.SZ    0.007171\n",
      "000009.SZ    0.000574\n",
      "000010.SZ   -0.007034\n",
      "Name: 2018-10-10 00:00:00, dtype: float64 \n",
      "\n",
      "\n"
     ]
    },
    {
     "data": {
      "text/html": [
       "<div>\n",
       "<style scoped>\n",
       "    .dataframe tbody tr th:only-of-type {\n",
       "        vertical-align: middle;\n",
       "    }\n",
       "\n",
       "    .dataframe tbody tr th {\n",
       "        vertical-align: top;\n",
       "    }\n",
       "\n",
       "    .dataframe thead th {\n",
       "        text-align: right;\n",
       "    }\n",
       "</style>\n",
       "<table border=\"1\" class=\"dataframe\">\n",
       "  <thead>\n",
       "    <tr style=\"text-align: right;\">\n",
       "      <th></th>\n",
       "      <th>max</th>\n",
       "      <th>min</th>\n",
       "    </tr>\n",
       "  </thead>\n",
       "  <tbody>\n",
       "    <tr>\n",
       "      <th>2018-10-01</th>\n",
       "      <td>0.012054</td>\n",
       "      <td>-0.017585</td>\n",
       "    </tr>\n",
       "    <tr>\n",
       "      <th>2018-10-02</th>\n",
       "      <td>0.017916</td>\n",
       "      <td>-0.005518</td>\n",
       "    </tr>\n",
       "    <tr>\n",
       "      <th>2018-10-03</th>\n",
       "      <td>0.019879</td>\n",
       "      <td>-0.012444</td>\n",
       "    </tr>\n",
       "    <tr>\n",
       "      <th>2018-10-04</th>\n",
       "      <td>0.008370</td>\n",
       "      <td>-0.013135</td>\n",
       "    </tr>\n",
       "    <tr>\n",
       "      <th>2018-10-05</th>\n",
       "      <td>0.018312</td>\n",
       "      <td>-0.010896</td>\n",
       "    </tr>\n",
       "    <tr>\n",
       "      <th>2018-10-06</th>\n",
       "      <td>0.014982</td>\n",
       "      <td>-0.016343</td>\n",
       "    </tr>\n",
       "    <tr>\n",
       "      <th>2018-10-07</th>\n",
       "      <td>0.017936</td>\n",
       "      <td>-0.004708</td>\n",
       "    </tr>\n",
       "    <tr>\n",
       "      <th>2018-10-08</th>\n",
       "      <td>0.003565</td>\n",
       "      <td>-0.025396</td>\n",
       "    </tr>\n",
       "    <tr>\n",
       "      <th>2018-10-09</th>\n",
       "      <td>0.015137</td>\n",
       "      <td>-0.018501</td>\n",
       "    </tr>\n",
       "    <tr>\n",
       "      <th>2018-10-10</th>\n",
       "      <td>0.017816</td>\n",
       "      <td>-0.011229</td>\n",
       "    </tr>\n",
       "  </tbody>\n",
       "</table>\n",
       "</div>"
      ],
      "text/plain": [
       "                 max       min\n",
       "2018-10-01  0.012054 -0.017585\n",
       "2018-10-02  0.017916 -0.005518\n",
       "2018-10-03  0.019879 -0.012444\n",
       "2018-10-04  0.008370 -0.013135\n",
       "2018-10-05  0.018312 -0.010896\n",
       "2018-10-06  0.014982 -0.016343\n",
       "2018-10-07  0.017936 -0.004708\n",
       "2018-10-08  0.003565 -0.025396\n",
       "2018-10-09  0.015137 -0.018501\n",
       "2018-10-10  0.017816 -0.011229"
      ]
     },
     "execution_count": 208,
     "metadata": {},
     "output_type": "execute_result"
    }
   ],
   "source": [
    "sim_ret.apply(fun, axis=1)"
   ]
  },
  {
   "cell_type": "markdown",
   "metadata": {},
   "source": [
    "我们发现每次都传入了一个Series作为参数"
   ]
  },
  {
   "cell_type": "markdown",
   "metadata": {},
   "source": [
    "### 重新排序和更改标签"
   ]
  },
  {
   "cell_type": "markdown",
   "metadata": {},
   "source": [
    "使用reindex方法可以轻松地重新排序"
   ]
  },
  {
   "cell_type": "code",
   "execution_count": 214,
   "metadata": {},
   "outputs": [
    {
     "data": {
      "text/plain": [
       "a   -0.057188\n",
       "b   -0.627052\n",
       "c    0.816668\n",
       "d    0.100119\n",
       "e   -1.537925\n",
       "dtype: float64"
      ]
     },
     "execution_count": 214,
     "metadata": {},
     "output_type": "execute_result"
    }
   ],
   "source": [
    "s = pd.Series(np.random.randn(5), index=['a', 'b', 'c', 'd', 'e'])\n",
    "s"
   ]
  },
  {
   "cell_type": "code",
   "execution_count": 220,
   "metadata": {},
   "outputs": [
    {
     "data": {
      "text/plain": [
       "e    0.502051\n",
       "b    0.158536\n",
       "f         NaN\n",
       "d   -0.156847\n",
       "dtype: float64"
      ]
     },
     "execution_count": 220,
     "metadata": {},
     "output_type": "execute_result"
    }
   ],
   "source": [
    "s.reindex(['e', 'b', 'f', 'd'])"
   ]
  },
  {
   "cell_type": "markdown",
   "metadata": {},
   "source": [
    "对于一个DataFrame，可以同时对index和columns进行reindex，也可以用axis参数对一条轴reindex"
   ]
  },
  {
   "cell_type": "code",
   "execution_count": 222,
   "metadata": {},
   "outputs": [
    {
     "data": {
      "text/html": [
       "<div>\n",
       "<style scoped>\n",
       "    .dataframe tbody tr th:only-of-type {\n",
       "        vertical-align: middle;\n",
       "    }\n",
       "\n",
       "    .dataframe tbody tr th {\n",
       "        vertical-align: top;\n",
       "    }\n",
       "\n",
       "    .dataframe thead th {\n",
       "        text-align: right;\n",
       "    }\n",
       "</style>\n",
       "<table border=\"1\" class=\"dataframe\">\n",
       "  <thead>\n",
       "    <tr style=\"text-align: right;\">\n",
       "      <th></th>\n",
       "      <th>one</th>\n",
       "      <th>two</th>\n",
       "      <th>three</th>\n",
       "    </tr>\n",
       "  </thead>\n",
       "  <tbody>\n",
       "    <tr>\n",
       "      <th>a</th>\n",
       "      <td>-2.058637</td>\n",
       "      <td>-1.356699</td>\n",
       "      <td>NaN</td>\n",
       "    </tr>\n",
       "    <tr>\n",
       "      <th>b</th>\n",
       "      <td>0.204574</td>\n",
       "      <td>-1.938237</td>\n",
       "      <td>-0.115592</td>\n",
       "    </tr>\n",
       "    <tr>\n",
       "      <th>c</th>\n",
       "      <td>0.463307</td>\n",
       "      <td>-0.099773</td>\n",
       "      <td>1.338462</td>\n",
       "    </tr>\n",
       "    <tr>\n",
       "      <th>d</th>\n",
       "      <td>NaN</td>\n",
       "      <td>1.380254</td>\n",
       "      <td>-0.068492</td>\n",
       "    </tr>\n",
       "  </tbody>\n",
       "</table>\n",
       "</div>"
      ],
      "text/plain": [
       "        one       two     three\n",
       "a -2.058637 -1.356699       NaN\n",
       "b  0.204574 -1.938237 -0.115592\n",
       "c  0.463307 -0.099773  1.338462\n",
       "d       NaN  1.380254 -0.068492"
      ]
     },
     "execution_count": 222,
     "metadata": {},
     "output_type": "execute_result"
    }
   ],
   "source": [
    "df"
   ]
  },
  {
   "cell_type": "code",
   "execution_count": 223,
   "metadata": {},
   "outputs": [
    {
     "data": {
      "text/html": [
       "<div>\n",
       "<style scoped>\n",
       "    .dataframe tbody tr th:only-of-type {\n",
       "        vertical-align: middle;\n",
       "    }\n",
       "\n",
       "    .dataframe tbody tr th {\n",
       "        vertical-align: top;\n",
       "    }\n",
       "\n",
       "    .dataframe thead th {\n",
       "        text-align: right;\n",
       "    }\n",
       "</style>\n",
       "<table border=\"1\" class=\"dataframe\">\n",
       "  <thead>\n",
       "    <tr style=\"text-align: right;\">\n",
       "      <th></th>\n",
       "      <th>three</th>\n",
       "      <th>two</th>\n",
       "      <th>one</th>\n",
       "    </tr>\n",
       "  </thead>\n",
       "  <tbody>\n",
       "    <tr>\n",
       "      <th>c</th>\n",
       "      <td>1.338462</td>\n",
       "      <td>-0.099773</td>\n",
       "      <td>0.463307</td>\n",
       "    </tr>\n",
       "    <tr>\n",
       "      <th>f</th>\n",
       "      <td>NaN</td>\n",
       "      <td>NaN</td>\n",
       "      <td>NaN</td>\n",
       "    </tr>\n",
       "    <tr>\n",
       "      <th>b</th>\n",
       "      <td>-0.115592</td>\n",
       "      <td>-1.938237</td>\n",
       "      <td>0.204574</td>\n",
       "    </tr>\n",
       "  </tbody>\n",
       "</table>\n",
       "</div>"
      ],
      "text/plain": [
       "      three       two       one\n",
       "c  1.338462 -0.099773  0.463307\n",
       "f       NaN       NaN       NaN\n",
       "b -0.115592 -1.938237  0.204574"
      ]
     },
     "execution_count": 223,
     "metadata": {},
     "output_type": "execute_result"
    }
   ],
   "source": [
    "df.reindex(index=['c', 'f', 'b'], columns=['three', 'two', 'one'])"
   ]
  },
  {
   "cell_type": "code",
   "execution_count": 224,
   "metadata": {},
   "outputs": [
    {
     "data": {
      "text/html": [
       "<div>\n",
       "<style scoped>\n",
       "    .dataframe tbody tr th:only-of-type {\n",
       "        vertical-align: middle;\n",
       "    }\n",
       "\n",
       "    .dataframe tbody tr th {\n",
       "        vertical-align: top;\n",
       "    }\n",
       "\n",
       "    .dataframe thead th {\n",
       "        text-align: right;\n",
       "    }\n",
       "</style>\n",
       "<table border=\"1\" class=\"dataframe\">\n",
       "  <thead>\n",
       "    <tr style=\"text-align: right;\">\n",
       "      <th></th>\n",
       "      <th>one</th>\n",
       "      <th>two</th>\n",
       "      <th>three</th>\n",
       "    </tr>\n",
       "  </thead>\n",
       "  <tbody>\n",
       "    <tr>\n",
       "      <th>c</th>\n",
       "      <td>0.463307</td>\n",
       "      <td>-0.099773</td>\n",
       "      <td>1.338462</td>\n",
       "    </tr>\n",
       "    <tr>\n",
       "      <th>f</th>\n",
       "      <td>NaN</td>\n",
       "      <td>NaN</td>\n",
       "      <td>NaN</td>\n",
       "    </tr>\n",
       "    <tr>\n",
       "      <th>b</th>\n",
       "      <td>0.204574</td>\n",
       "      <td>-1.938237</td>\n",
       "      <td>-0.115592</td>\n",
       "    </tr>\n",
       "  </tbody>\n",
       "</table>\n",
       "</div>"
      ],
      "text/plain": [
       "        one       two     three\n",
       "c  0.463307 -0.099773  1.338462\n",
       "f       NaN       NaN       NaN\n",
       "b  0.204574 -1.938237 -0.115592"
      ]
     },
     "execution_count": 224,
     "metadata": {},
     "output_type": "execute_result"
    }
   ],
   "source": [
    "df.reindex(['c', 'f', 'b'], axis=0)"
   ]
  },
  {
   "cell_type": "code",
   "execution_count": null,
   "metadata": {},
   "outputs": [],
   "source": [
    "还有一种常用的方法，就是以另外一个DataFrame为样本进行reindex"
   ]
  },
  {
   "cell_type": "code",
   "execution_count": 227,
   "metadata": {},
   "outputs": [
    {
     "data": {
      "text/html": [
       "<div>\n",
       "<style scoped>\n",
       "    .dataframe tbody tr th:only-of-type {\n",
       "        vertical-align: middle;\n",
       "    }\n",
       "\n",
       "    .dataframe tbody tr th {\n",
       "        vertical-align: top;\n",
       "    }\n",
       "\n",
       "    .dataframe thead th {\n",
       "        text-align: right;\n",
       "    }\n",
       "</style>\n",
       "<table border=\"1\" class=\"dataframe\">\n",
       "  <thead>\n",
       "    <tr style=\"text-align: right;\">\n",
       "      <th></th>\n",
       "      <th>one</th>\n",
       "      <th>two</th>\n",
       "      <th>three</th>\n",
       "    </tr>\n",
       "  </thead>\n",
       "  <tbody>\n",
       "    <tr>\n",
       "      <th>a</th>\n",
       "      <td>-2.058637</td>\n",
       "      <td>-1.356699</td>\n",
       "      <td>NaN</td>\n",
       "    </tr>\n",
       "    <tr>\n",
       "      <th>b</th>\n",
       "      <td>0.204574</td>\n",
       "      <td>-1.938237</td>\n",
       "      <td>-0.115592</td>\n",
       "    </tr>\n",
       "    <tr>\n",
       "      <th>c</th>\n",
       "      <td>0.463307</td>\n",
       "      <td>-0.099773</td>\n",
       "      <td>1.338462</td>\n",
       "    </tr>\n",
       "    <tr>\n",
       "      <th>d</th>\n",
       "      <td>NaN</td>\n",
       "      <td>1.380254</td>\n",
       "      <td>-0.068492</td>\n",
       "    </tr>\n",
       "  </tbody>\n",
       "</table>\n",
       "</div>"
      ],
      "text/plain": [
       "        one       two     three\n",
       "a -2.058637 -1.356699       NaN\n",
       "b  0.204574 -1.938237 -0.115592\n",
       "c  0.463307 -0.099773  1.338462\n",
       "d       NaN  1.380254 -0.068492"
      ]
     },
     "execution_count": 227,
     "metadata": {},
     "output_type": "execute_result"
    }
   ],
   "source": [
    "df"
   ]
  },
  {
   "cell_type": "code",
   "execution_count": 229,
   "metadata": {},
   "outputs": [
    {
     "data": {
      "text/html": [
       "<div>\n",
       "<style scoped>\n",
       "    .dataframe tbody tr th:only-of-type {\n",
       "        vertical-align: middle;\n",
       "    }\n",
       "\n",
       "    .dataframe tbody tr th {\n",
       "        vertical-align: top;\n",
       "    }\n",
       "\n",
       "    .dataframe thead th {\n",
       "        text-align: right;\n",
       "    }\n",
       "</style>\n",
       "<table border=\"1\" class=\"dataframe\">\n",
       "  <thead>\n",
       "    <tr style=\"text-align: right;\">\n",
       "      <th></th>\n",
       "      <th>one</th>\n",
       "      <th>two</th>\n",
       "      <th>three</th>\n",
       "    </tr>\n",
       "  </thead>\n",
       "  <tbody>\n",
       "    <tr>\n",
       "      <th>b</th>\n",
       "      <td>0.204574</td>\n",
       "      <td>-1.938237</td>\n",
       "      <td>-0.115592</td>\n",
       "    </tr>\n",
       "    <tr>\n",
       "      <th>c</th>\n",
       "      <td>0.463307</td>\n",
       "      <td>-0.099773</td>\n",
       "      <td>1.338462</td>\n",
       "    </tr>\n",
       "  </tbody>\n",
       "</table>\n",
       "</div>"
      ],
      "text/plain": [
       "        one       two     three\n",
       "b  0.204574 -1.938237 -0.115592\n",
       "c  0.463307 -0.099773  1.338462"
      ]
     },
     "execution_count": 229,
     "metadata": {},
     "output_type": "execute_result"
    }
   ],
   "source": [
    "df2 = df.reindex(index=[\"b\", \"c\"])\n",
    "df2"
   ]
  },
  {
   "cell_type": "code",
   "execution_count": 230,
   "metadata": {},
   "outputs": [
    {
     "data": {
      "text/html": [
       "<div>\n",
       "<style scoped>\n",
       "    .dataframe tbody tr th:only-of-type {\n",
       "        vertical-align: middle;\n",
       "    }\n",
       "\n",
       "    .dataframe tbody tr th {\n",
       "        vertical-align: top;\n",
       "    }\n",
       "\n",
       "    .dataframe thead th {\n",
       "        text-align: right;\n",
       "    }\n",
       "</style>\n",
       "<table border=\"1\" class=\"dataframe\">\n",
       "  <thead>\n",
       "    <tr style=\"text-align: right;\">\n",
       "      <th></th>\n",
       "      <th>one</th>\n",
       "      <th>two</th>\n",
       "      <th>three</th>\n",
       "    </tr>\n",
       "  </thead>\n",
       "  <tbody>\n",
       "    <tr>\n",
       "      <th>b</th>\n",
       "      <td>0.204574</td>\n",
       "      <td>-1.938237</td>\n",
       "      <td>-0.115592</td>\n",
       "    </tr>\n",
       "    <tr>\n",
       "      <th>c</th>\n",
       "      <td>0.463307</td>\n",
       "      <td>-0.099773</td>\n",
       "      <td>1.338462</td>\n",
       "    </tr>\n",
       "  </tbody>\n",
       "</table>\n",
       "</div>"
      ],
      "text/plain": [
       "        one       two     three\n",
       "b  0.204574 -1.938237 -0.115592\n",
       "c  0.463307 -0.099773  1.338462"
      ]
     },
     "execution_count": 230,
     "metadata": {},
     "output_type": "execute_result"
    }
   ],
   "source": [
    "df.reindex_like(df2)"
   ]
  },
  {
   "cell_type": "markdown",
   "metadata": {},
   "source": [
    "如果想要删除某些行或列，可以使用drop方法"
   ]
  },
  {
   "cell_type": "code",
   "execution_count": 231,
   "metadata": {},
   "outputs": [
    {
     "data": {
      "text/html": [
       "<div>\n",
       "<style scoped>\n",
       "    .dataframe tbody tr th:only-of-type {\n",
       "        vertical-align: middle;\n",
       "    }\n",
       "\n",
       "    .dataframe tbody tr th {\n",
       "        vertical-align: top;\n",
       "    }\n",
       "\n",
       "    .dataframe thead th {\n",
       "        text-align: right;\n",
       "    }\n",
       "</style>\n",
       "<table border=\"1\" class=\"dataframe\">\n",
       "  <thead>\n",
       "    <tr style=\"text-align: right;\">\n",
       "      <th></th>\n",
       "      <th>one</th>\n",
       "      <th>two</th>\n",
       "      <th>three</th>\n",
       "    </tr>\n",
       "  </thead>\n",
       "  <tbody>\n",
       "    <tr>\n",
       "      <th>a</th>\n",
       "      <td>-2.058637</td>\n",
       "      <td>-1.356699</td>\n",
       "      <td>NaN</td>\n",
       "    </tr>\n",
       "    <tr>\n",
       "      <th>b</th>\n",
       "      <td>0.204574</td>\n",
       "      <td>-1.938237</td>\n",
       "      <td>-0.115592</td>\n",
       "    </tr>\n",
       "    <tr>\n",
       "      <th>c</th>\n",
       "      <td>0.463307</td>\n",
       "      <td>-0.099773</td>\n",
       "      <td>1.338462</td>\n",
       "    </tr>\n",
       "    <tr>\n",
       "      <th>d</th>\n",
       "      <td>NaN</td>\n",
       "      <td>1.380254</td>\n",
       "      <td>-0.068492</td>\n",
       "    </tr>\n",
       "  </tbody>\n",
       "</table>\n",
       "</div>"
      ],
      "text/plain": [
       "        one       two     three\n",
       "a -2.058637 -1.356699       NaN\n",
       "b  0.204574 -1.938237 -0.115592\n",
       "c  0.463307 -0.099773  1.338462\n",
       "d       NaN  1.380254 -0.068492"
      ]
     },
     "execution_count": 231,
     "metadata": {},
     "output_type": "execute_result"
    }
   ],
   "source": [
    "df"
   ]
  },
  {
   "cell_type": "code",
   "execution_count": 232,
   "metadata": {},
   "outputs": [
    {
     "data": {
      "text/html": [
       "<div>\n",
       "<style scoped>\n",
       "    .dataframe tbody tr th:only-of-type {\n",
       "        vertical-align: middle;\n",
       "    }\n",
       "\n",
       "    .dataframe tbody tr th {\n",
       "        vertical-align: top;\n",
       "    }\n",
       "\n",
       "    .dataframe thead th {\n",
       "        text-align: right;\n",
       "    }\n",
       "</style>\n",
       "<table border=\"1\" class=\"dataframe\">\n",
       "  <thead>\n",
       "    <tr style=\"text-align: right;\">\n",
       "      <th></th>\n",
       "      <th>one</th>\n",
       "      <th>two</th>\n",
       "      <th>three</th>\n",
       "    </tr>\n",
       "  </thead>\n",
       "  <tbody>\n",
       "    <tr>\n",
       "      <th>b</th>\n",
       "      <td>0.204574</td>\n",
       "      <td>-1.938237</td>\n",
       "      <td>-0.115592</td>\n",
       "    </tr>\n",
       "    <tr>\n",
       "      <th>c</th>\n",
       "      <td>0.463307</td>\n",
       "      <td>-0.099773</td>\n",
       "      <td>1.338462</td>\n",
       "    </tr>\n",
       "  </tbody>\n",
       "</table>\n",
       "</div>"
      ],
      "text/plain": [
       "        one       two     three\n",
       "b  0.204574 -1.938237 -0.115592\n",
       "c  0.463307 -0.099773  1.338462"
      ]
     },
     "execution_count": 232,
     "metadata": {},
     "output_type": "execute_result"
    }
   ],
   "source": [
    "df.drop(['a', 'd'], axis=0)"
   ]
  },
  {
   "cell_type": "code",
   "execution_count": 233,
   "metadata": {},
   "outputs": [
    {
     "data": {
      "text/html": [
       "<div>\n",
       "<style scoped>\n",
       "    .dataframe tbody tr th:only-of-type {\n",
       "        vertical-align: middle;\n",
       "    }\n",
       "\n",
       "    .dataframe tbody tr th {\n",
       "        vertical-align: top;\n",
       "    }\n",
       "\n",
       "    .dataframe thead th {\n",
       "        text-align: right;\n",
       "    }\n",
       "</style>\n",
       "<table border=\"1\" class=\"dataframe\">\n",
       "  <thead>\n",
       "    <tr style=\"text-align: right;\">\n",
       "      <th></th>\n",
       "      <th>two</th>\n",
       "      <th>three</th>\n",
       "    </tr>\n",
       "  </thead>\n",
       "  <tbody>\n",
       "    <tr>\n",
       "      <th>a</th>\n",
       "      <td>-1.356699</td>\n",
       "      <td>NaN</td>\n",
       "    </tr>\n",
       "    <tr>\n",
       "      <th>b</th>\n",
       "      <td>-1.938237</td>\n",
       "      <td>-0.115592</td>\n",
       "    </tr>\n",
       "    <tr>\n",
       "      <th>c</th>\n",
       "      <td>-0.099773</td>\n",
       "      <td>1.338462</td>\n",
       "    </tr>\n",
       "    <tr>\n",
       "      <th>d</th>\n",
       "      <td>1.380254</td>\n",
       "      <td>-0.068492</td>\n",
       "    </tr>\n",
       "  </tbody>\n",
       "</table>\n",
       "</div>"
      ],
      "text/plain": [
       "        two     three\n",
       "a -1.356699       NaN\n",
       "b -1.938237 -0.115592\n",
       "c -0.099773  1.338462\n",
       "d  1.380254 -0.068492"
      ]
     },
     "execution_count": 233,
     "metadata": {},
     "output_type": "execute_result"
    }
   ],
   "source": [
    "df.drop(['one'], axis=1)"
   ]
  },
  {
   "cell_type": "markdown",
   "metadata": {},
   "source": [
    "更改标签可以使用rename方法"
   ]
  },
  {
   "cell_type": "code",
   "execution_count": 237,
   "metadata": {},
   "outputs": [
    {
     "data": {
      "text/html": [
       "<div>\n",
       "<style scoped>\n",
       "    .dataframe tbody tr th:only-of-type {\n",
       "        vertical-align: middle;\n",
       "    }\n",
       "\n",
       "    .dataframe tbody tr th {\n",
       "        vertical-align: top;\n",
       "    }\n",
       "\n",
       "    .dataframe thead th {\n",
       "        text-align: right;\n",
       "    }\n",
       "</style>\n",
       "<table border=\"1\" class=\"dataframe\">\n",
       "  <thead>\n",
       "    <tr style=\"text-align: right;\">\n",
       "      <th></th>\n",
       "      <th>one</th>\n",
       "      <th>two</th>\n",
       "      <th>three</th>\n",
       "    </tr>\n",
       "  </thead>\n",
       "  <tbody>\n",
       "    <tr>\n",
       "      <th>a</th>\n",
       "      <td>-2.058637</td>\n",
       "      <td>-1.356699</td>\n",
       "      <td>NaN</td>\n",
       "    </tr>\n",
       "    <tr>\n",
       "      <th>b</th>\n",
       "      <td>0.204574</td>\n",
       "      <td>-1.938237</td>\n",
       "      <td>-0.115592</td>\n",
       "    </tr>\n",
       "    <tr>\n",
       "      <th>c</th>\n",
       "      <td>0.463307</td>\n",
       "      <td>-0.099773</td>\n",
       "      <td>1.338462</td>\n",
       "    </tr>\n",
       "    <tr>\n",
       "      <th>d</th>\n",
       "      <td>NaN</td>\n",
       "      <td>1.380254</td>\n",
       "      <td>-0.068492</td>\n",
       "    </tr>\n",
       "  </tbody>\n",
       "</table>\n",
       "</div>"
      ],
      "text/plain": [
       "        one       two     three\n",
       "a -2.058637 -1.356699       NaN\n",
       "b  0.204574 -1.938237 -0.115592\n",
       "c  0.463307 -0.099773  1.338462\n",
       "d       NaN  1.380254 -0.068492"
      ]
     },
     "execution_count": 237,
     "metadata": {},
     "output_type": "execute_result"
    }
   ],
   "source": [
    "df"
   ]
  },
  {
   "cell_type": "code",
   "execution_count": 238,
   "metadata": {},
   "outputs": [
    {
     "data": {
      "text/html": [
       "<div>\n",
       "<style scoped>\n",
       "    .dataframe tbody tr th:only-of-type {\n",
       "        vertical-align: middle;\n",
       "    }\n",
       "\n",
       "    .dataframe tbody tr th {\n",
       "        vertical-align: top;\n",
       "    }\n",
       "\n",
       "    .dataframe thead th {\n",
       "        text-align: right;\n",
       "    }\n",
       "</style>\n",
       "<table border=\"1\" class=\"dataframe\">\n",
       "  <thead>\n",
       "    <tr style=\"text-align: right;\">\n",
       "      <th></th>\n",
       "      <th>foo</th>\n",
       "      <th>bar</th>\n",
       "      <th>three</th>\n",
       "    </tr>\n",
       "  </thead>\n",
       "  <tbody>\n",
       "    <tr>\n",
       "      <th>apple</th>\n",
       "      <td>-2.058637</td>\n",
       "      <td>-1.356699</td>\n",
       "      <td>NaN</td>\n",
       "    </tr>\n",
       "    <tr>\n",
       "      <th>banana</th>\n",
       "      <td>0.204574</td>\n",
       "      <td>-1.938237</td>\n",
       "      <td>-0.115592</td>\n",
       "    </tr>\n",
       "    <tr>\n",
       "      <th>c</th>\n",
       "      <td>0.463307</td>\n",
       "      <td>-0.099773</td>\n",
       "      <td>1.338462</td>\n",
       "    </tr>\n",
       "    <tr>\n",
       "      <th>durian</th>\n",
       "      <td>NaN</td>\n",
       "      <td>1.380254</td>\n",
       "      <td>-0.068492</td>\n",
       "    </tr>\n",
       "  </tbody>\n",
       "</table>\n",
       "</div>"
      ],
      "text/plain": [
       "             foo       bar     three\n",
       "apple  -2.058637 -1.356699       NaN\n",
       "banana  0.204574 -1.938237 -0.115592\n",
       "c       0.463307 -0.099773  1.338462\n",
       "durian       NaN  1.380254 -0.068492"
      ]
     },
     "execution_count": 238,
     "metadata": {},
     "output_type": "execute_result"
    }
   ],
   "source": [
    "df.rename(columns={'one': 'foo', 'two': 'bar'},\n",
    "          index={'a': 'apple', 'b': 'banana', 'd': 'durian'})"
   ]
  },
  {
   "cell_type": "markdown",
   "metadata": {},
   "source": [
    "这里我们特意讲解一下inplace参数，大多数函数如果有inplace参数，默认都是False"
   ]
  },
  {
   "cell_type": "code",
   "execution_count": 241,
   "metadata": {},
   "outputs": [
    {
     "data": {
      "text/html": [
       "<div>\n",
       "<style scoped>\n",
       "    .dataframe tbody tr th:only-of-type {\n",
       "        vertical-align: middle;\n",
       "    }\n",
       "\n",
       "    .dataframe tbody tr th {\n",
       "        vertical-align: top;\n",
       "    }\n",
       "\n",
       "    .dataframe thead th {\n",
       "        text-align: right;\n",
       "    }\n",
       "</style>\n",
       "<table border=\"1\" class=\"dataframe\">\n",
       "  <thead>\n",
       "    <tr style=\"text-align: right;\">\n",
       "      <th></th>\n",
       "      <th>one</th>\n",
       "      <th>two</th>\n",
       "      <th>three</th>\n",
       "    </tr>\n",
       "  </thead>\n",
       "  <tbody>\n",
       "    <tr>\n",
       "      <th>a</th>\n",
       "      <td>-2.058637</td>\n",
       "      <td>-1.356699</td>\n",
       "      <td>NaN</td>\n",
       "    </tr>\n",
       "    <tr>\n",
       "      <th>b</th>\n",
       "      <td>0.204574</td>\n",
       "      <td>-1.938237</td>\n",
       "      <td>-0.115592</td>\n",
       "    </tr>\n",
       "    <tr>\n",
       "      <th>c</th>\n",
       "      <td>0.463307</td>\n",
       "      <td>-0.099773</td>\n",
       "      <td>1.338462</td>\n",
       "    </tr>\n",
       "    <tr>\n",
       "      <th>d</th>\n",
       "      <td>NaN</td>\n",
       "      <td>1.380254</td>\n",
       "      <td>-0.068492</td>\n",
       "    </tr>\n",
       "  </tbody>\n",
       "</table>\n",
       "</div>"
      ],
      "text/plain": [
       "        one       two     three\n",
       "a -2.058637 -1.356699       NaN\n",
       "b  0.204574 -1.938237 -0.115592\n",
       "c  0.463307 -0.099773  1.338462\n",
       "d       NaN  1.380254 -0.068492"
      ]
     },
     "execution_count": 241,
     "metadata": {},
     "output_type": "execute_result"
    }
   ],
   "source": [
    "df1 = df.copy()\n",
    "df1"
   ]
  },
  {
   "cell_type": "code",
   "execution_count": 242,
   "metadata": {},
   "outputs": [
    {
     "data": {
      "text/html": [
       "<div>\n",
       "<style scoped>\n",
       "    .dataframe tbody tr th:only-of-type {\n",
       "        vertical-align: middle;\n",
       "    }\n",
       "\n",
       "    .dataframe tbody tr th {\n",
       "        vertical-align: top;\n",
       "    }\n",
       "\n",
       "    .dataframe thead th {\n",
       "        text-align: right;\n",
       "    }\n",
       "</style>\n",
       "<table border=\"1\" class=\"dataframe\">\n",
       "  <thead>\n",
       "    <tr style=\"text-align: right;\">\n",
       "      <th></th>\n",
       "      <th>foo</th>\n",
       "      <th>bar</th>\n",
       "      <th>three</th>\n",
       "    </tr>\n",
       "  </thead>\n",
       "  <tbody>\n",
       "    <tr>\n",
       "      <th>apple</th>\n",
       "      <td>-2.058637</td>\n",
       "      <td>-1.356699</td>\n",
       "      <td>NaN</td>\n",
       "    </tr>\n",
       "    <tr>\n",
       "      <th>banana</th>\n",
       "      <td>0.204574</td>\n",
       "      <td>-1.938237</td>\n",
       "      <td>-0.115592</td>\n",
       "    </tr>\n",
       "    <tr>\n",
       "      <th>c</th>\n",
       "      <td>0.463307</td>\n",
       "      <td>-0.099773</td>\n",
       "      <td>1.338462</td>\n",
       "    </tr>\n",
       "    <tr>\n",
       "      <th>durian</th>\n",
       "      <td>NaN</td>\n",
       "      <td>1.380254</td>\n",
       "      <td>-0.068492</td>\n",
       "    </tr>\n",
       "  </tbody>\n",
       "</table>\n",
       "</div>"
      ],
      "text/plain": [
       "             foo       bar     three\n",
       "apple  -2.058637 -1.356699       NaN\n",
       "banana  0.204574 -1.938237 -0.115592\n",
       "c       0.463307 -0.099773  1.338462\n",
       "durian       NaN  1.380254 -0.068492"
      ]
     },
     "execution_count": 242,
     "metadata": {},
     "output_type": "execute_result"
    }
   ],
   "source": [
    "df2 = df1.rename(columns={'one': 'foo', 'two': 'bar'},\n",
    "                 index={'a': 'apple', 'b': 'banana', 'd': 'durian'},\n",
    "                 inplace=False)"
   ]
  },
  {
   "cell_type": "code",
   "execution_count": 243,
   "metadata": {},
   "outputs": [
    {
     "data": {
      "text/html": [
       "<div>\n",
       "<style scoped>\n",
       "    .dataframe tbody tr th:only-of-type {\n",
       "        vertical-align: middle;\n",
       "    }\n",
       "\n",
       "    .dataframe tbody tr th {\n",
       "        vertical-align: top;\n",
       "    }\n",
       "\n",
       "    .dataframe thead th {\n",
       "        text-align: right;\n",
       "    }\n",
       "</style>\n",
       "<table border=\"1\" class=\"dataframe\">\n",
       "  <thead>\n",
       "    <tr style=\"text-align: right;\">\n",
       "      <th></th>\n",
       "      <th>one</th>\n",
       "      <th>two</th>\n",
       "      <th>three</th>\n",
       "    </tr>\n",
       "  </thead>\n",
       "  <tbody>\n",
       "    <tr>\n",
       "      <th>a</th>\n",
       "      <td>-2.058637</td>\n",
       "      <td>-1.356699</td>\n",
       "      <td>NaN</td>\n",
       "    </tr>\n",
       "    <tr>\n",
       "      <th>b</th>\n",
       "      <td>0.204574</td>\n",
       "      <td>-1.938237</td>\n",
       "      <td>-0.115592</td>\n",
       "    </tr>\n",
       "    <tr>\n",
       "      <th>c</th>\n",
       "      <td>0.463307</td>\n",
       "      <td>-0.099773</td>\n",
       "      <td>1.338462</td>\n",
       "    </tr>\n",
       "    <tr>\n",
       "      <th>d</th>\n",
       "      <td>NaN</td>\n",
       "      <td>1.380254</td>\n",
       "      <td>-0.068492</td>\n",
       "    </tr>\n",
       "  </tbody>\n",
       "</table>\n",
       "</div>"
      ],
      "text/plain": [
       "        one       two     three\n",
       "a -2.058637 -1.356699       NaN\n",
       "b  0.204574 -1.938237 -0.115592\n",
       "c  0.463307 -0.099773  1.338462\n",
       "d       NaN  1.380254 -0.068492"
      ]
     },
     "execution_count": 243,
     "metadata": {},
     "output_type": "execute_result"
    }
   ],
   "source": [
    "df1"
   ]
  },
  {
   "cell_type": "code",
   "execution_count": 245,
   "metadata": {},
   "outputs": [
    {
     "data": {
      "text/html": [
       "<div>\n",
       "<style scoped>\n",
       "    .dataframe tbody tr th:only-of-type {\n",
       "        vertical-align: middle;\n",
       "    }\n",
       "\n",
       "    .dataframe tbody tr th {\n",
       "        vertical-align: top;\n",
       "    }\n",
       "\n",
       "    .dataframe thead th {\n",
       "        text-align: right;\n",
       "    }\n",
       "</style>\n",
       "<table border=\"1\" class=\"dataframe\">\n",
       "  <thead>\n",
       "    <tr style=\"text-align: right;\">\n",
       "      <th></th>\n",
       "      <th>foo</th>\n",
       "      <th>bar</th>\n",
       "      <th>three</th>\n",
       "    </tr>\n",
       "  </thead>\n",
       "  <tbody>\n",
       "    <tr>\n",
       "      <th>apple</th>\n",
       "      <td>-2.058637</td>\n",
       "      <td>-1.356699</td>\n",
       "      <td>NaN</td>\n",
       "    </tr>\n",
       "    <tr>\n",
       "      <th>banana</th>\n",
       "      <td>0.204574</td>\n",
       "      <td>-1.938237</td>\n",
       "      <td>-0.115592</td>\n",
       "    </tr>\n",
       "    <tr>\n",
       "      <th>c</th>\n",
       "      <td>0.463307</td>\n",
       "      <td>-0.099773</td>\n",
       "      <td>1.338462</td>\n",
       "    </tr>\n",
       "    <tr>\n",
       "      <th>durian</th>\n",
       "      <td>NaN</td>\n",
       "      <td>1.380254</td>\n",
       "      <td>-0.068492</td>\n",
       "    </tr>\n",
       "  </tbody>\n",
       "</table>\n",
       "</div>"
      ],
      "text/plain": [
       "             foo       bar     three\n",
       "apple  -2.058637 -1.356699       NaN\n",
       "banana  0.204574 -1.938237 -0.115592\n",
       "c       0.463307 -0.099773  1.338462\n",
       "durian       NaN  1.380254 -0.068492"
      ]
     },
     "execution_count": 245,
     "metadata": {},
     "output_type": "execute_result"
    }
   ],
   "source": [
    "df2"
   ]
  },
  {
   "cell_type": "markdown",
   "metadata": {},
   "source": [
    "改用inplace=True参数的话"
   ]
  },
  {
   "cell_type": "code",
   "execution_count": 258,
   "metadata": {},
   "outputs": [
    {
     "data": {
      "text/html": [
       "<div>\n",
       "<style scoped>\n",
       "    .dataframe tbody tr th:only-of-type {\n",
       "        vertical-align: middle;\n",
       "    }\n",
       "\n",
       "    .dataframe tbody tr th {\n",
       "        vertical-align: top;\n",
       "    }\n",
       "\n",
       "    .dataframe thead th {\n",
       "        text-align: right;\n",
       "    }\n",
       "</style>\n",
       "<table border=\"1\" class=\"dataframe\">\n",
       "  <thead>\n",
       "    <tr style=\"text-align: right;\">\n",
       "      <th></th>\n",
       "      <th>one</th>\n",
       "      <th>two</th>\n",
       "      <th>three</th>\n",
       "    </tr>\n",
       "  </thead>\n",
       "  <tbody>\n",
       "    <tr>\n",
       "      <th>a</th>\n",
       "      <td>-2.058637</td>\n",
       "      <td>-1.356699</td>\n",
       "      <td>NaN</td>\n",
       "    </tr>\n",
       "    <tr>\n",
       "      <th>b</th>\n",
       "      <td>0.204574</td>\n",
       "      <td>-1.938237</td>\n",
       "      <td>-0.115592</td>\n",
       "    </tr>\n",
       "    <tr>\n",
       "      <th>c</th>\n",
       "      <td>0.463307</td>\n",
       "      <td>-0.099773</td>\n",
       "      <td>1.338462</td>\n",
       "    </tr>\n",
       "    <tr>\n",
       "      <th>d</th>\n",
       "      <td>NaN</td>\n",
       "      <td>1.380254</td>\n",
       "      <td>-0.068492</td>\n",
       "    </tr>\n",
       "  </tbody>\n",
       "</table>\n",
       "</div>"
      ],
      "text/plain": [
       "        one       two     three\n",
       "a -2.058637 -1.356699       NaN\n",
       "b  0.204574 -1.938237 -0.115592\n",
       "c  0.463307 -0.099773  1.338462\n",
       "d       NaN  1.380254 -0.068492"
      ]
     },
     "execution_count": 258,
     "metadata": {},
     "output_type": "execute_result"
    }
   ],
   "source": [
    "df1 = df.copy()\n",
    "df1"
   ]
  },
  {
   "cell_type": "code",
   "execution_count": 259,
   "metadata": {},
   "outputs": [],
   "source": [
    "df2 = df1.rename(columns={'one': 'foo', 'two': 'bar'},\n",
    "                 index={'a': 'apple', 'b': 'banana', 'd': 'durian'},\n",
    "                 inplace=True)"
   ]
  },
  {
   "cell_type": "code",
   "execution_count": 254,
   "metadata": {},
   "outputs": [
    {
     "data": {
      "text/html": [
       "<div>\n",
       "<style scoped>\n",
       "    .dataframe tbody tr th:only-of-type {\n",
       "        vertical-align: middle;\n",
       "    }\n",
       "\n",
       "    .dataframe tbody tr th {\n",
       "        vertical-align: top;\n",
       "    }\n",
       "\n",
       "    .dataframe thead th {\n",
       "        text-align: right;\n",
       "    }\n",
       "</style>\n",
       "<table border=\"1\" class=\"dataframe\">\n",
       "  <thead>\n",
       "    <tr style=\"text-align: right;\">\n",
       "      <th></th>\n",
       "      <th>foo</th>\n",
       "      <th>bar</th>\n",
       "      <th>three</th>\n",
       "    </tr>\n",
       "  </thead>\n",
       "  <tbody>\n",
       "    <tr>\n",
       "      <th>apple</th>\n",
       "      <td>-2.058637</td>\n",
       "      <td>-1.356699</td>\n",
       "      <td>NaN</td>\n",
       "    </tr>\n",
       "    <tr>\n",
       "      <th>banana</th>\n",
       "      <td>0.204574</td>\n",
       "      <td>-1.938237</td>\n",
       "      <td>-0.115592</td>\n",
       "    </tr>\n",
       "    <tr>\n",
       "      <th>c</th>\n",
       "      <td>0.463307</td>\n",
       "      <td>-0.099773</td>\n",
       "      <td>1.338462</td>\n",
       "    </tr>\n",
       "    <tr>\n",
       "      <th>durian</th>\n",
       "      <td>NaN</td>\n",
       "      <td>1.380254</td>\n",
       "      <td>-0.068492</td>\n",
       "    </tr>\n",
       "  </tbody>\n",
       "</table>\n",
       "</div>"
      ],
      "text/plain": [
       "             foo       bar     three\n",
       "apple  -2.058637 -1.356699       NaN\n",
       "banana  0.204574 -1.938237 -0.115592\n",
       "c       0.463307 -0.099773  1.338462\n",
       "durian       NaN  1.380254 -0.068492"
      ]
     },
     "execution_count": 254,
     "metadata": {},
     "output_type": "execute_result"
    }
   ],
   "source": [
    "df1"
   ]
  },
  {
   "cell_type": "code",
   "execution_count": 255,
   "metadata": {},
   "outputs": [
    {
     "data": {
      "text/plain": [
       "True"
      ]
     },
     "execution_count": 255,
     "metadata": {},
     "output_type": "execute_result"
    }
   ],
   "source": [
    "df2 is None"
   ]
  },
  {
   "cell_type": "markdown",
   "metadata": {},
   "source": [
    "如果选择inplace=True选项，那么rename这个操作将在原来的df1上进行，会更改df1，且方法返回None   \n",
    "如果选择inplace=False选项，那么rename这个操作将不会更改原来的df1，而是返回一个新的DataFrame。新返回的DataFrame和旧DataFrame互不影响"
   ]
  },
  {
   "cell_type": "markdown",
   "metadata": {},
   "source": [
    "基本上所有与修改DataFrame相关的函数都有inplace参数，供选择是在原来的df上直接修改，还是生成新的DataFrame"
   ]
  },
  {
   "cell_type": "markdown",
   "metadata": {},
   "source": [
    "### 排序"
   ]
  },
  {
   "cell_type": "markdown",
   "metadata": {},
   "source": [
    "#### 按index排序"
   ]
  },
  {
   "cell_type": "code",
   "execution_count": 265,
   "metadata": {},
   "outputs": [],
   "source": [
    "df = pd.DataFrame({'one' : pd.Series(np.random.randn(3), index=['a', 'b', 'c']),\n",
    "                   'two' : pd.Series(np.random.randn(4), index=['a', 'b', 'c', 'd']),\n",
    "                   'three' : pd.Series(np.random.randn(3), index=['b', 'c', 'd'])})\n",
    "   "
   ]
  },
  {
   "cell_type": "code",
   "execution_count": 266,
   "metadata": {},
   "outputs": [],
   "source": [
    "unsorted_df = df.reindex(index=['a', 'd', 'c', 'b'],\n",
    "                         columns=['three', 'two', 'one'])"
   ]
  },
  {
   "cell_type": "code",
   "execution_count": 270,
   "metadata": {},
   "outputs": [
    {
     "data": {
      "text/html": [
       "<div>\n",
       "<style scoped>\n",
       "    .dataframe tbody tr th:only-of-type {\n",
       "        vertical-align: middle;\n",
       "    }\n",
       "\n",
       "    .dataframe tbody tr th {\n",
       "        vertical-align: top;\n",
       "    }\n",
       "\n",
       "    .dataframe thead th {\n",
       "        text-align: right;\n",
       "    }\n",
       "</style>\n",
       "<table border=\"1\" class=\"dataframe\">\n",
       "  <thead>\n",
       "    <tr style=\"text-align: right;\">\n",
       "      <th></th>\n",
       "      <th>three</th>\n",
       "      <th>two</th>\n",
       "      <th>one</th>\n",
       "    </tr>\n",
       "  </thead>\n",
       "  <tbody>\n",
       "    <tr>\n",
       "      <th>a</th>\n",
       "      <td>NaN</td>\n",
       "      <td>0.655547</td>\n",
       "      <td>-1.138704</td>\n",
       "    </tr>\n",
       "    <tr>\n",
       "      <th>d</th>\n",
       "      <td>0.289626</td>\n",
       "      <td>0.785330</td>\n",
       "      <td>NaN</td>\n",
       "    </tr>\n",
       "    <tr>\n",
       "      <th>c</th>\n",
       "      <td>-0.806277</td>\n",
       "      <td>-0.500301</td>\n",
       "      <td>-0.878219</td>\n",
       "    </tr>\n",
       "    <tr>\n",
       "      <th>b</th>\n",
       "      <td>-0.455291</td>\n",
       "      <td>0.374566</td>\n",
       "      <td>-0.194116</td>\n",
       "    </tr>\n",
       "  </tbody>\n",
       "</table>\n",
       "</div>"
      ],
      "text/plain": [
       "      three       two       one\n",
       "a       NaN  0.655547 -1.138704\n",
       "d  0.289626  0.785330       NaN\n",
       "c -0.806277 -0.500301 -0.878219\n",
       "b -0.455291  0.374566 -0.194116"
      ]
     },
     "execution_count": 270,
     "metadata": {},
     "output_type": "execute_result"
    }
   ],
   "source": [
    "unsorted_df"
   ]
  },
  {
   "cell_type": "markdown",
   "metadata": {},
   "source": [
    "按照index排序，使用sort_index方法（同样支持inplace用法）"
   ]
  },
  {
   "cell_type": "code",
   "execution_count": 272,
   "metadata": {},
   "outputs": [
    {
     "data": {
      "text/html": [
       "<div>\n",
       "<style scoped>\n",
       "    .dataframe tbody tr th:only-of-type {\n",
       "        vertical-align: middle;\n",
       "    }\n",
       "\n",
       "    .dataframe tbody tr th {\n",
       "        vertical-align: top;\n",
       "    }\n",
       "\n",
       "    .dataframe thead th {\n",
       "        text-align: right;\n",
       "    }\n",
       "</style>\n",
       "<table border=\"1\" class=\"dataframe\">\n",
       "  <thead>\n",
       "    <tr style=\"text-align: right;\">\n",
       "      <th></th>\n",
       "      <th>three</th>\n",
       "      <th>two</th>\n",
       "      <th>one</th>\n",
       "    </tr>\n",
       "  </thead>\n",
       "  <tbody>\n",
       "    <tr>\n",
       "      <th>a</th>\n",
       "      <td>NaN</td>\n",
       "      <td>0.655547</td>\n",
       "      <td>-1.138704</td>\n",
       "    </tr>\n",
       "    <tr>\n",
       "      <th>b</th>\n",
       "      <td>-0.455291</td>\n",
       "      <td>0.374566</td>\n",
       "      <td>-0.194116</td>\n",
       "    </tr>\n",
       "    <tr>\n",
       "      <th>c</th>\n",
       "      <td>-0.806277</td>\n",
       "      <td>-0.500301</td>\n",
       "      <td>-0.878219</td>\n",
       "    </tr>\n",
       "    <tr>\n",
       "      <th>d</th>\n",
       "      <td>0.289626</td>\n",
       "      <td>0.785330</td>\n",
       "      <td>NaN</td>\n",
       "    </tr>\n",
       "  </tbody>\n",
       "</table>\n",
       "</div>"
      ],
      "text/plain": [
       "      three       two       one\n",
       "a       NaN  0.655547 -1.138704\n",
       "b -0.455291  0.374566 -0.194116\n",
       "c -0.806277 -0.500301 -0.878219\n",
       "d  0.289626  0.785330       NaN"
      ]
     },
     "execution_count": 272,
     "metadata": {},
     "output_type": "execute_result"
    }
   ],
   "source": [
    "unsorted_df.sort_index()"
   ]
  },
  {
   "cell_type": "markdown",
   "metadata": {},
   "source": [
    "默认是顺序排序，如果想倒序排列，需要将ascending参数改为False"
   ]
  },
  {
   "cell_type": "code",
   "execution_count": 276,
   "metadata": {},
   "outputs": [
    {
     "data": {
      "text/html": [
       "<div>\n",
       "<style scoped>\n",
       "    .dataframe tbody tr th:only-of-type {\n",
       "        vertical-align: middle;\n",
       "    }\n",
       "\n",
       "    .dataframe tbody tr th {\n",
       "        vertical-align: top;\n",
       "    }\n",
       "\n",
       "    .dataframe thead th {\n",
       "        text-align: right;\n",
       "    }\n",
       "</style>\n",
       "<table border=\"1\" class=\"dataframe\">\n",
       "  <thead>\n",
       "    <tr style=\"text-align: right;\">\n",
       "      <th></th>\n",
       "      <th>three</th>\n",
       "      <th>two</th>\n",
       "      <th>one</th>\n",
       "    </tr>\n",
       "  </thead>\n",
       "  <tbody>\n",
       "    <tr>\n",
       "      <th>d</th>\n",
       "      <td>0.289626</td>\n",
       "      <td>0.785330</td>\n",
       "      <td>NaN</td>\n",
       "    </tr>\n",
       "    <tr>\n",
       "      <th>c</th>\n",
       "      <td>-0.806277</td>\n",
       "      <td>-0.500301</td>\n",
       "      <td>-0.878219</td>\n",
       "    </tr>\n",
       "    <tr>\n",
       "      <th>b</th>\n",
       "      <td>-0.455291</td>\n",
       "      <td>0.374566</td>\n",
       "      <td>-0.194116</td>\n",
       "    </tr>\n",
       "    <tr>\n",
       "      <th>a</th>\n",
       "      <td>NaN</td>\n",
       "      <td>0.655547</td>\n",
       "      <td>-1.138704</td>\n",
       "    </tr>\n",
       "  </tbody>\n",
       "</table>\n",
       "</div>"
      ],
      "text/plain": [
       "      three       two       one\n",
       "d  0.289626  0.785330       NaN\n",
       "c -0.806277 -0.500301 -0.878219\n",
       "b -0.455291  0.374566 -0.194116\n",
       "a       NaN  0.655547 -1.138704"
      ]
     },
     "execution_count": 276,
     "metadata": {},
     "output_type": "execute_result"
    }
   ],
   "source": [
    "unsorted_df.sort_index(ascending=False)"
   ]
  },
  {
   "cell_type": "markdown",
   "metadata": {},
   "source": [
    "按照columns排序也可以，不过要注意，字符串的排序是一个个按照首字符排序的"
   ]
  },
  {
   "cell_type": "code",
   "execution_count": 279,
   "metadata": {},
   "outputs": [
    {
     "data": {
      "text/html": [
       "<div>\n",
       "<style scoped>\n",
       "    .dataframe tbody tr th:only-of-type {\n",
       "        vertical-align: middle;\n",
       "    }\n",
       "\n",
       "    .dataframe tbody tr th {\n",
       "        vertical-align: top;\n",
       "    }\n",
       "\n",
       "    .dataframe thead th {\n",
       "        text-align: right;\n",
       "    }\n",
       "</style>\n",
       "<table border=\"1\" class=\"dataframe\">\n",
       "  <thead>\n",
       "    <tr style=\"text-align: right;\">\n",
       "      <th></th>\n",
       "      <th>one</th>\n",
       "      <th>three</th>\n",
       "      <th>two</th>\n",
       "    </tr>\n",
       "  </thead>\n",
       "  <tbody>\n",
       "    <tr>\n",
       "      <th>a</th>\n",
       "      <td>-1.138704</td>\n",
       "      <td>NaN</td>\n",
       "      <td>0.655547</td>\n",
       "    </tr>\n",
       "    <tr>\n",
       "      <th>d</th>\n",
       "      <td>NaN</td>\n",
       "      <td>0.289626</td>\n",
       "      <td>0.785330</td>\n",
       "    </tr>\n",
       "    <tr>\n",
       "      <th>c</th>\n",
       "      <td>-0.878219</td>\n",
       "      <td>-0.806277</td>\n",
       "      <td>-0.500301</td>\n",
       "    </tr>\n",
       "    <tr>\n",
       "      <th>b</th>\n",
       "      <td>-0.194116</td>\n",
       "      <td>-0.455291</td>\n",
       "      <td>0.374566</td>\n",
       "    </tr>\n",
       "  </tbody>\n",
       "</table>\n",
       "</div>"
      ],
      "text/plain": [
       "        one     three       two\n",
       "a -1.138704       NaN  0.655547\n",
       "d       NaN  0.289626  0.785330\n",
       "c -0.878219 -0.806277 -0.500301\n",
       "b -0.194116 -0.455291  0.374566"
      ]
     },
     "execution_count": 279,
     "metadata": {},
     "output_type": "execute_result"
    }
   ],
   "source": [
    "unsorted_df.sort_index(axis=1)"
   ]
  },
  {
   "cell_type": "markdown",
   "metadata": {},
   "source": [
    "series也有sort_index方法"
   ]
  },
  {
   "cell_type": "code",
   "execution_count": 280,
   "metadata": {},
   "outputs": [
    {
     "data": {
      "text/plain": [
       "a         NaN\n",
       "b   -0.455291\n",
       "c   -0.806277\n",
       "d    0.289626\n",
       "Name: three, dtype: float64"
      ]
     },
     "execution_count": 280,
     "metadata": {},
     "output_type": "execute_result"
    }
   ],
   "source": [
    "unsorted_df['three'].sort_index()"
   ]
  },
  {
   "cell_type": "markdown",
   "metadata": {},
   "source": [
    "#### 按values排序"
   ]
  },
  {
   "cell_type": "code",
   "execution_count": 286,
   "metadata": {},
   "outputs": [],
   "source": [
    "df1 = pd.DataFrame({'one':[2,1,1,1],'two':[1,3,2,4],'three':[5,4,3,2]})"
   ]
  },
  {
   "cell_type": "code",
   "execution_count": 282,
   "metadata": {},
   "outputs": [
    {
     "data": {
      "text/html": [
       "<div>\n",
       "<style scoped>\n",
       "    .dataframe tbody tr th:only-of-type {\n",
       "        vertical-align: middle;\n",
       "    }\n",
       "\n",
       "    .dataframe tbody tr th {\n",
       "        vertical-align: top;\n",
       "    }\n",
       "\n",
       "    .dataframe thead th {\n",
       "        text-align: right;\n",
       "    }\n",
       "</style>\n",
       "<table border=\"1\" class=\"dataframe\">\n",
       "  <thead>\n",
       "    <tr style=\"text-align: right;\">\n",
       "      <th></th>\n",
       "      <th>one</th>\n",
       "      <th>two</th>\n",
       "      <th>three</th>\n",
       "    </tr>\n",
       "  </thead>\n",
       "  <tbody>\n",
       "    <tr>\n",
       "      <th>0</th>\n",
       "      <td>2</td>\n",
       "      <td>1</td>\n",
       "      <td>5</td>\n",
       "    </tr>\n",
       "    <tr>\n",
       "      <th>1</th>\n",
       "      <td>1</td>\n",
       "      <td>3</td>\n",
       "      <td>4</td>\n",
       "    </tr>\n",
       "    <tr>\n",
       "      <th>2</th>\n",
       "      <td>1</td>\n",
       "      <td>2</td>\n",
       "      <td>3</td>\n",
       "    </tr>\n",
       "    <tr>\n",
       "      <th>3</th>\n",
       "      <td>1</td>\n",
       "      <td>4</td>\n",
       "      <td>2</td>\n",
       "    </tr>\n",
       "  </tbody>\n",
       "</table>\n",
       "</div>"
      ],
      "text/plain": [
       "   one  two  three\n",
       "0    2    1      5\n",
       "1    1    3      4\n",
       "2    1    2      3\n",
       "3    1    4      2"
      ]
     },
     "execution_count": 282,
     "metadata": {},
     "output_type": "execute_result"
    }
   ],
   "source": [
    "df1"
   ]
  },
  {
   "cell_type": "code",
   "execution_count": 289,
   "metadata": {},
   "outputs": [
    {
     "data": {
      "text/html": [
       "<div>\n",
       "<style scoped>\n",
       "    .dataframe tbody tr th:only-of-type {\n",
       "        vertical-align: middle;\n",
       "    }\n",
       "\n",
       "    .dataframe tbody tr th {\n",
       "        vertical-align: top;\n",
       "    }\n",
       "\n",
       "    .dataframe thead th {\n",
       "        text-align: right;\n",
       "    }\n",
       "</style>\n",
       "<table border=\"1\" class=\"dataframe\">\n",
       "  <thead>\n",
       "    <tr style=\"text-align: right;\">\n",
       "      <th></th>\n",
       "      <th>one</th>\n",
       "      <th>two</th>\n",
       "      <th>three</th>\n",
       "    </tr>\n",
       "  </thead>\n",
       "  <tbody>\n",
       "    <tr>\n",
       "      <th>0</th>\n",
       "      <td>2</td>\n",
       "      <td>1</td>\n",
       "      <td>5</td>\n",
       "    </tr>\n",
       "    <tr>\n",
       "      <th>1</th>\n",
       "      <td>1</td>\n",
       "      <td>3</td>\n",
       "      <td>4</td>\n",
       "    </tr>\n",
       "    <tr>\n",
       "      <th>2</th>\n",
       "      <td>1</td>\n",
       "      <td>2</td>\n",
       "      <td>3</td>\n",
       "    </tr>\n",
       "    <tr>\n",
       "      <th>3</th>\n",
       "      <td>1</td>\n",
       "      <td>4</td>\n",
       "      <td>2</td>\n",
       "    </tr>\n",
       "  </tbody>\n",
       "</table>\n",
       "</div>"
      ],
      "text/plain": [
       "   one  two  three\n",
       "0    2    1      5\n",
       "1    1    3      4\n",
       "2    1    2      3\n",
       "3    1    4      2"
      ]
     },
     "execution_count": 289,
     "metadata": {},
     "output_type": "execute_result"
    }
   ],
   "source": [
    "df1"
   ]
  },
  {
   "cell_type": "markdown",
   "metadata": {},
   "source": [
    "按照'two'列排序"
   ]
  },
  {
   "cell_type": "code",
   "execution_count": 290,
   "metadata": {},
   "outputs": [
    {
     "data": {
      "text/html": [
       "<div>\n",
       "<style scoped>\n",
       "    .dataframe tbody tr th:only-of-type {\n",
       "        vertical-align: middle;\n",
       "    }\n",
       "\n",
       "    .dataframe tbody tr th {\n",
       "        vertical-align: top;\n",
       "    }\n",
       "\n",
       "    .dataframe thead th {\n",
       "        text-align: right;\n",
       "    }\n",
       "</style>\n",
       "<table border=\"1\" class=\"dataframe\">\n",
       "  <thead>\n",
       "    <tr style=\"text-align: right;\">\n",
       "      <th></th>\n",
       "      <th>one</th>\n",
       "      <th>two</th>\n",
       "      <th>three</th>\n",
       "    </tr>\n",
       "  </thead>\n",
       "  <tbody>\n",
       "    <tr>\n",
       "      <th>0</th>\n",
       "      <td>2</td>\n",
       "      <td>1</td>\n",
       "      <td>5</td>\n",
       "    </tr>\n",
       "    <tr>\n",
       "      <th>2</th>\n",
       "      <td>1</td>\n",
       "      <td>2</td>\n",
       "      <td>3</td>\n",
       "    </tr>\n",
       "    <tr>\n",
       "      <th>1</th>\n",
       "      <td>1</td>\n",
       "      <td>3</td>\n",
       "      <td>4</td>\n",
       "    </tr>\n",
       "    <tr>\n",
       "      <th>3</th>\n",
       "      <td>1</td>\n",
       "      <td>4</td>\n",
       "      <td>2</td>\n",
       "    </tr>\n",
       "  </tbody>\n",
       "</table>\n",
       "</div>"
      ],
      "text/plain": [
       "   one  two  three\n",
       "0    2    1      5\n",
       "2    1    2      3\n",
       "1    1    3      4\n",
       "3    1    4      2"
      ]
     },
     "execution_count": 290,
     "metadata": {},
     "output_type": "execute_result"
    }
   ],
   "source": [
    "df1.sort_values(by='two')"
   ]
  },
  {
   "cell_type": "markdown",
   "metadata": {},
   "source": [
    "先按照'one'列排序，再按照'two'列排序"
   ]
  },
  {
   "cell_type": "code",
   "execution_count": 288,
   "metadata": {},
   "outputs": [
    {
     "data": {
      "text/html": [
       "<div>\n",
       "<style scoped>\n",
       "    .dataframe tbody tr th:only-of-type {\n",
       "        vertical-align: middle;\n",
       "    }\n",
       "\n",
       "    .dataframe tbody tr th {\n",
       "        vertical-align: top;\n",
       "    }\n",
       "\n",
       "    .dataframe thead th {\n",
       "        text-align: right;\n",
       "    }\n",
       "</style>\n",
       "<table border=\"1\" class=\"dataframe\">\n",
       "  <thead>\n",
       "    <tr style=\"text-align: right;\">\n",
       "      <th></th>\n",
       "      <th>one</th>\n",
       "      <th>two</th>\n",
       "      <th>three</th>\n",
       "    </tr>\n",
       "  </thead>\n",
       "  <tbody>\n",
       "    <tr>\n",
       "      <th>2</th>\n",
       "      <td>1</td>\n",
       "      <td>2</td>\n",
       "      <td>3</td>\n",
       "    </tr>\n",
       "    <tr>\n",
       "      <th>1</th>\n",
       "      <td>1</td>\n",
       "      <td>3</td>\n",
       "      <td>4</td>\n",
       "    </tr>\n",
       "    <tr>\n",
       "      <th>3</th>\n",
       "      <td>1</td>\n",
       "      <td>4</td>\n",
       "      <td>2</td>\n",
       "    </tr>\n",
       "    <tr>\n",
       "      <th>0</th>\n",
       "      <td>2</td>\n",
       "      <td>1</td>\n",
       "      <td>5</td>\n",
       "    </tr>\n",
       "  </tbody>\n",
       "</table>\n",
       "</div>"
      ],
      "text/plain": [
       "   one  two  three\n",
       "2    1    2      3\n",
       "1    1    3      4\n",
       "3    1    4      2\n",
       "0    2    1      5"
      ]
     },
     "execution_count": 288,
     "metadata": {},
     "output_type": "execute_result"
    }
   ],
   "source": [
    "df1.sort_values(by=['one','two'])"
   ]
  },
  {
   "cell_type": "code",
   "execution_count": null,
   "metadata": {},
   "outputs": [],
   "source": [
    "先按照'one'列顺序排序，再按照'two'列倒序排序"
   ]
  },
  {
   "cell_type": "code",
   "execution_count": 292,
   "metadata": {},
   "outputs": [
    {
     "data": {
      "text/html": [
       "<div>\n",
       "<style scoped>\n",
       "    .dataframe tbody tr th:only-of-type {\n",
       "        vertical-align: middle;\n",
       "    }\n",
       "\n",
       "    .dataframe tbody tr th {\n",
       "        vertical-align: top;\n",
       "    }\n",
       "\n",
       "    .dataframe thead th {\n",
       "        text-align: right;\n",
       "    }\n",
       "</style>\n",
       "<table border=\"1\" class=\"dataframe\">\n",
       "  <thead>\n",
       "    <tr style=\"text-align: right;\">\n",
       "      <th></th>\n",
       "      <th>one</th>\n",
       "      <th>two</th>\n",
       "      <th>three</th>\n",
       "    </tr>\n",
       "  </thead>\n",
       "  <tbody>\n",
       "    <tr>\n",
       "      <th>3</th>\n",
       "      <td>1</td>\n",
       "      <td>4</td>\n",
       "      <td>2</td>\n",
       "    </tr>\n",
       "    <tr>\n",
       "      <th>1</th>\n",
       "      <td>1</td>\n",
       "      <td>3</td>\n",
       "      <td>4</td>\n",
       "    </tr>\n",
       "    <tr>\n",
       "      <th>2</th>\n",
       "      <td>1</td>\n",
       "      <td>2</td>\n",
       "      <td>3</td>\n",
       "    </tr>\n",
       "    <tr>\n",
       "      <th>0</th>\n",
       "      <td>2</td>\n",
       "      <td>1</td>\n",
       "      <td>5</td>\n",
       "    </tr>\n",
       "  </tbody>\n",
       "</table>\n",
       "</div>"
      ],
      "text/plain": [
       "   one  two  three\n",
       "3    1    4      2\n",
       "1    1    3      4\n",
       "2    1    2      3\n",
       "0    2    1      5"
      ]
     },
     "execution_count": 292,
     "metadata": {},
     "output_type": "execute_result"
    }
   ],
   "source": [
    "df1.sort_values(by=['one','two'], ascending=[True, False])"
   ]
  },
  {
   "cell_type": "markdown",
   "metadata": {},
   "source": [
    "sort_values还可以处理NAN"
   ]
  },
  {
   "cell_type": "code",
   "execution_count": 293,
   "metadata": {},
   "outputs": [],
   "source": [
    "s[2] = np.nan"
   ]
  },
  {
   "cell_type": "code",
   "execution_count": 294,
   "metadata": {},
   "outputs": [
    {
     "data": {
      "text/plain": [
       "a    0.887863\n",
       "b    0.158536\n",
       "c         NaN\n",
       "d   -0.156847\n",
       "e    0.502051\n",
       "dtype: float64"
      ]
     },
     "execution_count": 294,
     "metadata": {},
     "output_type": "execute_result"
    }
   ],
   "source": [
    "s"
   ]
  },
  {
   "cell_type": "code",
   "execution_count": 295,
   "metadata": {},
   "outputs": [
    {
     "data": {
      "text/plain": [
       "d   -0.156847\n",
       "b    0.158536\n",
       "e    0.502051\n",
       "a    0.887863\n",
       "c         NaN\n",
       "dtype: float64"
      ]
     },
     "execution_count": 295,
     "metadata": {},
     "output_type": "execute_result"
    }
   ],
   "source": [
    "s.sort_values()"
   ]
  },
  {
   "cell_type": "code",
   "execution_count": 296,
   "metadata": {
    "scrolled": true
   },
   "outputs": [
    {
     "data": {
      "text/plain": [
       "c         NaN\n",
       "d   -0.156847\n",
       "b    0.158536\n",
       "e    0.502051\n",
       "a    0.887863\n",
       "dtype: float64"
      ]
     },
     "execution_count": 296,
     "metadata": {},
     "output_type": "execute_result"
    }
   ],
   "source": [
    "s.sort_values(na_position='first')"
   ]
  },
  {
   "cell_type": "markdown",
   "metadata": {},
   "source": [
    "### dtypes"
   ]
  },
  {
   "cell_type": "code",
   "execution_count": 297,
   "metadata": {},
   "outputs": [],
   "source": [
    " dft = pd.DataFrame(dict(A = np.random.rand(3),\n",
    "                         B = 1,\n",
    "                         C = 'foo',\n",
    "                         D = pd.Timestamp('20010102'),\n",
    "                         E = pd.Series([1.0]*3).astype('float32'),\n",
    "                         F = False,\n",
    "                         G = pd.Series([1]*3,dtype='int8')))"
   ]
  },
  {
   "cell_type": "code",
   "execution_count": 301,
   "metadata": {},
   "outputs": [
    {
     "data": {
      "text/html": [
       "<div>\n",
       "<style scoped>\n",
       "    .dataframe tbody tr th:only-of-type {\n",
       "        vertical-align: middle;\n",
       "    }\n",
       "\n",
       "    .dataframe tbody tr th {\n",
       "        vertical-align: top;\n",
       "    }\n",
       "\n",
       "    .dataframe thead th {\n",
       "        text-align: right;\n",
       "    }\n",
       "</style>\n",
       "<table border=\"1\" class=\"dataframe\">\n",
       "  <thead>\n",
       "    <tr style=\"text-align: right;\">\n",
       "      <th></th>\n",
       "      <th>A</th>\n",
       "      <th>B</th>\n",
       "      <th>C</th>\n",
       "      <th>D</th>\n",
       "      <th>E</th>\n",
       "      <th>F</th>\n",
       "      <th>G</th>\n",
       "    </tr>\n",
       "  </thead>\n",
       "  <tbody>\n",
       "    <tr>\n",
       "      <th>0</th>\n",
       "      <td>0.984481</td>\n",
       "      <td>1</td>\n",
       "      <td>foo</td>\n",
       "      <td>2001-01-02</td>\n",
       "      <td>1.0</td>\n",
       "      <td>False</td>\n",
       "      <td>1</td>\n",
       "    </tr>\n",
       "    <tr>\n",
       "      <th>1</th>\n",
       "      <td>0.338277</td>\n",
       "      <td>1</td>\n",
       "      <td>foo</td>\n",
       "      <td>2001-01-02</td>\n",
       "      <td>1.0</td>\n",
       "      <td>False</td>\n",
       "      <td>1</td>\n",
       "    </tr>\n",
       "    <tr>\n",
       "      <th>2</th>\n",
       "      <td>0.834604</td>\n",
       "      <td>1</td>\n",
       "      <td>foo</td>\n",
       "      <td>2001-01-02</td>\n",
       "      <td>1.0</td>\n",
       "      <td>False</td>\n",
       "      <td>1</td>\n",
       "    </tr>\n",
       "  </tbody>\n",
       "</table>\n",
       "</div>"
      ],
      "text/plain": [
       "          A  B    C          D    E      F  G\n",
       "0  0.984481  1  foo 2001-01-02  1.0  False  1\n",
       "1  0.338277  1  foo 2001-01-02  1.0  False  1\n",
       "2  0.834604  1  foo 2001-01-02  1.0  False  1"
      ]
     },
     "execution_count": 301,
     "metadata": {},
     "output_type": "execute_result"
    }
   ],
   "source": [
    "dft"
   ]
  },
  {
   "cell_type": "markdown",
   "metadata": {},
   "source": [
    "可以用dtypes属性查看dataframe的列的数据类型"
   ]
  },
  {
   "cell_type": "code",
   "execution_count": 303,
   "metadata": {},
   "outputs": [
    {
     "data": {
      "text/plain": [
       "A           float64\n",
       "B             int64\n",
       "C            object\n",
       "D    datetime64[ns]\n",
       "E           float32\n",
       "F              bool\n",
       "G              int8\n",
       "dtype: object"
      ]
     },
     "execution_count": 303,
     "metadata": {},
     "output_type": "execute_result"
    }
   ],
   "source": [
    "dft.dtypes"
   ]
  },
  {
   "cell_type": "markdown",
   "metadata": {},
   "source": [
    "如果pandas对象中，单个列包含具有多个dtypes的数据，则将选择一个容纳所有数据类型的dtype（object可以容纳所有类型，是最广泛的类型）。"
   ]
  },
  {
   "cell_type": "code",
   "execution_count": 306,
   "metadata": {},
   "outputs": [
    {
     "data": {
      "text/plain": [
       "0    1\n",
       "1    2\n",
       "2    3\n",
       "3    4\n",
       "4    5\n",
       "5    6\n",
       "dtype: int64"
      ]
     },
     "execution_count": 306,
     "metadata": {},
     "output_type": "execute_result"
    }
   ],
   "source": [
    "pd.Series([1, 2, 3, 4, 5, 6])"
   ]
  },
  {
   "cell_type": "code",
   "execution_count": 307,
   "metadata": {},
   "outputs": [
    {
     "data": {
      "text/plain": [
       "0    1.0\n",
       "1    2.0\n",
       "2    3.0\n",
       "3    4.0\n",
       "4    5.0\n",
       "5    6.0\n",
       "dtype: float64"
      ]
     },
     "execution_count": 307,
     "metadata": {},
     "output_type": "execute_result"
    }
   ],
   "source": [
    "# these ints are coerced to floats\n",
    "pd.Series([1, 2, 3, 4, 5, 6.0])"
   ]
  },
  {
   "cell_type": "markdown",
   "metadata": {},
   "source": [
    "默认整数是int64， 浮点是float64， 字符串是object"
   ]
  },
  {
   "cell_type": "markdown",
   "metadata": {},
   "source": [
    "### 处理文本数据"
   ]
  },
  {
   "cell_type": "code",
   "execution_count": 329,
   "metadata": {},
   "outputs": [],
   "source": [
    "s = pd.Series([\"000001.SZ\", \"000002.SZ\", \"000003.SZ\", \"000004.SZ\", \"000005.SZ\", \"000006.SZ\", \"000007.SZ\", \"000008.SZ\", \"000009.SZ\", \"000010.SZ\"])"
   ]
  },
  {
   "cell_type": "code",
   "execution_count": 330,
   "metadata": {},
   "outputs": [
    {
     "data": {
      "text/plain": [
       "0    000001.SZ\n",
       "1    000002.SZ\n",
       "2    000003.SZ\n",
       "3    000004.SZ\n",
       "4    000005.SZ\n",
       "5    000006.SZ\n",
       "6    000007.SZ\n",
       "7    000008.SZ\n",
       "8    000009.SZ\n",
       "9    000010.SZ\n",
       "dtype: object"
      ]
     },
     "execution_count": 330,
     "metadata": {},
     "output_type": "execute_result"
    }
   ],
   "source": [
    "s"
   ]
  },
  {
   "cell_type": "markdown",
   "metadata": {},
   "source": [
    "wind代码都会带有一个.sz .sh的后缀，然而我们公司的数据库里存取的代码没有这个后缀，想去掉这个后缀，用map方法自行编写函数的话，可以这样写"
   ]
  },
  {
   "cell_type": "code",
   "execution_count": 331,
   "metadata": {},
   "outputs": [
    {
     "data": {
      "text/plain": [
       "0    000001\n",
       "1    000002\n",
       "2    000003\n",
       "3    000004\n",
       "4    000005\n",
       "5    000006\n",
       "6    000007\n",
       "7    000008\n",
       "8    000009\n",
       "9    000010\n",
       "dtype: object"
      ]
     },
     "execution_count": 331,
     "metadata": {},
     "output_type": "execute_result"
    }
   ],
   "source": [
    "s.map(lambda x: x[:6])"
   ]
  },
  {
   "cell_type": "markdown",
   "metadata": {},
   "source": [
    "但Series提供了更简单的方式"
   ]
  },
  {
   "cell_type": "code",
   "execution_count": 332,
   "metadata": {},
   "outputs": [
    {
     "data": {
      "text/plain": [
       "0    000001.SZ\n",
       "1    000002.SZ\n",
       "2    000003.SZ\n",
       "3    000004.SZ\n",
       "4    000005.SZ\n",
       "5    000006.SZ\n",
       "6    000007.SZ\n",
       "7    000008.SZ\n",
       "8    000009.SZ\n",
       "9    000010.SZ\n",
       "dtype: object"
      ]
     },
     "execution_count": 332,
     "metadata": {},
     "output_type": "execute_result"
    }
   ],
   "source": [
    "s"
   ]
  },
  {
   "cell_type": "code",
   "execution_count": 333,
   "metadata": {},
   "outputs": [
    {
     "data": {
      "text/plain": [
       "0    000001\n",
       "1    000002\n",
       "2    000003\n",
       "3    000004\n",
       "4    000005\n",
       "5    000006\n",
       "6    000007\n",
       "7    000008\n",
       "8    000009\n",
       "9    000010\n",
       "dtype: object"
      ]
     },
     "execution_count": 333,
     "metadata": {},
     "output_type": "execute_result"
    }
   ],
   "source": [
    "s.str[:6]"
   ]
  },
  {
   "cell_type": "markdown",
   "metadata": {},
   "source": [
    "series.str支持所有python str的函数，可以认为series.str.somefun 等价于对series中的每个str 先算出str.somefun，再生成新的Series"
   ]
  },
  {
   "cell_type": "code",
   "execution_count": 334,
   "metadata": {},
   "outputs": [
    {
     "data": {
      "text/plain": [
       "'000001'"
      ]
     },
     "execution_count": 334,
     "metadata": {},
     "output_type": "execute_result"
    }
   ],
   "source": [
    "\"000001.SZ\"[:6]"
   ]
  },
  {
   "cell_type": "code",
   "execution_count": 335,
   "metadata": {},
   "outputs": [
    {
     "data": {
      "text/plain": [
       "0    000001\n",
       "1    000002\n",
       "2    000003\n",
       "3    000004\n",
       "4    000005\n",
       "5    000006\n",
       "6    000007\n",
       "7    000008\n",
       "8    000009\n",
       "9    000010\n",
       "dtype: object"
      ]
     },
     "execution_count": 335,
     "metadata": {},
     "output_type": "execute_result"
    }
   ],
   "source": [
    "s.str[:6]"
   ]
  },
  {
   "cell_type": "code",
   "execution_count": 336,
   "metadata": {},
   "outputs": [
    {
     "data": {
      "text/plain": [
       "'000001.AZ'"
      ]
     },
     "execution_count": 336,
     "metadata": {},
     "output_type": "execute_result"
    }
   ],
   "source": [
    "\"000001.SZ\".replace(\"S\", \"A\")"
   ]
  },
  {
   "cell_type": "code",
   "execution_count": 337,
   "metadata": {},
   "outputs": [
    {
     "data": {
      "text/plain": [
       "0    000001.AZ\n",
       "1    000002.AZ\n",
       "2    000003.AZ\n",
       "3    000004.AZ\n",
       "4    000005.AZ\n",
       "5    000006.AZ\n",
       "6    000007.AZ\n",
       "7    000008.AZ\n",
       "8    000009.AZ\n",
       "9    000010.AZ\n",
       "dtype: object"
      ]
     },
     "execution_count": 337,
     "metadata": {},
     "output_type": "execute_result"
    }
   ],
   "source": [
    "s.str.replace(\"S\", \"A\")"
   ]
  },
  {
   "cell_type": "code",
   "execution_count": 338,
   "metadata": {},
   "outputs": [
    {
     "data": {
      "text/plain": [
       "'000001.sz'"
      ]
     },
     "execution_count": 338,
     "metadata": {},
     "output_type": "execute_result"
    }
   ],
   "source": [
    "\"000001.SZ\".lower()"
   ]
  },
  {
   "cell_type": "code",
   "execution_count": 339,
   "metadata": {
    "scrolled": true
   },
   "outputs": [
    {
     "data": {
      "text/plain": [
       "0    000001.sz\n",
       "1    000002.sz\n",
       "2    000003.sz\n",
       "3    000004.sz\n",
       "4    000005.sz\n",
       "5    000006.sz\n",
       "6    000007.sz\n",
       "7    000008.sz\n",
       "8    000009.sz\n",
       "9    000010.sz\n",
       "dtype: object"
      ]
     },
     "execution_count": 339,
     "metadata": {},
     "output_type": "execute_result"
    }
   ],
   "source": [
    "s.str.lower()"
   ]
  },
  {
   "cell_type": "markdown",
   "metadata": {},
   "source": [
    "详细请见http://pandas.pydata.org/pandas-docs/stable/text.html"
   ]
  }
 ],
 "metadata": {
  "kernelspec": {
   "display_name": "Python 3",
   "language": "python",
   "name": "python3"
  },
  "language_info": {
   "codemirror_mode": {
    "name": "ipython",
    "version": 3
   },
   "file_extension": ".py",
   "mimetype": "text/x-python",
   "name": "python",
   "nbconvert_exporter": "python",
   "pygments_lexer": "ipython3",
   "version": "3.6.4"
  }
 },
 "nbformat": 4,
 "nbformat_minor": 2
}
