{
 "cells": [
  {
   "cell_type": "markdown",
   "metadata": {},
   "source": [
    "# Python语法基础\n"
   ]
  },
  {
   "cell_type": "markdown",
   "metadata": {},
   "source": [
    "## [一、Python数与字符串](#1)\n",
    "   ### [1、数](#11)\n",
    "   ### [2、字符串](#12)\n",
    "## [二、Python基本的数据结构](#2)\n",
    "   ### [1、列表(list)](#21)\n",
    "   ### [2、字符串(tuple)](#22)\n",
    "   ### [3、集合(set)](#23)\n",
    "   ### [4、字典(dict)](#24)\n",
    "## [三、认识Python标识符](#3)\n",
    "## [四、Python行与缩进](#4)"
   ]
  },
  {
   "cell_type": "markdown",
   "metadata": {},
   "source": [
    "# <a id=\"1\">一、Python数与字符串</a>"
   ]
  },
  {
   "cell_type": "markdown",
   "metadata": {},
   "source": [
    "## <a id=\"11\">1、数</a>"
   ]
  },
  {
   "cell_type": "markdown",
   "metadata": {},
   "source": [
    "Python中数字的类型主要有4种，分为\n",
    "\n",
    "#### 有符号整数型(int)\n",
    "\n",
    "#### 浮点型(float)\n",
    "\n",
    "#### 布尔型(bool)\n",
    "\n",
    "#### 复数型(complex)\n",
    "\n",
    "例如：\n",
    "\n",
    "0、1、-1、1009、-290这些等等都是int型。\n",
    "\n",
    "2.7788、3.277、8.88这些等等都是float型。\n",
    "\n",
    "bool型只有两个：一个是True、一个是False。\n",
    "\n",
    "4+2j、-9+20j、56+7j这种类型属于复数类型。"
   ]
  },
  {
   "cell_type": "code",
   "execution_count": 29,
   "metadata": {},
   "outputs": [
    {
     "name": "stdout",
     "output_type": "stream",
     "text": [
      "a 的类型是  <class 'int'>\n",
      "b 的类型是  <class 'float'>\n",
      "c 的类型是  <class 'bool'>\n",
      "d 的类型是  <class 'complex'>\n"
     ]
    }
   ],
   "source": [
    "#-*- coding:utf-8 -*-\n",
    "a = 1\n",
    "b = 34.1\n",
    "c = True\n",
    "d = 4+2j\n",
    "\n",
    "print(\"a 的类型是 \", type(a))\n",
    "print(\"b 的类型是 \", type(b))\n",
    "print(\"c 的类型是 \", type(c))\n",
    "print(\"d 的类型是 \", type(d))"
   ]
  },
  {
   "cell_type": "markdown",
   "metadata": {},
   "source": [
    "## <a id=\"12\">2、字符串</a>"
   ]
  },
  {
   "cell_type": "markdown",
   "metadata": {},
   "source": [
    "在Python中用引号引起来的字符集称之为字符串，比如：'hello'、\"my Python\"、\"2+3\"等都是字符串"
   ]
  },
  {
   "cell_type": "markdown",
   "metadata": {},
   "source": [
    "### 字符串的表示"
   ]
  },
  {
   "cell_type": "markdown",
   "metadata": {},
   "source": [
    "Python中字符串表示中使用的引号可以是单引号或双引号\n"
   ]
  },
  {
   "cell_type": "code",
   "execution_count": 16,
   "metadata": {},
   "outputs": [
    {
     "name": "stdout",
     "output_type": "stream",
     "text": [
      "服务资本市场，推动金融创新\n",
      "服务资本市场，'推'动金融创新\n",
      "服务资本市场，'推'动金融创新\n",
      "服务资本市场，\"推\"动金融创新\n"
     ]
    }
   ],
   "source": [
    "# 单引号\n",
    "c1 = '服务资本市场，推动金融创新'\n",
    "print(c1)\n",
    "\n",
    "# 如果想打印出含有单引号字符的字符串，需要加转义符\\\n",
    "c2 = '服务资本市场，\\'推\\'动金融创新'\n",
    "print(c2)\n",
    "\n",
    "# 更简单的方式是改用双引号包裹字符串\n",
    "c3 = \"服务资本市场，'推'动金融创新\"\n",
    "print(c3)\n",
    "\n",
    "# 同理如果想要打印含有单引号字符的字符串，用单引号包裹即可，单引号双引号包裹的字符串在其他方面没有区别\n",
    "c4 = '服务资本市场，\"推\"动金融创新'\n",
    "print(c4)\n"
   ]
  },
  {
   "cell_type": "markdown",
   "metadata": {},
   "source": [
    "而三引号的用法略有不同，它可以用来跨行表示字符，这在某些情形下(比如跨行写复杂的SQL语句)非常有用"
   ]
  },
  {
   "cell_type": "code",
   "execution_count": 1,
   "metadata": {},
   "outputs": [
    {
     "name": "stdout",
     "output_type": "stream",
     "text": [
      "\n",
      "    SELECT CODE, TRADEDATE, CLOSE\n",
      "    FROM ASHAREEODPRICE\n",
      "    WHERE CODE = '600000.SH'\n",
      "    AND TRADEDATE >= '20170101'\n",
      "    AND TRADEDATE <= '20170631'\n",
      "    ORDER BY CODE, TRADEDATE\n",
      "    \n"
     ]
    }
   ],
   "source": [
    "sql_str = \"\"\"\n",
    "    SELECT CODE, TRADEDATE, CLOSE\n",
    "    FROM ASHAREEODPRICE\n",
    "    WHERE CODE = '600000.SH'\n",
    "    AND TRADEDATE >= '20170101'\n",
    "    AND TRADEDATE <= '20170631'\n",
    "    ORDER BY CODE, TRADEDATE\n",
    "    \"\"\"\n",
    "print(sql_str)"
   ]
  },
  {
   "cell_type": "markdown",
   "metadata": {},
   "source": [
    "### 转义字符"
   ]
  },
  {
   "cell_type": "markdown",
   "metadata": {},
   "source": [
    "任何一门编程语言都有转义字符的存在，即右斜杠加某些字符是有特殊含义的  \n",
    "python也不例外,python中的转义字符如下\n",
    "\n",
    "\n",
    "\n"
   ]
  },
  {
   "cell_type": "markdown",
   "metadata": {},
   "source": [
    "\\\\\\\\\t反斜杠符号  \n",
    "\\\\'\t单引号  \n",
    "\\\\\"\t双引号  \n",
    "\\\\a\t响铃  \n",
    "\\\\b\t退格(Backspace)  \n",
    "\\\\e\t转义  \n",
    "\\\\000\t空  \n",
    "\\\\n\t换行  \n",
    "\\\\v\t纵向制表符  \n",
    "\\\\t\t横向制表符  \n",
    "\\\\r\t回车  \n",
    "\\\\f\t换页  \n",
    "\\\\oyy\t八进制数，yy代表的字符，例如：\\\\o12代表换行  \n",
    "\\\\xyy\t十六进制数，yy代表的字符，例如：\\\\x0a代表换行  \n",
    "\\\\other\t其它的字符以普通格式输出  "
   ]
  },
  {
   "cell_type": "code",
   "execution_count": 5,
   "metadata": {},
   "outputs": [
    {
     "name": "stdout",
     "output_type": "stream",
     "text": [
      "a\n",
      "\n",
      "b\n",
      "\n",
      "\n",
      "a\tb\n",
      "csdas\tsads\n",
      "\n"
     ]
    }
   ],
   "source": [
    "print(\"a\\n\\nb\\n\\n\")\n",
    "print(\"a\\tb\\ncsdas\\tsads\\n\")"
   ]
  },
  {
   "cell_type": "markdown",
   "metadata": {},
   "source": [
    "在Python里面，有时候我们需要打印出右斜杠本身，而不是用斜杠表示转义含义。  \n",
    "可以使用\"\\\\\"以表示打印又斜杠，而不是使用转义字符  \n",
    "也可以使用自然字符串，即在字符串前加上r。这在处理文件路径字符串时非常有用"
   ]
  },
  {
   "cell_type": "code",
   "execution_count": 6,
   "metadata": {},
   "outputs": [
    {
     "name": "stdout",
     "output_type": "stream",
     "text": [
      "C:\trogram Files\n",
      "ommon\n",
      "C:\\trogram Files\\nommon\n",
      "C:\\trogram Files\\nommon\n"
     ]
    }
   ],
   "source": [
    "# 直接加斜杠，若后面字符有特殊含义，输出会有问题\n",
    "print (\"C:\\trogram Files\\nommon\")\n",
    "\n",
    "# 用两个连续斜杠可以在输出中直接打印斜杠\n",
    "print (\"C:\\\\trogram Files\\\\nommon\")  #太丑！！！\n",
    "\n",
    "# 最好的方法是使用自然字符串\n",
    "print (r\"C:\\trogram Files\\nommon\")  #好看！！！"
   ]
  },
  {
   "cell_type": "markdown",
   "metadata": {},
   "source": [
    "### 字符串运算符"
   ]
  },
  {
   "cell_type": "markdown",
   "metadata": {},
   "source": [
    "字符串支持传统的  “+”  和  “*”  运算符"
   ]
  },
  {
   "cell_type": "code",
   "execution_count": 7,
   "metadata": {},
   "outputs": [
    {
     "name": "stdout",
     "output_type": "stream",
     "text": [
      "服务资本市场推动金融创新\n",
      "我是帅哥我是帅哥我是帅哥我是帅哥我是帅哥我是帅哥我是帅哥我是帅哥我是帅哥我是帅哥我是帅哥我是帅哥我是帅哥我是帅哥我是帅哥我是帅哥我是帅哥我是帅哥我是帅哥我是帅哥\n"
     ]
    }
   ],
   "source": [
    "#“+” 运算符 拼接字符串\n",
    "a = \"服务资本市场\"\n",
    "b = \"推动金融创新\"\n",
    "print(a+b)\n",
    "#“*” 运算符 重复字符串\n",
    "print (\"我是帅哥\"*20)"
   ]
  },
  {
   "cell_type": "markdown",
   "metadata": {},
   "source": [
    "### 字符串的索引与切片"
   ]
  },
  {
   "cell_type": "markdown",
   "metadata": {},
   "source": [
    "我们在编程的时候，比如字符串\"苏华清\"中的\"华\"、\"苏\"这些等都是\"苏华清\"的子字符串。  \n",
    "如果我们想取一个字符串中的子字符串出来，就要进行子字符串运算。而子字符串的运算方法主要有两种，一种是索引运算法[],另一种是切片运算法[:]，那么下面我们分别进行案例讲解。\n"
   ]
  },
  {
   "cell_type": "code",
   "execution_count": 100,
   "metadata": {},
   "outputs": [
    {
     "name": "stdout",
     "output_type": "stream",
     "text": [
      "苏\n",
      "清\n",
      "苏\n",
      "华清\n",
      "苏华\n",
      "清\n",
      "苏华清\n",
      "苏\n",
      "清华苏\n"
     ]
    }
   ],
   "source": [
    "# 索引运算符从0开始索引，这点与matlab区别很大\n",
    "# 编程语言基本都是从0开始索引，而matlab，R 这样的科学计算工具一般都采用从1开始\n",
    "c1=\"苏华清\"\n",
    "c2=c1[0]\n",
    "c3=c1[2]\n",
    "\n",
    "# 切片运算符[a:b]是指从第a下标开始到第b-1下标。同样第一位的下标为0.\n",
    "c4=c1[:1]  # 包前不包后\n",
    "c5=c1[1:]\n",
    "c6=c1[0:2]\n",
    "c7=c1[-1] \n",
    "c8=c1[-3:]\n",
    "c9=c1[:-2]\n",
    "print (c2, c3, c4, c5, c6, c7, c8, c9, sep=\"\\n\")\n",
    "\n",
    "# 特殊用法，颠倒顺序\n",
    "c10 = c1[::-1]\n",
    "print (c10)\n",
    "\n"
   ]
  },
  {
   "cell_type": "markdown",
   "metadata": {},
   "source": [
    "### 格式化字符串"
   ]
  },
  {
   "cell_type": "markdown",
   "metadata": {},
   "source": [
    "有时候，我们需要使用格式化字符串："
   ]
  },
  {
   "cell_type": "code",
   "execution_count": 102,
   "metadata": {},
   "outputs": [
    {
     "name": "stdout",
     "output_type": "stream",
     "text": [
      "\n",
      "    SELECT CODE, TRADEDATE, CLOSE\n",
      "    FROM ASHAREEODPRICE\n",
      "    WHERE CODE = '600000.SH'\n",
      "    AND TRADEDATE >= '20170101'\n",
      "    AND TRADEDATE <= '20170631'\n",
      "    ORDER BY CODE, TRADEDATE\n",
      "    \n"
     ]
    }
   ],
   "source": [
    "code = \"600000.SH\"\n",
    "start_date = \"20170101\"\n",
    "end_date = \"20170631\"\n",
    "\n",
    "sql_str = \"\"\"\n",
    "    SELECT CODE, TRADEDATE, CLOSE\n",
    "    FROM ASHAREEODPRICE\n",
    "    WHERE CODE = '%s'\n",
    "    AND TRADEDATE >= '%s'\n",
    "    AND TRADEDATE <= '%s'\n",
    "    ORDER BY CODE, TRADEDATE\n",
    "    \"\"\" % (code, start_date, end_date)\n",
    "print(sql_str)"
   ]
  },
  {
   "cell_type": "markdown",
   "metadata": {},
   "source": [
    "在同一变量出现多次时，用下面的方式可能会更清楚"
   ]
  },
  {
   "cell_type": "code",
   "execution_count": 8,
   "metadata": {},
   "outputs": [
    {
     "name": "stdout",
     "output_type": "stream",
     "text": [
      "\n",
      "　　余则成：。。。站长，就一天，我明天一早就去广州见您。\n",
      "　　站长变得严厉：你没看看今天离开的都是什么人吗？你以为这里还有明天？明天还有飞机？有的只是共军的炮弹。\n",
      "　　站长说着回到军官那边去。\n",
      "　　余则成真的着急了，他四下看了一眼，忽然看到了汽车里的翠平。\n",
      "　　余则成简直不敢相信自己的眼睛。\n",
      "　　对视。\n",
      "　　打开车门想过去。走了几步。\n",
      "　　余则成摇头。\n",
      "　　翠平停住。他看见管家跟老爷说完了话，她和他转身上车。\n",
      "　　翠平凝视着余则成。\n",
      "　　余则成焦虑地看着她。\n",
      "　　翠平微笑着摇上玻璃。汽车开动。\n",
      "　　余则成焦急地看着翠平的脸被玻璃遮挡起来。\n",
      "　　汽车开动，经过余则成这边，余则成忽然弯下腰，倒举着双臂，模仿老母鸡的样子，开始打转，挡住了汽车去路。\n",
      "　　翠平隔着玻璃看到，余则成微笑着在转，在转。\n",
      "　　站长和军官看得莫名其妙。\n",
      "　　管家看得莫名其妙。\n",
      "　　周围其他人也看得莫名其妙。\n",
      "　　翠平看着，心酸地笑了。\n",
      "　　汽车绕开走了，余则成微笑着停止了动作。 \n",
      "　　站长过来：则成，你怎么了？\n",
      "　　余则成：感冒。\n",
      "　　飞机起飞了。\n",
      "\n"
     ]
    }
   ],
   "source": [
    "tmp_str = \"\"\"\n",
    "　　{name1}：。。。站长，就一天，我明天一早就去广州见您。\n",
    "　　站长变得严厉：你没看看今天离开的都是什么人吗？你以为这里还有明天？明天还有飞机？有的只是共军的炮弹。\n",
    "　　站长说着回到军官那边去。\n",
    "　　{name1}真的着急了，他四下看了一眼，忽然看到了汽车里的{name2}。\n",
    "　　{name1}简直不敢相信自己的眼睛。\n",
    "　　对视。\n",
    "　　打开车门想过去。走了几步。\n",
    "　　{name1}摇头。\n",
    "　　{name2}停住。他看见管家跟老爷说完了话，她和他转身上车。\n",
    "　　{name2}凝视着{name1}。\n",
    "　　{name1}焦虑地看着她。\n",
    "　　{name2}微笑着摇上玻璃。汽车开动。\n",
    "　　{name1}焦急地看着{name2}的脸被玻璃遮挡起来。\n",
    "　　汽车开动，经过{name1}这边，{name1}忽然弯下腰，倒举着双臂，模仿老母鸡的样子，开始打转，挡住了汽车去路。\n",
    "　　{name2}隔着玻璃看到，{name1}微笑着在转，在转。\n",
    "　　站长和军官看得莫名其妙。\n",
    "　　管家看得莫名其妙。\n",
    "　　周围其他人也看得莫名其妙。\n",
    "　　{name2}看着，心酸地笑了。\n",
    "　　汽车绕开走了，{name1}微笑着停止了动作。 \n",
    "　　站长过来：则成，你怎么了？\n",
    "　　{name1}：感冒。\n",
    "　　飞机起飞了。\n",
    "\"\"\".format(name1=\"余则成\", name2=\"翠平\")\n",
    "print(tmp_str)"
   ]
  },
  {
   "cell_type": "markdown",
   "metadata": {},
   "source": [
    "### 字符串连接"
   ]
  },
  {
   "cell_type": "code",
   "execution_count": 17,
   "metadata": {},
   "outputs": [
    {
     "name": "stdout",
     "output_type": "stream",
     "text": [
      "600000.SH', '600001.SH', '600002.SH', '600003.SH', '600004.SH \n",
      "\n",
      "\n",
      "    SELECT CODE, TRADEDATE, CLOSE\n",
      "    FROM ASHAREEODPRICE\n",
      "    WHERE CODE IN ('600000.SH', '600001.SH', '600002.SH', '600003.SH', '600004.SH')\n",
      "    AND TRADEDATE >= '20170101'\n",
      "    AND TRADEDATE <= '20170631'\n",
      "    ORDER BY CODE, TRADEDATE\n",
      "    \n"
     ]
    }
   ],
   "source": [
    "code_list = [\"600000.SH\", \"600001.SH\", \"600002.SH\", \"600003.SH\", \"600004.SH\"]\n",
    "#  千万不要这样写！！！！\n",
    "#  千万不要这样写！！！！\n",
    "#  千万不要这样写！！！！\n",
    "code_str = code_list[0] + \"', '\" + code_list[1] + \"', '\" + code_list[2] + \"', '\" + code_list[3] + \"', '\" + code_list[4]\n",
    "print(code_str, \"\\n\")\n",
    "sql_str = \"\"\"\n",
    "    SELECT CODE, TRADEDATE, CLOSE\n",
    "    FROM ASHAREEODPRICE\n",
    "    WHERE CODE IN ('%s')\n",
    "    AND TRADEDATE >= '20170101'\n",
    "    AND TRADEDATE <= '20170631'\n",
    "    ORDER BY CODE, TRADEDATE\n",
    "    \"\"\" % (code_str)\n",
    "print(sql_str)"
   ]
  },
  {
   "cell_type": "code",
   "execution_count": 118,
   "metadata": {},
   "outputs": [
    {
     "name": "stdout",
     "output_type": "stream",
     "text": [
      "600000.SH', '600001.SH', '600002.SH', '600003.SH', '600004.SH \n",
      "\n",
      "\n",
      "    SELECT CODE, TRADEDATE, CLOSE\n",
      "    FROM ASHAREEODPRICE\n",
      "    WHERE CODE IN ('600000.SH', '600001.SH', '600002.SH', '600003.SH', '600004.SH')\n",
      "    AND TRADEDATE >= '20170101'\n",
      "    AND TRADEDATE <= '20170631'\n",
      "    ORDER BY CODE, TRADEDATE\n",
      "    \n"
     ]
    }
   ],
   "source": [
    "code_list = [\"600000.SH\", \"600001.SH\", \"600002.SH\", \"600003.SH\", \"600004.SH\"]\n",
    "#  建议使用str.join方法\n",
    "code_str = \"', '\".join(code_list)\n",
    "print(code_str, \"\\n\")\n",
    "sql_str = \"\"\"\n",
    "    SELECT CODE, TRADEDATE, CLOSE\n",
    "    FROM ASHAREEODPRICE\n",
    "    WHERE CODE IN ('%s')\n",
    "    AND TRADEDATE >= '20170101'\n",
    "    AND TRADEDATE <= '20170631'\n",
    "    ORDER BY CODE, TRADEDATE\n",
    "    \"\"\" % (code_str)\n",
    "print(sql_str)"
   ]
  },
  {
   "cell_type": "markdown",
   "metadata": {},
   "source": [
    "# <a id=\"2\">二、Python基本的数据结构</a>"
   ]
  },
  {
   "cell_type": "markdown",
   "metadata": {},
   "source": [
    " 除了基本的变量类型外，我们经常使用一些容器  \n",
    "·列表  \n",
    "·元组  \n",
    "·集合  \n",
    "·字典  \n"
   ]
  },
  {
   "cell_type": "markdown",
   "metadata": {},
   "source": [
    "## <a id=\"21\">1、列表(list)</a>"
   ]
  },
  {
   "cell_type": "markdown",
   "metadata": {},
   "source": [
    "在Python中没有数组的概念，Python中跟数组最接近的概念就是列表和元组，我们先说列表。  \n",
    "列表就是用来存储一连串元素的容器。列表用[]来表示，比如说，一个班里面有30个学生，我们需要将30个学生安排到一间教室里面上课，如果把30个学生分别比作元素，那么这个教室就是数组。30个学生是按座位坐好，有序排列的，在数组中的元素是有序排列的。\n"
   ]
  },
  {
   "cell_type": "code",
   "execution_count": 43,
   "metadata": {},
   "outputs": [
    {
     "name": "stdout",
     "output_type": "stream",
     "text": [
      "3\n",
      "3\n",
      "['小李', '小娟']\n"
     ]
    }
   ],
   "source": [
    "# 列表\n",
    "students=[\"小明\",\"小华\",\"小李\",\"小娟\",\"小云\",3]\n",
    "print (students[len(students)-1])\n",
    "print (students[-1])\n",
    "print (students[2:4])"
   ]
  },
  {
   "cell_type": "code",
   "execution_count": 9,
   "metadata": {},
   "outputs": [
    {
     "name": "stdout",
     "output_type": "stream",
     "text": [
      "小娟\n",
      "小月\n",
      "小楠\n",
      "19978\n",
      "['小明', '小华', '小李', '小月', '小云', 19978]\n"
     ]
    }
   ],
   "source": [
    "# 列表2\n",
    "students=[\"小明\",\"小华\",\"小李\",\"小娟\",\"小云\",3]\n",
    "print(students[3])\n",
    "\n",
    "# 修改列表元素\n",
    "students[3]=\"小月\"\n",
    "print(students[3])\n",
    "\n",
    "# 修改列表元素\n",
    "students[5]=\"小楠\"\n",
    "print(students[5])\n",
    "\n",
    "# 列表里可以同时装不同类型的数据\n",
    "students[5]=19978\n",
    "print(students[5])\n",
    "\n",
    "print(students)"
   ]
  },
  {
   "cell_type": "markdown",
   "metadata": {},
   "source": [
    "### 列表的常用方法"
   ]
  },
  {
   "cell_type": "code",
   "execution_count": 15,
   "metadata": {},
   "outputs": [
    {
     "name": "stdout",
     "output_type": "stream",
     "text": [
      "['Harry Potter']\n",
      "['Harry Potter', 'Hermione Granger', 'Ronald Weasley']\n",
      "['Harry Potter', 'Draco Malfoy', 'Hermione Granger', 'Ronald Weasley']\n",
      "['Harry Potter', 'Hermione Granger', 'Ronald Weasley']\n",
      "2\n",
      "1\n"
     ]
    }
   ],
   "source": [
    "# 生成空列表\n",
    "students = []\n",
    "\n",
    "# 向列表里添加元素\n",
    "students.append(\"Harry Potter\")\n",
    "print(students)\n",
    "\n",
    "# 将另外一个列表里元素添加进列表\n",
    "students.extend([\"Hermione Granger\", \"Ronald Weasley\"])\n",
    "print(students)\n",
    "\n",
    "# 在指定位置插入元素\n",
    "students.insert(1, \"Draco Malfoy\")\n",
    "print(students)\n",
    "\n",
    "# 删除第一个出现的该元素\n",
    "students.remove(\"Draco Malfoy\")\n",
    "print(students)\n",
    "\n",
    "# 返回元素的位置\n",
    "ind = students.index(\"Ronald Weasley\")\n",
    "print(ind)\n",
    "\n",
    "# 计算该元素出现次数\n",
    "count = students.count(\"Ronald Weasley\")\n",
    "print(count)"
   ]
  },
  {
   "cell_type": "markdown",
   "metadata": {},
   "source": [
    "## <a id=\"22\">2、元组(tuple)</a>"
   ]
  },
  {
   "cell_type": "markdown",
   "metadata": {},
   "source": [
    "Python中跟数组类似的除了列表之外还有元组。元组里面的元素也是进行索引计算。但是列表跟元组有什么区别呢？  \n",
    "一是列表里面的元素的值可以修改，而元组里面的元素的值不能修改，只能读取\n",
    "二是列表的符号是[],而元组的符号是（）\n"
   ]
  },
  {
   "cell_type": "code",
   "execution_count": 36,
   "metadata": {},
   "outputs": [
    {
     "name": "stdout",
     "output_type": "stream",
     "text": [
      "('小明', '小军', '小强', '小武', '小龙', 100)\n",
      "小明\n",
      "('小明',)\n"
     ]
    }
   ],
   "source": [
    "# 元组\n",
    "students = (\"小明\", \"小军\", \"小强\", \"小武\", \"小龙\", 100)\n",
    "print (students)\n",
    "\n",
    "# 注意这不是元组！！！\n",
    "students = (\"小明\")\n",
    "print(students)\n",
    "\n",
    "# 在只有一个元素时，元组应该这样表示\n",
    "students = (\"小明\", )\n",
    "print(students)"
   ]
  },
  {
   "cell_type": "code",
   "execution_count": 12,
   "metadata": {},
   "outputs": [
    {
     "ename": "TypeError",
     "evalue": "'tuple' object does not support item assignment",
     "output_type": "error",
     "traceback": [
      "\u001b[1;31m---------------------------------------------------------------------------\u001b[0m",
      "\u001b[1;31mTypeError\u001b[0m                                 Traceback (most recent call last)",
      "\u001b[1;32m<ipython-input-12-567976b4b50a>\u001b[0m in \u001b[0;36m<module>\u001b[1;34m()\u001b[0m\n\u001b[0;32m      2\u001b[0m \u001b[0mstudents\u001b[0m\u001b[1;33m=\u001b[0m\u001b[1;33m(\u001b[0m\u001b[1;34m\"小明\"\u001b[0m\u001b[1;33m,\u001b[0m\u001b[1;34m\"小军\"\u001b[0m\u001b[1;33m,\u001b[0m\u001b[1;34m\"小强\"\u001b[0m\u001b[1;33m,\u001b[0m\u001b[1;34m\"小武\"\u001b[0m\u001b[1;33m,\u001b[0m\u001b[1;34m\"小龙\"\u001b[0m\u001b[1;33m)\u001b[0m\u001b[1;33m\u001b[0m\u001b[0m\n\u001b[0;32m      3\u001b[0m \u001b[1;33m\u001b[0m\u001b[0m\n\u001b[1;32m----> 4\u001b[1;33m \u001b[0mstudents\u001b[0m\u001b[1;33m[\u001b[0m\u001b[1;36m1\u001b[0m\u001b[1;33m]\u001b[0m\u001b[1;33m=\u001b[0m\u001b[1;34m\"小云\"\u001b[0m\u001b[1;33m\u001b[0m\u001b[0m\n\u001b[0m\u001b[0;32m      5\u001b[0m \u001b[0mprint\u001b[0m \u001b[1;33m(\u001b[0m\u001b[0mstudents\u001b[0m\u001b[1;33m[\u001b[0m\u001b[1;36m1\u001b[0m\u001b[1;33m]\u001b[0m\u001b[1;33m)\u001b[0m\u001b[1;33m\u001b[0m\u001b[0m\n",
      "\u001b[1;31mTypeError\u001b[0m: 'tuple' object does not support item assignment"
     ]
    }
   ],
   "source": [
    "#元组\n",
    "students=(\"小明\",\"小军\",\"小强\",\"小武\",\"小龙\")\n",
    "\n",
    "students[1]=\"小云\"\n",
    "print (students[1])"
   ]
  },
  {
   "cell_type": "markdown",
   "metadata": {},
   "source": [
    "由于元组不可修改，因此其不像列表那样，有众多的方法"
   ]
  },
  {
   "cell_type": "markdown",
   "metadata": {},
   "source": [
    "大家可能会问，既然列表的灵活性比元组更高，为何不直接在所有情形下使用列表"
   ]
  },
  {
   "cell_type": "markdown",
   "metadata": {},
   "source": [
    "原因有二：\n",
    "一.元组的运行效率高于列表，在不需要修改数据结构的应用场景下，使用元组更合适  \n",
    "二.元组的不可变性在某些应用场景下很重要，列表无法替代（如后面讲到的作为字典的键）"
   ]
  },
  {
   "cell_type": "markdown",
   "metadata": {},
   "source": [
    "## <a id=\"23\">3、集合(set)</a>"
   ]
  },
  {
   "cell_type": "markdown",
   "metadata": {},
   "source": [
    "Python中集合主要有两个功能，一个功能是进行集合操作，另一个功能是消除重复元素。\n",
    "集合的格式是：set(元素)或{元素}\n"
   ]
  },
  {
   "cell_type": "code",
   "execution_count": 24,
   "metadata": {},
   "outputs": [
    {
     "name": "stdout",
     "output_type": "stream",
     "text": [
      "set a: {'a', 'd', 'b', 'c'}\n",
      "set b: {'e', 'a', 'd', 'b'}\n",
      "交集 {'a', 'd', 'b'}\n",
      "并集 {'d', 'c', 'e', 'b', 'a'}\n",
      "差集 {'e'}\n"
     ]
    }
   ],
   "source": [
    "a = {\"a\", \"b\", \"c\", \"d\"}\n",
    "print (\"set a:\", a)\n",
    "\n",
    "b = set([\"a\", \"b\", \"b\", \"d\", \"e\"])\n",
    "# 注意重复元素已被去除\n",
    "print (\"set b:\", b)\n",
    "#交集\n",
    "x = a & b \n",
    "print(\"交集\", x)\n",
    "#并集\n",
    "y = a | b\n",
    "print(\"并集\", y) \n",
    "#差集\n",
    "z = b - a\n",
    "print(\"差集\", z) \n",
    "#去除重复元素\n"
   ]
  },
  {
   "cell_type": "markdown",
   "metadata": {},
   "source": [
    "## <a id=\"24\">4、字典(dict)</a>"
   ]
  },
  {
   "cell_type": "markdown",
   "metadata": {},
   "source": [
    "Python中的字典用键值对表示关系型的数据\n",
    "\n",
    "如 HuangKe 的 phone 为 13262555017  \n",
    "email 为 khuang@sse.com.cn  \n",
    "gender 为 male"
   ]
  },
  {
   "cell_type": "code",
   "execution_count": 122,
   "metadata": {},
   "outputs": [
    {
     "name": "stdout",
     "output_type": "stream",
     "text": [
      "13262555017\n",
      "{'phone': 13262555017, 'email': 'khuang@sse.com.cn', 'gender': 'male', 'hobby': 'history', 'hobby2': 'programing'}\n",
      "{'phone': 13262555017, 'email': 'khuang@sse.com.cn', 'gender': 'male', 'hobby': 'history'}\n"
     ]
    }
   ],
   "source": [
    "# 字典， 注意与集合构造时表示的不同\n",
    "# 需要传入 键 - 值 对数据，键与值之间用:分隔，键值对之间用,分隔\n",
    "\n",
    "huangke_info = {\"phone\": 13262555017, \"email\": \"khuang@sse.com.cn\", \"gender\": \"male\"}\n",
    "\n",
    "# 选取字典元素\n",
    "print (huangke_info[\"phone\"])\n",
    "\n",
    "# 添加字典里面的项目\n",
    "huangke_info[\"hobby\"] = \"history\"\n",
    "huangke_info[\"hobby2\"] = \"programing\"\n",
    "print(huangke_info)\n",
    "\n",
    "# 删除字典元素\n",
    "del huangke_info[\"hobby2\"]\n",
    "print(huangke_info)\n"
   ]
  },
  {
   "cell_type": "code",
   "execution_count": 71,
   "metadata": {
    "collapsed": true
   },
   "outputs": [
    {
     "name": "stdout",
     "output_type": "stream",
     "text": [
      "{'phone': 13262555017, 'email': 'khuang@sse.com.cn', 'gender': 'male', 'hobby': 'history of the world'}\n"
     ]
    }
   ],
   "source": [
    "# ！！！！！！！！！！注意1\n",
    "# 不允许同一个键出现两次。创建时如果同一个键被赋值两次，前一个赋值会被覆盖\n",
    "huangke_info[\"hobby\"] = \"history of the world\"\n",
    "print(huangke_info)\n",
    "\n",
    "\n"
   ]
  },
  {
   "cell_type": "code",
   "execution_count": 121,
   "metadata": {
    "collapsed": true
   },
   "outputs": [
    {
     "name": "stdout",
     "output_type": "stream",
     "text": [
      "{1: 'a', 'age': 18, ('school', 'major'): ['BUAA', 'Finance Engineering']} \n",
      "\n",
      "\n",
      "\n"
     ]
    },
    {
     "ename": "TypeError",
     "evalue": "unhashable type: 'list'",
     "output_type": "error",
     "traceback": [
      "\u001b[1;31m---------------------------------------------------------------------------\u001b[0m",
      "\u001b[1;31mTypeError\u001b[0m                                 Traceback (most recent call last)",
      "\u001b[1;32m<ipython-input-121-734eee153457>\u001b[0m in \u001b[0;36m<module>\u001b[1;34m()\u001b[0m\n\u001b[0;32m      8\u001b[0m \u001b[0mprint\u001b[0m\u001b[1;33m(\u001b[0m\u001b[0mhuangke_info\u001b[0m\u001b[1;33m,\u001b[0m \u001b[1;34m\"\\n\\n\\n\"\u001b[0m\u001b[1;33m)\u001b[0m\u001b[1;33m\u001b[0m\u001b[0m\n\u001b[0;32m      9\u001b[0m \u001b[1;31m# 但是list不行\u001b[0m\u001b[1;33m\u001b[0m\u001b[1;33m\u001b[0m\u001b[0m\n\u001b[1;32m---> 10\u001b[1;33m \u001b[0mhuangke_info\u001b[0m\u001b[1;33m[\u001b[0m\u001b[1;33m[\u001b[0m\u001b[1;34m\"school\"\u001b[0m\u001b[1;33m,\u001b[0m \u001b[1;34m\"major\"\u001b[0m\u001b[1;33m]\u001b[0m\u001b[1;33m]\u001b[0m \u001b[1;33m=\u001b[0m \u001b[1;33m[\u001b[0m\u001b[1;34m\"BUAA\"\u001b[0m\u001b[1;33m,\u001b[0m \u001b[1;34m\"Finance Engineering\"\u001b[0m\u001b[1;33m]\u001b[0m\u001b[1;33m\u001b[0m\u001b[0m\n\u001b[0m\u001b[0;32m     11\u001b[0m \u001b[0mprint\u001b[0m\u001b[1;33m(\u001b[0m\u001b[0mhuangke_info\u001b[0m\u001b[1;33m)\u001b[0m\u001b[1;33m\u001b[0m\u001b[0m\n\u001b[0;32m     12\u001b[0m \u001b[1;33m\u001b[0m\u001b[0m\n",
      "\u001b[1;31mTypeError\u001b[0m: unhashable type: 'list'"
     ]
    }
   ],
   "source": [
    "# ！！！！！！！！！！注意2\n",
    "# 值可以为任意数据类型，\n",
    "# 但是键必须是不可变对象（其实更严格的说法是hashable，有兴趣可自行了解字典查找的工作原理） \n",
    "# 数字，字符串，元组可以作为字典的键\n",
    "huangke_info[1] = \"a\"\n",
    "huangke_info[\"age\"] = 18\n",
    "huangke_info[(\"school\", \"major\")] = [\"BUAA\", \"Finance Engineering\"]\n",
    "print(huangke_info, \"\\n\\n\\n\")\n",
    "# 但是list不行\n",
    "huangke_info[[\"school\", \"major\"]] = [\"BUAA\", \"Finance Engineering\"]\n",
    "print(huangke_info)\n",
    "\n",
    "\n",
    "\n"
   ]
  },
  {
   "cell_type": "markdown",
   "metadata": {},
   "source": [
    "#### 字典的常用方法"
   ]
  },
  {
   "cell_type": "code",
   "execution_count": 76,
   "metadata": {
    "collapsed": true
   },
   "outputs": [
    {
     "name": "stdout",
     "output_type": "stream",
     "text": [
      "{'phone': 13262555017, 'email': 'khuang@sse.com.cn', 'gender': 'male'} \n",
      "\n",
      "keys:  dict_keys(['phone', 'email', 'gender']) \n",
      "\n",
      "values:  dict_values([13262555017, 'khuang@sse.com.cn', 'male']) \n",
      "\n",
      "items:  dict_items([('phone', 13262555017), ('email', 'khuang@sse.com.cn'), ('gender', 'male')]) \n",
      "\n",
      "{'phone': 13262555017, 'email': 'khuang@sse.com.cn', 'gender': 'male', 'age': '18'} \n",
      "\n",
      "{} \n",
      "\n"
     ]
    }
   ],
   "source": [
    "huangke_info = {\"phone\": 13262555017, \"email\": \"khuang@sse.com.cn\", \"gender\": \"male\"}\n",
    "print(huangke_info, \"\\n\")\n",
    "\n",
    "keys = huangke_info.keys()\n",
    "print(\"keys: \", keys, \"\\n\")\n",
    "\n",
    "values = huangke_info.values()\n",
    "print(\"values: \", values, \"\\n\")\n",
    "\n",
    "items = huangke_info.items()\n",
    "print(\"items: \", items, \"\\n\")\n",
    "\n",
    "huangke_info.update({\"age\": \"18\"})\n",
    "print(huangke_info, \"\\n\")\n",
    "\n",
    "huangke_info.clear()\n",
    "print(huangke_info, \"\\n\")\n",
    "\n"
   ]
  },
  {
   "cell_type": "markdown",
   "metadata": {},
   "source": [
    "# <a id=\"3\">三、认识Python标识符</a>"
   ]
  },
  {
   "cell_type": "markdown",
   "metadata": {},
   "source": [
    "Python中我们在编程的时候，起的名字就叫做标识符。其中变量和常量就是标识符的一种。\n",
    "在Python中标识符的命名是有规则的。按正确命名规则命名的可以使用的标识符叫做有效标识符，否则不能使用的标识符叫做无效标识符。有效标识符命名有以下几点规范：  \n",
    "1、标识符第一个字符必须只能是字母或下划线，第一个字符不能出现数字或其他字符  \n",
    "2、标识符除第一个字符外，其他部分可以是字母或者下划线或者数字  \n",
    "3、标识符大小写敏感，比如name跟Name是不同的标识符\n",
    "\n"
   ]
  },
  {
   "cell_type": "markdown",
   "metadata": {},
   "source": [
    "### 常用Python关键字"
   ]
  },
  {
   "cell_type": "markdown",
   "metadata": {},
   "source": [
    "Python中的关键字是指系统中自带的具备特定含义的标识符。常用的Python关键字主要有：and，elif，global，or，else，pass，break，continue，import，class，return，for，while。\n",
    "\n",
    "自己命名的变量不可与关键字重复\n"
   ]
  },
  {
   "cell_type": "code",
   "execution_count": 77,
   "metadata": {},
   "outputs": [
    {
     "name": "stdout",
     "output_type": "stream",
     "text": [
      "['False', 'None', 'True', 'and', 'as', 'assert', 'break', 'class', 'continue', 'def', 'del', 'elif', 'else', 'except', 'finally', 'for', 'from', 'global', 'if', 'import', 'in', 'is', 'lambda', 'nonlocal', 'not', 'or', 'pass', 'raise', 'return', 'try', 'while', 'with', 'yield']\n",
      "<function main at 0x000002122F32F7B8>\n"
     ]
    }
   ],
   "source": [
    "# 常用关键字\n",
    "# 查看一下关键字有哪些\n",
    "\n",
    "import keyword\n",
    "print (keyword.kwlist)\n",
    "print (keyword.main )"
   ]
  },
  {
   "cell_type": "markdown",
   "metadata": {},
   "source": [
    "# <a id=\"4\">四、Python行与缩进</a>"
   ]
  },
  {
   "cell_type": "markdown",
   "metadata": {},
   "source": [
    "### 了解逻辑行与物理行"
   ]
  },
  {
   "cell_type": "markdown",
   "metadata": {},
   "source": [
    "Python中逻辑行主要是指一段代码，在意义上它的行数，而物理行，指的是我们实际看到中的行数。下面我们分别看一些实例。\n"
   ]
  },
  {
   "cell_type": "code",
   "execution_count": 15,
   "metadata": {},
   "outputs": [
    {
     "name": "stdout",
     "output_type": "stream",
     "text": [
      "abc\n",
      "789\n",
      "777\n",
      "abc\n",
      "789\n",
      "777\n",
      "啦啦啦啦\n",
      "啦啦啦啦\n",
      "啦啦啦啦！\n"
     ]
    }
   ],
   "source": [
    "#逻辑行与物理行\n",
    "\n",
    "#以下是3个物理行\n",
    "print (\"abc\")\n",
    "print (\"789\")\n",
    "print (\"777\")\n",
    "\n",
    "#以下是1个物理行，3个逻辑行\n",
    "print (\"abc\");print(\"789\");print (\"777\")\n",
    "\n",
    "    #以下是1个逻辑行，3个物理行\n",
    "print ('''啦啦啦啦\n",
    "啦啦啦啦\n",
    "啦啦啦啦！''')"
   ]
  },
  {
   "cell_type": "markdown",
   "metadata": {},
   "source": [
    "### 行中分号使用规则"
   ]
  },
  {
   "cell_type": "markdown",
   "metadata": {},
   "source": [
    "在Python中一个物理行一般可以包含多个逻辑行，在一个物理行中编写多个逻辑行的时候，逻辑行与逻辑行之间用分号隔开。每个逻辑行的后面必须是有一个分号的，但是我们在编写程序的时候，如果一个逻辑行占了一个物理行的最后，这个逻辑行可以省略分号。我们具体看一些实例"
   ]
  },
  {
   "cell_type": "code",
   "execution_count": 80,
   "metadata": {},
   "outputs": [
    {
     "name": "stdout",
     "output_type": "stream",
     "text": [
      "123\n",
      "456\n",
      "777\n",
      "123\n",
      "456\n",
      "777\n"
     ]
    }
   ],
   "source": [
    "#分号使用规则\n",
    "\n",
    "#所有的逻辑行后均应使用分号\n",
    "print (\"123\");print (\"456\");\n",
    "print (\"777\");\n",
    "\n",
    "#分号可以省略的条件是指：每个物理行的行末可以省略分号,当然也可以不省略分号。\n",
    "print (\"123\");print (\"456\")    # 这里的分号可以省略，也可以不省略\n",
    "print (\"777\" )                 # 这里的分号可以省略，也可以不省略"
   ]
  },
  {
   "cell_type": "markdown",
   "metadata": {},
   "source": [
    "Python代码讲究简洁性，易懂性，因此，在平时写代码时，能不用分号就不用分号  \n",
    "一句话来说，能省的分号，我们最好都省略，因此平时我们都不加分号"
   ]
  },
  {
   "cell_type": "markdown",
   "metadata": {},
   "source": [
    "### 行连接"
   ]
  },
  {
   "cell_type": "markdown",
   "metadata": {},
   "source": [
    "我们已经知道，多个逻辑行可以写在一个物理行中，那么我们可不可以将一个逻辑行分别写在多个物理行中呢？  \n",
    "这是可以的， 在括号内可以直接换行，\n",
    "\n",
    "\n"
   ]
  },
  {
   "cell_type": "code",
   "execution_count": 88,
   "metadata": {},
   "outputs": [
    {
     "name": "stdout",
     "output_type": "stream",
     "text": [
      "123 qwqwq\n"
     ]
    }
   ],
   "source": [
    "a='123'\n",
    "b='qwqwq'\n",
    "print(a,\n",
    "      b)\n",
    "\n"
   ]
  },
  {
   "cell_type": "markdown",
   "metadata": {},
   "source": [
    "对于不可以直接换行的情形，我们可以使用行连接。行连接的方法是在行的最后加上一个\\符号"
   ]
  },
  {
   "cell_type": "code",
   "execution_count": 12,
   "metadata": {},
   "outputs": [
    {
     "ename": "SyntaxError",
     "evalue": "invalid syntax (<ipython-input-12-a0ea4aa1f8d2>, line 3)",
     "output_type": "error",
     "traceback": [
      "\u001b[1;36m  File \u001b[1;32m\"<ipython-input-12-a0ea4aa1f8d2>\"\u001b[1;36m, line \u001b[1;32m3\u001b[0m\n\u001b[1;33m    c = a +\u001b[0m\n\u001b[1;37m            ^\u001b[0m\n\u001b[1;31mSyntaxError\u001b[0m\u001b[1;31m:\u001b[0m invalid syntax\n"
     ]
    }
   ],
   "source": [
    "a='123'\n",
    "b='qwqwq'\n",
    "c = a + \n",
    "    b\n",
    "print(c)"
   ]
  },
  {
   "cell_type": "code",
   "execution_count": 13,
   "metadata": {},
   "outputs": [
    {
     "name": "stdout",
     "output_type": "stream",
     "text": [
      "123qwqwq\n"
     ]
    }
   ],
   "source": [
    "a='123'\n",
    "b='qwqwq'\n",
    "c = a + \\\n",
    "b\n",
    "print(c)"
   ]
  },
  {
   "cell_type": "markdown",
   "metadata": {},
   "source": [
    "### 缩进"
   ]
  },
  {
   "cell_type": "markdown",
   "metadata": {},
   "source": [
    "在Python中，逻辑行行首的空白是有规定的，逻辑行行首的空白不对，就会导致程序执行出错。这是跟其他语言一个很重要的不同点。下面我们看一下实例。\n"
   ]
  },
  {
   "cell_type": "code",
   "execution_count": 92,
   "metadata": {},
   "outputs": [
    {
     "ename": "IndentationError",
     "evalue": "unexpected indent (<ipython-input-92-4f5dd73f5bea>, line 2)",
     "output_type": "error",
     "traceback": [
      "\u001b[1;36m  File \u001b[1;32m\"<ipython-input-92-4f5dd73f5bea>\"\u001b[1;36m, line \u001b[1;32m2\u001b[0m\n\u001b[1;33m    print ('123')\u001b[0m\n\u001b[1;37m    ^\u001b[0m\n\u001b[1;31mIndentationError\u001b[0m\u001b[1;31m:\u001b[0m unexpected indent\n"
     ]
    }
   ],
   "source": [
    "# 什么是缩进\n",
    " print ('123')"
   ]
  },
  {
   "cell_type": "markdown",
   "metadata": {},
   "source": [
    "缩进的空白有要求的，那么下面我们分别讲一些缩进的方法：  \n",
    "1、一般情况下逻辑行首不应该出现空白。  \n",
    "2、if语句的缩进方法。  \n",
    "3、while循环的缩进方法。\n"
   ]
  },
  {
   "cell_type": "code",
   "execution_count": 2,
   "metadata": {},
   "outputs": [
    {
     "name": "stdout",
     "output_type": "stream",
     "text": [
      "hello\n",
      "0\n",
      "1\n",
      "2\n",
      "3\n",
      "4\n",
      "5\n",
      "6\n"
     ]
    }
   ],
   "source": [
    "#如何缩进\n",
    "\n",
    "#一般情况下，行首应该不留空白\n",
    "import sys\n",
    "\n",
    "#缩进的方法有两种，可以按空格(一般默认4个空格)，也可以按tab键\n",
    "\n",
    "\n",
    "#if语句的缩进方法\n",
    "a=7\n",
    "if a>0:\n",
    "    print (\"hello\")\n",
    "\n",
    "#while语句的缩进方法\n",
    "a=0\n",
    "while a<7:\n",
    "    print (a)\n",
    "    a+=1\n",
    "a=100\n"
   ]
  },
  {
   "cell_type": "code",
   "execution_count": null,
   "metadata": {
    "collapsed": true
   },
   "outputs": [],
   "source": [
    "123"
   ]
  },
  {
   "cell_type": "markdown",
   "metadata": {},
   "source": [
    "### 注释"
   ]
  },
  {
   "cell_type": "markdown",
   "metadata": {},
   "source": [
    "Python中的注释一般用#进行注释，从#开始，一直到一行（物理行）结束的部分，都是注释。\n"
   ]
  },
  {
   "cell_type": "code",
   "execution_count": 95,
   "metadata": {},
   "outputs": [
    {
     "name": "stdout",
     "output_type": "stream",
     "text": [
      "7\n"
     ]
    }
   ],
   "source": [
    "#32323232323232323232\n",
    "xx = 7 #212121212\n",
    "print(xx)"
   ]
  },
  {
   "cell_type": "markdown",
   "metadata": {},
   "source": [
    "多行注释可以用三引号包裹注释内容，这种用法一般用于写函数或者是类的使用说明注释"
   ]
  },
  {
   "cell_type": "code",
   "execution_count": 126,
   "metadata": {
    "scrolled": true
   },
   "outputs": [
    {
     "name": "stdout",
     "output_type": "stream",
     "text": [
      "\n",
      "xxx=2\n",
      "print xxx\n",
      "\n"
     ]
    }
   ],
   "source": [
    "\"\"\"\n",
    "class DataFrame(pandas.core.generic.NDFrame)\n",
    " |  Two-dimensional size-mutable, potentially heterogeneous tabular data\n",
    " |  structure with labeled axes (rows and columns). Arithmetic operations\n",
    " |  align on both row and column labels. Can be thought of as a dict-like\n",
    " |  container for Series objects. The primary pandas data structure\n",
    " |  \n",
    " |  Parameters\n",
    " |  ----------\n",
    " |  data : numpy ndarray (structured or homogeneous), dict, or DataFrame\n",
    " |      Dict can contain Series, arrays, constants, or list-like objects\n",
    " |  index : Index or array-like\n",
    " |      Index to use for resulting frame. Will default to np.arange(n) if\n",
    " |      no indexing information part of input data and no index provided\n",
    " |  columns : Index or array-like\n",
    " |      Column labels to use for resulting frame. Will default to\n",
    " |      np.arange(n) if no column labels are provided\n",
    " |  dtype : dtype, default None\n",
    " |      Data type to force. Only a single dtype is allowed. If None, infer\n",
    " |  copy : boolean, default False\n",
    " |      Copy data from inputs. Only affects DataFrame / 2d ndarray input\n",
    " |  \n",
    " |  Examples\n",
    " |  --------\n",
    " |  Constructing DataFrame from a dictionary.\n",
    " |  \n",
    " |  >>> d = {'col1': [1, 2], 'col2': [3, 4]}\n",
    " |  >>> df = pd.DataFrame(data=d)\n",
    " |  >>> df\n",
    " |     col1  col2\n",
    " |  0     1     3\n",
    " |  1     2     4\n",
    " \n",
    " \n",
    " ......\n",
    "\n",
    "\"\"\""
   ]
  }
 ],
 "metadata": {
  "kernelspec": {
   "display_name": "Python 3",
   "language": "python",
   "name": "python3"
  },
  "language_info": {
   "codemirror_mode": {
    "name": "ipython",
    "version": 3
   },
   "file_extension": ".py",
   "mimetype": "text/x-python",
   "name": "python",
   "nbconvert_exporter": "python",
   "pygments_lexer": "ipython3",
   "version": "3.6.4"
  }
 },
 "nbformat": 4,
 "nbformat_minor": 1
}
