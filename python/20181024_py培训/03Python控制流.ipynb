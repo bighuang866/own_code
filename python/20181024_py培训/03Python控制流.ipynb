{
 "cells": [
  {
   "cell_type": "markdown",
   "metadata": {},
   "source": [
    "# Python 控制流"
   ]
  },
  {
   "cell_type": "markdown",
   "metadata": {},
   "source": [
    "# [一、Python的三种控制流](#1)\n",
    "# [二、认识分支结构if](#2)\n",
    "# [三、认识循环结构while](#3)\n",
    "# [四、认识循环结构for](#4)"
   ]
  },
  {
   "cell_type": "markdown",
   "metadata": {},
   "source": [
    "# <a id=\"1\">一、Python的三种控制流</a>"
   ]
  },
  {
   "cell_type": "markdown",
   "metadata": {},
   "source": [
    "在Python中通常的情况下程序的执行是从上往下执行的，而某些时候我们为了改变程序的执行顺序，故而使用控制流语句控制程序怎么执行，  \n",
    "而在Python中，有三种控制流类型，  \n",
    "#### 1.顺序结构。按顺序执行的结构。   \n",
    "#### 2.分支结构。按照逻辑条件选择执行的结构。用if实现  \n",
    "#### 3.循环结构。重复执行某一部分的结构。用for或while实现（for最常用）"
   ]
  },
  {
   "cell_type": "markdown",
   "metadata": {},
   "source": [
    "#### 顺序结构"
   ]
  },
  {
   "cell_type": "code",
   "execution_count": 74,
   "metadata": {},
   "outputs": [
    {
     "name": "stdout",
     "output_type": "stream",
     "text": [
      "7\n",
      "6\n",
      "12\n"
     ]
    }
   ],
   "source": [
    "#顺序结构\n",
    "a = 7\n",
    "print (a)\n",
    "a = a - 1\n",
    "print (a)\n",
    "a = a + 6\n",
    "print (a)"
   ]
  },
  {
   "cell_type": "markdown",
   "metadata": {},
   "source": [
    "#### 分支结构"
   ]
  },
  {
   "cell_type": "code",
   "execution_count": 75,
   "metadata": {},
   "outputs": [
    {
     "name": "stdout",
     "output_type": "stream",
     "text": [
      "She\n"
     ]
    }
   ],
   "source": [
    "#分支结构\n",
    "a = 1\n",
    "if a == 1:\n",
    "    print(\"She\")\n",
    "else:\n",
    "    print(\"He\")"
   ]
  },
  {
   "cell_type": "markdown",
   "metadata": {},
   "source": [
    "#### 循环结构"
   ]
  },
  {
   "cell_type": "code",
   "execution_count": 22,
   "metadata": {},
   "outputs": [
    {
     "name": "stdout",
     "output_type": "stream",
     "text": [
      "hello\n",
      "3\n",
      "hello\n",
      "2\n",
      "hello\n",
      "1\n"
     ]
    }
   ],
   "source": [
    "#循环结构\n",
    "a=3\n",
    "while a:\n",
    "    print (\"hello\")\n",
    "    print(a)\n",
    "    a=a-1"
   ]
  },
  {
   "cell_type": "markdown",
   "metadata": {},
   "source": [
    "# <a id=\"2\">二、认识分支结构if</a>"
   ]
  },
  {
   "cell_type": "markdown",
   "metadata": {},
   "source": [
    "Python中if语句是用来判断选择执行哪个语句块的，下面我们通过实例认识if语句"
   ]
  },
  {
   "cell_type": "raw",
   "metadata": {},
   "source": [
    "#if语句\n",
    "#if语句的格式用法：\n",
    "'''\n",
    "if 是这样:\n",
    "    执行该部分语句\n",
    "elif 或者是这样：\n",
    "    执行elif部分语句\n",
    "else 或者以上情况都不是：\n",
    "    执行该部分语句\n",
    "'''\n",
    "\"\"\"\n",
    "当然也可以这样：\n",
    "\n",
    "if 是这样:\n",
    "    执行该部分语句\n",
    "elif 或者是这样：\n",
    "    执行elif部分语句\n",
    "\n",
    "\n",
    "或这样：\n",
    "\n",
    "if 是这样:\n",
    "    执行该部分语句\n",
    "else 或者以上情况都不是：\n",
    "    执行该部分语句\n",
    "\"\"\"\n",
    "\n",
    "\n",
    "\n"
   ]
  },
  {
   "cell_type": "markdown",
   "metadata": {},
   "source": [
    "在Python中if语句的使用是有格式的规定的，下面我们通过实例来讲解if语句的使\n",
    "用实例"
   ]
  },
  {
   "cell_type": "code",
   "execution_count": 78,
   "metadata": {},
   "outputs": [
    {
     "name": "stdout",
     "output_type": "stream",
     "text": [
      "hello\n"
     ]
    }
   ],
   "source": [
    "#一种情况的if用法\n",
    "a = 8\n",
    "if a == 8:                         #这里的等号注意是==\n",
    "    print (\"hello\")\n",
    "\n",
    "\n",
    "if a != 8:\n",
    "    print (\"hehe\")"
   ]
  },
  {
   "cell_type": "code",
   "execution_count": 79,
   "metadata": {},
   "outputs": [
    {
     "name": "stdout",
     "output_type": "stream",
     "text": [
      "She\n"
     ]
    }
   ],
   "source": [
    "#两种选择情况下的if用法\n",
    "a = 8\n",
    "if a == 8:\n",
    "    print (\"She\")\n",
    "else:\n",
    "    print (\"He\")"
   ]
  },
  {
   "cell_type": "code",
   "execution_count": 80,
   "metadata": {},
   "outputs": [
    {
     "name": "stdout",
     "output_type": "stream",
     "text": [
      "she\n"
     ]
    }
   ],
   "source": [
    "#三种选择情况下的if用法\n",
    "a = 500\n",
    "if a == 7:\n",
    "    print (\"I\")\n",
    "elif a < 7:\n",
    "    print (\"he\")\n",
    "elif a < 6:\n",
    "    print (\"hello\")\n",
    "else:\n",
    "    print (\"she\")"
   ]
  },
  {
   "cell_type": "markdown",
   "metadata": {},
   "source": [
    "if语句使用要点\n",
    "“要点：各分支尽量不重复，并且尽量包含全部可能性”\n",
    "\n",
    "比如我们要按成绩高低分为优良差，比如这样划分的条件是比较合理的：  \n",
    "0<=成绩<80为差\n",
    "80<=成绩<90为良\n",
    "90<=成绩<=100为优。\n",
    "\n",
    "\n",
    "而这样划分的条件是不合理的：  \n",
    "0<成绩<=80为差  \n",
    "80<=成绩<90为良  \n",
    "90<=成绩<100。  \n",
    "\n",
    "80重合了  \n",
    "  \n",
    "  \n",
    "\n",
    "下面这样也是不合理的\n",
    "\n",
    "0<成绩<80为差  \n",
    "80<成绩<90为良  \n",
    "90<=成绩<100  \n",
    "比如如果一个人成绩是0分、100分、80分、90分这种临界条件的时  \n",
    "候就没办法判断执行哪部分语句了。"
   ]
  },
  {
   "cell_type": "markdown",
   "metadata": {},
   "source": [
    "### 小技巧1\n",
    "其他语言中，比较一个对象是否大于某值且小于某值，是这样写的"
   ]
  },
  {
   "cell_type": "code",
   "execution_count": 48,
   "metadata": {},
   "outputs": [
    {
     "name": "stdout",
     "output_type": "stream",
     "text": [
      "True\n"
     ]
    }
   ],
   "source": [
    "score = 85\n",
    "\n",
    "a = score > 80 and score < 90\n",
    "\n",
    "print(a)\n"
   ]
  },
  {
   "cell_type": "markdown",
   "metadata": {},
   "source": [
    "但在python中，还可以这么写的"
   ]
  },
  {
   "cell_type": "code",
   "execution_count": 6,
   "metadata": {},
   "outputs": [
    {
     "name": "stdout",
     "output_type": "stream",
     "text": [
      "True\n"
     ]
    }
   ],
   "source": [
    "score = 85\n",
    "\n",
    "a = 80 < score < 90\n",
    "\n",
    "print(a)\n"
   ]
  },
  {
   "cell_type": "code",
   "execution_count": 49,
   "metadata": {},
   "outputs": [
    {
     "name": "stdout",
     "output_type": "stream",
     "text": [
      "好\n"
     ]
    }
   ],
   "source": [
    "a = 80\n",
    "if 0 < a <= 80:\n",
    "    print (\"好\")\n",
    "elif 80 < a <= 100:\n",
    "    print (\"差\")    "
   ]
  },
  {
   "cell_type": "markdown",
   "metadata": {},
   "source": [
    "小技巧: 在python里，经常需要判断某个list，dict是否为空，直接用下面形式的语句判断就好了"
   ]
  },
  {
   "cell_type": "code",
   "execution_count": 82,
   "metadata": {},
   "outputs": [
    {
     "name": "stdout",
     "output_type": "stream",
     "text": [
      "不空\n"
     ]
    }
   ],
   "source": [
    "a = [\"cs\"]\n",
    "if a:\n",
    "    print(\"不空\")\n",
    "else:\n",
    "    print(\"空\")"
   ]
  },
  {
   "cell_type": "code",
   "execution_count": 83,
   "metadata": {},
   "outputs": [
    {
     "name": "stdout",
     "output_type": "stream",
     "text": [
      "空\n"
     ]
    }
   ],
   "source": [
    "b = []\n",
    "if b:\n",
    "    print(\"不空\")\n",
    "else:\n",
    "    print(\"空\")"
   ]
  },
  {
   "cell_type": "markdown",
   "metadata": {},
   "source": [
    "# <a id=\"3\">三、认识循环结构while</a>"
   ]
  },
  {
   "cell_type": "markdown",
   "metadata": {},
   "source": [
    "Python中while语句是用来控制一段语句重复执行的，那么下面我们通过实例认识\n",
    "while语句。"
   ]
  },
  {
   "cell_type": "raw",
   "metadata": {},
   "source": [
    "#while\n",
    "#while语句使用结构\n",
    "while 条件为真：`\n",
    "    循环执行“该部分语句\n",
    "    执行该部分语句\n",
    "    执行该部分语句”\n",
    "else：\n",
    "    如果条件为假，执行该部分语句\n",
    "\n",
    "#else部分可以省略"
   ]
  },
  {
   "cell_type": "code",
   "execution_count": 84,
   "metadata": {},
   "outputs": [
    {
     "name": "stdout",
     "output_type": "stream",
     "text": [
      "5050\n"
     ]
    }
   ],
   "source": [
    "s = 0\n",
    "i = 1\n",
    "while i < 101:\n",
    "    s = s + i\n",
    "    i = i + 1\n",
    "print(s)"
   ]
  },
  {
   "cell_type": "markdown",
   "metadata": {},
   "source": [
    "while循环的使用情形太少（我写了1年半python到现在一个while循环都没用过。。。），所以不做过多介绍"
   ]
  },
  {
   "cell_type": "markdown",
   "metadata": {},
   "source": [
    "# <a id=\"4\">四、认识循环结构for</a>"
   ]
  },
  {
   "cell_type": "markdown",
   "metadata": {},
   "source": [
    "### 补充知识：可迭代对象"
   ]
  },
  {
   "cell_type": "markdown",
   "metadata": {},
   "source": [
    "python中的可迭代(Iterable)对象分为2类  \n",
    "\n",
    "一类是集合数据类型，如list、tuple、dict、set、str等；\n",
    "\n",
    "一类是generator，包括生成器和带yield的generator function（先不管这个，后面会再介绍）。\n",
    "\n",
    "这些可以直接作用于for循环的对象统称为可迭代对象：Iterable。\n",
    "\n",
    "可以使用isinstance()判断一个对象是否是Iterable对象："
   ]
  },
  {
   "cell_type": "code",
   "execution_count": 91,
   "metadata": {},
   "outputs": [
    {
     "name": "stdout",
     "output_type": "stream",
     "text": [
      "True\n",
      "True\n",
      "True\n",
      "True\n",
      "False\n"
     ]
    }
   ],
   "source": [
    "from collections import Iterable\n",
    "\n",
    "print(isinstance([], Iterable))\n",
    "\n",
    "print(isinstance({}, Iterable))\n",
    "\n",
    "print(isinstance('abc', Iterable))\n",
    "\n",
    "print(isinstance((), Iterable))\n",
    "\n",
    "print(isinstance(100, Iterable))\n"
   ]
  },
  {
   "cell_type": "markdown",
   "metadata": {},
   "source": [
    "列表，字典，元组，字符串都是可迭代对象，但是整数不是"
   ]
  },
  {
   "cell_type": "raw",
   "metadata": {},
   "source": [
    "在C++和java中，for循环的形式是这样的：\n",
    "for (i=0; i<list.length; i++) {  \n",
    "    n = list[i];  \n",
    "}\n",
    "\n",
    "在matlab中，for循环是这样的\n",
    "\n",
    "for i = 1:100\n",
    "  print(i)\n",
    "end\n",
    "\n",
    "都是在数字中进行循环\n",
    "\n",
    "\n",
    "r语言稍有不同：\n",
    "\n",
    "r <- c(\"fang\", \"jun\", \"yi\")\n",
    "for (char in r){\n",
    "  print(char)\n",
    "}\n",
    "\n",
    "\"fang\", \"jun\", \"yi\"\n"
   ]
  },
  {
   "cell_type": "raw",
   "metadata": {},
   "source": [
    "python的for循环与R最类似, 都是在一个可迭代对象里进行循环\n",
    "\n",
    "name = [\"huang\", \"ke\"]\n",
    "for char in name:\n",
    "   print(char)\n",
    "   \n",
    "\"huang\", \"ke\"\n",
    "   "
   ]
  },
  {
   "cell_type": "raw",
   "metadata": {},
   "source": [
    "for语句格式：\n",
    "for i in 集合：\n",
    "    执行该部分\n",
    "else：\n",
    "    执行该部分\n",
    "但一般我们不使用这个else功能"
   ]
  },
  {
   "cell_type": "markdown",
   "metadata": {},
   "source": [
    "Python中的for语句的使用有自己的原则，下面我们通过实例进行讲解for语句的使\n",
    "用方法。"
   ]
  },
  {
   "cell_type": "code",
   "execution_count": 92,
   "metadata": {},
   "outputs": [
    {
     "name": "stdout",
     "output_type": "stream",
     "text": [
      "1\n",
      "2\n",
      "8\n",
      "9\n",
      "0\n"
     ]
    }
   ],
   "source": [
    "# 第一个for语句\n",
    "# 在列表里循环\n",
    "for i in [1, 2, 8, 9, 0]:\n",
    "    print(i)"
   ]
  },
  {
   "cell_type": "code",
   "execution_count": 93,
   "metadata": {},
   "outputs": [
    {
     "name": "stdout",
     "output_type": "stream",
     "text": [
      "a\n",
      "1\n",
      "c\n"
     ]
    }
   ],
   "source": [
    "# 在元组里循环\n",
    "for i in (\"a\", 1, \"c\"):\n",
    "    print(i)"
   ]
  },
  {
   "cell_type": "code",
   "execution_count": 94,
   "metadata": {},
   "outputs": [
    {
     "name": "stdout",
     "output_type": "stream",
     "text": [
      "name\n",
      "age\n",
      "hobby\n"
     ]
    }
   ],
   "source": [
    "# 字典也可以循环\n",
    "info = {\"name\": \"huangke\", \"age\": 18, \"hobby\": \"history\"}\n",
    "for i in info:\n",
    "    print(i)"
   ]
  },
  {
   "cell_type": "code",
   "execution_count": 95,
   "metadata": {},
   "outputs": [
    {
     "name": "stdout",
     "output_type": "stream",
     "text": [
      "huangke\n",
      "18\n",
      "history\n"
     ]
    }
   ],
   "source": [
    "# 可以发现只是循环了字典的键，不是字典的值\n",
    "# 想循环字典的值，需要这样写：\n",
    "\n",
    "info = {\"name\": \"huangke\", \"age\": 18, \"hobby\": \"history\"}\n",
    "for i in info:\n",
    "    print(info[i])"
   ]
  },
  {
   "cell_type": "code",
   "execution_count": 96,
   "metadata": {},
   "outputs": [
    {
     "name": "stdout",
     "output_type": "stream",
     "text": [
      "0\n",
      "1\n",
      "2\n",
      "3\n",
      "4\n",
      "5\n",
      "6\n"
     ]
    }
   ],
   "source": [
    "# 类似于matlab中的 for i = 1：10 ， python也提供了方法用于快速在连续数字中循环\n",
    "for i in range(7):\n",
    "    print (i)\n",
    "    \n",
    "# 注意默认从0开始，且不包括7！"
   ]
  },
  {
   "cell_type": "code",
   "execution_count": 97,
   "metadata": {},
   "outputs": [
    {
     "name": "stdout",
     "output_type": "stream",
     "text": [
      "1\n",
      "2\n",
      "3\n",
      "4\n",
      "5\n",
      "6\n",
      "\n",
      "\n",
      "\n",
      "\n",
      "1\n",
      "3\n",
      "5\n"
     ]
    }
   ],
   "source": [
    "# 数字从1开始\n",
    "for i in range(1, 7):\n",
    "    print(i)\n",
    "    \n",
    "print(\"\\n\\n\\n\")\n",
    "\n",
    "# 还可以加上步长\n",
    "for i in range(1, 7, 2):\n",
    "    print(i)"
   ]
  },
  {
   "cell_type": "markdown",
   "metadata": {},
   "source": [
    "### for循环高级用法"
   ]
  },
  {
   "cell_type": "markdown",
   "metadata": {},
   "source": [
    "同时循环数字序号和值"
   ]
  },
  {
   "cell_type": "markdown",
   "metadata": {},
   "source": [
    "如果想要完成类似matlab式的循环，可以采用下面的写法"
   ]
  },
  {
   "cell_type": "code",
   "execution_count": 98,
   "metadata": {},
   "outputs": [
    {
     "name": "stdout",
     "output_type": "stream",
     "text": [
      "0 a\n",
      "1 b\n",
      "2 c\n",
      "3 d\n"
     ]
    }
   ],
   "source": [
    "a = [\"a\", \"b\", \"c\", \"d\"]\n",
    "for i in range(len(a)):\n",
    "    print(i, a[i])"
   ]
  },
  {
   "cell_type": "markdown",
   "metadata": {},
   "source": [
    "更好的方式是使用enumerate"
   ]
  },
  {
   "cell_type": "code",
   "execution_count": 99,
   "metadata": {},
   "outputs": [
    {
     "name": "stdout",
     "output_type": "stream",
     "text": [
      "0 a\n",
      "1 b\n",
      "2 c\n",
      "3 d\n"
     ]
    }
   ],
   "source": [
    "a = [\"a\", \"b\", \"c\", \"d\"]\n",
    "for i, char in enumerate(a):\n",
    "    print(i, char)"
   ]
  },
  {
   "cell_type": "markdown",
   "metadata": {},
   "source": [
    "多个可迭代对象同时循环"
   ]
  },
  {
   "cell_type": "code",
   "execution_count": 59,
   "metadata": {},
   "outputs": [
    {
     "name": "stdout",
     "output_type": "stream",
     "text": [
      "a 1 +\n",
      "b 2 -\n",
      "c 3 *\n",
      "d 4 /\n"
     ]
    }
   ],
   "source": [
    "chars = [\"a\", \"b\", \"c\", \"d\"]\n",
    "nums = [1, 2, 3, 4]\n",
    "syms = [\"+\", \"-\", \"*\", \"/\"]\n",
    "\n",
    "for char, num, sym in zip(chars, nums, syms):\n",
    "    print(char, num, sym)\n",
    "    "
   ]
  },
  {
   "cell_type": "markdown",
   "metadata": {},
   "source": [
    "反向循环"
   ]
  },
  {
   "cell_type": "code",
   "execution_count": 60,
   "metadata": {},
   "outputs": [
    {
     "name": "stdout",
     "output_type": "stream",
     "text": [
      "d\n",
      "c\n",
      "b\n",
      "a\n"
     ]
    }
   ],
   "source": [
    "a = [\"a\", \"b\", \"c\", \"d\"]\n",
    "for char in reversed(a):\n",
    "    print(char)"
   ]
  },
  {
   "cell_type": "markdown",
   "metadata": {},
   "source": [
    "##5、Break语句"
   ]
  },
  {
   "cell_type": "raw",
   "metadata": {},
   "source": [
    "本课时包括以下知识点：\n",
    "·什么是Break语句\n",
    "·Break语句的使用方法"
   ]
  },
  {
   "cell_type": "markdown",
   "metadata": {},
   "source": [
    "Break语句的功能正如其名字一样，是用来打破（Break）程序的执行的。Break语\n",
    "句常用于循环结构中，在循环结构中出现Break语句的时候，能将该循环强制停止，\n",
    "然后退出该循环。"
   ]
  },
  {
   "cell_type": "markdown",
   "metadata": {},
   "source": [
    "Break语句应该如何使用呢？下面我们通过实例为大家讲解。"
   ]
  },
  {
   "cell_type": "code",
   "execution_count": 69,
   "metadata": {},
   "outputs": [
    {
     "name": "stdout",
     "output_type": "stream",
     "text": [
      "[0, 1, 2, 3, 4, 5, 6]\n",
      "0\n",
      "1\n",
      "2\n",
      "3\n",
      "4\n",
      "loops end\n"
     ]
    }
   ],
   "source": [
    "#break语句用在while循环中\n",
    "a = list(range(7))\n",
    "print(a)\n",
    "\n",
    "for i in a:\n",
    "    print(i)\n",
    "    if i == 4:\n",
    "        break\n",
    "print(\"loops end\")"
   ]
  },
  {
   "cell_type": "markdown",
   "metadata": {},
   "source": [
    "##6、Continue语句"
   ]
  },
  {
   "cell_type": "raw",
   "metadata": {},
   "source": [
    "本课时包括以下知识点：\n",
    "·什么是Continue语句\n",
    "·Continue语句的使用方法\n",
    "·Break语句与Continue语句的区别"
   ]
  },
  {
   "cell_type": "markdown",
   "metadata": {},
   "source": [
    "Continue语句的功能是强制停止循环中的这一次执行，直接跳到下一次执行。"
   ]
  },
  {
   "cell_type": "code",
   "execution_count": 70,
   "metadata": {
    "scrolled": true
   },
   "outputs": [
    {
     "name": "stdout",
     "output_type": "stream",
     "text": [
      "0\n",
      "1\n",
      "2\n",
      "4\n",
      "5\n",
      "6\n"
     ]
    }
   ],
   "source": [
    "#首先我们得知道循环是分很多次的，而continue语句是终止该次循环，而不是终止该循环。\n",
    "for i in range(7):\n",
    "    if i==3:\n",
    "        continue\n",
    "    print (i)\n",
    "print(\"loops end\")"
   ]
  },
  {
   "cell_type": "code",
   "execution_count": 56,
   "metadata": {},
   "outputs": [
    {
     "name": "stdout",
     "output_type": "stream",
     "text": [
      "1\n",
      "2\n",
      "4\n",
      "5\n",
      "6\n"
     ]
    }
   ],
   "source": [
    "#continue语句在for循环中,并比较以下两个程序a和程序b\n",
    "#程序a\n",
    "for i in range(1,7):\n",
    "    if i==3:\n",
    "        continue\n",
    "    print (i)"
   ]
  },
  {
   "cell_type": "code",
   "execution_count": 57,
   "metadata": {},
   "outputs": [
    {
     "name": "stdout",
     "output_type": "stream",
     "text": [
      "1\n",
      "2\n",
      "3\n",
      "4\n",
      "5\n",
      "6\n"
     ]
    }
   ],
   "source": [
    "#程序b\n",
    "for i in range(1,7):\n",
    "    print (i)\n",
    "    if i==3:\n",
    "        continue"
   ]
  },
  {
   "cell_type": "markdown",
   "metadata": {},
   "source": [
    "Continue语句与Break语句是有区别的  \n",
    "continue语句指的是结束执行本次循环中剩余的语句，然后继续下一轮的循环。  \n",
    "而break语句指的是直接结束这个循环，包括结束执行该循环地剩余的所有次循环。"
   ]
  },
  {
   "cell_type": "code",
   "execution_count": 59,
   "metadata": {},
   "outputs": [
    {
     "name": "stdout",
     "output_type": "stream",
     "text": [
      "10\n",
      "11\n",
      "12\n",
      "13\n",
      "14\n",
      "16\n",
      "17\n",
      "18\n"
     ]
    }
   ],
   "source": [
    "#程序c\n",
    "for i in range(10,19):\n",
    "    if i==15:\n",
    "        continue\n",
    "    print (i)"
   ]
  },
  {
   "cell_type": "code",
   "execution_count": 60,
   "metadata": {},
   "outputs": [
    {
     "name": "stdout",
     "output_type": "stream",
     "text": [
      "10\n",
      "11\n",
      "12\n",
      "13\n",
      "14\n"
     ]
    }
   ],
   "source": [
    "#程序d\n",
    "for i in range(10,19):\n",
    "    if i==15:\n",
    "        break\n",
    "    print (i)"
   ]
  }
 ],
 "metadata": {
  "kernelspec": {
   "display_name": "Python 3",
   "language": "python",
   "name": "python3"
  },
  "language_info": {
   "codemirror_mode": {
    "name": "ipython",
    "version": 3
   },
   "file_extension": ".py",
   "mimetype": "text/x-python",
   "name": "python",
   "nbconvert_exporter": "python",
   "pygments_lexer": "ipython3",
   "version": "3.6.4"
  }
 },
 "nbformat": 4,
 "nbformat_minor": 1
}
