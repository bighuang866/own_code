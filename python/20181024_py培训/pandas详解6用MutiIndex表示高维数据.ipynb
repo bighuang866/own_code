{
 "cells": [
  {
   "cell_type": "code",
   "execution_count": 8,
   "metadata": {},
   "outputs": [],
   "source": [
    "import pandas as pd\n",
    "import numpy as np"
   ]
  },
  {
   "cell_type": "markdown",
   "metadata": {},
   "source": [
    "# MultiIndex"
   ]
  },
  {
   "cell_type": "markdown",
   "metadata": {},
   "source": [
    "这次我们来介绍MultiIndex(多重索引),或者称为Hierarchical index(层次化索引)"
   ]
  },
  {
   "cell_type": "markdown",
   "metadata": {},
   "source": [
    "MultiIndex是pandas提供的一项突破性的功能,使用该标签让用低维度数据结构(1d的Series和2d的DataFrame)表示高维数据(3d或以上)成为可能"
   ]
  },
  {
   "cell_type": "markdown",
   "metadata": {},
   "source": [
    "我们平时见到的index只有一层,例如下面的数据"
   ]
  },
  {
   "cell_type": "code",
   "execution_count": 9,
   "metadata": {},
   "outputs": [],
   "source": [
    "df = pd.DataFrame(np.random.randn(5, 2), \n",
    "                  index=pd.date_range(\"2000-01-01\", periods=5, name=\"trade_date\"),\n",
    "                  columns=pd.Index([\"000001.SZ\", \"000002.SZ\"], name=\"code\"))"
   ]
  },
  {
   "cell_type": "code",
   "execution_count": 10,
   "metadata": {},
   "outputs": [
    {
     "data": {
      "text/html": [
       "<div>\n",
       "<style scoped>\n",
       "    .dataframe tbody tr th:only-of-type {\n",
       "        vertical-align: middle;\n",
       "    }\n",
       "\n",
       "    .dataframe tbody tr th {\n",
       "        vertical-align: top;\n",
       "    }\n",
       "\n",
       "    .dataframe thead th {\n",
       "        text-align: right;\n",
       "    }\n",
       "</style>\n",
       "<table border=\"1\" class=\"dataframe\">\n",
       "  <thead>\n",
       "    <tr style=\"text-align: right;\">\n",
       "      <th>code</th>\n",
       "      <th>000001.SZ</th>\n",
       "      <th>000002.SZ</th>\n",
       "    </tr>\n",
       "    <tr>\n",
       "      <th>trade_date</th>\n",
       "      <th></th>\n",
       "      <th></th>\n",
       "    </tr>\n",
       "  </thead>\n",
       "  <tbody>\n",
       "    <tr>\n",
       "      <th>2000-01-01</th>\n",
       "      <td>-1.154250</td>\n",
       "      <td>-0.126325</td>\n",
       "    </tr>\n",
       "    <tr>\n",
       "      <th>2000-01-02</th>\n",
       "      <td>0.401441</td>\n",
       "      <td>0.404857</td>\n",
       "    </tr>\n",
       "    <tr>\n",
       "      <th>2000-01-03</th>\n",
       "      <td>-0.044760</td>\n",
       "      <td>1.182319</td>\n",
       "    </tr>\n",
       "    <tr>\n",
       "      <th>2000-01-04</th>\n",
       "      <td>0.087543</td>\n",
       "      <td>0.922531</td>\n",
       "    </tr>\n",
       "    <tr>\n",
       "      <th>2000-01-05</th>\n",
       "      <td>0.406262</td>\n",
       "      <td>2.104594</td>\n",
       "    </tr>\n",
       "  </tbody>\n",
       "</table>\n",
       "</div>"
      ],
      "text/plain": [
       "code        000001.SZ  000002.SZ\n",
       "trade_date                      \n",
       "2000-01-01  -1.154250  -0.126325\n",
       "2000-01-02   0.401441   0.404857\n",
       "2000-01-03  -0.044760   1.182319\n",
       "2000-01-04   0.087543   0.922531\n",
       "2000-01-05   0.406262   2.104594"
      ]
     },
     "execution_count": 10,
     "metadata": {},
     "output_type": "execute_result"
    }
   ],
   "source": [
    "df"
   ]
  },
  {
   "cell_type": "markdown",
   "metadata": {},
   "source": [
    "但是有的时候，我们需要表示更高维的数据，"
   ]
  },
  {
   "cell_type": "markdown",
   "metadata": {},
   "source": [
    "比如，同时保存000001.SZ 000002.SZ 000003.SZ三只股票的收盘价和开盘价的长度为5的时间序列数据"
   ]
  },
  {
   "cell_type": "code",
   "execution_count": 11,
   "metadata": {},
   "outputs": [],
   "source": [
    "df_close = pd.DataFrame(np.random.randn(5, 2), \n",
    "                  index=pd.date_range(\"2000-01-01\", periods=5, name=\"trade_date\"),\n",
    "                  columns=pd.Index([\"000001.SZ\", \"000002.SZ\"], name=\"code\"))"
   ]
  },
  {
   "cell_type": "code",
   "execution_count": 12,
   "metadata": {},
   "outputs": [],
   "source": [
    "df_open = pd.DataFrame(np.random.randn(5, 2), \n",
    "                  index=pd.date_range(\"2000-01-01\", periods=5, name=\"trade_date\"),\n",
    "                  columns=pd.Index([\"000001.SZ\", \"000002.SZ\"], name=\"code\"))"
   ]
  },
  {
   "cell_type": "code",
   "execution_count": 13,
   "metadata": {},
   "outputs": [
    {
     "data": {
      "text/html": [
       "<div>\n",
       "<style scoped>\n",
       "    .dataframe tbody tr th:only-of-type {\n",
       "        vertical-align: middle;\n",
       "    }\n",
       "\n",
       "    .dataframe tbody tr th {\n",
       "        vertical-align: top;\n",
       "    }\n",
       "\n",
       "    .dataframe thead th {\n",
       "        text-align: right;\n",
       "    }\n",
       "</style>\n",
       "<table border=\"1\" class=\"dataframe\">\n",
       "  <thead>\n",
       "    <tr style=\"text-align: right;\">\n",
       "      <th>code</th>\n",
       "      <th>000001.SZ</th>\n",
       "      <th>000002.SZ</th>\n",
       "    </tr>\n",
       "    <tr>\n",
       "      <th>trade_date</th>\n",
       "      <th></th>\n",
       "      <th></th>\n",
       "    </tr>\n",
       "  </thead>\n",
       "  <tbody>\n",
       "    <tr>\n",
       "      <th>2000-01-01</th>\n",
       "      <td>0.543519</td>\n",
       "      <td>-0.172963</td>\n",
       "    </tr>\n",
       "    <tr>\n",
       "      <th>2000-01-02</th>\n",
       "      <td>1.285060</td>\n",
       "      <td>0.264370</td>\n",
       "    </tr>\n",
       "    <tr>\n",
       "      <th>2000-01-03</th>\n",
       "      <td>-0.080431</td>\n",
       "      <td>-0.127875</td>\n",
       "    </tr>\n",
       "    <tr>\n",
       "      <th>2000-01-04</th>\n",
       "      <td>-0.919127</td>\n",
       "      <td>-0.170319</td>\n",
       "    </tr>\n",
       "    <tr>\n",
       "      <th>2000-01-05</th>\n",
       "      <td>-0.020811</td>\n",
       "      <td>1.140572</td>\n",
       "    </tr>\n",
       "  </tbody>\n",
       "</table>\n",
       "</div>"
      ],
      "text/plain": [
       "code        000001.SZ  000002.SZ\n",
       "trade_date                      \n",
       "2000-01-01   0.543519  -0.172963\n",
       "2000-01-02   1.285060   0.264370\n",
       "2000-01-03  -0.080431  -0.127875\n",
       "2000-01-04  -0.919127  -0.170319\n",
       "2000-01-05  -0.020811   1.140572"
      ]
     },
     "execution_count": 13,
     "metadata": {},
     "output_type": "execute_result"
    }
   ],
   "source": [
    "df_close "
   ]
  },
  {
   "cell_type": "code",
   "execution_count": 14,
   "metadata": {},
   "outputs": [
    {
     "data": {
      "text/html": [
       "<div>\n",
       "<style scoped>\n",
       "    .dataframe tbody tr th:only-of-type {\n",
       "        vertical-align: middle;\n",
       "    }\n",
       "\n",
       "    .dataframe tbody tr th {\n",
       "        vertical-align: top;\n",
       "    }\n",
       "\n",
       "    .dataframe thead th {\n",
       "        text-align: right;\n",
       "    }\n",
       "</style>\n",
       "<table border=\"1\" class=\"dataframe\">\n",
       "  <thead>\n",
       "    <tr style=\"text-align: right;\">\n",
       "      <th>code</th>\n",
       "      <th>000001.SZ</th>\n",
       "      <th>000002.SZ</th>\n",
       "    </tr>\n",
       "    <tr>\n",
       "      <th>trade_date</th>\n",
       "      <th></th>\n",
       "      <th></th>\n",
       "    </tr>\n",
       "  </thead>\n",
       "  <tbody>\n",
       "    <tr>\n",
       "      <th>2000-01-01</th>\n",
       "      <td>0.484584</td>\n",
       "      <td>-0.422358</td>\n",
       "    </tr>\n",
       "    <tr>\n",
       "      <th>2000-01-02</th>\n",
       "      <td>0.799314</td>\n",
       "      <td>0.135294</td>\n",
       "    </tr>\n",
       "    <tr>\n",
       "      <th>2000-01-03</th>\n",
       "      <td>-0.158140</td>\n",
       "      <td>0.026406</td>\n",
       "    </tr>\n",
       "    <tr>\n",
       "      <th>2000-01-04</th>\n",
       "      <td>-0.887081</td>\n",
       "      <td>0.737286</td>\n",
       "    </tr>\n",
       "    <tr>\n",
       "      <th>2000-01-05</th>\n",
       "      <td>-1.738284</td>\n",
       "      <td>-0.314605</td>\n",
       "    </tr>\n",
       "  </tbody>\n",
       "</table>\n",
       "</div>"
      ],
      "text/plain": [
       "code        000001.SZ  000002.SZ\n",
       "trade_date                      \n",
       "2000-01-01   0.484584  -0.422358\n",
       "2000-01-02   0.799314   0.135294\n",
       "2000-01-03  -0.158140   0.026406\n",
       "2000-01-04  -0.887081   0.737286\n",
       "2000-01-05  -1.738284  -0.314605"
      ]
     },
     "execution_count": 14,
     "metadata": {},
     "output_type": "execute_result"
    }
   ],
   "source": [
    "df_open"
   ]
  },
  {
   "cell_type": "markdown",
   "metadata": {},
   "source": [
    "我们可能想要通过一个list包含这两个DataFrame，或这一个dict包含这两个DataFrame的方式进行存储"
   ]
  },
  {
   "cell_type": "code",
   "execution_count": 15,
   "metadata": {},
   "outputs": [],
   "source": [
    "tmp_dict = {\"open\": df_open, \"close\": df_close}"
   ]
  },
  {
   "cell_type": "code",
   "execution_count": 16,
   "metadata": {},
   "outputs": [
    {
     "data": {
      "text/plain": [
       "{'close': code        000001.SZ  000002.SZ\n",
       " trade_date                      \n",
       " 2000-01-01   0.543519  -0.172963\n",
       " 2000-01-02   1.285060   0.264370\n",
       " 2000-01-03  -0.080431  -0.127875\n",
       " 2000-01-04  -0.919127  -0.170319\n",
       " 2000-01-05  -0.020811   1.140572, 'open': code        000001.SZ  000002.SZ\n",
       " trade_date                      \n",
       " 2000-01-01   0.484584  -0.422358\n",
       " 2000-01-02   0.799314   0.135294\n",
       " 2000-01-03  -0.158140   0.026406\n",
       " 2000-01-04  -0.887081   0.737286\n",
       " 2000-01-05  -1.738284  -0.314605}"
      ]
     },
     "execution_count": 16,
     "metadata": {},
     "output_type": "execute_result"
    }
   ],
   "source": [
    "tmp_dict"
   ]
  },
  {
   "cell_type": "markdown",
   "metadata": {},
   "source": [
    "但这个时候除了按照数据类别（close， open）选取信息比较方便外，按照时间进行截取和按照股票代码进行截取都非常麻烦"
   ]
  },
  {
   "cell_type": "markdown",
   "metadata": {},
   "source": [
    "我们需要用更好的方式存储高维数据"
   ]
  },
  {
   "cell_type": "markdown",
   "metadata": {},
   "source": [
    "这里就需要用到MultiIndex"
   ]
  },
  {
   "cell_type": "code",
   "execution_count": 17,
   "metadata": {},
   "outputs": [],
   "source": [
    "df = pd.DataFrame(np.random.randn(5, 6), \n",
    "                  index=pd.date_range(\"2000-01-01\", periods=5, name=\"trade_date\"),\n",
    "                  columns=pd.MultiIndex.from_product([[\"000001.SZ\", \"000002.SZ\", \"000003.SZ\"], [\"close\", \"open\"]],\n",
    "                                                     names=[\"code\", \"field\"]))"
   ]
  },
  {
   "cell_type": "code",
   "execution_count": 18,
   "metadata": {},
   "outputs": [
    {
     "data": {
      "text/html": [
       "<div>\n",
       "<style scoped>\n",
       "    .dataframe tbody tr th:only-of-type {\n",
       "        vertical-align: middle;\n",
       "    }\n",
       "\n",
       "    .dataframe tbody tr th {\n",
       "        vertical-align: top;\n",
       "    }\n",
       "\n",
       "    .dataframe thead tr th {\n",
       "        text-align: left;\n",
       "    }\n",
       "\n",
       "    .dataframe thead tr:last-of-type th {\n",
       "        text-align: right;\n",
       "    }\n",
       "</style>\n",
       "<table border=\"1\" class=\"dataframe\">\n",
       "  <thead>\n",
       "    <tr>\n",
       "      <th>code</th>\n",
       "      <th colspan=\"2\" halign=\"left\">000001.SZ</th>\n",
       "      <th colspan=\"2\" halign=\"left\">000002.SZ</th>\n",
       "      <th colspan=\"2\" halign=\"left\">000003.SZ</th>\n",
       "    </tr>\n",
       "    <tr>\n",
       "      <th>field</th>\n",
       "      <th>close</th>\n",
       "      <th>open</th>\n",
       "      <th>close</th>\n",
       "      <th>open</th>\n",
       "      <th>close</th>\n",
       "      <th>open</th>\n",
       "    </tr>\n",
       "    <tr>\n",
       "      <th>trade_date</th>\n",
       "      <th></th>\n",
       "      <th></th>\n",
       "      <th></th>\n",
       "      <th></th>\n",
       "      <th></th>\n",
       "      <th></th>\n",
       "    </tr>\n",
       "  </thead>\n",
       "  <tbody>\n",
       "    <tr>\n",
       "      <th>2000-01-01</th>\n",
       "      <td>-0.084868</td>\n",
       "      <td>1.311083</td>\n",
       "      <td>-1.683967</td>\n",
       "      <td>0.348613</td>\n",
       "      <td>-0.299127</td>\n",
       "      <td>0.246763</td>\n",
       "    </tr>\n",
       "    <tr>\n",
       "      <th>2000-01-02</th>\n",
       "      <td>-0.033918</td>\n",
       "      <td>0.823621</td>\n",
       "      <td>-0.586938</td>\n",
       "      <td>-1.161244</td>\n",
       "      <td>0.577677</td>\n",
       "      <td>-0.555554</td>\n",
       "    </tr>\n",
       "    <tr>\n",
       "      <th>2000-01-03</th>\n",
       "      <td>0.626138</td>\n",
       "      <td>-2.449616</td>\n",
       "      <td>-0.104334</td>\n",
       "      <td>0.133032</td>\n",
       "      <td>-0.697537</td>\n",
       "      <td>0.339072</td>\n",
       "    </tr>\n",
       "    <tr>\n",
       "      <th>2000-01-04</th>\n",
       "      <td>1.182504</td>\n",
       "      <td>0.115843</td>\n",
       "      <td>-0.474775</td>\n",
       "      <td>-0.131368</td>\n",
       "      <td>-0.085706</td>\n",
       "      <td>0.161225</td>\n",
       "    </tr>\n",
       "    <tr>\n",
       "      <th>2000-01-05</th>\n",
       "      <td>0.948927</td>\n",
       "      <td>1.960194</td>\n",
       "      <td>-0.419402</td>\n",
       "      <td>1.146740</td>\n",
       "      <td>-0.684873</td>\n",
       "      <td>-1.473225</td>\n",
       "    </tr>\n",
       "  </tbody>\n",
       "</table>\n",
       "</div>"
      ],
      "text/plain": [
       "code       000001.SZ           000002.SZ           000003.SZ          \n",
       "field          close      open     close      open     close      open\n",
       "trade_date                                                            \n",
       "2000-01-01 -0.084868  1.311083 -1.683967  0.348613 -0.299127  0.246763\n",
       "2000-01-02 -0.033918  0.823621 -0.586938 -1.161244  0.577677 -0.555554\n",
       "2000-01-03  0.626138 -2.449616 -0.104334  0.133032 -0.697537  0.339072\n",
       "2000-01-04  1.182504  0.115843 -0.474775 -0.131368 -0.085706  0.161225\n",
       "2000-01-05  0.948927  1.960194 -0.419402  1.146740 -0.684873 -1.473225"
      ]
     },
     "execution_count": 18,
     "metadata": {},
     "output_type": "execute_result"
    }
   ],
   "source": [
    "df"
   ]
  },
  {
   "cell_type": "markdown",
   "metadata": {},
   "source": [
    "## MultiIndex的属性"
   ]
  },
  {
   "cell_type": "code",
   "execution_count": 19,
   "metadata": {},
   "outputs": [],
   "source": [
    "index1 = df.columns"
   ]
  },
  {
   "cell_type": "code",
   "execution_count": 20,
   "metadata": {},
   "outputs": [
    {
     "data": {
      "text/plain": [
       "MultiIndex(levels=[['000001.SZ', '000002.SZ', '000003.SZ'], ['close', 'open']],\n",
       "           labels=[[0, 0, 1, 1, 2, 2], [0, 1, 0, 1, 0, 1]],\n",
       "           names=['code', 'field'])"
      ]
     },
     "execution_count": 20,
     "metadata": {},
     "output_type": "execute_result"
    }
   ],
   "source": [
    "index1"
   ]
  },
  {
   "cell_type": "markdown",
   "metadata": {},
   "source": [
    "### names"
   ]
  },
  {
   "cell_type": "markdown",
   "metadata": {},
   "source": [
    "MultiIndex都会有一个names属性，类似于index的name属性，是我们给Index取的名字，MultiIndex因为是多层的，所以每一层都需要取一个名字，因此names属性是一个列表"
   ]
  },
  {
   "cell_type": "code",
   "execution_count": 21,
   "metadata": {},
   "outputs": [
    {
     "data": {
      "text/plain": [
       "FrozenList(['code', 'field'])"
      ]
     },
     "execution_count": 21,
     "metadata": {},
     "output_type": "execute_result"
    }
   ],
   "source": [
    "index1.names"
   ]
  },
  {
   "cell_type": "markdown",
   "metadata": {},
   "source": [
    "不在构造MultiIndex指明names属性也可以，但是大多数情况下指明一个合理的名称，并根据名称而不是序号选择MultiIndex的每一层（level）是有助于代码的可读性的。"
   ]
  },
  {
   "cell_type": "markdown",
   "metadata": {},
   "source": [
    "### levels"
   ]
  },
  {
   "cell_type": "markdown",
   "metadata": {},
   "source": [
    "levels属性是一个包含MultiIndex的每一层的唯一元素的列表"
   ]
  },
  {
   "cell_type": "code",
   "execution_count": 22,
   "metadata": {},
   "outputs": [
    {
     "data": {
      "text/plain": [
       "FrozenList([['000001.SZ', '000002.SZ', '000003.SZ'], ['close', 'open']])"
      ]
     },
     "execution_count": 22,
     "metadata": {},
     "output_type": "execute_result"
    }
   ],
   "source": [
    "index1.levels"
   ]
  },
  {
   "cell_type": "markdown",
   "metadata": {},
   "source": [
    "可以根据序号选择levels的每一层"
   ]
  },
  {
   "cell_type": "code",
   "execution_count": 23,
   "metadata": {},
   "outputs": [
    {
     "data": {
      "text/plain": [
       "Index(['000001.SZ', '000002.SZ', '000003.SZ'], dtype='object', name='code')"
      ]
     },
     "execution_count": 23,
     "metadata": {},
     "output_type": "execute_result"
    }
   ],
   "source": [
    "index1.levels[0]"
   ]
  },
  {
   "cell_type": "code",
   "execution_count": 24,
   "metadata": {},
   "outputs": [
    {
     "data": {
      "text/plain": [
       "Index(['close', 'open'], dtype='object', name='field')"
      ]
     },
     "execution_count": 24,
     "metadata": {},
     "output_type": "execute_result"
    }
   ],
   "source": [
    "index1.levels[1]"
   ]
  },
  {
   "cell_type": "code",
   "execution_count": 25,
   "metadata": {},
   "outputs": [
    {
     "data": {
      "text/plain": [
       "Index(['000001.SZ', '000001.SZ', '000002.SZ', '000002.SZ', '000003.SZ',\n",
       "       '000003.SZ'],\n",
       "      dtype='object', name='code')"
      ]
     },
     "execution_count": 25,
     "metadata": {},
     "output_type": "execute_result"
    }
   ],
   "source": [
    "index1.get_level_values(0)"
   ]
  },
  {
   "cell_type": "code",
   "execution_count": 26,
   "metadata": {},
   "outputs": [
    {
     "data": {
      "text/plain": [
       "Index(['close', 'open', 'close', 'open', 'close', 'open'], dtype='object', name='field')"
      ]
     },
     "execution_count": 26,
     "metadata": {},
     "output_type": "execute_result"
    }
   ],
   "source": [
    "index1.get_level_values(1)"
   ]
  },
  {
   "cell_type": "markdown",
   "metadata": {},
   "source": [
    "也可以根据names属性获得对应的level"
   ]
  },
  {
   "cell_type": "code",
   "execution_count": 27,
   "metadata": {},
   "outputs": [
    {
     "data": {
      "text/plain": [
       "Index(['000001.SZ', '000001.SZ', '000002.SZ', '000002.SZ', '000003.SZ',\n",
       "       '000003.SZ'],\n",
       "      dtype='object', name='code')"
      ]
     },
     "execution_count": 27,
     "metadata": {},
     "output_type": "execute_result"
    }
   ],
   "source": [
    "index1.get_level_values(\"code\")"
   ]
  },
  {
   "cell_type": "code",
   "execution_count": 28,
   "metadata": {},
   "outputs": [
    {
     "data": {
      "text/plain": [
       "Index(['close', 'open', 'close', 'open', 'close', 'open'], dtype='object', name='field')"
      ]
     },
     "execution_count": 28,
     "metadata": {},
     "output_type": "execute_result"
    }
   ],
   "source": [
    "index1.get_level_values(\"field\")"
   ]
  },
  {
   "cell_type": "markdown",
   "metadata": {},
   "source": [
    "### labels"
   ]
  },
  {
   "cell_type": "code",
   "execution_count": 29,
   "metadata": {},
   "outputs": [
    {
     "data": {
      "text/plain": [
       "FrozenList([[0, 0, 1, 1, 2, 2], [0, 1, 0, 1, 0, 1]])"
      ]
     },
     "execution_count": 29,
     "metadata": {},
     "output_type": "execute_result"
    }
   ],
   "source": [
    "index1.labels"
   ]
  },
  {
   "cell_type": "markdown",
   "metadata": {},
   "source": [
    "labels属性实际上是MutiIndex的存储方式，每一层都和levels的对应层一一对应。列表里的元素是一个个数字，表示该位置的标签在对应的level的序号"
   ]
  },
  {
   "cell_type": "markdown",
   "metadata": {},
   "source": [
    "我们不做过多探究"
   ]
  },
  {
   "cell_type": "markdown",
   "metadata": {},
   "source": [
    "## 如何构建MutiIndex"
   ]
  },
  {
   "cell_type": "markdown",
   "metadata": {},
   "source": [
    "实际上在大多数情况下我们不需要主动构建MultiIndex"
   ]
  },
  {
   "cell_type": "markdown",
   "metadata": {},
   "source": [
    "因为我们日常使用的带有MutiIndex的DataFrame或者Series都是根据concat，groupby，stack等等函数自动赋予的"
   ]
  },
  {
   "cell_type": "code",
   "execution_count": 30,
   "metadata": {},
   "outputs": [
    {
     "data": {
      "text/html": [
       "<div>\n",
       "<style scoped>\n",
       "    .dataframe tbody tr th:only-of-type {\n",
       "        vertical-align: middle;\n",
       "    }\n",
       "\n",
       "    .dataframe tbody tr th {\n",
       "        vertical-align: top;\n",
       "    }\n",
       "\n",
       "    .dataframe thead tr th {\n",
       "        text-align: left;\n",
       "    }\n",
       "\n",
       "    .dataframe thead tr:last-of-type th {\n",
       "        text-align: right;\n",
       "    }\n",
       "</style>\n",
       "<table border=\"1\" class=\"dataframe\">\n",
       "  <thead>\n",
       "    <tr>\n",
       "      <th></th>\n",
       "      <th colspan=\"2\" halign=\"left\">close</th>\n",
       "      <th colspan=\"2\" halign=\"left\">open</th>\n",
       "    </tr>\n",
       "    <tr>\n",
       "      <th>code</th>\n",
       "      <th>000001.SZ</th>\n",
       "      <th>000002.SZ</th>\n",
       "      <th>000001.SZ</th>\n",
       "      <th>000002.SZ</th>\n",
       "    </tr>\n",
       "    <tr>\n",
       "      <th>trade_date</th>\n",
       "      <th></th>\n",
       "      <th></th>\n",
       "      <th></th>\n",
       "      <th></th>\n",
       "    </tr>\n",
       "  </thead>\n",
       "  <tbody>\n",
       "    <tr>\n",
       "      <th>2000-01-01</th>\n",
       "      <td>0.543519</td>\n",
       "      <td>-0.172963</td>\n",
       "      <td>0.484584</td>\n",
       "      <td>-0.422358</td>\n",
       "    </tr>\n",
       "    <tr>\n",
       "      <th>2000-01-02</th>\n",
       "      <td>1.285060</td>\n",
       "      <td>0.264370</td>\n",
       "      <td>0.799314</td>\n",
       "      <td>0.135294</td>\n",
       "    </tr>\n",
       "    <tr>\n",
       "      <th>2000-01-03</th>\n",
       "      <td>-0.080431</td>\n",
       "      <td>-0.127875</td>\n",
       "      <td>-0.158140</td>\n",
       "      <td>0.026406</td>\n",
       "    </tr>\n",
       "    <tr>\n",
       "      <th>2000-01-04</th>\n",
       "      <td>-0.919127</td>\n",
       "      <td>-0.170319</td>\n",
       "      <td>-0.887081</td>\n",
       "      <td>0.737286</td>\n",
       "    </tr>\n",
       "    <tr>\n",
       "      <th>2000-01-05</th>\n",
       "      <td>-0.020811</td>\n",
       "      <td>1.140572</td>\n",
       "      <td>-1.738284</td>\n",
       "      <td>-0.314605</td>\n",
       "    </tr>\n",
       "  </tbody>\n",
       "</table>\n",
       "</div>"
      ],
      "text/plain": [
       "               close                open          \n",
       "code       000001.SZ 000002.SZ 000001.SZ 000002.SZ\n",
       "trade_date                                        \n",
       "2000-01-01  0.543519 -0.172963  0.484584 -0.422358\n",
       "2000-01-02  1.285060  0.264370  0.799314  0.135294\n",
       "2000-01-03 -0.080431 -0.127875 -0.158140  0.026406\n",
       "2000-01-04 -0.919127 -0.170319 -0.887081  0.737286\n",
       "2000-01-05 -0.020811  1.140572 -1.738284 -0.314605"
      ]
     },
     "execution_count": 30,
     "metadata": {},
     "output_type": "execute_result"
    }
   ],
   "source": [
    "pd.concat({\"open\": df_open, \"close\": df_close}, axis=1)"
   ]
  },
  {
   "cell_type": "markdown",
   "metadata": {},
   "source": [
    "但是了解构造方法有助于理解MutiIndex"
   ]
  },
  {
   "cell_type": "markdown",
   "metadata": {},
   "source": [
    "### from_arrays"
   ]
  },
  {
   "cell_type": "code",
   "execution_count": 31,
   "metadata": {},
   "outputs": [],
   "source": [
    "arrays = [['000001.SZ', '000001.SZ', '000002.SZ', '000002.SZ', '000003.SZ', '000003.SZ'], ['close', 'open', 'close', 'open', 'close', 'open']]"
   ]
  },
  {
   "cell_type": "code",
   "execution_count": 32,
   "metadata": {},
   "outputs": [
    {
     "data": {
      "text/plain": [
       "MultiIndex(levels=[['000001.SZ', '000002.SZ', '000003.SZ'], ['close', 'open']],\n",
       "           labels=[[0, 0, 1, 1, 2, 2], [0, 1, 0, 1, 0, 1]],\n",
       "           names=['codes', 'fields'])"
      ]
     },
     "execution_count": 32,
     "metadata": {},
     "output_type": "execute_result"
    }
   ],
   "source": [
    "pd.MultiIndex.from_arrays(arrays, names=('codes', 'fields'))"
   ]
  },
  {
   "cell_type": "markdown",
   "metadata": {},
   "source": [
    "### from_product"
   ]
  },
  {
   "cell_type": "code",
   "execution_count": 33,
   "metadata": {},
   "outputs": [],
   "source": [
    "arrays2 = [['000001.SZ', '000002.SZ', '000003.SZ'], ['close', 'open']]"
   ]
  },
  {
   "cell_type": "code",
   "execution_count": 34,
   "metadata": {},
   "outputs": [
    {
     "data": {
      "text/plain": [
       "MultiIndex(levels=[['000001.SZ', '000002.SZ', '000003.SZ'], ['close', 'open']],\n",
       "           labels=[[0, 0, 1, 1, 2, 2], [0, 1, 0, 1, 0, 1]],\n",
       "           names=['codes', 'fields'])"
      ]
     },
     "execution_count": 34,
     "metadata": {},
     "output_type": "execute_result"
    }
   ],
   "source": [
    "pd.MultiIndex.from_product(arrays2, names=('codes', 'fields'))"
   ]
  },
  {
   "cell_type": "markdown",
   "metadata": {},
   "source": [
    "### from_tuples"
   ]
  },
  {
   "cell_type": "code",
   "execution_count": 42,
   "metadata": {},
   "outputs": [
    {
     "data": {
      "text/plain": [
       "MultiIndex(levels=[['000001.SZ', '000002.SZ', '000003.SZ'], ['close', 'open']],\n",
       "           labels=[[0, 0, 1, 1, 2, 2], [0, 1, 0, 1, 0, 1]],\n",
       "           names=['codes', 'fields'])"
      ]
     },
     "execution_count": 42,
     "metadata": {},
     "output_type": "execute_result"
    }
   ],
   "source": [
    "tuples = [('000001.SZ', 'close'), \n",
    "          ('000001.SZ', 'open'),\n",
    "          ('000002.SZ', 'close'), \n",
    "          ('000002.SZ', 'open'),\n",
    "          ('000003.SZ', 'close'), \n",
    "          ('000003.SZ', 'open')]\n",
    "pd.MultiIndex.from_tuples(tuples, names=('codes', 'fields'))"
   ]
  },
  {
   "cell_type": "markdown",
   "metadata": {},
   "source": [
    "大家好好领会一下这三种构建方法分别适用于什么样的场景。具体不再详述"
   ]
  },
  {
   "cell_type": "markdown",
   "metadata": {},
   "source": [
    "## 带有MutiIndex时的索引/选取"
   ]
  },
  {
   "cell_type": "markdown",
   "metadata": {},
   "source": [
    "在某一个轴是MutiIndex时，传统的选取就不太奏效了，这时候我们推荐使用pd.IndexSlice进行选取"
   ]
  },
  {
   "cell_type": "markdown",
   "metadata": {},
   "source": [
    "我们一般遵循下面的引用规范"
   ]
  },
  {
   "cell_type": "code",
   "execution_count": 43,
   "metadata": {},
   "outputs": [],
   "source": [
    "idx = pd.IndexSlice"
   ]
  },
  {
   "cell_type": "code",
   "execution_count": 44,
   "metadata": {},
   "outputs": [
    {
     "data": {
      "text/html": [
       "<div>\n",
       "<style scoped>\n",
       "    .dataframe tbody tr th:only-of-type {\n",
       "        vertical-align: middle;\n",
       "    }\n",
       "\n",
       "    .dataframe tbody tr th {\n",
       "        vertical-align: top;\n",
       "    }\n",
       "\n",
       "    .dataframe thead tr th {\n",
       "        text-align: left;\n",
       "    }\n",
       "\n",
       "    .dataframe thead tr:last-of-type th {\n",
       "        text-align: right;\n",
       "    }\n",
       "</style>\n",
       "<table border=\"1\" class=\"dataframe\">\n",
       "  <thead>\n",
       "    <tr>\n",
       "      <th>code</th>\n",
       "      <th colspan=\"2\" halign=\"left\">000001.SZ</th>\n",
       "      <th colspan=\"2\" halign=\"left\">000002.SZ</th>\n",
       "      <th colspan=\"2\" halign=\"left\">000003.SZ</th>\n",
       "    </tr>\n",
       "    <tr>\n",
       "      <th>field</th>\n",
       "      <th>close</th>\n",
       "      <th>open</th>\n",
       "      <th>close</th>\n",
       "      <th>open</th>\n",
       "      <th>close</th>\n",
       "      <th>open</th>\n",
       "    </tr>\n",
       "    <tr>\n",
       "      <th>trade_date</th>\n",
       "      <th></th>\n",
       "      <th></th>\n",
       "      <th></th>\n",
       "      <th></th>\n",
       "      <th></th>\n",
       "      <th></th>\n",
       "    </tr>\n",
       "  </thead>\n",
       "  <tbody>\n",
       "    <tr>\n",
       "      <th>2000-01-01</th>\n",
       "      <td>-0.084868</td>\n",
       "      <td>1.311083</td>\n",
       "      <td>-1.683967</td>\n",
       "      <td>0.348613</td>\n",
       "      <td>-0.299127</td>\n",
       "      <td>0.246763</td>\n",
       "    </tr>\n",
       "    <tr>\n",
       "      <th>2000-01-02</th>\n",
       "      <td>-0.033918</td>\n",
       "      <td>0.823621</td>\n",
       "      <td>-0.586938</td>\n",
       "      <td>-1.161244</td>\n",
       "      <td>0.577677</td>\n",
       "      <td>-0.555554</td>\n",
       "    </tr>\n",
       "    <tr>\n",
       "      <th>2000-01-03</th>\n",
       "      <td>0.626138</td>\n",
       "      <td>-2.449616</td>\n",
       "      <td>-0.104334</td>\n",
       "      <td>0.133032</td>\n",
       "      <td>-0.697537</td>\n",
       "      <td>0.339072</td>\n",
       "    </tr>\n",
       "    <tr>\n",
       "      <th>2000-01-04</th>\n",
       "      <td>1.182504</td>\n",
       "      <td>0.115843</td>\n",
       "      <td>-0.474775</td>\n",
       "      <td>-0.131368</td>\n",
       "      <td>-0.085706</td>\n",
       "      <td>0.161225</td>\n",
       "    </tr>\n",
       "    <tr>\n",
       "      <th>2000-01-05</th>\n",
       "      <td>0.948927</td>\n",
       "      <td>1.960194</td>\n",
       "      <td>-0.419402</td>\n",
       "      <td>1.146740</td>\n",
       "      <td>-0.684873</td>\n",
       "      <td>-1.473225</td>\n",
       "    </tr>\n",
       "  </tbody>\n",
       "</table>\n",
       "</div>"
      ],
      "text/plain": [
       "code       000001.SZ           000002.SZ           000003.SZ          \n",
       "field          close      open     close      open     close      open\n",
       "trade_date                                                            \n",
       "2000-01-01 -0.084868  1.311083 -1.683967  0.348613 -0.299127  0.246763\n",
       "2000-01-02 -0.033918  0.823621 -0.586938 -1.161244  0.577677 -0.555554\n",
       "2000-01-03  0.626138 -2.449616 -0.104334  0.133032 -0.697537  0.339072\n",
       "2000-01-04  1.182504  0.115843 -0.474775 -0.131368 -0.085706  0.161225\n",
       "2000-01-05  0.948927  1.960194 -0.419402  1.146740 -0.684873 -1.473225"
      ]
     },
     "execution_count": 44,
     "metadata": {},
     "output_type": "execute_result"
    }
   ],
   "source": [
    "df"
   ]
  },
  {
   "cell_type": "code",
   "execution_count": 45,
   "metadata": {},
   "outputs": [
    {
     "data": {
      "text/html": [
       "<div>\n",
       "<style scoped>\n",
       "    .dataframe tbody tr th:only-of-type {\n",
       "        vertical-align: middle;\n",
       "    }\n",
       "\n",
       "    .dataframe tbody tr th {\n",
       "        vertical-align: top;\n",
       "    }\n",
       "\n",
       "    .dataframe thead tr th {\n",
       "        text-align: left;\n",
       "    }\n",
       "\n",
       "    .dataframe thead tr:last-of-type th {\n",
       "        text-align: right;\n",
       "    }\n",
       "</style>\n",
       "<table border=\"1\" class=\"dataframe\">\n",
       "  <thead>\n",
       "    <tr>\n",
       "      <th>code</th>\n",
       "      <th colspan=\"2\" halign=\"left\">000001.SZ</th>\n",
       "    </tr>\n",
       "    <tr>\n",
       "      <th>field</th>\n",
       "      <th>close</th>\n",
       "      <th>open</th>\n",
       "    </tr>\n",
       "    <tr>\n",
       "      <th>trade_date</th>\n",
       "      <th></th>\n",
       "      <th></th>\n",
       "    </tr>\n",
       "  </thead>\n",
       "  <tbody>\n",
       "    <tr>\n",
       "      <th>2000-01-01</th>\n",
       "      <td>-0.084868</td>\n",
       "      <td>1.311083</td>\n",
       "    </tr>\n",
       "    <tr>\n",
       "      <th>2000-01-02</th>\n",
       "      <td>-0.033918</td>\n",
       "      <td>0.823621</td>\n",
       "    </tr>\n",
       "    <tr>\n",
       "      <th>2000-01-03</th>\n",
       "      <td>0.626138</td>\n",
       "      <td>-2.449616</td>\n",
       "    </tr>\n",
       "    <tr>\n",
       "      <th>2000-01-04</th>\n",
       "      <td>1.182504</td>\n",
       "      <td>0.115843</td>\n",
       "    </tr>\n",
       "    <tr>\n",
       "      <th>2000-01-05</th>\n",
       "      <td>0.948927</td>\n",
       "      <td>1.960194</td>\n",
       "    </tr>\n",
       "  </tbody>\n",
       "</table>\n",
       "</div>"
      ],
      "text/plain": [
       "code       000001.SZ          \n",
       "field          close      open\n",
       "trade_date                    \n",
       "2000-01-01 -0.084868  1.311083\n",
       "2000-01-02 -0.033918  0.823621\n",
       "2000-01-03  0.626138 -2.449616\n",
       "2000-01-04  1.182504  0.115843\n",
       "2000-01-05  0.948927  1.960194"
      ]
     },
     "execution_count": 45,
     "metadata": {},
     "output_type": "execute_result"
    }
   ],
   "source": [
    "df.loc[:, idx[\"000001.SZ\", :]]"
   ]
  },
  {
   "cell_type": "code",
   "execution_count": 46,
   "metadata": {},
   "outputs": [
    {
     "data": {
      "text/html": [
       "<div>\n",
       "<style scoped>\n",
       "    .dataframe tbody tr th:only-of-type {\n",
       "        vertical-align: middle;\n",
       "    }\n",
       "\n",
       "    .dataframe tbody tr th {\n",
       "        vertical-align: top;\n",
       "    }\n",
       "\n",
       "    .dataframe thead tr th {\n",
       "        text-align: left;\n",
       "    }\n",
       "\n",
       "    .dataframe thead tr:last-of-type th {\n",
       "        text-align: right;\n",
       "    }\n",
       "</style>\n",
       "<table border=\"1\" class=\"dataframe\">\n",
       "  <thead>\n",
       "    <tr>\n",
       "      <th>code</th>\n",
       "      <th>000001.SZ</th>\n",
       "      <th>000002.SZ</th>\n",
       "      <th>000003.SZ</th>\n",
       "    </tr>\n",
       "    <tr>\n",
       "      <th>field</th>\n",
       "      <th>open</th>\n",
       "      <th>open</th>\n",
       "      <th>open</th>\n",
       "    </tr>\n",
       "    <tr>\n",
       "      <th>trade_date</th>\n",
       "      <th></th>\n",
       "      <th></th>\n",
       "      <th></th>\n",
       "    </tr>\n",
       "  </thead>\n",
       "  <tbody>\n",
       "    <tr>\n",
       "      <th>2000-01-01</th>\n",
       "      <td>1.311083</td>\n",
       "      <td>0.348613</td>\n",
       "      <td>0.246763</td>\n",
       "    </tr>\n",
       "    <tr>\n",
       "      <th>2000-01-02</th>\n",
       "      <td>0.823621</td>\n",
       "      <td>-1.161244</td>\n",
       "      <td>-0.555554</td>\n",
       "    </tr>\n",
       "    <tr>\n",
       "      <th>2000-01-03</th>\n",
       "      <td>-2.449616</td>\n",
       "      <td>0.133032</td>\n",
       "      <td>0.339072</td>\n",
       "    </tr>\n",
       "    <tr>\n",
       "      <th>2000-01-04</th>\n",
       "      <td>0.115843</td>\n",
       "      <td>-0.131368</td>\n",
       "      <td>0.161225</td>\n",
       "    </tr>\n",
       "    <tr>\n",
       "      <th>2000-01-05</th>\n",
       "      <td>1.960194</td>\n",
       "      <td>1.146740</td>\n",
       "      <td>-1.473225</td>\n",
       "    </tr>\n",
       "  </tbody>\n",
       "</table>\n",
       "</div>"
      ],
      "text/plain": [
       "code       000001.SZ 000002.SZ 000003.SZ\n",
       "field           open      open      open\n",
       "trade_date                              \n",
       "2000-01-01  1.311083  0.348613  0.246763\n",
       "2000-01-02  0.823621 -1.161244 -0.555554\n",
       "2000-01-03 -2.449616  0.133032  0.339072\n",
       "2000-01-04  0.115843 -0.131368  0.161225\n",
       "2000-01-05  1.960194  1.146740 -1.473225"
      ]
     },
     "execution_count": 46,
     "metadata": {},
     "output_type": "execute_result"
    }
   ],
   "source": [
    "df.loc[:, idx[:, \"open\"]]"
   ]
  },
  {
   "cell_type": "code",
   "execution_count": 47,
   "metadata": {},
   "outputs": [
    {
     "data": {
      "text/html": [
       "<div>\n",
       "<style scoped>\n",
       "    .dataframe tbody tr th:only-of-type {\n",
       "        vertical-align: middle;\n",
       "    }\n",
       "\n",
       "    .dataframe tbody tr th {\n",
       "        vertical-align: top;\n",
       "    }\n",
       "\n",
       "    .dataframe thead tr th {\n",
       "        text-align: left;\n",
       "    }\n",
       "\n",
       "    .dataframe thead tr:last-of-type th {\n",
       "        text-align: right;\n",
       "    }\n",
       "</style>\n",
       "<table border=\"1\" class=\"dataframe\">\n",
       "  <thead>\n",
       "    <tr>\n",
       "      <th>code</th>\n",
       "      <th colspan=\"2\" halign=\"left\">000001.SZ</th>\n",
       "      <th colspan=\"2\" halign=\"left\">000002.SZ</th>\n",
       "    </tr>\n",
       "    <tr>\n",
       "      <th>field</th>\n",
       "      <th>close</th>\n",
       "      <th>open</th>\n",
       "      <th>close</th>\n",
       "      <th>open</th>\n",
       "    </tr>\n",
       "    <tr>\n",
       "      <th>trade_date</th>\n",
       "      <th></th>\n",
       "      <th></th>\n",
       "      <th></th>\n",
       "      <th></th>\n",
       "    </tr>\n",
       "  </thead>\n",
       "  <tbody>\n",
       "    <tr>\n",
       "      <th>2000-01-01</th>\n",
       "      <td>-0.084868</td>\n",
       "      <td>1.311083</td>\n",
       "      <td>-1.683967</td>\n",
       "      <td>0.348613</td>\n",
       "    </tr>\n",
       "    <tr>\n",
       "      <th>2000-01-02</th>\n",
       "      <td>-0.033918</td>\n",
       "      <td>0.823621</td>\n",
       "      <td>-0.586938</td>\n",
       "      <td>-1.161244</td>\n",
       "    </tr>\n",
       "    <tr>\n",
       "      <th>2000-01-03</th>\n",
       "      <td>0.626138</td>\n",
       "      <td>-2.449616</td>\n",
       "      <td>-0.104334</td>\n",
       "      <td>0.133032</td>\n",
       "    </tr>\n",
       "    <tr>\n",
       "      <th>2000-01-04</th>\n",
       "      <td>1.182504</td>\n",
       "      <td>0.115843</td>\n",
       "      <td>-0.474775</td>\n",
       "      <td>-0.131368</td>\n",
       "    </tr>\n",
       "    <tr>\n",
       "      <th>2000-01-05</th>\n",
       "      <td>0.948927</td>\n",
       "      <td>1.960194</td>\n",
       "      <td>-0.419402</td>\n",
       "      <td>1.146740</td>\n",
       "    </tr>\n",
       "  </tbody>\n",
       "</table>\n",
       "</div>"
      ],
      "text/plain": [
       "code       000001.SZ           000002.SZ          \n",
       "field          close      open     close      open\n",
       "trade_date                                        \n",
       "2000-01-01 -0.084868  1.311083 -1.683967  0.348613\n",
       "2000-01-02 -0.033918  0.823621 -0.586938 -1.161244\n",
       "2000-01-03  0.626138 -2.449616 -0.104334  0.133032\n",
       "2000-01-04  1.182504  0.115843 -0.474775 -0.131368\n",
       "2000-01-05  0.948927  1.960194 -0.419402  1.146740"
      ]
     },
     "execution_count": 47,
     "metadata": {},
     "output_type": "execute_result"
    }
   ],
   "source": [
    "df.loc[:, idx[[\"000001.SZ\", \"000002.SZ\"], :]]"
   ]
  },
  {
   "cell_type": "markdown",
   "metadata": {},
   "source": [
    "如果想要选取截面数据（获得一个低维度的dataframe，用xs方法）"
   ]
  },
  {
   "cell_type": "code",
   "execution_count": 48,
   "metadata": {},
   "outputs": [
    {
     "data": {
      "text/html": [
       "<div>\n",
       "<style scoped>\n",
       "    .dataframe tbody tr th:only-of-type {\n",
       "        vertical-align: middle;\n",
       "    }\n",
       "\n",
       "    .dataframe tbody tr th {\n",
       "        vertical-align: top;\n",
       "    }\n",
       "\n",
       "    .dataframe thead th {\n",
       "        text-align: right;\n",
       "    }\n",
       "</style>\n",
       "<table border=\"1\" class=\"dataframe\">\n",
       "  <thead>\n",
       "    <tr style=\"text-align: right;\">\n",
       "      <th>field</th>\n",
       "      <th>close</th>\n",
       "      <th>open</th>\n",
       "    </tr>\n",
       "    <tr>\n",
       "      <th>trade_date</th>\n",
       "      <th></th>\n",
       "      <th></th>\n",
       "    </tr>\n",
       "  </thead>\n",
       "  <tbody>\n",
       "    <tr>\n",
       "      <th>2000-01-01</th>\n",
       "      <td>-0.084868</td>\n",
       "      <td>1.311083</td>\n",
       "    </tr>\n",
       "    <tr>\n",
       "      <th>2000-01-02</th>\n",
       "      <td>-0.033918</td>\n",
       "      <td>0.823621</td>\n",
       "    </tr>\n",
       "    <tr>\n",
       "      <th>2000-01-03</th>\n",
       "      <td>0.626138</td>\n",
       "      <td>-2.449616</td>\n",
       "    </tr>\n",
       "    <tr>\n",
       "      <th>2000-01-04</th>\n",
       "      <td>1.182504</td>\n",
       "      <td>0.115843</td>\n",
       "    </tr>\n",
       "    <tr>\n",
       "      <th>2000-01-05</th>\n",
       "      <td>0.948927</td>\n",
       "      <td>1.960194</td>\n",
       "    </tr>\n",
       "  </tbody>\n",
       "</table>\n",
       "</div>"
      ],
      "text/plain": [
       "field          close      open\n",
       "trade_date                    \n",
       "2000-01-01 -0.084868  1.311083\n",
       "2000-01-02 -0.033918  0.823621\n",
       "2000-01-03  0.626138 -2.449616\n",
       "2000-01-04  1.182504  0.115843\n",
       "2000-01-05  0.948927  1.960194"
      ]
     },
     "execution_count": 48,
     "metadata": {},
     "output_type": "execute_result"
    }
   ],
   "source": [
    "df.xs(\"000001.SZ\", axis=1, level=0)"
   ]
  }
 ],
 "metadata": {
  "kernelspec": {
   "display_name": "Python 3",
   "language": "python",
   "name": "python3"
  },
  "language_info": {
   "codemirror_mode": {
    "name": "ipython",
    "version": 3
   },
   "file_extension": ".py",
   "mimetype": "text/x-python",
   "name": "python",
   "nbconvert_exporter": "python",
   "pygments_lexer": "ipython3",
   "version": "3.6.4"
  }
 },
 "nbformat": 4,
 "nbformat_minor": 2
}
