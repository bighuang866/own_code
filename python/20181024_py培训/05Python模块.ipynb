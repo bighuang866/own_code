{
 "cells": [
  {
   "cell_type": "markdown",
   "metadata": {},
   "source": [
    "#Python 模块"
   ]
  },
  {
   "cell_type": "markdown",
   "metadata": {},
   "source": [
    "## [1、认识Python模块](#1)\n",
    "## [2、定义自己的模块](#2)"
   ]
  },
  {
   "cell_type": "markdown",
   "metadata": {},
   "source": [
    "# <a id=1> 1、认识Python模块</a>"
   ]
  },
  {
   "cell_type": "markdown",
   "metadata": {},
   "source": [
    "### 什么是模块？"
   ]
  },
  {
   "cell_type": "markdown",
   "metadata": {},
   "source": [
    "在完成比较简单的任务的时候，我们可以讲所有的代码都写在一个py文件里，但是若程序的复杂度增加，将程序的不同部分拆分，一个文件作为主运行程序，将一些内容（如一些函数）写在其他的文件中，并在主文件中引用其他文件，是一种更好的方法\n"
   ]
  },
  {
   "cell_type": "markdown",
   "metadata": {},
   "source": [
    "在matlab中，若想引用其他文件的内容（大部分是函数），需要使用addpath将文件所在的路径添加到搜索路径，这样在文件中就可以直接引用其他文件中定义的函数了。"
   ]
  },
  {
   "cell_type": "markdown",
   "metadata": {},
   "source": [
    "在R语言中，若想使用其他文件的内容，需要使用source函数导入文件"
   ]
  },
  {
   "cell_type": "markdown",
   "metadata": {},
   "source": [
    "在python中，这一功能是通过编写模块实现的，除了运行的主文件，其他的py文件都可以视为模块"
   ]
  },
  {
   "cell_type": "markdown",
   "metadata": {},
   "source": [
    "### 如何导入模块"
   ]
  },
  {
   "cell_type": "markdown",
   "metadata": {},
   "source": [
    "Python中在一个程序中要使用某个模块，不能直接使用模块里面的功能。在使用模块之前，必须先导入指定模块，只要导入了一个模块，才能使用一个模块。下面我们通过实例来讲解一下如何导入模块。\n"
   ]
  },
  {
   "cell_type": "markdown",
   "metadata": {},
   "source": [
    "如果我们有两个文件A和B，B文件中定义了b变量，现在运行A文件时，想引用B文件中的变量  \n",
    "需要在A文件开始处加上  \n",
    "\n",
    "import B  \n",
    "并使用B.b访问该变量  \n",
    "\n",
    "或者在A文件开始处加上  \n",
    "from B import b  \n",
    "并使用b访问该变量 \n",
    "\n",
    "如果引用的是其他文件里的函数，类，操作流程是一样的。"
   ]
  },
  {
   "cell_type": "markdown",
   "metadata": {},
   "source": [
    "### 模块导入工作原理"
   ]
  },
  {
   "cell_type": "code",
   "execution_count": 8,
   "metadata": {},
   "outputs": [],
   "source": [
    "import sys\n",
    "print(sys.path)"
   ]
  },
  {
   "cell_type": "markdown",
   "metadata": {},
   "source": [
    "python 会检索sys.path这个列表中的所有路径，这些路径下的所有文件都会被识别  \n",
    "\n",
    "import xxx 的工作机制，就是逐个检查上面路径下的py文件，  \n",
    "\n",
    "找到第一个名称为 xxx的文件，将其导入\n",
    "\n"
   ]
  },
  {
   "cell_type": "markdown",
   "metadata": {},
   "source": [
    "sys.path里定义的路径包括：    \n",
    "1.主目录：我们写的程序所在的文件夹（也就是os.getcwd()显示的目录）  \n",
    "2.python内置模块的安装目录（常用的如os，sys等系统自带的模块都安装在这个目录）  \n",
    "3.从网上下载的第三方包的安装目录（自己使用pip下载的模块会安装在这个目录里，常用的第三方模块有pandas，numpy等）   \n",
    "4.通过pth路径定义的目录（暂不深入）"
   ]
  },
  {
   "cell_type": "markdown",
   "metadata": {},
   "source": [
    "### 常用内置模块"
   ]
  },
  {
   "cell_type": "markdown",
   "metadata": {},
   "source": [
    "#### sys模块"
   ]
  },
  {
   "cell_type": "markdown",
   "metadata": {},
   "source": [
    "sys模块定义了一系列与系统相关的操作"
   ]
  },
  {
   "cell_type": "code",
   "execution_count": null,
   "metadata": {},
   "outputs": [],
   "source": [
    "import sys\n",
    "sys.path\n"
   ]
  },
  {
   "cell_type": "code",
   "execution_count": 14,
   "metadata": {},
   "outputs": [
    {
     "data": {
      "text/plain": [
       "'win32'"
      ]
     },
     "execution_count": 14,
     "metadata": {},
     "output_type": "execute_result"
    }
   ],
   "source": [
    "sys.platform"
   ]
  },
  {
   "cell_type": "markdown",
   "metadata": {},
   "source": [
    "#### os模块"
   ]
  },
  {
   "cell_type": "markdown",
   "metadata": {},
   "source": [
    "os模块定义了一系列与操作系统相关的操作，特别是os.path模块，定义了一系列处理路径的操作，用起来很方便"
   ]
  },
  {
   "cell_type": "code",
   "execution_count": 25,
   "metadata": {},
   "outputs": [
    {
     "data": {
      "text/plain": [
       "'C:\\\\Users\\\\lenovo'"
      ]
     },
     "execution_count": 25,
     "metadata": {},
     "output_type": "execute_result"
    }
   ],
   "source": [
    "import os\n",
    "os.getcwd()"
   ]
  },
  {
   "cell_type": "code",
   "execution_count": 29,
   "metadata": {},
   "outputs": [
    {
     "data": {
      "text/plain": [
       "'C:\\\\Users\\\\lenovo\\\\main.py'"
      ]
     },
     "execution_count": 29,
     "metadata": {},
     "output_type": "execute_result"
    }
   ],
   "source": [
    "path = 'C:\\\\Users\\\\lenovo'\n",
    "file = 'main.py'\n",
    "os.path.join(path, file)"
   ]
  },
  {
   "cell_type": "markdown",
   "metadata": {},
   "source": [
    "#### datetime模块"
   ]
  },
  {
   "cell_type": "markdown",
   "metadata": {},
   "source": [
    "datetime模块定义了一系列时间操作，特别是datetime.datetime对象，是python里表示时间的基本对象，在处理金融时间序列时会经常用到"
   ]
  },
  {
   "cell_type": "code",
   "execution_count": 31,
   "metadata": {},
   "outputs": [],
   "source": [
    "import datetime"
   ]
  },
  {
   "cell_type": "code",
   "execution_count": 36,
   "metadata": {},
   "outputs": [
    {
     "data": {
      "text/plain": [
       "datetime.datetime(2008, 8, 8, 0, 0)"
      ]
     },
     "execution_count": 36,
     "metadata": {},
     "output_type": "execute_result"
    }
   ],
   "source": [
    "a = datetime.datetime(2008, 8, 8) # 直接构造datetime对象\n",
    "a"
   ]
  },
  {
   "cell_type": "code",
   "execution_count": 42,
   "metadata": {},
   "outputs": [
    {
     "data": {
      "text/plain": [
       "datetime.datetime(2008, 8, 8, 0, 0)"
      ]
     },
     "execution_count": 42,
     "metadata": {},
     "output_type": "execute_result"
    }
   ],
   "source": [
    "raw = \"2008-08-08\"\n",
    "b = datetime.datetime.strptime(raw, \"%Y-%m-%d\")# 根据字符串构造\n",
    "b"
   ]
  },
  {
   "cell_type": "code",
   "execution_count": 44,
   "metadata": {},
   "outputs": [
    {
     "data": {
      "text/plain": [
       "'20080808'"
      ]
     },
     "execution_count": 44,
     "metadata": {},
     "output_type": "execute_result"
    }
   ],
   "source": [
    "b.strftime(\"%Y%m%d\")"
   ]
  },
  {
   "cell_type": "markdown",
   "metadata": {},
   "source": [
    "###  常用第三方模块"
   ]
  },
  {
   "cell_type": "markdown",
   "metadata": {},
   "source": [
    "numpy  基于Python的科学计算第三方库，提供了矩阵，线性代数，傅立叶变换等等的解决方案"
   ]
  },
  {
   "cell_type": "markdown",
   "metadata": {},
   "source": [
    "pandas 使用DataFrame这样的带标签数据格式以及附带的一系列操作，在数据处理特别是金融时间序列处理上功能异常强大"
   ]
  },
  {
   "cell_type": "markdown",
   "metadata": {},
   "source": [
    "talib 提供了金融技术分析常用的如均线，布林带，ADX, MACD, RSI等200余种指标的计算"
   ]
  },
  {
   "cell_type": "markdown",
   "metadata": {},
   "source": [
    "scipy 利用numpy做更高级的数学,信号处理,优化,统计等等"
   ]
  },
  {
   "cell_type": "markdown",
   "metadata": {},
   "source": [
    "matplotlib 用Python编写的实现类似matlab作图功能的库，用以绘制一些高质量的图形。"
   ]
  },
  {
   "cell_type": "markdown",
   "metadata": {},
   "source": [
    "statsmodels 包含OLS,WLS,GLS,时间序列模型等各种统计模型的库"
   ]
  },
  {
   "cell_type": "markdown",
   "metadata": {},
   "source": [
    "sklearn 提供了简单机器学习方法如决策树，支持向量机等等"
   ]
  },
  {
   "cell_type": "markdown",
   "metadata": {},
   "source": [
    "tensorflow 谷歌开源的机器学习框架，提供对于复杂神经网络等等模型的建模和实践"
   ]
  },
  {
   "cell_type": "markdown",
   "metadata": {},
   "source": [
    "scrapy 网络爬虫框架，可以轻松的编写高质量的爬虫"
   ]
  },
  {
   "cell_type": "markdown",
   "metadata": {},
   "source": [
    "无数程序员大佬开发并维护的大量第三方模块是python的最大竞争优势，常见的编程需求几乎都有人开发了成熟的包并放在网上供人下载使用"
   ]
  },
  {
   "cell_type": "markdown",
   "metadata": {},
   "source": [
    "### 第三方模块的下载"
   ]
  },
  {
   "cell_type": "markdown",
   "metadata": {},
   "source": [
    "使用pip可以轻松的下载和管理第三方模块（打开CMD演示）"
   ]
  },
  {
   "cell_type": "markdown",
   "metadata": {},
   "source": [
    "### import和from...import...的区别"
   ]
  },
  {
   "cell_type": "code",
   "execution_count": 5,
   "metadata": {},
   "outputs": [
    {
     "data": {
      "text/plain": [
       "pandas.core.frame.DataFrame"
      ]
     },
     "execution_count": 5,
     "metadata": {},
     "output_type": "execute_result"
    }
   ],
   "source": [
    "# 我们想要使用pandas 模块的 Dataframe 对象，可以用两种不同的导入方式\n",
    "import pandas\n",
    "pandas.DataFrame\n"
   ]
  },
  {
   "cell_type": "code",
   "execution_count": 6,
   "metadata": {},
   "outputs": [
    {
     "data": {
      "text/plain": [
       "pandas.core.frame.DataFrame"
      ]
     },
     "execution_count": 6,
     "metadata": {},
     "output_type": "execute_result"
    }
   ],
   "source": [
    "from pandas import DataFrame\n",
    "DataFrame"
   ]
  },
  {
   "cell_type": "markdown",
   "metadata": {},
   "source": [
    "但是有的时候，模块的名称太长了，总是写pandas.xxx不方便，可以使用 as 改写"
   ]
  },
  {
   "cell_type": "code",
   "execution_count": 8,
   "metadata": {},
   "outputs": [
    {
     "data": {
      "text/plain": [
       "pandas.core.frame.DataFrame"
      ]
     },
     "execution_count": 8,
     "metadata": {},
     "output_type": "execute_result"
    }
   ],
   "source": [
    "import pandas as pd\n",
    "pd.DataFrame"
   ]
  },
  {
   "cell_type": "code",
   "execution_count": 12,
   "metadata": {},
   "outputs": [
    {
     "data": {
      "text/plain": [
       "[<matplotlib.lines.Line2D at 0x1a998c3ef98>]"
      ]
     },
     "execution_count": 12,
     "metadata": {},
     "output_type": "execute_result"
    },
    {
     "data": {
      "image/png": "[encoded data removed]",
      "text/plain": [
       "<matplotlib.figure.Figure at 0x1a9973190b8>"
      ]
     },
     "metadata": {},
     "output_type": "display_data"
    }
   ],
   "source": [
    "import matplotlib.pyplot as plt\n",
    "plt.plot([1, 2, 3, 4, 5])"
   ]
  },
  {
   "cell_type": "markdown",
   "metadata": {},
   "source": [
    "此外，还有一种 from xxx import * 的语法，但是不推荐大家使用，该方法会将 xxx模块里的所有内容全部导入，这样会让其他阅读代码的人不知道要导入什么，并且导入的内容中如果有同我们变量函数等命名相同的对象，可能会覆盖我们的定义。"
   ]
  },
  {
   "cell_type": "markdown",
   "metadata": {},
   "source": [
    "大家在使用as缩写时一般会遵循约定俗成的规范，下面是部分常用包的规范"
   ]
  },
  {
   "cell_type": "code",
   "execution_count": 11,
   "metadata": {
    "scrolled": true
   },
   "outputs": [
    {
     "name": "stderr",
     "output_type": "stream",
     "text": [
      "D:\\IDE\\anaconda\\lib\\site-packages\\statsmodels\\compat\\pandas.py:56: FutureWarning: The pandas.core.datetools module is deprecated and will be removed in a future version. Please use the pandas.tseries module instead.\n",
      "  from pandas.core import datetools\n"
     ]
    }
   ],
   "source": [
    "import pandas as pd\n",
    "import numpy as np\n",
    "import statsmodels.api as sm\n",
    "import matplotlib.pyplot as plt\n"
   ]
  },
  {
   "cell_type": "markdown",
   "metadata": {
    "collapsed": true
   },
   "source": [
    "# <a id=2> 2、定义自己的模块</a>"
   ]
  },
  {
   "cell_type": "markdown",
   "metadata": {},
   "source": [
    "如果想将一个文件作为一个模块，并在其他文件里引用，只需要将该文件放于主文件目录下即可，然后在需要使用的文件里import它（在 pycharm中演示）"
   ]
  },
  {
   "cell_type": "markdown",
   "metadata": {},
   "source": [
    "但是有的时候，在组织比较大型的功能的时候，一个文件作为模块可能不够用，我们有时候会将一系列功能的文件放在一个文件夹内"
   ]
  },
  {
   "cell_type": "markdown",
   "metadata": {},
   "source": [
    "再在包内添加'\\__init\\__.py'文件，这样就可以将整个文件夹作为一个模块导入了（在 pycharm中演示）"
   ]
  },
  {
   "cell_type": "code",
   "execution_count": null,
   "metadata": {},
   "outputs": [],
   "source": []
  }
 ],
 "metadata": {
  "kernelspec": {
   "display_name": "Python 3",
   "language": "python",
   "name": "python3"
  },
  "language_info": {
   "codemirror_mode": {
    "name": "ipython",
    "version": 3
   },
   "file_extension": ".py",
   "mimetype": "text/x-python",
   "name": "python",
   "nbconvert_exporter": "python",
   "pygments_lexer": "ipython3",
   "version": "3.6.4"
  }
 },
 "nbformat": 4,
 "nbformat_minor": 1
}
