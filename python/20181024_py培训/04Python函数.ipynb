{
 "cells": [
  {
   "cell_type": "markdown",
   "metadata": {},
   "source": [
    "# Python函数"
   ]
  },
  {
   "cell_type": "markdown",
   "metadata": {},
   "source": [
    "## [一、认识函数](#1)\n",
    "## [二、匿名函数（lambda表达式）](#2)"
   ]
  },
  {
   "cell_type": "markdown",
   "metadata": {},
   "source": [
    "# <a id=\"1\">一、认识函数</a>"
   ]
  },
  {
   "cell_type": "markdown",
   "metadata": {},
   "source": [
    "### 什么是函数"
   ]
  },
  {
   "cell_type": "markdown",
   "metadata": {},
   "source": [
    "函数的英文是function，所以，通俗地来讲，函数就是功能的意思。函数是用来封装特定功能的，比如，在Python里面，len()是一个函数，len()这个函数实现的功能是返回一个字符串的长度，所以说len()这个函数他的特定功能就是返回长度，再比如，我们可以自己定义一个函数，然后编写这个函数的功能，之后要使用的时候再调用这个函数。\n",
    "\n",
    "函数分为两种类型，  \n",
    "一种是系统自带的不用我们编写其功能系统自己就有的，比如len()这种函数  \n",
    "另一种函数是我们自定义的，需要我们编写其功能的，这种函数自由度高，叫做自定义函数，需要使用的时候直接调用该函数\n"
   ]
  },
  {
   "cell_type": "markdown",
   "metadata": {},
   "source": [
    "### Python里函数的定义"
   ]
  },
  {
   "cell_type": "raw",
   "metadata": {},
   "source": [
    "def 函数名(参数1, 参数2, 参数3):\n",
    "    xxxxxx\n",
    "    return 返回值\n",
    "\n",
    "还可以设置参数的默认值\n",
    "\n",
    "def 函数名(参数1, 参数2, 参数3=默认值3):\n",
    "    xxxxxx\n",
    "    return 返回值\n",
    "\n",
    "\n",
    "但是设置默认值的参数必须写在最后，下面这样是不行的\n",
    "def 函数名(参数1=默认值1, 参数2, 参数3):\n",
    "    xxxxxx\n",
    "    return 返回值\n"
   ]
  },
  {
   "cell_type": "code",
   "execution_count": 28,
   "metadata": {},
   "outputs": [
    {
     "name": "stdout",
     "output_type": "stream",
     "text": [
      "6\n"
     ]
    }
   ],
   "source": [
    "def fun1(a, b, c):\n",
    "    return a + b + c\n",
    "print(fun1(1, 2, 3))"
   ]
  },
  {
   "cell_type": "code",
   "execution_count": 29,
   "metadata": {},
   "outputs": [
    {
     "name": "stdout",
     "output_type": "stream",
     "text": [
      "6\n",
      "13\n"
     ]
    }
   ],
   "source": [
    "def fun2(a, b, c=10):\n",
    "    return a + b + c\n",
    "print(fun2(1, 2, 3))\n",
    "print(fun2(1, 2))"
   ]
  },
  {
   "cell_type": "code",
   "execution_count": 30,
   "metadata": {},
   "outputs": [
    {
     "ename": "SyntaxError",
     "evalue": "non-default argument follows default argument (<ipython-input-30-72629e035fa5>, line 1)",
     "output_type": "error",
     "traceback": [
      "\u001b[1;36m  File \u001b[1;32m\"<ipython-input-30-72629e035fa5>\"\u001b[1;36m, line \u001b[1;32m1\u001b[0m\n\u001b[1;33m    def fun3(a=4, b, c):\u001b[0m\n\u001b[1;37m            ^\u001b[0m\n\u001b[1;31mSyntaxError\u001b[0m\u001b[1;31m:\u001b[0m non-default argument follows default argument\n"
     ]
    }
   ],
   "source": [
    "def fun3(a=4, b, c):\n",
    "    return a + b + c"
   ]
  },
  {
   "cell_type": "markdown",
   "metadata": {},
   "source": [
    "### 参数的传递"
   ]
  },
  {
   "cell_type": "markdown",
   "metadata": {},
   "source": [
    "在Python中函数在调用的过程中参数的传递使用顺序的，下面我们通过实例来讲解一下参数的传递。\n"
   ]
  },
  {
   "cell_type": "code",
   "execution_count": 31,
   "metadata": {},
   "outputs": [],
   "source": [
    "b=100"
   ]
  },
  {
   "cell_type": "code",
   "execution_count": 32,
   "metadata": {},
   "outputs": [
    {
     "name": "stdout",
     "output_type": "stream",
     "text": [
      "6\n"
     ]
    }
   ],
   "source": [
    "#参数的传递\n",
    "#第一种，最简单的传递：按位置传递\n",
    "def fun2(a, b, c=10):\n",
    "    return a + b + c\n",
    "\n",
    "\n",
    "print(fun2(1, 2, 3))"
   ]
  },
  {
   "cell_type": "markdown",
   "metadata": {},
   "source": [
    "### 关键字参数"
   ]
  },
  {
   "cell_type": "markdown",
   "metadata": {},
   "source": [
    "在Python中一个函数中出现多个参数的时候，我们可以通过参数的名字直接给我们的参数赋值，那么这些参数称之为关键字参数，下面我们通过实例来讲解一下。\n"
   ]
  },
  {
   "cell_type": "code",
   "execution_count": 17,
   "metadata": {},
   "outputs": [
    {
     "name": "stdout",
     "output_type": "stream",
     "text": [
      "9 1 10\n",
      "1 10 9\n",
      "8 7 0\n",
      "5 3 2\n",
      "0 0 100\n"
     ]
    }
   ],
   "source": [
    "#第二种，赋值传递:关键字参数\n",
    "a = 9\n",
    "b = 10\n",
    "c = 1\n",
    "def function(a=0,b=0,c=0):\n",
    "    print (a, b, c)\n",
    "\n",
    "function(a,c,b)\n",
    "function(a=c,b=b,c=a)\n",
    "function(b=7,a=8)\n",
    "function(5, c=2,b=3)\n",
    "function(c=100)"
   ]
  },
  {
   "cell_type": "code",
   "execution_count": 18,
   "metadata": {},
   "outputs": [
    {
     "ename": "SyntaxError",
     "evalue": "positional argument follows keyword argument (<ipython-input-18-9e0a00738914>, line 2)",
     "output_type": "error",
     "traceback": [
      "\u001b[1;36m  File \u001b[1;32m\"<ipython-input-18-9e0a00738914>\"\u001b[1;36m, line \u001b[1;32m2\u001b[0m\n\u001b[1;33m    function(b=2,c=3,2)\u001b[0m\n\u001b[1;37m                    ^\u001b[0m\n\u001b[1;31mSyntaxError\u001b[0m\u001b[1;31m:\u001b[0m positional argument follows keyword argument\n"
     ]
    }
   ],
   "source": [
    "'''但是要注意，按位置传递参数不可放在关键字参数后面'''\n",
    "function(b=2,c=3,2)"
   ]
  },
  {
   "cell_type": "markdown",
   "metadata": {},
   "source": [
    "### 函数的返回值"
   ]
  },
  {
   "cell_type": "markdown",
   "metadata": {},
   "source": [
    "在Python中有的函数是有返回值的，有的函数是没有返回值的。而有返回值的函数，我们让函数可以返回一个值，也可以让函数返回多个值。下面我们通过实例来讲解一下函数的返回值。\n"
   ]
  },
  {
   "cell_type": "code",
   "execution_count": 23,
   "metadata": {},
   "outputs": [
    {
     "name": "stdout",
     "output_type": "stream",
     "text": [
      "7\n"
     ]
    }
   ],
   "source": [
    "#函数返回值\n",
    "\n",
    "#一个返回值的情况\n",
    "def test():\n",
    "    i=7\n",
    "    return i\n",
    "print (test())"
   ]
  },
  {
   "cell_type": "code",
   "execution_count": 25,
   "metadata": {},
   "outputs": [
    {
     "name": "stdout",
     "output_type": "stream",
     "text": [
      "<class 'tuple'>\n"
     ]
    }
   ],
   "source": [
    "#多个返回值的情况\n",
    "def test2(i,j):\n",
    "    k=i*j\n",
    "    return i,j,k\n",
    "# 实际上相当于返回一个元组\n",
    "# 接受时没有必要像下面这么写\n",
    "tmp = test2(2,3)\n",
    "print(type(tmp))\n",
    "a = tmp[0]\n",
    "a = tmp[1]\n",
    "a = tmp[2]"
   ]
  },
  {
   "cell_type": "code",
   "execution_count": 33,
   "metadata": {},
   "outputs": [
    {
     "name": "stdout",
     "output_type": "stream",
     "text": [
      "2 3 6\n"
     ]
    }
   ],
   "source": [
    "# 直接这样就行了\n",
    "a, b, c = test2(2,3)\n",
    "print(a, b, c)"
   ]
  },
  {
   "cell_type": "markdown",
   "metadata": {},
   "source": [
    "# <a id=\"2\">二、匿名函数（lambda表达式）</a>"
   ]
  },
  {
   "cell_type": "markdown",
   "metadata": {},
   "source": [
    "有的时候，我们只需要定义一个临时使用的函数，这时可以使用匿名函数（lambda 表达式）  \n",
    "lambda 只是一个表达式，函数体比 def 简单很多。  \n",
    "lambda的主体是一个表达式，而不是一个代码块。仅仅能在lambda表达式中封装有限的逻辑进去。  \n",
    "lambda 函数拥有自己的命名空间，且不能访问自己参数列表之外或全局命名空间里的参数。  "
   ]
  },
  {
   "cell_type": "markdown",
   "metadata": {},
   "source": [
    "lambda 表达式类似于matlab种的函数句柄与R语言里的lambda 表达式"
   ]
  },
  {
   "cell_type": "code",
   "execution_count": 35,
   "metadata": {},
   "outputs": [],
   "source": [
    "f = lambda x, y: x + y"
   ]
  },
  {
   "cell_type": "code",
   "execution_count": 37,
   "metadata": {},
   "outputs": [
    {
     "data": {
      "text/plain": [
       "3"
      ]
     },
     "execution_count": 37,
     "metadata": {},
     "output_type": "execute_result"
    }
   ],
   "source": [
    "f(2, 1)"
   ]
  },
  {
   "cell_type": "markdown",
   "metadata": {},
   "source": [
    "lambda表达式最好的一点就是：不需要给函数再起名字（特别对于英文差的我来说起名真的很累。。。ORZ），\n",
    "在需要直接输入函数作为参数的情形下，直接输入lambda 表达式就好了"
   ]
  },
  {
   "cell_type": "code",
   "execution_count": 1,
   "metadata": {},
   "outputs": [
    {
     "name": "stdout",
     "output_type": "stream",
     "text": [
      "[1, 4, 9, 16, 25, 36]\n"
     ]
    }
   ],
   "source": [
    "a = [1, 2, 3, 4 ,5, 6]\n",
    "b = map(lambda x: x**2, a)\n",
    "print(list(b))"
   ]
  }
 ],
 "metadata": {
  "kernelspec": {
   "display_name": "Python 3",
   "language": "python",
   "name": "python3"
  },
  "language_info": {
   "codemirror_mode": {
    "name": "ipython",
    "version": 3
   },
   "file_extension": ".py",
   "mimetype": "text/x-python",
   "name": "python",
   "nbconvert_exporter": "python",
   "pygments_lexer": "ipython3",
   "version": "3.6.4"
  }
 },
 "nbformat": 4,
 "nbformat_minor": 1
}
